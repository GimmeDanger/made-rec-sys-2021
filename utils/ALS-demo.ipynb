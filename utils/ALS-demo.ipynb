{
 "cells": [
  {
   "cell_type": "markdown",
   "id": "1df56dce",
   "metadata": {},
   "source": [
    "# Alternating Least Square (ALS)"
   ]
  },
  {
   "cell_type": "markdown",
   "id": "9051d05d",
   "metadata": {},
   "source": [
    "https://towardsdatascience.com/prototyping-a-recommender-system-step-by-step-part-1-knn-item-based-collaborative-filtering-637969614ea"
   ]
  },
  {
   "cell_type": "markdown",
   "id": "5d872443",
   "metadata": {},
   "source": [
    "https://towardsdatascience.com/prototyping-a-recommender-system-step-by-step-part-2-alternating-least-square-als-matrix-4a76c58714a1"
   ]
  },
  {
   "cell_type": "code",
   "execution_count": 1,
   "id": "0f65b175",
   "metadata": {},
   "outputs": [],
   "source": [
    "import pandas as pd\n",
    "import numpy as np\n",
    "from tqdm import tqdm\n",
    "from interaction_table import InteractionTable"
   ]
  },
  {
   "cell_type": "code",
   "execution_count": 2,
   "id": "8c8be1dc",
   "metadata": {},
   "outputs": [],
   "source": [
    "#!pip install fastparquet"
   ]
  },
  {
   "cell_type": "code",
   "execution_count": 3,
   "id": "9450cf1d",
   "metadata": {},
   "outputs": [],
   "source": [
    "def get_clicks():\n",
    "    path = '../data/clicks/click.parquet'\n",
    "    return pd.read_parquet(path)\n",
    "\n",
    "def get_orders():\n",
    "    path = '../data/orders/orders.parquet'\n",
    "    df = pd.read_parquet(path)\n",
    "    df = df.rename(columns={\"customer_id\": \"user_id\"})\n",
    "    return df"
   ]
  },
  {
   "cell_type": "code",
   "execution_count": 4,
   "id": "bd8bcab1",
   "metadata": {},
   "outputs": [],
   "source": [
    "def orders_weigher(orders_df):\n",
    "    \"\"\"\n",
    "    (chain, user) -> interaction weight\n",
    "    \"\"\"\n",
    "    print('Orders weighter: use user avg orders per chain as weight')\n",
    "    orders_df['weight'] = 1\n",
    "    orders_df = orders_df[['user_id', 'chain_id', 'weight']]\n",
    "    \n",
    "    total_user_stats = orders_df.groupby(['user_id']).sum()\n",
    "    total_user_stats = total_user_stats.reset_index()[['user_id', 'weight']]\n",
    "    assert total_user_stats.weight.isnull().sum() == 0\n",
    "\n",
    "    user_chain_stats = orders_df.groupby(['user_id', 'chain_id']).sum()\n",
    "    user_chain_stats = user_chain_stats.reset_index()[['user_id', 'chain_id', 'weight']]\n",
    "    assert sorted(total_user_stats.user_id.unique()) == sorted(user_chain_stats.user_id.unique())\n",
    "    assert user_chain_stats.weight.isnull().sum() == 0\n",
    "    \n",
    "    user_chain_stats = user_chain_stats.merge(total_user_stats, left_on='user_id', right_on='user_id', suffixes=('_per_chain', '_total'))\n",
    "    user_chain_stats['weight_per_chain'] /= user_chain_stats['weight_total']\n",
    "    user_chain_stats = user_chain_stats.rename(columns={'user_id_per_chain': 'user_id', 'weight_per_chain': 'weight'})\n",
    "    orders_df = user_chain_stats[['user_id', 'chain_id', 'weight']]\n",
    "    assert len(orders_df) == len(user_chain_stats)\n",
    "    assert orders_df.weight.isnull().sum() == 0\n",
    "    print(orders_df.describe())\n",
    "    \n",
    "    # post-processing\n",
    "    # orders_df['weight'] = 1 + np.log(1 + orders_df.weight) * 10\n",
    "    return orders_df"
   ]
  },
  {
   "cell_type": "code",
   "execution_count": 5,
   "id": "96c820d7",
   "metadata": {},
   "outputs": [
    {
     "name": "stdout",
     "output_type": "stream",
     "text": [
      "Orders df loaded: size=14862643,  uniq_users=3973431,  uniq_chains=23887\n",
      "Orders weighter: use user avg orders per chain as weight\n",
      "            user_id      chain_id        weight\n",
      "count  8.499794e+06  8.499794e+06  8.499794e+06\n",
      "mean   3.989632e+07  3.527085e+04  4.674738e-01\n",
      "std    2.128882e+07  1.553233e+04  3.516978e-01\n",
      "min    0.000000e+00  9.000000e+00  3.270710e-06\n",
      "25%    2.897376e+07  2.872000e+04  1.666667e-01\n",
      "50%    4.474124e+07  3.204900e+04  3.333333e-01\n",
      "75%    5.502611e+07  4.660900e+04  1.000000e+00\n",
      "max    7.213902e+07  7.332400e+04  1.000000e+00\n",
      "Orders df weighted: size=8499794, uniq_users=3973431, uniq_chains=23887\n"
     ]
    }
   ],
   "source": [
    "interactions = InteractionTable(None, get_orders, None, orders_weigher, 0)"
   ]
  },
  {
   "cell_type": "markdown",
   "id": "e919ab0a",
   "metadata": {},
   "source": [
    "### Если h3 пользователя неизвестен, то можно брать следующий в иерархии h3 (более крупный)"
   ]
  },
  {
   "cell_type": "code",
   "execution_count": 6,
   "id": "81441b43",
   "metadata": {},
   "outputs": [],
   "source": [
    "# !pip install implicit\n",
    "import implicit"
   ]
  },
  {
   "cell_type": "code",
   "execution_count": 7,
   "id": "53b83b3b",
   "metadata": {},
   "outputs": [
    {
     "name": "stderr",
     "output_type": "stream",
     "text": [
      "WARNING:root:OpenBLAS detected. Its highly recommend to set the environment variable 'export OPENBLAS_NUM_THREADS=1' to disable its internal multithreading\n"
     ]
    }
   ],
   "source": [
    "model = implicit.als.AlternatingLeastSquares(factors=50)"
   ]
  },
  {
   "cell_type": "code",
   "execution_count": 8,
   "id": "ff346bfe",
   "metadata": {},
   "outputs": [
    {
     "data": {
      "application/vnd.jupyter.widget-view+json": {
       "model_id": "1ed813ec8f8f45dea55ebb70df5f9b7d",
       "version_major": 2,
       "version_minor": 0
      },
      "text/plain": [
       "  0%|          | 0/15 [00:00<?, ?it/s]"
      ]
     },
     "metadata": {},
     "output_type": "display_data"
    }
   ],
   "source": [
    "model.fit(interactions.sparse_interaction_matrix)"
   ]
  },
  {
   "cell_type": "code",
   "execution_count": 33,
   "id": "24985490",
   "metadata": {},
   "outputs": [],
   "source": [
    "class H3Index:\n",
    "    def __init__(self, h3_to_chains_path):\n",
    "        self.h3_to_chains = pd.read_pickle(h3_to_chains_path)\n",
    "        self.valid = set([x for x in self.h3_to_chains.keys()])\n",
    "    \n",
    "    def filter_by(self, h3, chains):\n",
    "        return self.h3_to_chains[h3].intersection(chains)\n",
    "\n",
    "h3index = H3Index('../data/h3_to_chains.pkl')"
   ]
  },
  {
   "cell_type": "code",
   "execution_count": 66,
   "id": "6a74a252",
   "metadata": {},
   "outputs": [
    {
     "data": {
      "text/html": [
       "<div>\n",
       "<style scoped>\n",
       "    .dataframe tbody tr th:only-of-type {\n",
       "        vertical-align: middle;\n",
       "    }\n",
       "\n",
       "    .dataframe tbody tr th {\n",
       "        vertical-align: top;\n",
       "    }\n",
       "\n",
       "    .dataframe thead th {\n",
       "        text-align: right;\n",
       "    }\n",
       "</style>\n",
       "<table border=\"1\" class=\"dataframe\">\n",
       "  <thead>\n",
       "    <tr style=\"text-align: right;\">\n",
       "      <th></th>\n",
       "      <th>user_id</th>\n",
       "      <th>h3</th>\n",
       "      <th>chain_id</th>\n",
       "    </tr>\n",
       "  </thead>\n",
       "  <tbody>\n",
       "    <tr>\n",
       "      <th>0</th>\n",
       "      <td>386249</td>\n",
       "      <td>8911aa7aa1bffff</td>\n",
       "      <td>29454</td>\n",
       "    </tr>\n",
       "    <tr>\n",
       "      <th>1</th>\n",
       "      <td>45090350</td>\n",
       "      <td>8911aa71a57ffff</td>\n",
       "      <td>48274</td>\n",
       "    </tr>\n",
       "    <tr>\n",
       "      <th>2</th>\n",
       "      <td>59217420</td>\n",
       "      <td>8911aa4c867ffff</td>\n",
       "      <td>45822</td>\n",
       "    </tr>\n",
       "    <tr>\n",
       "      <th>3</th>\n",
       "      <td>37528887</td>\n",
       "      <td>89119ec140fffff</td>\n",
       "      <td>41891</td>\n",
       "    </tr>\n",
       "    <tr>\n",
       "      <th>4</th>\n",
       "      <td>28001897</td>\n",
       "      <td>8925716ed0bffff</td>\n",
       "      <td>42181</td>\n",
       "    </tr>\n",
       "  </tbody>\n",
       "</table>\n",
       "</div>"
      ],
      "text/plain": [
       "    user_id               h3  chain_id\n",
       "0    386249  8911aa7aa1bffff     29454\n",
       "1  45090350  8911aa71a57ffff     48274\n",
       "2  59217420  8911aa4c867ffff     45822\n",
       "3  37528887  89119ec140fffff     41891\n",
       "4  28001897  8925716ed0bffff     42181"
      ]
     },
     "execution_count": 66,
     "metadata": {},
     "output_type": "execute_result"
    }
   ],
   "source": [
    "val_df = pd.read_pickle('../data/test_VALID.pkl')\n",
    "val_df = val_df[['customer_id', 'h3', 'chain_id']]\n",
    "val_df = val_df.rename(columns={\"customer_id\": \"user_id\"})\n",
    "val_df.user_id = val_df.user_id.astype(int)\n",
    "val_df.head()"
   ]
  },
  {
   "cell_type": "code",
   "execution_count": 67,
   "id": "f5224693",
   "metadata": {},
   "outputs": [
    {
     "name": "stdout",
     "output_type": "stream",
     "text": [
      "2300001\n",
      "2293762\n",
      "1860055\n",
      "1856314\n"
     ]
    }
   ],
   "source": [
    "print(len(val_df))\n",
    "val_df = val_df.query('h3 in @h3index.valid')\n",
    "print(len(val_df))\n",
    "val_df = val_df.query('user_id in @interactions.user_index')\n",
    "print(len(val_df))\n",
    "val_df = val_df.query('chain_id in @interactions.chain_index')\n",
    "print(len(val_df))"
   ]
  },
  {
   "cell_type": "code",
   "execution_count": 68,
   "id": "4d11e9b5",
   "metadata": {},
   "outputs": [
    {
     "data": {
      "text/html": [
       "<div>\n",
       "<style scoped>\n",
       "    .dataframe tbody tr th:only-of-type {\n",
       "        vertical-align: middle;\n",
       "    }\n",
       "\n",
       "    .dataframe tbody tr th {\n",
       "        vertical-align: top;\n",
       "    }\n",
       "\n",
       "    .dataframe thead th {\n",
       "        text-align: right;\n",
       "    }\n",
       "</style>\n",
       "<table border=\"1\" class=\"dataframe\">\n",
       "  <thead>\n",
       "    <tr style=\"text-align: right;\">\n",
       "      <th></th>\n",
       "      <th>user_id</th>\n",
       "      <th>h3</th>\n",
       "      <th>chain_id</th>\n",
       "    </tr>\n",
       "  </thead>\n",
       "  <tbody>\n",
       "    <tr>\n",
       "      <th>0</th>\n",
       "      <td>0</td>\n",
       "      <td>890b0638003ffff</td>\n",
       "      <td>{34646}</td>\n",
       "    </tr>\n",
       "    <tr>\n",
       "      <th>1</th>\n",
       "      <td>0</td>\n",
       "      <td>890b0638007ffff</td>\n",
       "      <td>{34646}</td>\n",
       "    </tr>\n",
       "    <tr>\n",
       "      <th>2</th>\n",
       "      <td>0</td>\n",
       "      <td>890b063800fffff</td>\n",
       "      <td>{34646}</td>\n",
       "    </tr>\n",
       "    <tr>\n",
       "      <th>3</th>\n",
       "      <td>0</td>\n",
       "      <td>890b0638023ffff</td>\n",
       "      <td>{34646}</td>\n",
       "    </tr>\n",
       "    <tr>\n",
       "      <th>4</th>\n",
       "      <td>0</td>\n",
       "      <td>890b0638027ffff</td>\n",
       "      <td>{34646}</td>\n",
       "    </tr>\n",
       "  </tbody>\n",
       "</table>\n",
       "</div>"
      ],
      "text/plain": [
       "   user_id               h3 chain_id\n",
       "0        0  890b0638003ffff  {34646}\n",
       "1        0  890b0638007ffff  {34646}\n",
       "2        0  890b063800fffff  {34646}\n",
       "3        0  890b0638023ffff  {34646}\n",
       "4        0  890b0638027ffff  {34646}"
      ]
     },
     "execution_count": 68,
     "metadata": {},
     "output_type": "execute_result"
    }
   ],
   "source": [
    "val_df = pd.pivot_table(val_df,\n",
    "                        values=['chain_id'],\n",
    "                        index=['user_id', 'h3'],\n",
    "                        aggfunc={'chain_id': set})\n",
    "val_df = val_df.reset_index()\n",
    "val_df.head()"
   ]
  },
  {
   "cell_type": "code",
   "execution_count": 136,
   "id": "30ce0147",
   "metadata": {},
   "outputs": [],
   "source": [
    "from collections import defaultdict\n",
    "\n",
    "test_df = val_df.head(10)\n",
    "\n",
    "def predict(user_id, h3, thr=0.0, top_k=30, filter_already_liked_items=False):\n",
    "    user_index = interactions.user_index[user_id]\n",
    "    top = model.recommend(user_index,\n",
    "                          interactions.sparse_interaction_matrix.T,\n",
    "                          N=top_k,\n",
    "                          filter_already_liked_items=filter_already_liked_items)\n",
    "    top = [interactions.r_chain_index[x] for x, score in top if score > thr]\n",
    "    return h3index.filter_by(h3, top)\n",
    "\n",
    "def func(row):\n",
    "    return predict(row.user_id, row.h3)"
   ]
  },
  {
   "cell_type": "code",
   "execution_count": 137,
   "id": "14134844",
   "metadata": {},
   "outputs": [
    {
     "name": "stdout",
     "output_type": "stream",
     "text": [
      "CPU times: user 39.2 ms, sys: 9.58 ms, total: 48.7 ms\n",
      "Wall time: 14.6 ms\n"
     ]
    },
    {
     "name": "stderr",
     "output_type": "stream",
     "text": [
      "<timed exec>:1: SettingWithCopyWarning: \n",
      "A value is trying to be set on a copy of a slice from a DataFrame.\n",
      "Try using .loc[row_indexer,col_indexer] = value instead\n",
      "\n",
      "See the caveats in the documentation: https://pandas.pydata.org/pandas-docs/stable/user_guide/indexing.html#returning-a-view-versus-a-copy\n"
     ]
    }
   ],
   "source": [
    "%%time\n",
    "test_df['pred_chains'] = test_df.apply(lambda x: func(x), axis=1)"
   ]
  },
  {
   "cell_type": "code",
   "execution_count": 138,
   "id": "960d3ec5",
   "metadata": {},
   "outputs": [
    {
     "name": "stdout",
     "output_type": "stream",
     "text": [
      "CPU times: user 174 ms, sys: 57.4 ms, total: 231 ms\n",
      "Wall time: 74.6 ms\n"
     ]
    }
   ],
   "source": [
    "%%time\n",
    "val_df['pred_chains'] = val_df.apply(lambda x: func(x), axis=1)"
   ]
  },
  {
   "cell_type": "code",
   "execution_count": 61,
   "id": "94bfe801",
   "metadata": {},
   "outputs": [
    {
     "data": {
      "text/plain": [
       "True"
      ]
     },
     "execution_count": 61,
     "metadata": {},
     "output_type": "execute_result"
    }
   ],
   "source": [
    "34646 in h3index.h3_to_chains['890b0638003ffff']"
   ]
  },
  {
   "cell_type": "code",
   "execution_count": 13,
   "id": "0e6ae57d",
   "metadata": {},
   "outputs": [],
   "source": [
    "def metric(y_true, y_pred, y_old, at1=10, at2=30, average=True):\n",
    "    \"\"\"\n",
    "    new_prec@10 + new_prec@30 + 1/2 *(prec_@10 + prec@30)\n",
    "    \"\"\"\n",
    "    scores = []\n",
    "    for t, p, o in zip(y_true, y_pred, y_old):\n",
    "        t = list(t)\n",
    "        p = list(p)\n",
    "        o = o if isinstance(o, (set, list)) else []\n",
    "        \n",
    "        prec1 = len(set(t[:at1]) & set(p[:at1])) / at1\n",
    "        prec2 = len(set(t[:at2]) & set(p[:at2])) / at2\n",
    "        new_prec1 = len((set(p[:at1]) - set(o)) & set(t[:at1])) / at1\n",
    "        new_prec2 = len((set(p[:at2]) - set(o)) & set(t[:at2])) / at2\n",
    "\n",
    "        scores.append(new_prec1 + new_prec2 + 0.5*(prec1 + prec2))\n",
    "\n",
    "    return np.mean(scores) if average else scores"
   ]
  },
  {
   "cell_type": "code",
   "execution_count": 14,
   "id": "ac28bf16",
   "metadata": {},
   "outputs": [
    {
     "data": {
      "text/plain": [
       "0.3333333333333333"
      ]
     },
     "execution_count": 14,
     "metadata": {},
     "output_type": "execute_result"
    }
   ],
   "source": [
    "metric([{49344, 32449, 13698, 27490, 28720}],\n",
    "       [{49344, 32449, 13698, 27490, 28720, 23376, 16277, 26878}],\n",
    "       [{49344, 32449, 13698, 27490, 28720, 23376, 16277, 26878}])"
   ]
  },
  {
   "cell_type": "code",
   "execution_count": null,
   "id": "5b7ad0ca",
   "metadata": {},
   "outputs": [],
   "source": []
  }
 ],
 "metadata": {
  "kernelspec": {
   "display_name": "Python 3",
   "language": "python",
   "name": "python3"
  },
  "language_info": {
   "codemirror_mode": {
    "name": "ipython",
    "version": 3
   },
   "file_extension": ".py",
   "mimetype": "text/x-python",
   "name": "python",
   "nbconvert_exporter": "python",
   "pygments_lexer": "ipython3",
   "version": "3.8.12"
  }
 },
 "nbformat": 4,
 "nbformat_minor": 5
}
