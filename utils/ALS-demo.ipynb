{
 "cells": [
  {
   "cell_type": "markdown",
   "id": "1df56dce",
   "metadata": {},
   "source": [
    "# Alternating Least Square (ALS)"
   ]
  },
  {
   "cell_type": "code",
   "execution_count": null,
   "id": "0f65b175",
   "metadata": {},
   "outputs": [],
   "source": [
    "import pandas as pd\n",
    "import numpy as np\n",
    "from tqdm import tqdm\n",
    "from interaction_table import orders_weigher, InteractionTable\n",
    "from process_data import preprocess_orders_and_clicks, additional_filtration_orders_and_clicks\n",
    "from h3_index import H3Index"
   ]
  },
  {
   "cell_type": "code",
   "execution_count": null,
   "id": "52fd6fe7",
   "metadata": {},
   "outputs": [],
   "source": [
    "#!pip install fastparquet\n",
    "h3index = H3Index('../data/h3_to_chains.pkl')"
   ]
  },
  {
   "cell_type": "code",
   "execution_count": 3,
   "id": "b86ad018",
   "metadata": {},
   "outputs": [],
   "source": [
    "# !mkdir -p ../data/moscow_slice\n",
    "# preprocess_orders_and_clicks(\n",
    "#     path_to_orders=\"../data/orders\",\n",
    "#     path_to_clicks=\"../data/clicks\",\n",
    "#     save_path=\"../data/moscow_slice\",\n",
    "# )"
   ]
  },
  {
   "cell_type": "code",
   "execution_count": 4,
   "id": "9450cf1d",
   "metadata": {},
   "outputs": [],
   "source": [
    "def get_clicks():\n",
    "    path = '../data/clicks/'\n",
    "    clicks = pd.read_parquet(f'{path}/clicks.parquet')\n",
    "    return clicks\n",
    "\n",
    "def get_orders():\n",
    "    path = '../data/moscow_slice/'\n",
    "    orders = pd.read_parquet(f'{path}/orders.parquet')\n",
    "    orders = orders.rename(columns={\"customer_id\": \"user_id\"})\n",
    "    clicks = pd.read_parquet(f'{path}/clicks.parquet')\n",
    "    #regs = pd.read_pickle('../data/CITIES_MAPPING.pkl')\n",
    "    #regs = [v for k, v in regs.items() if v > 2]\n",
    "    regs = [1] # moscow\n",
    "    orders, _ = additional_filtration_orders_and_clicks(orders, clicks, regs_to_filter=regs)\n",
    "    return orders"
   ]
  },
  {
   "cell_type": "code",
   "execution_count": 5,
   "id": "98a9f1b8",
   "metadata": {},
   "outputs": [
    {
     "name": "stdout",
     "output_type": "stream",
     "text": [
      "Orders weighter: use user avg orders per chain as weight\n",
      "            user_id      chain_id        weight\n",
      "count  3.105842e+06  3.105842e+06  3.105842e+06\n",
      "mean   3.666711e+07  3.211560e+04  1.755639e+00\n",
      "std    2.148127e+07  1.517040e+04  8.204565e+01\n",
      "min    0.000000e+00  9.000000e+00  1.000000e+00\n",
      "25%    1.143679e+07  2.714700e+04  1.000000e+00\n",
      "50%    3.991122e+07  3.006000e+04  1.000000e+00\n",
      "75%    5.176011e+07  4.451900e+04  2.000000e+00\n",
      "max    7.213893e+07  7.325500e+04  1.444470e+05\n",
      "Orders df weighted: size=3105842, uniq_users=1394011, uniq_chains=7269\n"
     ]
    }
   ],
   "source": [
    "interactions = InteractionTable(get_orders(), None)"
   ]
  },
  {
   "cell_type": "code",
   "execution_count": 6,
   "id": "c5ac61ab",
   "metadata": {},
   "outputs": [
    {
     "data": {
      "text/plain": [
       "<7269x1394011 sparse matrix of type '<class 'numpy.int64'>'\n",
       "\twith 3105842 stored elements in Compressed Sparse Row format>"
      ]
     },
     "execution_count": 6,
     "metadata": {},
     "output_type": "execute_result"
    }
   ],
   "source": [
    "interactions.sparse_interaction_matrix"
   ]
  },
  {
   "cell_type": "code",
   "execution_count": 7,
   "id": "8984289a",
   "metadata": {},
   "outputs": [
    {
     "name": "stdout",
     "output_type": "stream",
     "text": [
      "ncf_interactions: 2142482\n",
      "ncf_uniq_users: 598092\n",
      "ncf_uniq_chains: 7231\n"
     ]
    }
   ],
   "source": [
    "test = interactions.interaction_df[['user_id', 'weight']]\n",
    "test = test.groupby('user_id').sum()\n",
    "test = test.reset_index()[['user_id', 'weight']]\n",
    "user_with_few_interactions = set(test[test['weight'] <= 2].user_id.unique())\n",
    "ncf_interactions = interactions.interaction_df\n",
    "ncf_interactions = ncf_interactions.query('user_id not in @user_with_few_interactions')\n",
    "ncf_interactions.to_parquet('../data/moscow_slice/ncf_orders.parquet')\n",
    "print(\"ncf_interactions:\", len(ncf_interactions))\n",
    "\n",
    "ncf_valid_users = set(ncf_interactions['user_id'].unique())\n",
    "print(\"ncf_uniq_users:\", len(ncf_valid_users))\n",
    "ncf_valid_chains = set(ncf_interactions['chain_id'].unique())\n",
    "print(\"ncf_uniq_chains:\", len(ncf_valid_chains))"
   ]
  },
  {
   "cell_type": "code",
   "execution_count": 8,
   "id": "705f8949",
   "metadata": {},
   "outputs": [
    {
     "name": "stdout",
     "output_type": "stream",
     "text": [
      "initial:\n",
      "df, uniq_users, uniq_chains: 2300001 1253198 19810\n",
      "\n",
      "after invalid h3 filtering:\n",
      "df, uniq_users, uniq_chains: 2293762 1249258 19788\n",
      "\n",
      "after invalid users filtering:\n",
      "df, uniq_users, uniq_chains: 377666 145478 8991\n",
      "\n",
      "after invalid chains filtering:\n",
      "df, uniq_users, uniq_chains: 276678 126067 5077\n",
      "\n",
      "after dropping duplicates:\n",
      "df, uniq_users, uniq_chains: 202992 126067 5077\n"
     ]
    }
   ],
   "source": [
    "val_df = pd.read_pickle('../data/test_VALID.pkl')\n",
    "val_df = val_df[['customer_id', 'h3', 'chain_id']]\n",
    "val_df = val_df.rename(columns={\"customer_id\": \"user_id\"})\n",
    "val_df.user_id = val_df.user_id.astype(int)\n",
    "print(\"initial:\")\n",
    "print(\"df, uniq_users, uniq_chains:\", len(val_df), len(val_df.user_id.unique()), len(val_df.chain_id.unique()))\n",
    "\n",
    "val_df = val_df.query('h3 in @h3index.valid')\n",
    "print()\n",
    "print(\"after invalid h3 filtering:\")\n",
    "print(\"df, uniq_users, uniq_chains:\", len(val_df), len(val_df.user_id.unique()), len(val_df.chain_id.unique()))\n",
    "\n",
    "val_df = val_df.query('user_id in @ncf_valid_users')\n",
    "print()\n",
    "print(\"after invalid users filtering:\")\n",
    "print(\"df, uniq_users, uniq_chains:\", len(val_df), len(val_df.user_id.unique()), len(val_df.chain_id.unique()))\n",
    "\n",
    "val_df = val_df.query('chain_id in @ncf_valid_chains')\n",
    "print()\n",
    "print(\"after invalid chains filtering:\")\n",
    "print(\"df, uniq_users, uniq_chains:\", len(val_df), len(val_df.user_id.unique()), len(val_df.chain_id.unique()))\n",
    "\n",
    "val_df = val_df.drop_duplicates()\n",
    "print()\n",
    "print(\"after dropping duplicates:\")\n",
    "print(\"df, uniq_users, uniq_chains:\", len(val_df), len(val_df.user_id.unique()), len(val_df.chain_id.unique()))"
   ]
  },
  {
   "cell_type": "code",
   "execution_count": 9,
   "id": "cd7ad971",
   "metadata": {},
   "outputs": [
    {
     "name": "stdout",
     "output_type": "stream",
     "text": [
      "CPU times: user 1min 45s, sys: 1min 44s, total: 3min 29s\n",
      "Wall time: 4min 32s\n"
     ]
    },
    {
     "data": {
      "text/html": [
       "<div>\n",
       "<style scoped>\n",
       "    .dataframe tbody tr th:only-of-type {\n",
       "        vertical-align: middle;\n",
       "    }\n",
       "\n",
       "    .dataframe tbody tr th {\n",
       "        vertical-align: top;\n",
       "    }\n",
       "\n",
       "    .dataframe thead th {\n",
       "        text-align: right;\n",
       "    }\n",
       "</style>\n",
       "<table border=\"1\" class=\"dataframe\">\n",
       "  <thead>\n",
       "    <tr style=\"text-align: right;\">\n",
       "      <th></th>\n",
       "      <th>user_id</th>\n",
       "      <th>h3</th>\n",
       "      <th>chain_id</th>\n",
       "      <th>label</th>\n",
       "    </tr>\n",
       "  </thead>\n",
       "  <tbody>\n",
       "    <tr>\n",
       "      <th>0</th>\n",
       "      <td>386249</td>\n",
       "      <td>81446</td>\n",
       "      <td>9</td>\n",
       "      <td>0</td>\n",
       "    </tr>\n",
       "    <tr>\n",
       "      <th>0</th>\n",
       "      <td>386249</td>\n",
       "      <td>81446</td>\n",
       "      <td>57364</td>\n",
       "      <td>0</td>\n",
       "    </tr>\n",
       "    <tr>\n",
       "      <th>0</th>\n",
       "      <td>386249</td>\n",
       "      <td>81446</td>\n",
       "      <td>37</td>\n",
       "      <td>0</td>\n",
       "    </tr>\n",
       "    <tr>\n",
       "      <th>0</th>\n",
       "      <td>386249</td>\n",
       "      <td>81446</td>\n",
       "      <td>41</td>\n",
       "      <td>0</td>\n",
       "    </tr>\n",
       "    <tr>\n",
       "      <th>0</th>\n",
       "      <td>386249</td>\n",
       "      <td>81446</td>\n",
       "      <td>42</td>\n",
       "      <td>0</td>\n",
       "    </tr>\n",
       "  </tbody>\n",
       "</table>\n",
       "</div>"
      ],
      "text/plain": [
       "   user_id     h3 chain_id  label\n",
       "0   386249  81446        9      0\n",
       "0   386249  81446    57364      0\n",
       "0   386249  81446       37      0\n",
       "0   386249  81446       41      0\n",
       "0   386249  81446       42      0"
      ]
     },
     "execution_count": 9,
     "metadata": {},
     "output_type": "execute_result"
    }
   ],
   "source": [
    "%%time\n",
    "val_df[\"valid_chain\"] = val_df[\"h3\"].map(h3index.h3_to_chains)\n",
    "val_df = val_df.explode(\"valid_chain\")\n",
    "val_df = val_df.query('valid_chain in @ncf_valid_chains')\n",
    "val_df[\"label\"] = (val_df[\"valid_chain\"] == val_df[\"chain_id\"]).astype(int)\n",
    "val_df[\"h3\"] = val_df[\"h3\"].map(h3index.h3_to_index)\n",
    "del val_df['chain_id']\n",
    "val_df = val_df.rename(columns={\"valid_chain\": \"chain_id\"})\n",
    "val_df.head()"
   ]
  },
  {
   "cell_type": "code",
   "execution_count": 10,
   "id": "4f6ed545",
   "metadata": {},
   "outputs": [
    {
     "data": {
      "text/html": [
       "<div>\n",
       "<style scoped>\n",
       "    .dataframe tbody tr th:only-of-type {\n",
       "        vertical-align: middle;\n",
       "    }\n",
       "\n",
       "    .dataframe tbody tr th {\n",
       "        vertical-align: top;\n",
       "    }\n",
       "\n",
       "    .dataframe thead th {\n",
       "        text-align: right;\n",
       "    }\n",
       "</style>\n",
       "<table border=\"1\" class=\"dataframe\">\n",
       "  <thead>\n",
       "    <tr style=\"text-align: right;\">\n",
       "      <th></th>\n",
       "      <th>user_id</th>\n",
       "      <th>chain_id</th>\n",
       "      <th>label</th>\n",
       "    </tr>\n",
       "  </thead>\n",
       "  <tbody>\n",
       "    <tr>\n",
       "      <th>0</th>\n",
       "      <td>386249</td>\n",
       "      <td>9</td>\n",
       "      <td>81446</td>\n",
       "    </tr>\n",
       "    <tr>\n",
       "      <th>0</th>\n",
       "      <td>386249</td>\n",
       "      <td>57364</td>\n",
       "      <td>81446</td>\n",
       "    </tr>\n",
       "    <tr>\n",
       "      <th>0</th>\n",
       "      <td>386249</td>\n",
       "      <td>37</td>\n",
       "      <td>81446</td>\n",
       "    </tr>\n",
       "    <tr>\n",
       "      <th>0</th>\n",
       "      <td>386249</td>\n",
       "      <td>41</td>\n",
       "      <td>81446</td>\n",
       "    </tr>\n",
       "    <tr>\n",
       "      <th>0</th>\n",
       "      <td>386249</td>\n",
       "      <td>42</td>\n",
       "      <td>81446</td>\n",
       "    </tr>\n",
       "  </tbody>\n",
       "</table>\n",
       "</div>"
      ],
      "text/plain": [
       "   user_id chain_id  label\n",
       "0   386249        9  81446\n",
       "0   386249    57364  81446\n",
       "0   386249       37  81446\n",
       "0   386249       41  81446\n",
       "0   386249       42  81446"
      ]
     },
     "execution_count": 10,
     "metadata": {},
     "output_type": "execute_result"
    }
   ],
   "source": [
    "val_df['label'] = val_df['h3']\n",
    "del val_df['h3']\n",
    "val_df.head()"
   ]
  },
  {
   "cell_type": "code",
   "execution_count": 13,
   "id": "b43a1ba9",
   "metadata": {},
   "outputs": [],
   "source": [
    "path = '../data/moscow_slice/'\n",
    "#val_df.to_parquet(f'{path}/ncf_val_df.parquet')\n",
    "val_df.head(30000000).to_parquet(f'{path}/ncf_val_df_part_1.parquet')"
   ]
  },
  {
   "cell_type": "markdown",
   "id": "ceeae53d",
   "metadata": {},
   "source": [
    "## Сколько данных тестовой выборки отсеивается в зависимости от interactions"
   ]
  },
  {
   "cell_type": "markdown",
   "id": "ec4c4363",
   "metadata": {},
   "source": [
    "### Clicks + orders: full\n",
    "\n",
    "initial:\n",
    "df, uniq_users, uniq_chains: 2300001 1253198 19810\n",
    "\n",
    "after invalid h3 filtering:\n",
    "df, uniq_users, uniq_chains: 2293762 1249258 19788\n",
    "\n",
    "after invalid users filtering:\n",
    "df, uniq_users, uniq_chains: 1987082 1044374 19453\n",
    "\n",
    "after invalid chains filtering:\n",
    "df, uniq_users, uniq_chains: 1984220 1043382 19118\n"
   ]
  },
  {
   "cell_type": "markdown",
   "id": "8484d648",
   "metadata": {},
   "source": [
    "### Orders: full\n",
    "\n",
    "initial:\n",
    "df, uniq_users, uniq_chains: 2300001 1253198 19810\n",
    "\n",
    "after invalid h3 filtering:\n",
    "df, uniq_users, uniq_chains: 2293762 1249258 19788\n",
    "\n",
    "after invalid users filtering:\n",
    "df, uniq_users, uniq_chains: 1860055 952741 19285\n",
    "\n",
    "after invalid chains filtering:\n",
    "df, uniq_users, uniq_chains: 1856314 951570 18664"
   ]
  },
  {
   "cell_type": "markdown",
   "id": "722d326b",
   "metadata": {},
   "source": [
    "### Clicks + orders: processed full\n",
    "\n",
    "initial:\n",
    "df, uniq_users, uniq_chains: 2300001 1253198 19810\n",
    "\n",
    "after invalid h3 filtering:\n",
    "df, uniq_users, uniq_chains: 2293762 1249258 19788\n",
    "\n",
    "after invalid users filtering:\n",
    "df, uniq_users, uniq_chains: 851440 415267 17272\n",
    "\n",
    "after invalid chains filtering:\n",
    "df, uniq_users, uniq_chains: 692249 369776 16446"
   ]
  },
  {
   "cell_type": "markdown",
   "id": "a3b7b830",
   "metadata": {},
   "source": [
    "### Orders: processed moscow\n",
    "\n",
    "initial:\n",
    "df, uniq_users, uniq_chains: 2300001 1253198 19810\n",
    "\n",
    "after invalid h3 filtering:\n",
    "df, uniq_users, uniq_chains: 2293762 1249258 19788\n",
    "\n",
    "after invalid users filtering:\n",
    "df, uniq_users, uniq_chains: 483559 212160 11404\n",
    "\n",
    "after invalid chains filtering:\n",
    "df, uniq_users, uniq_chains: 341373 172590 5297"
   ]
  },
  {
   "cell_type": "markdown",
   "id": "2efa1982",
   "metadata": {},
   "source": [
    "### Orders: processed saint-peterburg\n",
    "initial:\n",
    "df, uniq_users, uniq_chains: 2300001 1253198 19810\n",
    "\n",
    "after invalid h3 filtering:\n",
    "df, uniq_users, uniq_chains: 2293762 1249258 19788\n",
    "\n",
    "after invalid users filtering:\n",
    "df, uniq_users, uniq_chains: 164699 62373 5801\n",
    "\n",
    "after invalid chains filtering:\n",
    "df, uniq_users, uniq_chains: 87146 46513 1384"
   ]
  },
  {
   "cell_type": "markdown",
   "id": "e2eca2fa",
   "metadata": {},
   "source": [
    "### Orders: processed other regions\n",
    "\n",
    "initial:\n",
    "df, uniq_users, uniq_chains: 2300001 1253198 19810\n",
    "\n",
    "after invalid h3 filtering:\n",
    "df, uniq_users, uniq_chains: 2293762 1249258 19788\n",
    "\n",
    "after invalid users filtering:\n",
    "df, uniq_users, uniq_chains: 376063 178911 13700\n",
    "\n",
    "after invalid chains filtering:\n",
    "df, uniq_users, uniq_chains: 240902 136697 9381"
   ]
  },
  {
   "cell_type": "markdown",
   "id": "0af15a29",
   "metadata": {},
   "source": [
    "# Выводы:\n",
    "* 20% тестовых юзеров нет ни в clicks, ни в orders (cold start);\n",
    "* 75% тестовых юзеров есть в orders, т.е clicks можно не рассматривать (всего 5%);\n",
    "* только 30% (!!!!) тестовых юзеров остается после вызова processed_data;\n",
    "* 48% -- москва, 39% -- регионы, 13% -- спб в orders после вызова processed_data;\n",
    "* также есть сделать val.drop_duplicates, то отсортируется порядка 30% строк!"
   ]
  },
  {
   "cell_type": "markdown",
   "id": "e919ab0a",
   "metadata": {},
   "source": [
    "### Если h3 пользователя неизвестен, то можно брать следующий в иерархии h3 (более крупный)"
   ]
  },
  {
   "cell_type": "code",
   "execution_count": null,
   "id": "ade07e7e",
   "metadata": {},
   "outputs": [],
   "source": [
    "val_df = pd.pivot_table(val_df,\n",
    "                        values=['chain_id'],\n",
    "                        index=['user_id', 'h3'],\n",
    "                        aggfunc={'chain_id': set})\n",
    "val_df = val_df.reset_index()"
   ]
  },
  {
   "cell_type": "code",
   "execution_count": null,
   "id": "852fe603",
   "metadata": {},
   "outputs": [],
   "source": [
    "def predict(model, user_id, h3, thr=0.9, top_k=10, filter_already_liked_items=True):\n",
    "    user_index = interactions.user_index[user_id]\n",
    "    valid_chains = h3index.h3_to_chains[h3]\n",
    "    filter_items = [v for k, v in interactions.chain_index.items() if k not in valid_chains]\n",
    "    top = model.recommend(user_index,\n",
    "                          interactions.sparse_interaction_matrix.T,\n",
    "                          N=top_k,\n",
    "                          filter_already_liked_items=filter_already_liked_items,\n",
    "                          filter_items=filter_items)\n",
    "    top = [interactions.r_chain_index[x] for x, score in top if score > thr]\n",
    "    return top\n",
    "\n",
    "def old_items(user_id):\n",
    "    return set(interactions.interaction_df[interactions.interaction_df['user_id'] == user_id]['chain_id'].unique())"
   ]
  },
  {
   "cell_type": "code",
   "execution_count": null,
   "id": "e278e3e3",
   "metadata": {},
   "outputs": [],
   "source": [
    "def metric(y_true, y_pred, y_old, at1=10, at2=30, average=True):\n",
    "    \"\"\"\n",
    "    new_prec@10 + new_prec@30 + 1/2 *(prec_@10 + prec@30)\n",
    "    \"\"\"\n",
    "    scores_new = []\n",
    "    scores_all = []\n",
    "    scores_total = []\n",
    "    for t, p, o in zip(y_true, y_pred, y_old):\n",
    "        t = list(t)\n",
    "        p = list(p)\n",
    "        o = o if isinstance(o, (set, list)) else []\n",
    "        \n",
    "        prec1 = len(set(t[:at1]) & set(p[:at1])) / at1\n",
    "        prec2 = len(set(t[:at2]) & set(p[:at2])) / at2\n",
    "        new_prec1 = len((set(p[:at1]) - set(o)) & set(t[:at1])) / at1\n",
    "        new_prec2 = len((set(p[:at2]) - set(o)) & set(t[:at2])) / at2\n",
    "\n",
    "        scores_total.append(new_prec1 + new_prec2 + 0.5 * (prec1 + prec2))\n",
    "        scores_new.append(new_prec1 + new_prec2)\n",
    "        scores_all.append(prec1 + prec2)\n",
    "\n",
    "    return (np.mean(scores_total) if average else scores_total,\n",
    "            np.mean(scores_new) if average else scores_new,\n",
    "            np.mean(scores_all) if average else scores_all)"
   ]
  },
  {
   "cell_type": "code",
   "execution_count": null,
   "id": "7b0dfc35",
   "metadata": {},
   "outputs": [],
   "source": [
    "# !pip install implicit\n",
    "import implicit\n",
    "\n",
    "def hyper_params(val_df, factors=60, thr=0.7, top_k=30, filter_liked=True):\n",
    "    print('factors: ', factors, ', thr: ', thr, ', top_k: ', top_k, ', filter_liked: ', filter_liked)\n",
    "    model = implicit.als.AlternatingLeastSquares(factors=factors)\n",
    "    model.fit(interactions.sparse_interaction_matrix)\n",
    "    val = val_df\n",
    "    val['pred_chains'] = val.apply(lambda x: predict(model, x.user_id, x.h3, thr, top_k, filter_liked), axis=1)\n",
    "    val['old_chains'] = val.apply(lambda x: old_items(x.user_id), axis=1)\n",
    "    scores = metric(val['chain_id'], val['pred_chains'], val['old_chains'])\n",
    "    print('total, new, all = ', scores)\n",
    "    print()"
   ]
  },
  {
   "cell_type": "code",
   "execution_count": null,
   "id": "a720cfb2",
   "metadata": {},
   "outputs": [],
   "source": [
    "hyper_params(val_df, factors=60, thr=0.7, top_k=30, filter_liked=True)"
   ]
  },
  {
   "cell_type": "markdown",
   "id": "aa76271e",
   "metadata": {},
   "source": [
    "factors:  60 , thr:  0.7 , top_k:  30 , filter_liked:  True\n",
    "\n",
    "total, new, all =  (0.02605082142811052, 0.00023745918670228555, 0.05162672448281647)"
   ]
  },
  {
   "cell_type": "code",
   "execution_count": null,
   "id": "22156cf4",
   "metadata": {},
   "outputs": [],
   "source": [
    "for factors in [30, 40, 50, 60, 70]:\n",
    "    for thr in [0.7, 0.75, 0.8, 0.85, 0.9]:\n",
    "        for top_k in [5, 10, 20, 30]:\n",
    "            for filter_liked in [True, False]:\n",
    "               hyper_params(val_df, factors, thr, top_k, filter_liked) "
   ]
  }
 ],
 "metadata": {
  "kernelspec": {
   "display_name": "Python 3",
   "language": "python",
   "name": "python3"
  },
  "language_info": {
   "codemirror_mode": {
    "name": "ipython",
    "version": 3
   },
   "file_extension": ".py",
   "mimetype": "text/x-python",
   "name": "python",
   "nbconvert_exporter": "python",
   "pygments_lexer": "ipython3",
   "version": "3.8.12"
  }
 },
 "nbformat": 4,
 "nbformat_minor": 5
}
