{
 "cells": [
  {
   "cell_type": "markdown",
   "id": "1df56dce",
   "metadata": {},
   "source": [
    "# Alternating Least Square (ALS)"
   ]
  },
  {
   "cell_type": "markdown",
   "id": "9051d05d",
   "metadata": {},
   "source": [
    "https://towardsdatascience.com/prototyping-a-recommender-system-step-by-step-part-1-knn-item-based-collaborative-filtering-637969614ea"
   ]
  },
  {
   "cell_type": "markdown",
   "id": "5d872443",
   "metadata": {},
   "source": [
    "https://towardsdatascience.com/prototyping-a-recommender-system-step-by-step-part-2-alternating-least-square-als-matrix-4a76c58714a1"
   ]
  },
  {
   "cell_type": "code",
   "execution_count": 1,
   "id": "0f65b175",
   "metadata": {},
   "outputs": [],
   "source": [
    "import pandas as pd\n",
    "import clicks_weigher, orders_weigher, InteractionTable"
   ]
  },
  {
   "cell_type": "code",
   "execution_count": 2,
   "id": "9450cf1d",
   "metadata": {},
   "outputs": [],
   "source": [
    "def get_clicks():\n",
    "    path = '../data/clicks/click.pkl'\n",
    "    return pd.read_pickle(path).head(100)\n",
    "\n",
    "def get_orders():\n",
    "    path = '../data/orders/orders.pkl'\n",
    "    return pd.read_pickle(path).head(100)"
   ]
  },
  {
   "cell_type": "code",
   "execution_count": 3,
   "id": "ef470442",
   "metadata": {},
   "outputs": [
    {
     "name": "stdout",
     "output_type": "stream",
     "text": [
      "Clicks df loaded: size=100,  uniq_users=49,  uniq_chains=83\n",
      "Clicks weighter: use user clicks per chain as weight\n",
      "Clicks df weighted: size=88, uniq_users=49, uniq_chains=83\n",
      "Orders df loaded: size=100,  uniq_users=100,  uniq_chains=78\n",
      "Orders weighter: use successful user orders per chain as weight\n",
      "Orders df weighted: size=100, uniq_users=100, uniq_chains=78\n"
     ]
    }
   ],
   "source": [
    "interactions = InteractionTable(get_clicks,\n",
    "                                get_orders,\n",
    "                                clicks_weigher,\n",
    "                                orders_weigher,\n",
    "                                alpha=0.5)"
   ]
  },
  {
   "cell_type": "code",
   "execution_count": 4,
   "id": "bb0ff154",
   "metadata": {},
   "outputs": [],
   "source": [
    "from sklearn.decomposition import TruncatedSVD\n",
    "from collections import defaultdict\n",
    "from numpy import corrcoef, array\n",
    "\n",
    "class TruncatedSVDModel:\n",
    "    \n",
    "    def __init__(self, interaction_table, n_components=5, n_iter=7, random_state=42):\n",
    "        self.interaction_tab = interaction_table\n",
    "        svd = TruncatedSVD(n_components=n_components, random_state=random_state, n_iter=n_iter)\n",
    "        decomposed_mat = svd.fit_transform(self.interaction_tab.sparse_interaction_matrix)\n",
    "        self.corr = corrcoef(decomposed_mat)\n",
    "        \n",
    "    def __get_most_correlated(self, pred, df, min_corr, max_corr, top_k):\n",
    "        \"\"\"\n",
    "        returns dict: user_id -> list of predicted chains\n",
    "        predicted chains are most highly correlated chains with user history (orders or clicks)\n",
    "        \"\"\"\n",
    "        for user_id, predicted_top in pred.items():\n",
    "            if len(predicted_top) >= top_k:\n",
    "                continue\n",
    "            user_chains = set(df.query('user_id == @user_id')['chain_id'])\n",
    "            # TODO: add iterations logger\n",
    "            for user_chain in user_chains:\n",
    "                # get most highly correlated chains\n",
    "                corr = self.corr[self.interaction_tab.chain_index[user_chain]]\n",
    "                corr = array(sorted(corr, reverse=True))\n",
    "                for i, in_range in enumerate((corr > min_corr) == (corr < max_corr)):\n",
    "                    top_correlated_chain = self.interaction_tab.r_chain_index[i]\n",
    "                    # add to answer if needed\n",
    "                    if in_range and len(predicted_top) < top_k and top_correlated_chain not in user_chains:\n",
    "                        predicted_top.append(top_correlated_chain)\n",
    "        return pred\n",
    "        \n",
    "    def predict(self, user_ids, min_corr=0.7, max_corr=0.99, top_k=30):\n",
    "        \"\"\"\n",
    "        returns dict: user_id -> list of predicted chains\n",
    "        \"\"\"\n",
    "        pred = defaultdict(list)\n",
    "        for user_id in user_ids:\n",
    "            pred[user_id] = []\n",
    "        # try to get predictions with most correlated items by orders history\n",
    "        pred = self.__get_most_correlated(pred, self.interaction_tab.orders_df, min_corr, max_corr, top_k)\n",
    "        # fill the rest by clicks history\n",
    "        pred = self.__get_most_correlated(pred, self.interaction_tab.clicks_df, min_corr, max_corr, top_k)\n",
    "        return pred"
   ]
  },
  {
   "cell_type": "code",
   "execution_count": 5,
   "id": "0b5791de",
   "metadata": {},
   "outputs": [
    {
     "data": {
      "text/plain": [
       "defaultdict(list, {2592128: [32441, 32449, 32697, 32877, 33062], 7371423: []})"
      ]
     },
     "execution_count": 5,
     "metadata": {},
     "output_type": "execute_result"
    }
   ],
   "source": [
    "model = TruncatedSVDModel(interactions)\n",
    "model.predict([2592128, 7371423], top_k=5)"
   ]
  },
  {
   "cell_type": "markdown",
   "id": "aed68c32",
   "metadata": {},
   "source": [
    "Need to implemnt: Funk SVD or ALS (Altering Least Square method):\n",
    "\n",
    "https://towardsdatascience.com/prototyping-a-recommender-system-step-by-step-part-2-alternating-least-square-als-matrix-4a76c58714a1\n",
    "\n",
    "https://github.com/gbolmier/funk-svd"
   ]
  },
  {
   "cell_type": "code",
   "execution_count": 6,
   "id": "55b44f50",
   "metadata": {},
   "outputs": [
    {
     "name": "stdout",
     "output_type": "stream",
     "text": [
      "Collecting git+https://github.com/gbolmier/funk-svd\n",
      "  Cloning https://github.com/gbolmier/funk-svd to /private/var/folders/qh/pq3w2h0d5md6c1cb16dd9g3m0000gq/T/pip-req-build-a82ashe1\n",
      "Requirement already satisfied (use --upgrade to upgrade): funk-svd==0.0.1.dev1 from git+https://github.com/gbolmier/funk-svd in /Users/vladimir.nazarov/home/scripts/env/lib/python3.8/site-packages\n",
      "Requirement already satisfied: numba>=0.38.0 in /Users/vladimir.nazarov/home/scripts/env/lib/python3.8/site-packages (from funk-svd==0.0.1.dev1) (0.54.1)\n",
      "Requirement already satisfied: numpy>=1.14.3 in /Users/vladimir.nazarov/home/scripts/env/lib/python3.8/site-packages (from funk-svd==0.0.1.dev1) (1.20.3)\n",
      "Requirement already satisfied: pandas>=0.23.0 in /Users/vladimir.nazarov/home/scripts/env/lib/python3.8/site-packages (from funk-svd==0.0.1.dev1) (1.2.4)\n",
      "Requirement already satisfied: llvmlite<0.38,>=0.37.0rc1 in /Users/vladimir.nazarov/home/scripts/env/lib/python3.8/site-packages (from numba>=0.38.0->funk-svd==0.0.1.dev1) (0.37.0)\n",
      "Requirement already satisfied: setuptools in /Users/vladimir.nazarov/home/scripts/env/lib/python3.8/site-packages (from numba>=0.38.0->funk-svd==0.0.1.dev1) (50.3.0)\n",
      "Requirement already satisfied: python-dateutil>=2.7.3 in /Users/vladimir.nazarov/home/scripts/env/lib/python3.8/site-packages (from pandas>=0.23.0->funk-svd==0.0.1.dev1) (2.8.1)\n",
      "Requirement already satisfied: pytz>=2017.3 in /Users/vladimir.nazarov/home/scripts/env/lib/python3.8/site-packages (from pandas>=0.23.0->funk-svd==0.0.1.dev1) (2021.1)\n",
      "Requirement already satisfied: six>=1.5 in /Users/vladimir.nazarov/home/scripts/env/lib/python3.8/site-packages (from python-dateutil>=2.7.3->pandas>=0.23.0->funk-svd==0.0.1.dev1) (1.16.0)\n",
      "Building wheels for collected packages: funk-svd\n",
      "  Building wheel for funk-svd (setup.py) ... \u001b[?25ldone\n",
      "\u001b[?25h  Created wheel for funk-svd: filename=funk_svd-0.0.1.dev1-py3-none-any.whl size=9044 sha256=7581decccea7893a21457dfbdae8d784b745eea948ee2a01f89d1300079f876d\n",
      "  Stored in directory: /private/var/folders/qh/pq3w2h0d5md6c1cb16dd9g3m0000gq/T/pip-ephem-wheel-cache-19na1apc/wheels/f8/93/18/db4114b3fafc2eb9a319db1e3b3c3465db51d1fdc1d4f2e769\n",
      "Successfully built funk-svd\n",
      "\u001b[33mWARNING: You are using pip version 20.2.3; however, version 21.3.1 is available.\n",
      "You should consider upgrading via the '/Users/vladimir.nazarov/home/scripts/env/bin/python -m pip install --upgrade pip' command.\u001b[0m\n"
     ]
    }
   ],
   "source": [
    "!pip install git+https://github.com/gbolmier/funk-svd"
   ]
  },
  {
   "cell_type": "code",
   "execution_count": 7,
   "id": "ea28b161",
   "metadata": {},
   "outputs": [],
   "source": [
    "from funk_svd.dataset import fetch_ml_ratings\n",
    "from funk_svd import SVD"
   ]
  }
 ],
 "metadata": {
  "kernelspec": {
   "display_name": "Python 3",
   "language": "python",
   "name": "python3"
  },
  "language_info": {
   "codemirror_mode": {
    "name": "ipython",
    "version": 3
   },
   "file_extension": ".py",
   "mimetype": "text/x-python",
   "name": "python",
   "nbconvert_exporter": "python",
   "pygments_lexer": "ipython3",
   "version": "3.8.12"
  }
 },
 "nbformat": 4,
 "nbformat_minor": 5
}
