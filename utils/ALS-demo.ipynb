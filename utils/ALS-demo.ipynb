{
 "cells": [
  {
   "cell_type": "markdown",
   "id": "1df56dce",
   "metadata": {},
   "source": [
    "# Alternating Least Square (ALS)"
   ]
  },
  {
   "cell_type": "code",
   "execution_count": null,
   "id": "0f65b175",
   "metadata": {},
   "outputs": [],
   "source": [
    "import pandas as pd\n",
    "import numpy as np\n",
    "from tqdm import tqdm\n",
    "from interaction_table import orders_weigher, InteractionTable\n",
    "from process_data import preprocess_orders_and_clicks, additional_filtration_orders_and_clicks\n",
    "from h3_index import H3Index"
   ]
  },
  {
   "cell_type": "code",
   "execution_count": null,
   "id": "52fd6fe7",
   "metadata": {},
   "outputs": [],
   "source": [
    "#!pip install fastparquet\n",
    "h3index = H3Index('../data/h3_to_chains.pkl')"
   ]
  },
  {
   "cell_type": "code",
   "execution_count": 3,
   "id": "b86ad018",
   "metadata": {},
   "outputs": [],
   "source": [
    "# !mkdir -p ../data/moscow_slice\n",
    "# preprocess_orders_and_clicks(\n",
    "#     path_to_orders=\"../data/orders\",\n",
    "#     path_to_clicks=\"../data/clicks\",\n",
    "#     save_path=\"../data/moscow_slice\",\n",
    "# )"
   ]
  },
  {
   "cell_type": "code",
   "execution_count": 4,
   "id": "9450cf1d",
   "metadata": {},
   "outputs": [],
   "source": [
    "def get_clicks():\n",
    "    path = '../data/clicks/'\n",
    "    clicks = pd.read_parquet(f'{path}/clicks.parquet')\n",
    "    return clicks\n",
    "\n",
    "def get_orders():\n",
    "    path = '../data/moscow_slice/'\n",
    "    orders = pd.read_parquet(f'{path}/orders.parquet')\n",
    "    orders = orders.rename(columns={\"customer_id\": \"user_id\"})\n",
    "    clicks = pd.read_parquet(f'{path}/clicks.parquet')\n",
    "    #regs = pd.read_pickle('../data/CITIES_MAPPING.pkl')\n",
    "    #regs = [v for k, v in regs.items() if v > 2]\n",
    "    regs = [1] # moscow\n",
    "    orders, _ = additional_filtration_orders_and_clicks(orders, clicks, regs_to_filter=regs)\n",
    "    return orders"
   ]
  },
  {
   "cell_type": "code",
   "execution_count": 5,
   "id": "98a9f1b8",
   "metadata": {},
   "outputs": [
    {
     "name": "stdout",
     "output_type": "stream",
     "text": [
      "Orders weighter: use user avg orders per chain as weight\n",
      "            user_id      chain_id        weight\n",
      "count  3.105842e+06  3.105842e+06  3.105842e+06\n",
      "mean   3.666711e+07  3.211560e+04  1.755639e+00\n",
      "std    2.148127e+07  1.517040e+04  8.204565e+01\n",
      "min    0.000000e+00  9.000000e+00  1.000000e+00\n",
      "25%    1.143679e+07  2.714700e+04  1.000000e+00\n",
      "50%    3.991122e+07  3.006000e+04  1.000000e+00\n",
      "75%    5.176011e+07  4.451900e+04  2.000000e+00\n",
      "max    7.213893e+07  7.325500e+04  1.444470e+05\n",
      "Orders df weighted: size=3105842, uniq_users=1394011, uniq_chains=7269\n"
     ]
    }
   ],
   "source": [
    "interactions = InteractionTable(get_orders(), None)"
   ]
  },
  {
   "cell_type": "code",
   "execution_count": 6,
   "id": "c5ac61ab",
   "metadata": {},
   "outputs": [
    {
     "data": {
      "text/plain": [
       "<7269x1394011 sparse matrix of type '<class 'numpy.int64'>'\n",
       "\twith 3105842 stored elements in Compressed Sparse Row format>"
      ]
     },
     "execution_count": 6,
     "metadata": {},
     "output_type": "execute_result"
    }
   ],
   "source": [
    "interactions.sparse_interaction_matrix"
   ]
  },
  {
   "cell_type": "code",
   "execution_count": 7,
   "id": "8984289a",
   "metadata": {},
   "outputs": [
    {
     "name": "stdout",
     "output_type": "stream",
     "text": [
      "ncf_interactions: 2142482\n",
      "ncf_uniq_users: 598092\n",
      "ncf_uniq_chains: 7231\n"
     ]
    }
   ],
   "source": [
    "test = interactions.interaction_df[['user_id', 'weight']]\n",
    "test = test.groupby('user_id').sum()\n",
    "test = test.reset_index()[['user_id', 'weight']]\n",
    "user_with_few_interactions = set(test[test['weight'] <= 2].user_id.unique())\n",
    "ncf_interactions = interactions.interaction_df\n",
    "ncf_interactions = ncf_interactions.query('user_id not in @user_with_few_interactions')\n",
    "ncf_interactions.to_parquet('../data/moscow_slice/ncf_orders.parquet')\n",
    "print(\"ncf_interactions:\", len(ncf_interactions))\n",
    "\n",
    "ncf_valid_users = set(ncf_interactions['user_id'].unique())\n",
    "print(\"ncf_uniq_users:\", len(ncf_valid_users))\n",
    "ncf_valid_chains = set(ncf_interactions['chain_id'].unique())\n",
    "print(\"ncf_uniq_chains:\", len(ncf_valid_chains))"
   ]
  },
  {
   "cell_type": "code",
   "execution_count": 53,
   "id": "705f8949",
   "metadata": {},
   "outputs": [
    {
     "name": "stdout",
     "output_type": "stream",
     "text": [
      "initial:\n",
      "df, uniq_users, uniq_chains: 2300001 1253198 19810\n",
      "\n",
      "after invalid h3 filtering:\n",
      "df, uniq_users, uniq_chains: 2293762 1249258 19788\n",
      "\n",
      "after invalid users filtering:\n",
      "df, uniq_users, uniq_chains: 377666 145478 8991\n",
      "\n",
      "after invalid chains filtering:\n",
      "df, uniq_users, uniq_chains: 276678 126067 5077\n",
      "\n",
      "after dropping duplicates:\n",
      "df, uniq_users, uniq_chains: 202992 126067 5077\n"
     ]
    }
   ],
   "source": [
    "val_df = pd.read_pickle('../data/test_VALID.pkl')\n",
    "val_df = val_df[['customer_id', 'h3', 'chain_id']]\n",
    "val_df = val_df.rename(columns={\"customer_id\": \"user_id\"})\n",
    "val_df.user_id = val_df.user_id.astype(int)\n",
    "print(\"initial:\")\n",
    "print(\"df, uniq_users, uniq_chains:\", len(val_df), len(val_df.user_id.unique()), len(val_df.chain_id.unique()))\n",
    "\n",
    "val_df = val_df.query('h3 in @h3index.valid')\n",
    "print()\n",
    "print(\"after invalid h3 filtering:\")\n",
    "print(\"df, uniq_users, uniq_chains:\", len(val_df), len(val_df.user_id.unique()), len(val_df.chain_id.unique()))\n",
    "\n",
    "val_df = val_df.query('user_id in @ncf_valid_users')\n",
    "print()\n",
    "print(\"after invalid users filtering:\")\n",
    "print(\"df, uniq_users, uniq_chains:\", len(val_df), len(val_df.user_id.unique()), len(val_df.chain_id.unique()))\n",
    "\n",
    "val_df = val_df.query('chain_id in @ncf_valid_chains')\n",
    "print()\n",
    "print(\"after invalid chains filtering:\")\n",
    "print(\"df, uniq_users, uniq_chains:\", len(val_df), len(val_df.user_id.unique()), len(val_df.chain_id.unique()))\n",
    "\n",
    "val_df = val_df.drop_duplicates()\n",
    "print()\n",
    "print(\"after dropping duplicates:\")\n",
    "print(\"df, uniq_users, uniq_chains:\", len(val_df), len(val_df.user_id.unique()), len(val_df.chain_id.unique()))"
   ]
  },
  {
   "cell_type": "code",
   "execution_count": 54,
   "id": "cd7ad971",
   "metadata": {},
   "outputs": [
    {
     "name": "stdout",
     "output_type": "stream",
     "text": [
      "CPU times: user 1min 22s, sys: 1min 20s, total: 2min 42s\n",
      "Wall time: 3min 25s\n"
     ]
    },
    {
     "data": {
      "text/html": [
       "<div>\n",
       "<style scoped>\n",
       "    .dataframe tbody tr th:only-of-type {\n",
       "        vertical-align: middle;\n",
       "    }\n",
       "\n",
       "    .dataframe tbody tr th {\n",
       "        vertical-align: top;\n",
       "    }\n",
       "\n",
       "    .dataframe thead th {\n",
       "        text-align: right;\n",
       "    }\n",
       "</style>\n",
       "<table border=\"1\" class=\"dataframe\">\n",
       "  <thead>\n",
       "    <tr style=\"text-align: right;\">\n",
       "      <th></th>\n",
       "      <th>user_id</th>\n",
       "      <th>h3</th>\n",
       "      <th>test_chain_id</th>\n",
       "      <th>chain_id</th>\n",
       "    </tr>\n",
       "  </thead>\n",
       "  <tbody>\n",
       "    <tr>\n",
       "      <th>0</th>\n",
       "      <td>386249</td>\n",
       "      <td>81446</td>\n",
       "      <td>29454</td>\n",
       "      <td>9</td>\n",
       "    </tr>\n",
       "    <tr>\n",
       "      <th>0</th>\n",
       "      <td>386249</td>\n",
       "      <td>81446</td>\n",
       "      <td>29454</td>\n",
       "      <td>57364</td>\n",
       "    </tr>\n",
       "    <tr>\n",
       "      <th>0</th>\n",
       "      <td>386249</td>\n",
       "      <td>81446</td>\n",
       "      <td>29454</td>\n",
       "      <td>37</td>\n",
       "    </tr>\n",
       "    <tr>\n",
       "      <th>0</th>\n",
       "      <td>386249</td>\n",
       "      <td>81446</td>\n",
       "      <td>29454</td>\n",
       "      <td>41</td>\n",
       "    </tr>\n",
       "    <tr>\n",
       "      <th>0</th>\n",
       "      <td>386249</td>\n",
       "      <td>81446</td>\n",
       "      <td>29454</td>\n",
       "      <td>42</td>\n",
       "    </tr>\n",
       "  </tbody>\n",
       "</table>\n",
       "</div>"
      ],
      "text/plain": [
       "   user_id     h3  test_chain_id chain_id\n",
       "0   386249  81446          29454        9\n",
       "0   386249  81446          29454    57364\n",
       "0   386249  81446          29454       37\n",
       "0   386249  81446          29454       41\n",
       "0   386249  81446          29454       42"
      ]
     },
     "execution_count": 54,
     "metadata": {},
     "output_type": "execute_result"
    }
   ],
   "source": [
    "%%time\n",
    "val_df[\"valid_chain\"] = val_df[\"h3\"].map(h3index.h3_to_chains)\n",
    "val_df = val_df.explode(\"valid_chain\")\n",
    "val_df = val_df.query('valid_chain in @ncf_valid_chains')\n",
    "val_df[\"h3\"] = val_df[\"h3\"].map(h3index.h3_to_index)\n",
    "val_df = val_df.rename(columns={\"chain_id\": \"test_chain_id\"})\n",
    "val_df = val_df.rename(columns={\"valid_chain\": \"chain_id\"})\n",
    "val_df.head()"
   ]
  },
  {
   "cell_type": "code",
   "execution_count": 64,
   "id": "d294a0a2",
   "metadata": {},
   "outputs": [
    {
     "name": "stdout",
     "output_type": "stream",
     "text": [
      "df, uniq_users, uniq_test_chains, uniq_chains: 128502135 126067 5077 7163\n"
     ]
    }
   ],
   "source": [
    "print(\"df, uniq_users, uniq_test_chains, uniq_chains:\",\n",
    "      len(val_df), len(val_df.user_id.unique()),\n",
    "      len(val_df.test_chain_id.unique()), len(val_df.chain_id.unique()))"
   ]
  },
  {
   "cell_type": "code",
   "execution_count": 56,
   "id": "b43a1ba9",
   "metadata": {
    "scrolled": true
   },
   "outputs": [],
   "source": [
    "%%time\n",
    "path = '../data/moscow_slice/'\n",
    "val_df.to_parquet(f'{path}/ncf_val_df.parquet')"
   ]
  },
  {
   "cell_type": "markdown",
   "id": "ceeae53d",
   "metadata": {},
   "source": [
    "## Сколько данных тестовой выборки отсеивается в зависимости от interactions"
   ]
  },
  {
   "cell_type": "markdown",
   "id": "ec4c4363",
   "metadata": {},
   "source": [
    "### Clicks + orders: full\n",
    "\n",
    "initial:\n",
    "df, uniq_users, uniq_chains: 2300001 1253198 19810\n",
    "\n",
    "after invalid h3 filtering:\n",
    "df, uniq_users, uniq_chains: 2293762 1249258 19788\n",
    "\n",
    "after invalid users filtering:\n",
    "df, uniq_users, uniq_chains: 1987082 1044374 19453\n",
    "\n",
    "after invalid chains filtering:\n",
    "df, uniq_users, uniq_chains: 1984220 1043382 19118\n"
   ]
  },
  {
   "cell_type": "markdown",
   "id": "8484d648",
   "metadata": {},
   "source": [
    "### Orders: full\n",
    "\n",
    "initial:\n",
    "df, uniq_users, uniq_chains: 2300001 1253198 19810\n",
    "\n",
    "after invalid h3 filtering:\n",
    "df, uniq_users, uniq_chains: 2293762 1249258 19788\n",
    "\n",
    "after invalid users filtering:\n",
    "df, uniq_users, uniq_chains: 1860055 952741 19285\n",
    "\n",
    "after invalid chains filtering:\n",
    "df, uniq_users, uniq_chains: 1856314 951570 18664"
   ]
  },
  {
   "cell_type": "markdown",
   "id": "722d326b",
   "metadata": {},
   "source": [
    "### Clicks + orders: processed full\n",
    "\n",
    "initial:\n",
    "df, uniq_users, uniq_chains: 2300001 1253198 19810\n",
    "\n",
    "after invalid h3 filtering:\n",
    "df, uniq_users, uniq_chains: 2293762 1249258 19788\n",
    "\n",
    "after invalid users filtering:\n",
    "df, uniq_users, uniq_chains: 851440 415267 17272\n",
    "\n",
    "after invalid chains filtering:\n",
    "df, uniq_users, uniq_chains: 692249 369776 16446"
   ]
  },
  {
   "cell_type": "markdown",
   "id": "a3b7b830",
   "metadata": {},
   "source": [
    "### Orders: processed moscow\n",
    "\n",
    "initial:\n",
    "df, uniq_users, uniq_chains: 2300001 1253198 19810\n",
    "\n",
    "after invalid h3 filtering:\n",
    "df, uniq_users, uniq_chains: 2293762 1249258 19788\n",
    "\n",
    "after invalid users filtering:\n",
    "df, uniq_users, uniq_chains: 483559 212160 11404\n",
    "\n",
    "after invalid chains filtering:\n",
    "df, uniq_users, uniq_chains: 341373 172590 5297"
   ]
  },
  {
   "cell_type": "markdown",
   "id": "2efa1982",
   "metadata": {},
   "source": [
    "### Orders: processed saint-peterburg\n",
    "initial:\n",
    "df, uniq_users, uniq_chains: 2300001 1253198 19810\n",
    "\n",
    "after invalid h3 filtering:\n",
    "df, uniq_users, uniq_chains: 2293762 1249258 19788\n",
    "\n",
    "after invalid users filtering:\n",
    "df, uniq_users, uniq_chains: 164699 62373 5801\n",
    "\n",
    "after invalid chains filtering:\n",
    "df, uniq_users, uniq_chains: 87146 46513 1384"
   ]
  },
  {
   "cell_type": "markdown",
   "id": "e2eca2fa",
   "metadata": {},
   "source": [
    "### Orders: processed other regions\n",
    "\n",
    "initial:\n",
    "df, uniq_users, uniq_chains: 2300001 1253198 19810\n",
    "\n",
    "after invalid h3 filtering:\n",
    "df, uniq_users, uniq_chains: 2293762 1249258 19788\n",
    "\n",
    "after invalid users filtering:\n",
    "df, uniq_users, uniq_chains: 376063 178911 13700\n",
    "\n",
    "after invalid chains filtering:\n",
    "df, uniq_users, uniq_chains: 240902 136697 9381"
   ]
  },
  {
   "cell_type": "markdown",
   "id": "0af15a29",
   "metadata": {},
   "source": [
    "# Выводы:\n",
    "* 20% тестовых юзеров нет ни в clicks, ни в orders (cold start);\n",
    "* 75% тестовых юзеров есть в orders, т.е clicks можно не рассматривать (всего 5%);\n",
    "* только 30% (!!!!) тестовых юзеров остается после вызова processed_data;\n",
    "* 48% -- москва, 39% -- регионы, 13% -- спб в orders после вызова processed_data;\n",
    "* также есть сделать val.drop_duplicates, то отсортируется порядка 30% строк!"
   ]
  },
  {
   "cell_type": "markdown",
   "id": "e919ab0a",
   "metadata": {},
   "source": [
    "### Если h3 пользователя неизвестен, то можно брать следующий в иерархии h3 (более крупный)"
   ]
  },
  {
   "cell_type": "code",
   "execution_count": null,
   "id": "ade07e7e",
   "metadata": {},
   "outputs": [],
   "source": [
    "val_df = pd.pivot_table(val_df,\n",
    "                        values=['chain_id'],\n",
    "                        index=['user_id', 'h3'],\n",
    "                        aggfunc={'chain_id': set})\n",
    "val_df = val_df.reset_index()"
   ]
  },
  {
   "cell_type": "code",
   "execution_count": 21,
   "id": "852fe603",
   "metadata": {},
   "outputs": [],
   "source": [
    "def predict(model, user_id, h3, thr=0.9, top_k=10, filter_already_liked_items=True):\n",
    "    user_index = interactions.user_index[user_id]\n",
    "    valid_chains = h3index.h3_to_chains[h3]\n",
    "    filter_items = [v for k, v in interactions.chain_index.items() if k not in valid_chains]\n",
    "    top = model.recommend(user_index,\n",
    "                          interactions.sparse_interaction_matrix.T,\n",
    "                          N=top_k,\n",
    "                          filter_already_liked_items=filter_already_liked_items,\n",
    "                          filter_items=filter_items)\n",
    "    top = [interactions.r_chain_index[x] for x, score in top if score > thr]\n",
    "    return top\n",
    "\n",
    "def old_items(interactions_df, user_id):\n",
    "    return set(interactions_df[interactions_df['user_id'] == user_id]['chain_id'].unique())"
   ]
  },
  {
   "cell_type": "code",
   "execution_count": 22,
   "id": "e278e3e3",
   "metadata": {},
   "outputs": [],
   "source": [
    "def metric(y_true, y_pred, y_old, at1=10, at2=30, average=True):\n",
    "    \"\"\"\n",
    "    new_prec@10 + new_prec@30 + 1/2 *(prec_@10 + prec@30)\n",
    "    \"\"\"\n",
    "    scores_new = []\n",
    "    scores_all = []\n",
    "    scores_total = []\n",
    "    for t, p, o in zip(y_true, y_pred, y_old):\n",
    "        t = list(t)\n",
    "        p = list(p)\n",
    "        o = o if isinstance(o, (set, list)) else []\n",
    "        \n",
    "        prec1 = len(set(t[:at1]) & set(p[:at1])) / at1\n",
    "        prec2 = len(set(t[:at2]) & set(p[:at2])) / at2\n",
    "        new_prec1 = len((set(p[:at1]) - set(o)) & set(t[:at1])) / at1\n",
    "        new_prec2 = len((set(p[:at2]) - set(o)) & set(t[:at2])) / at2\n",
    "\n",
    "        scores_total.append(new_prec1 + new_prec2 + 0.5 * (prec1 + prec2))\n",
    "        scores_new.append(new_prec1 + new_prec2)\n",
    "        scores_all.append(prec1 + prec2)\n",
    "\n",
    "    return (np.mean(scores_total) if average else scores_total,\n",
    "            np.mean(scores_new) if average else scores_new,\n",
    "            np.mean(scores_all) if average else scores_all)"
   ]
  },
  {
   "cell_type": "code",
   "execution_count": null,
   "id": "7b0dfc35",
   "metadata": {},
   "outputs": [],
   "source": [
    "# !pip install implicit\n",
    "import implicit\n",
    "\n",
    "def hyper_params(val_df, factors=60, thr=0.7, top_k=30, filter_liked=True):\n",
    "    print('factors: ', factors, ', thr: ', thr, ', top_k: ', top_k, ', filter_liked: ', filter_liked)\n",
    "    model = implicit.als.AlternatingLeastSquares(factors=factors)\n",
    "    model.fit(interactions.sparse_interaction_matrix)\n",
    "    val = val_df\n",
    "    val['pred_chains'] = val.apply(lambda x: predict(model, x.user_id, x.h3, thr, top_k, filter_liked), axis=1)\n",
    "    val['old_chains'] = val.apply(lambda x: old_items(interactions.interaction_df, x.user_id), axis=1)\n",
    "    scores = metric(val['chain_id'], val['pred_chains'], val['old_chains'])\n",
    "    print('total, new, all = ', scores)\n",
    "    print()"
   ]
  },
  {
   "cell_type": "code",
   "execution_count": null,
   "id": "a720cfb2",
   "metadata": {},
   "outputs": [],
   "source": [
    "hyper_params(val_df, factors=60, thr=0.7, top_k=30, filter_liked=True)"
   ]
  },
  {
   "cell_type": "markdown",
   "id": "aa76271e",
   "metadata": {},
   "source": [
    "factors:  60 , thr:  0.7 , top_k:  30 , filter_liked:  True\n",
    "\n",
    "total, new, all =  (0.02605082142811052, 0.00023745918670228555, 0.05162672448281647)"
   ]
  },
  {
   "cell_type": "code",
   "execution_count": null,
   "id": "22156cf4",
   "metadata": {},
   "outputs": [],
   "source": [
    "for factors in [30, 40, 50, 60, 70]:\n",
    "    for thr in [0.7, 0.75, 0.8, 0.85, 0.9]:\n",
    "        for top_k in [5, 10, 20, 30]:\n",
    "            for filter_liked in [True, False]:\n",
    "               hyper_params(val_df, factors, thr, top_k, filter_liked) "
   ]
  },
  {
   "cell_type": "code",
   "execution_count": 98,
   "id": "c960d575",
   "metadata": {},
   "outputs": [],
   "source": [
    "path = '../data/moscow_slice/'\n",
    "mp_chain_to_index = pd.read_pickle(f'{path}/chain_to_index.pkl')\n",
    "mp_user_to_index = pd.read_pickle(f'{path}/user_to_index.pkl')\n",
    "mp_index_to_chain = {v:k for k, v in mp_chain_to_index.items()}\n",
    "mp_index_to_user = {v:k for k, v in mp_user_to_index.items()}\n",
    "mp_index_to_h3 = h3index.r_h3_to_index"
   ]
  },
  {
   "cell_type": "code",
   "execution_count": 99,
   "id": "15537036",
   "metadata": {},
   "outputs": [
    {
     "name": "stdout",
     "output_type": "stream",
     "text": [
      "df, uniq_users, uniq_pred_chains, uniq_test_chains: 6066221 126067 12933 1611 5077\n"
     ]
    },
    {
     "data": {
      "text/html": [
       "<div>\n",
       "<style scoped>\n",
       "    .dataframe tbody tr th:only-of-type {\n",
       "        vertical-align: middle;\n",
       "    }\n",
       "\n",
       "    .dataframe tbody tr th {\n",
       "        vertical-align: top;\n",
       "    }\n",
       "\n",
       "    .dataframe thead th {\n",
       "        text-align: right;\n",
       "    }\n",
       "</style>\n",
       "<table border=\"1\" class=\"dataframe\">\n",
       "  <thead>\n",
       "    <tr style=\"text-align: right;\">\n",
       "      <th></th>\n",
       "      <th>user_id</th>\n",
       "      <th>h3_id</th>\n",
       "      <th>pred_chain_id</th>\n",
       "      <th>test_chain_id</th>\n",
       "    </tr>\n",
       "  </thead>\n",
       "  <tbody>\n",
       "    <tr>\n",
       "      <th>0</th>\n",
       "      <td>110673</td>\n",
       "      <td>80785</td>\n",
       "      <td>856</td>\n",
       "      <td>1242</td>\n",
       "    </tr>\n",
       "    <tr>\n",
       "      <th>1</th>\n",
       "      <td>110673</td>\n",
       "      <td>80785</td>\n",
       "      <td>856</td>\n",
       "      <td>1320</td>\n",
       "    </tr>\n",
       "    <tr>\n",
       "      <th>2</th>\n",
       "      <td>223173</td>\n",
       "      <td>77538</td>\n",
       "      <td>856</td>\n",
       "      <td>1932</td>\n",
       "    </tr>\n",
       "    <tr>\n",
       "      <th>3</th>\n",
       "      <td>1844</td>\n",
       "      <td>80371</td>\n",
       "      <td>856</td>\n",
       "      <td>748</td>\n",
       "    </tr>\n",
       "    <tr>\n",
       "      <th>4</th>\n",
       "      <td>1844</td>\n",
       "      <td>80371</td>\n",
       "      <td>856</td>\n",
       "      <td>955</td>\n",
       "    </tr>\n",
       "  </tbody>\n",
       "</table>\n",
       "</div>"
      ],
      "text/plain": [
       "   user_id  h3_id  pred_chain_id  test_chain_id\n",
       "0   110673  80785            856           1242\n",
       "1   110673  80785            856           1320\n",
       "2   223173  77538            856           1932\n",
       "3     1844  80371            856            748\n",
       "4     1844  80371            856            955"
      ]
     },
     "execution_count": 99,
     "metadata": {},
     "output_type": "execute_result"
    }
   ],
   "source": [
    "path = '../data/moscow_slice/'\n",
    "p_val_df = pd.read_parquet(f'{path}/processed_val_df.parquet')\n",
    "# p_val_df = p_val_df.rename(columns={\"h3_id\": \"chain_id\"})\n",
    "# p_val_df = p_val_df.rename(columns={\"test_chain_id\": \"h3_id\"})\n",
    "# p_val_df = p_val_df.rename(columns={\"chain_id\": \"test_chain_id\"})\n",
    "print(\"df, uniq_users, uniq_pred_chains, uniq_test_chains:\",\n",
    "      len(p_val_df), len(p_val_df.user_id.unique()), len(p_val_df.h3_id.unique()),\n",
    "      len(p_val_df.pred_chain_id.unique()), len(p_val_df.test_chain_id.unique()))\n",
    "p_val_df.head()"
   ]
  },
  {
   "cell_type": "code",
   "execution_count": 100,
   "id": "298dfbe4",
   "metadata": {},
   "outputs": [
    {
     "name": "stdout",
     "output_type": "stream",
     "text": [
      "df, uniq_users, uniq_pred_chains, uniq_test_chains: 6066221 126067 1611 5077\n",
      "CPU times: user 985 ms, sys: 237 ms, total: 1.22 s\n",
      "Wall time: 1.34 s\n"
     ]
    },
    {
     "data": {
      "text/html": [
       "<div>\n",
       "<style scoped>\n",
       "    .dataframe tbody tr th:only-of-type {\n",
       "        vertical-align: middle;\n",
       "    }\n",
       "\n",
       "    .dataframe tbody tr th {\n",
       "        vertical-align: top;\n",
       "    }\n",
       "\n",
       "    .dataframe thead th {\n",
       "        text-align: right;\n",
       "    }\n",
       "</style>\n",
       "<table border=\"1\" class=\"dataframe\">\n",
       "  <thead>\n",
       "    <tr style=\"text-align: right;\">\n",
       "      <th></th>\n",
       "      <th>user_id</th>\n",
       "      <th>h3</th>\n",
       "      <th>pred_chain_id</th>\n",
       "      <th>chain_id</th>\n",
       "    </tr>\n",
       "  </thead>\n",
       "  <tbody>\n",
       "    <tr>\n",
       "      <th>0</th>\n",
       "      <td>8194061</td>\n",
       "      <td>8911aa7966bffff</td>\n",
       "      <td>28720</td>\n",
       "      <td>31698</td>\n",
       "    </tr>\n",
       "    <tr>\n",
       "      <th>1</th>\n",
       "      <td>8194061</td>\n",
       "      <td>8911aa7966bffff</td>\n",
       "      <td>28720</td>\n",
       "      <td>32449</td>\n",
       "    </tr>\n",
       "    <tr>\n",
       "      <th>2</th>\n",
       "      <td>33560324</td>\n",
       "      <td>8911aa70957ffff</td>\n",
       "      <td>28720</td>\n",
       "      <td>36316</td>\n",
       "    </tr>\n",
       "    <tr>\n",
       "      <th>3</th>\n",
       "      <td>56082</td>\n",
       "      <td>8911aa78c6bffff</td>\n",
       "      <td>28720</td>\n",
       "      <td>27490</td>\n",
       "    </tr>\n",
       "    <tr>\n",
       "      <th>4</th>\n",
       "      <td>56082</td>\n",
       "      <td>8911aa78c6bffff</td>\n",
       "      <td>28720</td>\n",
       "      <td>29454</td>\n",
       "    </tr>\n",
       "  </tbody>\n",
       "</table>\n",
       "</div>"
      ],
      "text/plain": [
       "    user_id               h3  pred_chain_id  chain_id\n",
       "0   8194061  8911aa7966bffff          28720     31698\n",
       "1   8194061  8911aa7966bffff          28720     32449\n",
       "2  33560324  8911aa70957ffff          28720     36316\n",
       "3     56082  8911aa78c6bffff          28720     27490\n",
       "4     56082  8911aa78c6bffff          28720     29454"
      ]
     },
     "execution_count": 100,
     "metadata": {},
     "output_type": "execute_result"
    }
   ],
   "source": [
    "%%time\n",
    "p_val_df[\"user_id\"] = p_val_df[\"user_id\"].map(mp_index_to_user)\n",
    "p_val_df[\"h3_id\"] = p_val_df[\"h3_id\"].map(mp_index_to_h3)\n",
    "p_val_df[\"pred_chain_id\"] = p_val_df[\"pred_chain_id\"].map(mp_index_to_chain)\n",
    "p_val_df[\"test_chain_id\"] = p_val_df[\"test_chain_id\"].map(mp_index_to_chain)\n",
    "p_val_df = p_val_df.rename(columns={\"test_chain_id\": \"chain_id\", \"h3_id\": \"h3\"})\n",
    "print(\"df, uniq_users, uniq_pred_chains, uniq_test_chains:\",\n",
    "      len(p_val_df), len(p_val_df.user_id.unique()),\n",
    "      len(p_val_df.pred_chain_id.unique()), len(p_val_df.chain_id.unique()))\n",
    "p_val_df.head()"
   ]
  },
  {
   "cell_type": "code",
   "execution_count": 101,
   "id": "60377d3c",
   "metadata": {},
   "outputs": [
    {
     "name": "stdout",
     "output_type": "stream",
     "text": [
      "CPU times: user 6.05 s, sys: 427 ms, total: 6.48 s\n",
      "Wall time: 6.67 s\n"
     ]
    },
    {
     "data": {
      "text/html": [
       "<div>\n",
       "<style scoped>\n",
       "    .dataframe tbody tr th:only-of-type {\n",
       "        vertical-align: middle;\n",
       "    }\n",
       "\n",
       "    .dataframe tbody tr th {\n",
       "        vertical-align: top;\n",
       "    }\n",
       "\n",
       "    .dataframe thead th {\n",
       "        text-align: right;\n",
       "    }\n",
       "</style>\n",
       "<table border=\"1\" class=\"dataframe\">\n",
       "  <thead>\n",
       "    <tr style=\"text-align: right;\">\n",
       "      <th></th>\n",
       "      <th>user_id</th>\n",
       "      <th>h3</th>\n",
       "      <th>chains</th>\n",
       "      <th>pred_chains</th>\n",
       "    </tr>\n",
       "  </thead>\n",
       "  <tbody>\n",
       "    <tr>\n",
       "      <th>0</th>\n",
       "      <td>0</td>\n",
       "      <td>89118108b43ffff</td>\n",
       "      <td>{28720}</td>\n",
       "      <td>{72544, 38978, 57987, 806, 19998, 25352, 43081...</td>\n",
       "    </tr>\n",
       "    <tr>\n",
       "      <th>1</th>\n",
       "      <td>0</td>\n",
       "      <td>89118134503ffff</td>\n",
       "      <td>{28720}</td>\n",
       "      <td>{30244, 30245, 30246, 1929, 34987, 28720, 3787...</td>\n",
       "    </tr>\n",
       "    <tr>\n",
       "      <th>2</th>\n",
       "      <td>0</td>\n",
       "      <td>89118134513ffff</td>\n",
       "      <td>{28720}</td>\n",
       "      <td>{30244, 30245, 30246, 1929, 29259, 34987, 1502...</td>\n",
       "    </tr>\n",
       "    <tr>\n",
       "      <th>3</th>\n",
       "      <td>0</td>\n",
       "      <td>89118134517ffff</td>\n",
       "      <td>{28720}</td>\n",
       "      <td>{30244, 30245, 30246, 1929, 29259, 34987, 1502...</td>\n",
       "    </tr>\n",
       "    <tr>\n",
       "      <th>4</th>\n",
       "      <td>0</td>\n",
       "      <td>8911813456bffff</td>\n",
       "      <td>{28720}</td>\n",
       "      <td>{30244, 30245, 30246, 1929, 34987, 28720, 3787...</td>\n",
       "    </tr>\n",
       "  </tbody>\n",
       "</table>\n",
       "</div>"
      ],
      "text/plain": [
       "   user_id               h3   chains  \\\n",
       "0        0  89118108b43ffff  {28720}   \n",
       "1        0  89118134503ffff  {28720}   \n",
       "2        0  89118134513ffff  {28720}   \n",
       "3        0  89118134517ffff  {28720}   \n",
       "4        0  8911813456bffff  {28720}   \n",
       "\n",
       "                                         pred_chains  \n",
       "0  {72544, 38978, 57987, 806, 19998, 25352, 43081...  \n",
       "1  {30244, 30245, 30246, 1929, 34987, 28720, 3787...  \n",
       "2  {30244, 30245, 30246, 1929, 29259, 34987, 1502...  \n",
       "3  {30244, 30245, 30246, 1929, 29259, 34987, 1502...  \n",
       "4  {30244, 30245, 30246, 1929, 34987, 28720, 3787...  "
      ]
     },
     "execution_count": 101,
     "metadata": {},
     "output_type": "execute_result"
    }
   ],
   "source": [
    "%%time\n",
    "p_val_df = pd.pivot_table(p_val_df,\n",
    "                        values=['chain_id', 'pred_chain_id'],\n",
    "                        index=['user_id', 'h3'],\n",
    "                        aggfunc={'chain_id': set, 'pred_chain_id': set})\n",
    "p_val_df = p_val_df.reset_index()\n",
    "p_val_df = p_val_df.rename(columns={\"pred_chain_id\": \"pred_chains\", \"chain_id\": \"chains\"})\n",
    "p_val_df.head()"
   ]
  },
  {
   "cell_type": "code",
   "execution_count": 104,
   "id": "13b7365c",
   "metadata": {},
   "outputs": [
    {
     "name": "stdout",
     "output_type": "stream",
     "text": [
      "CPU times: user 4min 33s, sys: 11.9 s, total: 4min 45s\n",
      "Wall time: 4min 54s\n"
     ]
    },
    {
     "data": {
      "text/html": [
       "<div>\n",
       "<style scoped>\n",
       "    .dataframe tbody tr th:only-of-type {\n",
       "        vertical-align: middle;\n",
       "    }\n",
       "\n",
       "    .dataframe tbody tr th {\n",
       "        vertical-align: top;\n",
       "    }\n",
       "\n",
       "    .dataframe thead th {\n",
       "        text-align: right;\n",
       "    }\n",
       "</style>\n",
       "<table border=\"1\" class=\"dataframe\">\n",
       "  <thead>\n",
       "    <tr style=\"text-align: right;\">\n",
       "      <th></th>\n",
       "      <th>user_id</th>\n",
       "      <th>h3</th>\n",
       "      <th>chains</th>\n",
       "      <th>pred_chains</th>\n",
       "      <th>old_chains</th>\n",
       "    </tr>\n",
       "  </thead>\n",
       "  <tbody>\n",
       "    <tr>\n",
       "      <th>0</th>\n",
       "      <td>0</td>\n",
       "      <td>89118108b43ffff</td>\n",
       "      <td>{28720}</td>\n",
       "      <td>{72544, 38978, 57987, 806, 19998, 25352, 43081...</td>\n",
       "      <td>{32322, 28720, 31057, 35152, 28276}</td>\n",
       "    </tr>\n",
       "    <tr>\n",
       "      <th>1</th>\n",
       "      <td>0</td>\n",
       "      <td>89118134503ffff</td>\n",
       "      <td>{28720}</td>\n",
       "      <td>{30244, 30245, 30246, 1929, 34987, 28720, 3787...</td>\n",
       "      <td>{32322, 28720, 31057, 35152, 28276}</td>\n",
       "    </tr>\n",
       "    <tr>\n",
       "      <th>2</th>\n",
       "      <td>0</td>\n",
       "      <td>89118134513ffff</td>\n",
       "      <td>{28720}</td>\n",
       "      <td>{30244, 30245, 30246, 1929, 29259, 34987, 1502...</td>\n",
       "      <td>{32322, 28720, 31057, 35152, 28276}</td>\n",
       "    </tr>\n",
       "    <tr>\n",
       "      <th>3</th>\n",
       "      <td>0</td>\n",
       "      <td>89118134517ffff</td>\n",
       "      <td>{28720}</td>\n",
       "      <td>{30244, 30245, 30246, 1929, 29259, 34987, 1502...</td>\n",
       "      <td>{32322, 28720, 31057, 35152, 28276}</td>\n",
       "    </tr>\n",
       "    <tr>\n",
       "      <th>4</th>\n",
       "      <td>0</td>\n",
       "      <td>8911813456bffff</td>\n",
       "      <td>{28720}</td>\n",
       "      <td>{30244, 30245, 30246, 1929, 34987, 28720, 3787...</td>\n",
       "      <td>{32322, 28720, 31057, 35152, 28276}</td>\n",
       "    </tr>\n",
       "  </tbody>\n",
       "</table>\n",
       "</div>"
      ],
      "text/plain": [
       "   user_id               h3   chains  \\\n",
       "0        0  89118108b43ffff  {28720}   \n",
       "1        0  89118134503ffff  {28720}   \n",
       "2        0  89118134513ffff  {28720}   \n",
       "3        0  89118134517ffff  {28720}   \n",
       "4        0  8911813456bffff  {28720}   \n",
       "\n",
       "                                         pred_chains  \\\n",
       "0  {72544, 38978, 57987, 806, 19998, 25352, 43081...   \n",
       "1  {30244, 30245, 30246, 1929, 34987, 28720, 3787...   \n",
       "2  {30244, 30245, 30246, 1929, 29259, 34987, 1502...   \n",
       "3  {30244, 30245, 30246, 1929, 29259, 34987, 1502...   \n",
       "4  {30244, 30245, 30246, 1929, 34987, 28720, 3787...   \n",
       "\n",
       "                            old_chains  \n",
       "0  {32322, 28720, 31057, 35152, 28276}  \n",
       "1  {32322, 28720, 31057, 35152, 28276}  \n",
       "2  {32322, 28720, 31057, 35152, 28276}  \n",
       "3  {32322, 28720, 31057, 35152, 28276}  \n",
       "4  {32322, 28720, 31057, 35152, 28276}  "
      ]
     },
     "execution_count": 104,
     "metadata": {},
     "output_type": "execute_result"
    }
   ],
   "source": [
    "%%time\n",
    "p_val_df['old_chains'] = p_val_df.apply(lambda x: old_items(ncf_interactions, x.user_id), axis=1)\n",
    "p_val_df.head()"
   ]
  },
  {
   "cell_type": "code",
   "execution_count": 106,
   "id": "f9cbc3d5",
   "metadata": {},
   "outputs": [
    {
     "name": "stdout",
     "output_type": "stream",
     "text": [
      "total, new, all =  (0.047243359557960045, 0.01741889938024804, 0.05964892035542401)\n"
     ]
    }
   ],
   "source": [
    "scores = metric(p_val_df['chains'], p_val_df['pred_chains'], p_val_df['old_chains'])\n",
    "print('total, new, all = ', scores)"
   ]
  },
  {
   "cell_type": "markdown",
   "id": "a0e7893e",
   "metadata": {},
   "source": [
    "total, new, all =  (0.05414295764939652, 0.018852887627577093, 0.07058014004363886)"
   ]
  },
  {
   "cell_type": "code",
   "execution_count": 108,
   "id": "699deac0",
   "metadata": {},
   "outputs": [
    {
     "data": {
      "text/html": [
       "<div>\n",
       "<style scoped>\n",
       "    .dataframe tbody tr th:only-of-type {\n",
       "        vertical-align: middle;\n",
       "    }\n",
       "\n",
       "    .dataframe tbody tr th {\n",
       "        vertical-align: top;\n",
       "    }\n",
       "\n",
       "    .dataframe thead th {\n",
       "        text-align: right;\n",
       "    }\n",
       "</style>\n",
       "<table border=\"1\" class=\"dataframe\">\n",
       "  <thead>\n",
       "    <tr style=\"text-align: right;\">\n",
       "      <th></th>\n",
       "      <th>user_id</th>\n",
       "      <th>h3</th>\n",
       "      <th>chains</th>\n",
       "      <th>pred_chains</th>\n",
       "      <th>old_chains</th>\n",
       "    </tr>\n",
       "  </thead>\n",
       "  <tbody>\n",
       "    <tr>\n",
       "      <th>0</th>\n",
       "      <td>0</td>\n",
       "      <td>89118108b43ffff</td>\n",
       "      <td>{28720}</td>\n",
       "      <td>{72544, 38978, 57987, 806, 19998, 25352, 43081...</td>\n",
       "      <td>{32322, 28720, 31057, 35152, 28276}</td>\n",
       "    </tr>\n",
       "    <tr>\n",
       "      <th>1</th>\n",
       "      <td>0</td>\n",
       "      <td>89118134503ffff</td>\n",
       "      <td>{28720}</td>\n",
       "      <td>{30244, 30245, 30246, 1929, 34987, 28720, 3787...</td>\n",
       "      <td>{32322, 28720, 31057, 35152, 28276}</td>\n",
       "    </tr>\n",
       "    <tr>\n",
       "      <th>2</th>\n",
       "      <td>0</td>\n",
       "      <td>89118134513ffff</td>\n",
       "      <td>{28720}</td>\n",
       "      <td>{30244, 30245, 30246, 1929, 29259, 34987, 1502...</td>\n",
       "      <td>{32322, 28720, 31057, 35152, 28276}</td>\n",
       "    </tr>\n",
       "    <tr>\n",
       "      <th>3</th>\n",
       "      <td>0</td>\n",
       "      <td>89118134517ffff</td>\n",
       "      <td>{28720}</td>\n",
       "      <td>{30244, 30245, 30246, 1929, 29259, 34987, 1502...</td>\n",
       "      <td>{32322, 28720, 31057, 35152, 28276}</td>\n",
       "    </tr>\n",
       "    <tr>\n",
       "      <th>4</th>\n",
       "      <td>0</td>\n",
       "      <td>8911813456bffff</td>\n",
       "      <td>{28720}</td>\n",
       "      <td>{30244, 30245, 30246, 1929, 34987, 28720, 3787...</td>\n",
       "      <td>{32322, 28720, 31057, 35152, 28276}</td>\n",
       "    </tr>\n",
       "    <tr>\n",
       "      <th>...</th>\n",
       "      <td>...</td>\n",
       "      <td>...</td>\n",
       "      <td>...</td>\n",
       "      <td>...</td>\n",
       "      <td>...</td>\n",
       "    </tr>\n",
       "    <tr>\n",
       "      <th>9995</th>\n",
       "      <td>167962</td>\n",
       "      <td>8911aa72233ffff</td>\n",
       "      <td>{1929}</td>\n",
       "      <td>{2305, 13698, 25352, 1929, 777, 649, 27147, 31...</td>\n",
       "      <td>{1929, 30396}</td>\n",
       "    </tr>\n",
       "    <tr>\n",
       "      <th>9996</th>\n",
       "      <td>167981</td>\n",
       "      <td>8911aa70e8fffff</td>\n",
       "      <td>{32449, 31118}</td>\n",
       "      <td>{2305, 13698, 25352, 1929, 777, 649, 29454, 15...</td>\n",
       "      <td>{28720, 36432, 28795}</td>\n",
       "    </tr>\n",
       "    <tr>\n",
       "      <th>9997</th>\n",
       "      <td>167988</td>\n",
       "      <td>8911aa794a7ffff</td>\n",
       "      <td>{44145}</td>\n",
       "      <td>{2305, 13698, 25352, 1929, 777, 649, 13, 29454...</td>\n",
       "      <td>{13, 29454, 32049, 44145, 9435, 52895}</td>\n",
       "    </tr>\n",
       "    <tr>\n",
       "      <th>9998</th>\n",
       "      <td>168037</td>\n",
       "      <td>8911aa6208bffff</td>\n",
       "      <td>{28720, 52625, 828, 32449}</td>\n",
       "      <td>{2305, 13698, 25352, 1929, 777, 649, 13, 29454...</td>\n",
       "      <td>{30112, 15275, 29580, 23824, 28720, 31698, 48274}</td>\n",
       "    </tr>\n",
       "    <tr>\n",
       "      <th>9999</th>\n",
       "      <td>168366</td>\n",
       "      <td>8911aa796afffff</td>\n",
       "      <td>{27490}</td>\n",
       "      <td>{2305, 13698, 25352, 1929, 777, 649, 13, 29454...</td>\n",
       "      <td>{31698, 756, 48274}</td>\n",
       "    </tr>\n",
       "  </tbody>\n",
       "</table>\n",
       "<p>10000 rows × 5 columns</p>\n",
       "</div>"
      ],
      "text/plain": [
       "      user_id               h3                      chains  \\\n",
       "0           0  89118108b43ffff                     {28720}   \n",
       "1           0  89118134503ffff                     {28720}   \n",
       "2           0  89118134513ffff                     {28720}   \n",
       "3           0  89118134517ffff                     {28720}   \n",
       "4           0  8911813456bffff                     {28720}   \n",
       "...       ...              ...                         ...   \n",
       "9995   167962  8911aa72233ffff                      {1929}   \n",
       "9996   167981  8911aa70e8fffff              {32449, 31118}   \n",
       "9997   167988  8911aa794a7ffff                     {44145}   \n",
       "9998   168037  8911aa6208bffff  {28720, 52625, 828, 32449}   \n",
       "9999   168366  8911aa796afffff                     {27490}   \n",
       "\n",
       "                                            pred_chains  \\\n",
       "0     {72544, 38978, 57987, 806, 19998, 25352, 43081...   \n",
       "1     {30244, 30245, 30246, 1929, 34987, 28720, 3787...   \n",
       "2     {30244, 30245, 30246, 1929, 29259, 34987, 1502...   \n",
       "3     {30244, 30245, 30246, 1929, 29259, 34987, 1502...   \n",
       "4     {30244, 30245, 30246, 1929, 34987, 28720, 3787...   \n",
       "...                                                 ...   \n",
       "9995  {2305, 13698, 25352, 1929, 777, 649, 27147, 31...   \n",
       "9996  {2305, 13698, 25352, 1929, 777, 649, 29454, 15...   \n",
       "9997  {2305, 13698, 25352, 1929, 777, 649, 13, 29454...   \n",
       "9998  {2305, 13698, 25352, 1929, 777, 649, 13, 29454...   \n",
       "9999  {2305, 13698, 25352, 1929, 777, 649, 13, 29454...   \n",
       "\n",
       "                                             old_chains  \n",
       "0                   {32322, 28720, 31057, 35152, 28276}  \n",
       "1                   {32322, 28720, 31057, 35152, 28276}  \n",
       "2                   {32322, 28720, 31057, 35152, 28276}  \n",
       "3                   {32322, 28720, 31057, 35152, 28276}  \n",
       "4                   {32322, 28720, 31057, 35152, 28276}  \n",
       "...                                                 ...  \n",
       "9995                                      {1929, 30396}  \n",
       "9996                              {28720, 36432, 28795}  \n",
       "9997             {13, 29454, 32049, 44145, 9435, 52895}  \n",
       "9998  {30112, 15275, 29580, 23824, 28720, 31698, 48274}  \n",
       "9999                                {31698, 756, 48274}  \n",
       "\n",
       "[10000 rows x 5 columns]"
      ]
     },
     "execution_count": 108,
     "metadata": {},
     "output_type": "execute_result"
    }
   ],
   "source": [
    "p_val_df.head(10000)"
   ]
  },
  {
   "cell_type": "code",
   "execution_count": 109,
   "id": "7b1dc816",
   "metadata": {},
   "outputs": [
    {
     "data": {
      "text/html": [
       "<div>\n",
       "<style scoped>\n",
       "    .dataframe tbody tr th:only-of-type {\n",
       "        vertical-align: middle;\n",
       "    }\n",
       "\n",
       "    .dataframe tbody tr th {\n",
       "        vertical-align: top;\n",
       "    }\n",
       "\n",
       "    .dataframe thead th {\n",
       "        text-align: right;\n",
       "    }\n",
       "</style>\n",
       "<table border=\"1\" class=\"dataframe\">\n",
       "  <thead>\n",
       "    <tr style=\"text-align: right;\">\n",
       "      <th></th>\n",
       "      <th>h3</th>\n",
       "      <th>pred_chains</th>\n",
       "    </tr>\n",
       "  </thead>\n",
       "  <tbody>\n",
       "    <tr>\n",
       "      <th>0</th>\n",
       "      <td>89118108b43ffff</td>\n",
       "      <td>{72544, 38978, 57987, 806, 19998, 25352, 43081...</td>\n",
       "    </tr>\n",
       "    <tr>\n",
       "      <th>1</th>\n",
       "      <td>89118134503ffff</td>\n",
       "      <td>{30244, 30245, 30246, 1929, 34987, 28720, 3787...</td>\n",
       "    </tr>\n",
       "    <tr>\n",
       "      <th>2</th>\n",
       "      <td>89118134513ffff</td>\n",
       "      <td>{30244, 30245, 30246, 1929, 29259, 34987, 1502...</td>\n",
       "    </tr>\n",
       "    <tr>\n",
       "      <th>3</th>\n",
       "      <td>89118134517ffff</td>\n",
       "      <td>{30244, 30245, 30246, 1929, 29259, 34987, 1502...</td>\n",
       "    </tr>\n",
       "    <tr>\n",
       "      <th>4</th>\n",
       "      <td>8911813456bffff</td>\n",
       "      <td>{30244, 30245, 30246, 1929, 34987, 28720, 3787...</td>\n",
       "    </tr>\n",
       "  </tbody>\n",
       "</table>\n",
       "</div>"
      ],
      "text/plain": [
       "                h3                                        pred_chains\n",
       "0  89118108b43ffff  {72544, 38978, 57987, 806, 19998, 25352, 43081...\n",
       "1  89118134503ffff  {30244, 30245, 30246, 1929, 34987, 28720, 3787...\n",
       "2  89118134513ffff  {30244, 30245, 30246, 1929, 29259, 34987, 1502...\n",
       "3  89118134517ffff  {30244, 30245, 30246, 1929, 29259, 34987, 1502...\n",
       "4  8911813456bffff  {30244, 30245, 30246, 1929, 34987, 28720, 3787..."
      ]
     },
     "execution_count": 109,
     "metadata": {},
     "output_type": "execute_result"
    }
   ],
   "source": [
    "p_val_df[['h3', 'pred_chains']].head()"
   ]
  },
  {
   "cell_type": "code",
   "execution_count": 113,
   "id": "aac13c9a",
   "metadata": {},
   "outputs": [
    {
     "name": "stdout",
     "output_type": "stream",
     "text": [
      "CPU times: user 41.5 s, sys: 175 ms, total: 41.6 s\n",
      "Wall time: 42 s\n"
     ]
    },
    {
     "data": {
      "text/plain": [
       "0"
      ]
     },
     "execution_count": 113,
     "metadata": {},
     "output_type": "execute_result"
    }
   ],
   "source": [
    "%%time\n",
    "p_val_df.apply(lambda x: sum([t for t in x.pred_chains if t not in h3index.h3_to_chains[x.h3]]), axis=1).sum()"
   ]
  }
 ],
 "metadata": {
  "kernelspec": {
   "display_name": "Python 3",
   "language": "python",
   "name": "python3"
  },
  "language_info": {
   "codemirror_mode": {
    "name": "ipython",
    "version": 3
   },
   "file_extension": ".py",
   "mimetype": "text/x-python",
   "name": "python",
   "nbconvert_exporter": "python",
   "pygments_lexer": "ipython3",
   "version": "3.8.12"
  }
 },
 "nbformat": 4,
 "nbformat_minor": 5
}
