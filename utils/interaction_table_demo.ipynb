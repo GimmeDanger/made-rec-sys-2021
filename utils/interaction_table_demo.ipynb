{
 "cells": [
  {
   "cell_type": "code",
   "execution_count": 1,
   "id": "1da45424",
   "metadata": {},
   "outputs": [],
   "source": [
    "import pandas as pd\n",
    "import numpy as np\n",
    "from scipy.sparse import csr_matrix\n",
    "from pandas.api.types import CategoricalDtype"
   ]
  },
  {
   "cell_type": "code",
   "execution_count": 6,
   "id": "8250645d",
   "metadata": {},
   "outputs": [],
   "source": [
    "# TODO: replace with filtered datasets\n",
    "\n",
    "def get_clicks():\n",
    "    path = '../data/clicks/click.pkl'\n",
    "    return pd.read_pickle(path).head(1000)\n",
    "\n",
    "def get_orders():\n",
    "    path = '../data/orders/orders.pkl'\n",
    "    return pd.read_pickle(path).head(1000)"
   ]
  },
  {
   "cell_type": "code",
   "execution_count": 7,
   "id": "6feda5e7",
   "metadata": {},
   "outputs": [],
   "source": [
    "def clicks_weigher(clicks_df, max_clicks_per_session = 100):\n",
    "    \"\"\"\n",
    "    (chain, user) -> interaction weight\n",
    "    \"\"\"\n",
    "    print('Clicks weighter: use user clicks per chain as weight')\n",
    "    clicks_df = clicks_df[['user_id', 'session_id', 'chain_id']]\n",
    "    \n",
    "    # erase sessions with fraud click count\n",
    "    clicks_df['cnt'] = 1\n",
    "    by_session = clicks_df[['session_id', 'cnt']].groupby(['session_id']).sum()\n",
    "    assert len(by_session) == len(by_session.index.unique())\n",
    "    by_session = by_session.drop(by_session[by_session.cnt > max_clicks_per_session].index)\n",
    "    clicks_df = clicks_df.join(by_session, on='session_id', how='inner', lsuffix='_caller', rsuffix='_other')\n",
    "    clicks_df = clicks_df[['user_id', 'chain_id']]\n",
    "    \n",
    "    # create table (user_id, chain_id) -> weight\n",
    "    clicks_df['weight'] = 1\n",
    "    clicks_df = clicks_df.groupby(['user_id', 'chain_id']).sum()\n",
    "    return clicks_df.reset_index()[['user_id', 'chain_id', 'weight']]\n",
    "\n",
    "\n",
    "def orders_weigher(orders_df, max_orders_per_chain = 50):\n",
    "    \"\"\"\n",
    "    (chain, user) -> interaction weight\n",
    "    \"\"\"\n",
    "    print('Orders weighter: use successful user orders per chain as weight')\n",
    "    # TODO: consider other statuses in weight function!\n",
    "    \n",
    "    SUCCESS_STATUS = 11\n",
    "    orders_df = orders_df[['user_id', 'status_id', 'chain_id']]\n",
    "    orders_df = orders_df.drop(orders_df[orders_df.status_id != SUCCESS_STATUS].index)\n",
    "\n",
    "    orders_df['weight'] = 1\n",
    "    orders_df = orders_df.groupby(['user_id', 'chain_id']).sum()\n",
    "    orders_df = orders_df.reset_index()[['user_id', 'chain_id', 'weight']]\n",
    "    orders_df = orders_df.drop(orders_df[orders_df.weight > max_orders_per_chain].index)\n",
    "    orders_df = orders_df.drop(orders_df[orders_df.user_id < 0].index)\n",
    "    return orders_df\n",
    "\n",
    "\n",
    "class InteractionTable:\n",
    "    \n",
    "    def __init__(self, clicks_getter, orders_getter, clicks_weigher, orders_weigher):\n",
    "        clicks_df = self.load(clicks_getter, clicks_weigher, 'Clicks')\n",
    "        orders_df = self.load(orders_getter, orders_weigher, 'Orders')\n",
    "        self.interaction_df = pd.concat([clicks_df, orders_df], ignore_index=True)\n",
    "        self.sparse_interaction_matrix = self.get_sparse_interaction_matrix(self.interaction_df)\n",
    "    \n",
    "    def load(self, getter, weigher, label):\n",
    "        df = getter()\n",
    "        if 'user_id' not in df.columns:\n",
    "            df['user_id'] = df['customer_id'].astype('int64')\n",
    "        print(f'{label} df loaded: size={len(df)},',\n",
    "              f' uniq_users={len(df.user_id.unique())},',\n",
    "              f' uniq_chains={len(df.chain_id.unique())}')\n",
    "        df = weigher(df)\n",
    "        print(f'{label} df weighted: size={len(df)},',\n",
    "              f'uniq_users={len(df.user_id.unique())},',\n",
    "              f'uniq_chains={len(df.chain_id.unique())}')\n",
    "        return df\n",
    "        \n",
    "    def get_sparse_interaction_matrix(self, df):\n",
    "        \"\"\"\n",
    "        https://stackoverflow.com/questions/31661604/efficiently-create-sparse-pivot-tables-in-pandas\n",
    "        user-chain pivot sparse matrix\n",
    "        \"\"\"\n",
    "        chain_c = CategoricalDtype(sorted(df.chain_id.unique()), ordered=True)\n",
    "        user_c = CategoricalDtype(sorted(df.user_id.unique()), ordered=True)\n",
    "        \n",
    "        row = df.chain_id.astype(chain_c).cat.codes\n",
    "        col = df.user_id.astype(user_c).cat.codes\n",
    "        assert row.min() >= 0 and col.min() >= 0\n",
    "        \n",
    "        sparse_matrix = csr_matrix((df.weight, (row, col)), \\\n",
    "                                   shape=(chain_c.categories.size, user_c.categories.size))\n",
    "        return sparse_matrix"
   ]
  },
  {
   "cell_type": "code",
   "execution_count": 9,
   "id": "5795ae55",
   "metadata": {},
   "outputs": [
    {
     "name": "stdout",
     "output_type": "stream",
     "text": [
      "Clicks df loaded: size=1000,  uniq_users=572,  uniq_chains=564\n",
      "Clicks weighter: use user clicks per chain as weight\n",
      "Clicks df weighted: size=844, uniq_users=572, uniq_chains=564\n",
      "Orders df loaded: size=1000,  uniq_users=1000,  uniq_chains=573\n",
      "Orders weighter: use successful user orders per chain as weight\n",
      "Orders df weighted: size=997, uniq_users=997, uniq_chains=572\n"
     ]
    }
   ],
   "source": [
    "interactions = InteractionTable(get_clicks,\n",
    "                                get_orders,\n",
    "                                clicks_weigher,\n",
    "                                orders_weigher)"
   ]
  },
  {
   "cell_type": "code",
   "execution_count": 10,
   "id": "a84f8d8a",
   "metadata": {},
   "outputs": [
    {
     "data": {
      "text/plain": [
       "<1043x1567 sparse matrix of type '<class 'numpy.int64'>'\n",
       "\twith 1840 stored elements in Compressed Sparse Row format>"
      ]
     },
     "execution_count": 10,
     "metadata": {},
     "output_type": "execute_result"
    }
   ],
   "source": [
    "interactions.sparse_interaction_matrix"
   ]
  }
 ],
 "metadata": {
  "kernelspec": {
   "display_name": "Python 3",
   "language": "python",
   "name": "python3"
  },
  "language_info": {
   "codemirror_mode": {
    "name": "ipython",
    "version": 3
   },
   "file_extension": ".py",
   "mimetype": "text/x-python",
   "name": "python",
   "nbconvert_exporter": "python",
   "pygments_lexer": "ipython3",
   "version": "3.8.12"
  }
 },
 "nbformat": 4,
 "nbformat_minor": 5
}
