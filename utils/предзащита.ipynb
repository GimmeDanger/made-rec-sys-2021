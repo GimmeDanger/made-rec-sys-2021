{
 "cells": [
  {
   "cell_type": "markdown",
   "id": "1df56dce",
   "metadata": {},
   "source": [
    "# LightFM"
   ]
  },
  {
   "cell_type": "code",
   "execution_count": 1,
   "id": "06918a0e",
   "metadata": {},
   "outputs": [],
   "source": [
    "from lightfm import LightFM\n",
    "import implicit"
   ]
  },
  {
   "cell_type": "code",
   "execution_count": 2,
   "id": "0f65b175",
   "metadata": {},
   "outputs": [],
   "source": [
    "import pandas as pd\n",
    "import numpy as np\n",
    "from tqdm import tqdm\n",
    "from interaction_table import InteractionTable\n",
    "from h3_index import H3Index"
   ]
  },
  {
   "cell_type": "code",
   "execution_count": 3,
   "id": "94647b54",
   "metadata": {},
   "outputs": [],
   "source": [
    "from process_data import preprocess_orders_and_clicks, additional_filtration_orders_and_clicks\n",
    "from user_features import generate_user_features"
   ]
  },
  {
   "cell_type": "raw",
   "id": "3910e0aa",
   "metadata": {},
   "source": [
    "def get_clicks():\n",
    "    path = '../data/click.parquet'\n",
    "    return pd.read_parquet(path)\n",
    "\n",
    "def get_orders():\n",
    "    path = '../data/orders.parquet'\n",
    "    df = pd.read_parquet(path)\n",
    "    path = '../data/clicks.parquet'\n",
    "    clicks = pd.read_parquet(path)\n",
    "    df, _ = additional_filtration_orders_and_clicks(df, clicks, 0)\n",
    "    df = df.rename(columns={\"customer_id\": \"user_id\"})\n",
    "    return df"
   ]
  },
  {
   "cell_type": "raw",
   "id": "b0b84c36",
   "metadata": {},
   "source": [
    "path = '../data/orders.parquet'\n",
    "orders = pd.read_parquet(path)\n",
    "path = '../data/clicks.parquet'\n",
    "clicks = pd.read_parquet(path)\n",
    "\n",
    "user_features = generate_user_features(orders, clicks)\n",
    "\n",
    "orders, clicks = additional_filtration_orders_and_clicks(orders, clicks, 0)\n",
    "orders = orders.rename(columns={\"customer_id\": \"user_id\"})"
   ]
  },
  {
   "cell_type": "raw",
   "id": "462a1de0",
   "metadata": {},
   "source": [
    "user_features.to_parquet(\"../data/user_features.parquet\")\n",
    "orders.to_parquet(\"../data/orders_filtered.parquet\")\n",
    "clicks.to_parquet(\"../data/clicks_filtered.parquet\")"
   ]
  },
  {
   "cell_type": "code",
   "execution_count": 4,
   "id": "ee8f17c2",
   "metadata": {},
   "outputs": [],
   "source": [
    "orders = pd.read_parquet(\"../data/orders_filtered.parquet\")\n",
    "user_features = pd.read_parquet(\"../data/user_features.parquet\")"
   ]
  },
  {
   "cell_type": "code",
   "execution_count": 5,
   "id": "98a9f1b8",
   "metadata": {},
   "outputs": [
    {
     "name": "stdout",
     "output_type": "stream",
     "text": [
      "Orders weighter: use user avg orders per chain as weight\n",
      "            user_id      chain_id        weight\n",
      "count  3.106486e+06  3.106486e+06  3.106486e+06\n",
      "mean   3.666636e+07  3.212015e+04  1.755490e+00\n",
      "std    2.148159e+07  1.517362e+04  8.203714e+01\n",
      "min    0.000000e+00  9.000000e+00  1.000000e+00\n",
      "25%    1.143635e+07  2.714700e+04  1.000000e+00\n",
      "50%    3.991074e+07  3.007500e+04  1.000000e+00\n",
      "75%    5.175972e+07  4.451900e+04  2.000000e+00\n",
      "max    7.213893e+07  7.332400e+04  1.444470e+05\n",
      "Orders df weighted: size=3106486, uniq_users=1394062, uniq_chains=7792\n",
      "Interaction df len for test:  222705\n"
     ]
    }
   ],
   "source": [
    "interactions = InteractionTable(orders, None, alpha=0, test_slice=100000)"
   ]
  },
  {
   "cell_type": "code",
   "execution_count": 6,
   "id": "df7f5b5c",
   "metadata": {},
   "outputs": [],
   "source": [
    "import scipy"
   ]
  },
  {
   "cell_type": "code",
   "execution_count": 7,
   "id": "833957b1",
   "metadata": {},
   "outputs": [],
   "source": [
    "# возьмем все фичи и сравним со средним\n",
    "user_features_sparse = scipy.sparse.csr_matrix(\n",
    "    (\n",
    "        user_features.loc[interactions.user_to_index.keys()] \n",
    "        - user_features.loc[interactions.user_to_index.keys()].mean()\n",
    "        > 0\n",
    "    ).astype(int)\n",
    ")"
   ]
  },
  {
   "cell_type": "raw",
   "id": "bf50c320",
   "metadata": {},
   "source": [
    "user_features_sparse = scipy.sparse.csr_matrix(\n",
    "    user_features.loc[interactions.user_to_index.keys()][[\n",
    "        \"13_percent\",\n",
    "        \"18_percent\",\n",
    "        \"citymobil_percent\",\n",
    "        \"takeaway_percent\",\n",
    "        \"discount_percent_mean\",\n",
    "        \"star_rating_mean\"\n",
    "    ]].fillna(0).astype(bool).astype(int).values\n",
    ")"
   ]
  },
  {
   "cell_type": "code",
   "execution_count": 8,
   "id": "638a4c0e",
   "metadata": {},
   "outputs": [
    {
     "data": {
      "text/plain": [
       "<100000x24 sparse matrix of type '<class 'numpy.int64'>'\n",
       "\twith 659292 stored elements in Compressed Sparse Row format>"
      ]
     },
     "execution_count": 8,
     "metadata": {},
     "output_type": "execute_result"
    }
   ],
   "source": [
    "user_features_sparse"
   ]
  },
  {
   "cell_type": "code",
   "execution_count": 9,
   "id": "babb9b6f",
   "metadata": {},
   "outputs": [],
   "source": [
    "#!pip install fastparquet\n",
    "h3index = H3Index('../data/raw/h3_to_chains.pkl')"
   ]
  },
  {
   "cell_type": "code",
   "execution_count": 10,
   "id": "e2fab7bc",
   "metadata": {},
   "outputs": [
    {
     "name": "stdout",
     "output_type": "stream",
     "text": [
      "Initial validation dataset size: 2300001\n",
      "Filter h3 indices that not in h3_to_chain dict 2293762\n",
      "Filter users 31104\n",
      "Filter chains 22398\n"
     ]
    },
    {
     "data": {
      "text/html": [
       "<div>\n",
       "<style scoped>\n",
       "    .dataframe tbody tr th:only-of-type {\n",
       "        vertical-align: middle;\n",
       "    }\n",
       "\n",
       "    .dataframe tbody tr th {\n",
       "        vertical-align: top;\n",
       "    }\n",
       "\n",
       "    .dataframe thead th {\n",
       "        text-align: right;\n",
       "    }\n",
       "</style>\n",
       "<table border=\"1\" class=\"dataframe\">\n",
       "  <thead>\n",
       "    <tr style=\"text-align: right;\">\n",
       "      <th></th>\n",
       "      <th>user_id</th>\n",
       "      <th>h3</th>\n",
       "      <th>chain_id</th>\n",
       "    </tr>\n",
       "  </thead>\n",
       "  <tbody>\n",
       "    <tr>\n",
       "      <th>0</th>\n",
       "      <td>538</td>\n",
       "      <td>8911aa79667ffff</td>\n",
       "      <td>{39232}</td>\n",
       "    </tr>\n",
       "    <tr>\n",
       "      <th>1</th>\n",
       "      <td>600</td>\n",
       "      <td>8911aa44d53ffff</td>\n",
       "      <td>{2046}</td>\n",
       "    </tr>\n",
       "    <tr>\n",
       "      <th>2</th>\n",
       "      <td>1342</td>\n",
       "      <td>8911aa09b4bffff</td>\n",
       "      <td>{28720}</td>\n",
       "    </tr>\n",
       "    <tr>\n",
       "      <th>3</th>\n",
       "      <td>2058</td>\n",
       "      <td>8911aa7983bffff</td>\n",
       "      <td>{197}</td>\n",
       "    </tr>\n",
       "    <tr>\n",
       "      <th>4</th>\n",
       "      <td>3852</td>\n",
       "      <td>8911aa73473ffff</td>\n",
       "      <td>{51927, 7647}</td>\n",
       "    </tr>\n",
       "  </tbody>\n",
       "</table>\n",
       "</div>"
      ],
      "text/plain": [
       "   user_id               h3       chain_id\n",
       "0      538  8911aa79667ffff        {39232}\n",
       "1      600  8911aa44d53ffff         {2046}\n",
       "2     1342  8911aa09b4bffff        {28720}\n",
       "3     2058  8911aa7983bffff          {197}\n",
       "4     3852  8911aa73473ffff  {51927, 7647}"
      ]
     },
     "execution_count": 10,
     "metadata": {},
     "output_type": "execute_result"
    }
   ],
   "source": [
    "val_df = pd.read_pickle('../data/raw/test_VALID.pkl')\n",
    "val_df = val_df[['customer_id', 'h3', 'chain_id']]\n",
    "val_df = val_df.rename(columns={\"customer_id\": \"user_id\"})\n",
    "val_df.user_id = val_df.user_id.astype(int)\n",
    "print(\"Initial validation dataset size:\", len(val_df))\n",
    "val_df = val_df[val_df[\"h3\"].isin(h3index.valid)]\n",
    "print(\"Filter h3 indices that not in h3_to_chain dict\", len(val_df))\n",
    "val_df = val_df[val_df[\"user_id\"].isin(interactions.user_to_index)]\n",
    "print(\"Filter users\", len(val_df))\n",
    "val_df = val_df[val_df[\"chain_id\"].isin(interactions.chain_to_index)]\n",
    "print(\"Filter chains\", len(val_df))\n",
    "val_df = pd.pivot_table(val_df,\n",
    "                        values=['chain_id'],\n",
    "                        index=['user_id', 'h3'],\n",
    "                        aggfunc={'chain_id': set})\n",
    "val_df = val_df.reset_index()\n",
    "val_df.head()"
   ]
  },
  {
   "cell_type": "code",
   "execution_count": 11,
   "id": "cdbfc727",
   "metadata": {},
   "outputs": [],
   "source": [
    "from typing import List\n",
    "from collections import defaultdict\n",
    "\n",
    "class TopRecommender:\n",
    "    def __init__(self, status_id: List[int] = [11, 18]):\n",
    "        self.status_id = status_id\n",
    "        \n",
    "    def fit(self, orders: pd.DataFrame):\n",
    "        self.chains_to_cnt = (\n",
    "            orders[orders.status_id.isin(self.status_id)]\n",
    "            .groupby(\"chain_id\", sort=False)[\"order_id\"]\n",
    "            .size()\n",
    "            .to_dict()\n",
    "        )\n",
    "        self.chains_to_cnt = defaultdict(int, self.chains_to_cnt)\n",
    "        \n",
    "        return self\n",
    "\n",
    "    def predict(self, chain_ids: List[int]):\n",
    "        \n",
    "        return [self.chains_to_cnt[chain_id] for chain_id in chain_ids]\n",
    "    \n",
    "top_model = TopRecommender()\n",
    "top_model = top_model.fit(orders)"
   ]
  },
  {
   "cell_type": "code",
   "execution_count": 12,
   "id": "d71e34d4",
   "metadata": {},
   "outputs": [
    {
     "data": {
      "text/plain": [
       "<lightfm.lightfm.LightFM at 0x7f0ba7b8d8b0>"
      ]
     },
     "execution_count": 12,
     "metadata": {},
     "output_type": "execute_result"
    }
   ],
   "source": [
    "light_model = LightFM(loss='warp', user_alpha=0.1)\n",
    "light_model.fit(\n",
    "    interactions.sparse_interaction_matrix.T, \n",
    "    user_features=user_features_sparse, \n",
    "    epochs=60, num_threads=2\n",
    ")"
   ]
  },
  {
   "cell_type": "code",
   "execution_count": 14,
   "id": "1ab6e207",
   "metadata": {},
   "outputs": [
    {
     "data": {
      "application/vnd.jupyter.widget-view+json": {
       "model_id": "c4425ce27b3643728a4794d3baa1cfb7",
       "version_major": 2,
       "version_minor": 0
      },
      "text/plain": [
       "  0%|          | 0/15 [00:00<?, ?it/s]"
      ]
     },
     "metadata": {},
     "output_type": "display_data"
    }
   ],
   "source": [
    "als_model = implicit.als.AlternatingLeastSquares(factors=30, use_gpu=False, random_state=42)\n",
    "als_model.fit(interactions.sparse_interaction_matrix)"
   ]
  },
  {
   "cell_type": "code",
   "execution_count": 15,
   "id": "13e8b397",
   "metadata": {},
   "outputs": [],
   "source": [
    "def predict_light(model, user_id, h3, top_k=10):\n",
    "    user_index = interactions.user_to_index[user_id]\n",
    "    valid_chains = h3index.h3_to_chains[h3]\n",
    "    valid_chain_index = [v for k, v in interactions.chain_to_index.items() if k in valid_chains]\n",
    "    pred = model.predict(user_index, valid_chain_index, user_features=user_features_sparse)\n",
    "    top_chain_index = [x for _, x in sorted(zip(pred, valid_chain_index), reverse=True)][:top_k]\n",
    "    top = [interactions.index_to_chain[k] for k in top_chain_index]\n",
    "    return top\n",
    "\n",
    "def predict_als(model, user_id, h3, thr=0.7, top_k=5, filter_already_liked_items=True):\n",
    "    user_index = interactions.user_to_index[user_id]\n",
    "    valid_chains = h3index.h3_to_chains[h3]\n",
    "    filter_items = [v for k, v in interactions.chain_to_index.items() if k not in valid_chains]\n",
    "    top = model.recommend(user_index,\n",
    "                          interactions.sparse_interaction_matrix.T,\n",
    "                          N=top_k,\n",
    "                          filter_already_liked_items=filter_already_liked_items,\n",
    "                          filter_items=filter_items)\n",
    "    top = [interactions.r_chain_index[x] for x, score in top if score > thr]\n",
    "    return top\n",
    "\n",
    "def predict_top(model, user_id, h3, top_k=10):\n",
    "    valid_chains = h3index.h3_to_chains[h3]\n",
    "    pred = pred = model.predict(valid_chains)\n",
    "    top = [x for _, x in sorted(zip(pred, valid_chains), reverse=True)][:top_k]\n",
    "    return top\n",
    "\n",
    "def old_items(user_id):\n",
    "    return set(interactions.interaction_df[interactions.interaction_df['user_id'] == user_id]['chain_id'].unique())"
   ]
  },
  {
   "cell_type": "code",
   "execution_count": 16,
   "id": "831e4c63",
   "metadata": {},
   "outputs": [],
   "source": [
    "chains = pd.read_pickle(\"../data/raw/chains.pkl\")\n",
    "chains = chains[chains.chain_id.notna()]\n",
    "chains[\"chain_id\"] = chains[\"chain_id\"].astype(int)\n",
    "chain_id_to_name = chains.set_index(\"chain_id\")[\"chain_name\"].to_dict()"
   ]
  },
  {
   "cell_type": "code",
   "execution_count": 28,
   "id": "6e201192",
   "metadata": {},
   "outputs": [],
   "source": [
    "res = pd.DataFrame(columns=[\"user_id\", \"h3\", \"model\", \"old_items\", \"prediction\"])"
   ]
  },
  {
   "cell_type": "code",
   "execution_count": 29,
   "id": "9eb3372b",
   "metadata": {},
   "outputs": [],
   "source": [
    "for user_id in val_df.user_id.sample(100, random_state=42).unique()[:30]:\n",
    "    for h3 in val_df.h3.sample(100, random_state=4).unique()[:10]:\n",
    "        if len(old_items(user_id)) > 4:\n",
    "            old_items_list = [chain_id_to_name[i] for i in old_items(user_id)]\n",
    "            als_pred = [\n",
    "                chain_id_to_name[i] \n",
    "                for i in \n",
    "                predict_als(als_model, user_id, h3, thr=0, top_k=30, filter_already_liked_items=False)\n",
    "            ]\n",
    "            light_pred = [\n",
    "                chain_id_to_name[i] \n",
    "                for i in \n",
    "                predict_light(light_model, user_id, h3, top_k=30)\n",
    "            ]\n",
    "            top_pred = [\n",
    "                chain_id_to_name[i]\n",
    "                for i in\n",
    "                predict_top(top_model, user_id, h3, top_k=30)\n",
    "            ]\n",
    "            if len(als_pred) + len(light_pred) + len(top_pred) < 90:\n",
    "                continue\n",
    "            res.loc[-1] = [user_id, h3, \"als\", old_items_list, als_pred]  # adding a row\n",
    "            res.index = res.index + 1  # shifting index\n",
    "            res = res.sort_index()  # sorting by index\n",
    "            \n",
    "            res.loc[-1] = [user_id, h3, \"lightfm\", old_items_list, light_pred]  # adding a row\n",
    "            res.index = res.index + 1  # shifting index\n",
    "            res = res.sort_index()  # sorting by index\n",
    "            \n",
    "            res.loc[-1] = [user_id, h3, \"top_rec\", old_items_list, top_pred]  # adding a row\n",
    "            res.index = res.index + 1  # shifting index\n",
    "            res = res.sort_index()  # sorting by index"
   ]
  },
  {
   "cell_type": "code",
   "execution_count": 31,
   "id": "69b1b314",
   "metadata": {},
   "outputs": [
    {
     "data": {
      "text/plain": [
       "10"
      ]
     },
     "execution_count": 31,
     "metadata": {},
     "output_type": "execute_result"
    }
   ],
   "source": [
    "res.user_id.nunique()"
   ]
  },
  {
   "cell_type": "code",
   "execution_count": 30,
   "id": "2da9ec8c",
   "metadata": {
    "scrolled": false
   },
   "outputs": [
    {
     "data": {
      "text/plain": [
       "(300, 5)"
      ]
     },
     "execution_count": 30,
     "metadata": {},
     "output_type": "execute_result"
    }
   ],
   "source": [
    "res.shape"
   ]
  },
  {
   "cell_type": "code",
   "execution_count": 33,
   "id": "f23f5fc3",
   "metadata": {},
   "outputs": [],
   "source": [
    "res.to_parquet(\"results_30.parquet\")"
   ]
  },
  {
   "cell_type": "code",
   "execution_count": 83,
   "id": "65076ffa",
   "metadata": {},
   "outputs": [],
   "source": [
    "res = pd.read_parquet(\"results.parquet\")"
   ]
  },
  {
   "cell_type": "code",
   "execution_count": 23,
   "id": "b9157abb",
   "metadata": {},
   "outputs": [],
   "source": [
    "pd.set_option('display.max_columns', None)\n",
    "pd.set_option('display.max_rows', 40)"
   ]
  },
  {
   "cell_type": "code",
   "execution_count": 32,
   "id": "b73a3fec",
   "metadata": {},
   "outputs": [
    {
     "data": {
      "text/html": [
       "<div>\n",
       "<style scoped>\n",
       "    .dataframe tbody tr th:only-of-type {\n",
       "        vertical-align: middle;\n",
       "    }\n",
       "\n",
       "    .dataframe tbody tr th {\n",
       "        vertical-align: top;\n",
       "    }\n",
       "\n",
       "    .dataframe thead th {\n",
       "        text-align: right;\n",
       "    }\n",
       "</style>\n",
       "<table border=\"1\" class=\"dataframe\">\n",
       "  <thead>\n",
       "    <tr style=\"text-align: right;\">\n",
       "      <th></th>\n",
       "      <th>user_id</th>\n",
       "      <th>h3</th>\n",
       "      <th>model</th>\n",
       "      <th>old_items</th>\n",
       "      <th>prediction</th>\n",
       "    </tr>\n",
       "  </thead>\n",
       "  <tbody>\n",
       "    <tr>\n",
       "      <th>0</th>\n",
       "      <td>1723425</td>\n",
       "      <td>8911aa6ac47ffff</td>\n",
       "      <td>top_rec</td>\n",
       "      <td>[PIZZASUSHIWOK, Крошка Картошка, Subway, Терем...</td>\n",
       "      <td>[Макдоналдс, KFC, Burger King, Кухня на районе...</td>\n",
       "    </tr>\n",
       "    <tr>\n",
       "      <th>1</th>\n",
       "      <td>1723425</td>\n",
       "      <td>8911aa6ac47ffff</td>\n",
       "      <td>lightfm</td>\n",
       "      <td>[PIZZASUSHIWOK, Крошка Картошка, Subway, Терем...</td>\n",
       "      <td>[Макдоналдс, KFC, Burger King, Domino’s Pizza,...</td>\n",
       "    </tr>\n",
       "    <tr>\n",
       "      <th>2</th>\n",
       "      <td>1723425</td>\n",
       "      <td>8911aa6ac47ffff</td>\n",
       "      <td>als</td>\n",
       "      <td>[PIZZASUSHIWOK, Крошка Картошка, Subway, Терем...</td>\n",
       "      <td>[PIZZASUSHIWOK, Subway, KFC, Макдоналдс, Терем...</td>\n",
       "    </tr>\n",
       "    <tr>\n",
       "      <th>3</th>\n",
       "      <td>1723425</td>\n",
       "      <td>8911aa7ab0fffff</td>\n",
       "      <td>top_rec</td>\n",
       "      <td>[PIZZASUSHIWOK, Крошка Картошка, Subway, Терем...</td>\n",
       "      <td>[Макдоналдс, KFC, Burger King, Кухня на районе...</td>\n",
       "    </tr>\n",
       "    <tr>\n",
       "      <th>4</th>\n",
       "      <td>1723425</td>\n",
       "      <td>8911aa7ab0fffff</td>\n",
       "      <td>lightfm</td>\n",
       "      <td>[PIZZASUSHIWOK, Крошка Картошка, Subway, Терем...</td>\n",
       "      <td>[Макдоналдс, KFC, Burger King, Кухня на районе...</td>\n",
       "    </tr>\n",
       "  </tbody>\n",
       "</table>\n",
       "</div>"
      ],
      "text/plain": [
       "   user_id               h3    model  \\\n",
       "0  1723425  8911aa6ac47ffff  top_rec   \n",
       "1  1723425  8911aa6ac47ffff  lightfm   \n",
       "2  1723425  8911aa6ac47ffff      als   \n",
       "3  1723425  8911aa7ab0fffff  top_rec   \n",
       "4  1723425  8911aa7ab0fffff  lightfm   \n",
       "\n",
       "                                           old_items  \\\n",
       "0  [PIZZASUSHIWOK, Крошка Картошка, Subway, Терем...   \n",
       "1  [PIZZASUSHIWOK, Крошка Картошка, Subway, Терем...   \n",
       "2  [PIZZASUSHIWOK, Крошка Картошка, Subway, Терем...   \n",
       "3  [PIZZASUSHIWOK, Крошка Картошка, Subway, Терем...   \n",
       "4  [PIZZASUSHIWOK, Крошка Картошка, Subway, Терем...   \n",
       "\n",
       "                                          prediction  \n",
       "0  [Макдоналдс, KFC, Burger King, Кухня на районе...  \n",
       "1  [Макдоналдс, KFC, Burger King, Domino’s Pizza,...  \n",
       "2  [PIZZASUSHIWOK, Subway, KFC, Макдоналдс, Терем...  \n",
       "3  [Макдоналдс, KFC, Burger King, Кухня на районе...  \n",
       "4  [Макдоналдс, KFC, Burger King, Кухня на районе...  "
      ]
     },
     "execution_count": 32,
     "metadata": {},
     "output_type": "execute_result"
    }
   ],
   "source": [
    "res.head()"
   ]
  }
 ],
 "metadata": {
  "kernelspec": {
   "display_name": "Python 3 (ipykernel)",
   "language": "python",
   "name": "python3"
  },
  "language_info": {
   "codemirror_mode": {
    "name": "ipython",
    "version": 3
   },
   "file_extension": ".py",
   "mimetype": "text/x-python",
   "name": "python",
   "nbconvert_exporter": "python",
   "pygments_lexer": "ipython3",
   "version": "3.9.7"
  }
 },
 "nbformat": 4,
 "nbformat_minor": 5
}
