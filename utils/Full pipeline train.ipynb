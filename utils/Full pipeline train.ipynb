{
 "cells": [
  {
   "cell_type": "markdown",
   "id": "1df56dce",
   "metadata": {},
   "source": [
    "# Обучение\n",
    "\n",
    "# Light FM для Москвы, Питера и остальных\n",
    "\n",
    "# Top Recommender для холодного старта"
   ]
  },
  {
   "cell_type": "code",
   "execution_count": 1,
   "id": "06918a0e",
   "metadata": {},
   "outputs": [],
   "source": [
    "from lightfm import LightFM\n",
    "from top_recommender import TopRecommender"
   ]
  },
  {
   "cell_type": "code",
   "execution_count": 2,
   "id": "0f65b175",
   "metadata": {},
   "outputs": [],
   "source": [
    "import pandas as pd\n",
    "import numpy as np\n",
    "import scipy\n",
    "from tqdm import tqdm\n",
    "from interaction_table import InteractionTable\n",
    "from h3_index import H3Index"
   ]
  },
  {
   "cell_type": "code",
   "execution_count": 3,
   "id": "94647b54",
   "metadata": {},
   "outputs": [],
   "source": [
    "from process_data import preprocess_orders_and_clicks, additional_filtration_orders_and_clicks\n",
    "from user_features import generate_user_features"
   ]
  },
  {
   "cell_type": "raw",
   "id": "3910e0aa",
   "metadata": {},
   "source": [
    "def get_clicks():\n",
    "    path = '../data/click.parquet'\n",
    "    return pd.read_parquet(path)\n",
    "\n",
    "def get_orders():\n",
    "    path = '../data/orders.parquet'\n",
    "    df = pd.read_parquet(path)\n",
    "    path = '../data/clicks.parquet'\n",
    "    clicks = pd.read_parquet(path)\n",
    "    df, _ = additional_filtration_orders_and_clicks(df, clicks, 0)\n",
    "    df = df.rename(columns={\"customer_id\": \"user_id\"})\n",
    "    return df"
   ]
  },
  {
   "cell_type": "code",
   "execution_count": 4,
   "id": "ac125856",
   "metadata": {},
   "outputs": [],
   "source": [
    "path = '../data/orders.parquet'\n",
    "orders = pd.read_parquet(path)\n",
    "path = '../data/clicks.parquet'\n",
    "clicks = pd.read_parquet(path)\n",
    "\n",
    "# user_features = generate_user_features(orders, clicks)\n",
    "\n",
    "# orders, clicks = additional_filtration_orders_and_clicks(orders, clicks, 0, regs_to_filter=[1])\n",
    "# orders = orders.rename(columns={\"customer_id\": \"user_id\"})"
   ]
  },
  {
   "cell_type": "raw",
   "id": "462a1de0",
   "metadata": {},
   "source": [
    "user_features.to_parquet(\"../data/user_features.parquet\")\n",
    "orders.to_parquet(\"../data/orders_filtered.parquet\")\n",
    "clicks.to_parquet(\"../data/clicks_filtered.parquet\")"
   ]
  },
  {
   "cell_type": "code",
   "execution_count": 5,
   "id": "ee8f17c2",
   "metadata": {},
   "outputs": [],
   "source": [
    "# orders = pd.read_parquet(\"../data/orders_filtered.parquet\")\n",
    "user_features = pd.read_parquet(\"../data/user_features.parquet\")"
   ]
  },
  {
   "cell_type": "markdown",
   "id": "17f9f175",
   "metadata": {},
   "source": [
    "## Обучим модель для Москвы"
   ]
  },
  {
   "cell_type": "code",
   "execution_count": 6,
   "id": "a96cbf2f",
   "metadata": {},
   "outputs": [
    {
     "name": "stdout",
     "output_type": "stream",
     "text": [
      "Orders weighter: use user avg orders per chain as weight\n",
      "            user_id      chain_id        weight\n",
      "count  3.106486e+06  3.106486e+06  3.106486e+06\n",
      "mean   3.666636e+07  3.212015e+04  1.755490e+00\n",
      "std    2.148159e+07  1.517362e+04  8.203714e+01\n",
      "min    0.000000e+00  9.000000e+00  1.000000e+00\n",
      "25%    1.143635e+07  2.714700e+04  1.000000e+00\n",
      "50%    3.991074e+07  3.007500e+04  1.000000e+00\n",
      "75%    5.175972e+07  4.451900e+04  2.000000e+00\n",
      "max    7.213893e+07  7.332400e+04  1.444470e+05\n",
      "Orders df weighted: size=3106486, uniq_users=1394062, uniq_chains=7792\n"
     ]
    }
   ],
   "source": [
    "path = '../data/orders.parquet'\n",
    "orders = pd.read_parquet(path)\n",
    "path = '../data/clicks.parquet'\n",
    "clicks = pd.read_parquet(path)\n",
    "\n",
    "orders, clicks = additional_filtration_orders_and_clicks(orders, clicks, 0, regs_to_filter=[1])\n",
    "orders = orders.rename(columns={\"customer_id\": \"user_id\"})\n",
    "\n",
    "interactions_moscow = InteractionTable(orders, None, alpha=0, test_slice=None)\n",
    "\n",
    "# возьмем все фичи и сравним со средним\n",
    "user_features_sparse_moscow = scipy.sparse.csr_matrix(\n",
    "    (\n",
    "        user_features.loc[interactions_moscow.user_to_index.keys()] \n",
    "        - user_features.loc[interactions_moscow.user_to_index.keys()].mean()\n",
    "        > 0\n",
    "    ).astype(int)\n",
    ")\n",
    "\n",
    "model_moscow = LightFM(no_components=10, loss='warp', user_alpha=0.1, random_state=42)\n",
    "model_moscow.fit(\n",
    "    interactions_moscow.sparse_interaction_matrix.T, \n",
    "    user_features=user_features_sparse_moscow,\n",
    "    epochs=600,\n",
    "    num_threads=4\n",
    ")\n",
    "\n",
    "top_rec_moscow = TopRecommender()\n",
    "top_rec_moscow = top_rec_moscow.fit(orders)\n",
    "\n",
    "del orders\n",
    "del clicks\n",
    "# del interactions\n",
    "# del user_features_sparse"
   ]
  },
  {
   "cell_type": "markdown",
   "id": "e94cca6e",
   "metadata": {},
   "source": [
    "## Обучим модель для Питера"
   ]
  },
  {
   "cell_type": "code",
   "execution_count": 7,
   "id": "ac13f9f6",
   "metadata": {},
   "outputs": [
    {
     "name": "stdout",
     "output_type": "stream",
     "text": [
      "Orders weighter: use user avg orders per chain as weight\n",
      "            user_id       chain_id         weight\n",
      "count  9.556730e+05  955673.000000  955673.000000\n",
      "mean   3.854621e+07   28260.356502       1.631581\n",
      "std    2.157295e+07   14201.733151      43.371718\n",
      "min    0.000000e+00     499.000000       1.000000\n",
      "25%    2.789286e+07   20432.000000       1.000000\n",
      "50%    4.260935e+07   29276.000000       1.000000\n",
      "75%    5.382427e+07   33164.000000       2.000000\n",
      "max    7.213901e+07   73274.000000   42375.000000\n",
      "Orders df weighted: size=955673, uniq_users=479535, uniq_chains=2043\n"
     ]
    }
   ],
   "source": [
    "path = '../data/orders.parquet'\n",
    "orders = pd.read_parquet(path)\n",
    "path = '../data/clicks.parquet'\n",
    "clicks = pd.read_parquet(path)\n",
    "\n",
    "orders, clicks = additional_filtration_orders_and_clicks(orders, clicks, 0, regs_to_filter=[2])\n",
    "orders = orders.rename(columns={\"customer_id\": \"user_id\"})\n",
    "\n",
    "interactions_piter = InteractionTable(orders, None, alpha=0, test_slice=None)\n",
    "\n",
    "# возьмем все фичи и сравним со средним\n",
    "user_features_sparse_piter = scipy.sparse.csr_matrix(\n",
    "    (\n",
    "        user_features.loc[interactions_piter.user_to_index.keys()] \n",
    "        - user_features.loc[interactions_piter.user_to_index.keys()].mean()\n",
    "        > 0\n",
    "    ).astype(int)\n",
    ")\n",
    "\n",
    "model_piter = LightFM(no_components=10, loss='warp', user_alpha=0.1, random_state=42)\n",
    "model_piter.fit(\n",
    "    interactions_piter.sparse_interaction_matrix.T, \n",
    "    user_features=user_features_sparse_piter, \n",
    "    epochs=600,\n",
    "    num_threads=4\n",
    ")\n",
    "\n",
    "top_rec_piter = TopRecommender()\n",
    "top_rec_piter = top_rec_piter.fit(orders)\n",
    "\n",
    "del orders\n",
    "del clicks\n",
    "# del interactions\n",
    "# del user_features_sparse"
   ]
  },
  {
   "cell_type": "markdown",
   "id": "d60a9e8b",
   "metadata": {},
   "source": [
    "## Остальные города"
   ]
  },
  {
   "cell_type": "code",
   "execution_count": 8,
   "id": "b4f7af09",
   "metadata": {},
   "outputs": [],
   "source": [
    "cities_other = list(range(3, 223))"
   ]
  },
  {
   "cell_type": "code",
   "execution_count": 9,
   "id": "3a441ade",
   "metadata": {},
   "outputs": [
    {
     "name": "stdout",
     "output_type": "stream",
     "text": [
      "Orders weighter: use user avg orders per chain as weight\n",
      "            user_id      chain_id        weight\n",
      "count  3.386497e+06  3.386497e+06  3.386497e+06\n",
      "mean   4.351366e+07  3.670508e+04  1.508013e+00\n",
      "std    2.047605e+07  1.567719e+04  9.663449e+00\n",
      "min    0.000000e+00  1.150000e+03  1.000000e+00\n",
      "25%    3.183724e+07  2.942800e+04  1.000000e+00\n",
      "50%    4.825052e+07  3.349400e+04  1.000000e+00\n",
      "75%    5.854460e+07  4.613400e+04  1.000000e+00\n",
      "max    7.213902e+07  7.329100e+04  7.953000e+03\n",
      "Orders df weighted: size=3386497, uniq_users=1725297, uniq_chains=13508\n"
     ]
    }
   ],
   "source": [
    "path = '../data/orders.parquet'\n",
    "orders = pd.read_parquet(path)\n",
    "path = '../data/clicks.parquet'\n",
    "clicks = pd.read_parquet(path)\n",
    "\n",
    "orders, clicks = additional_filtration_orders_and_clicks(orders, clicks, 0, regs_to_filter=cities_other)\n",
    "orders = orders.rename(columns={\"customer_id\": \"user_id\"})\n",
    "\n",
    "interactions_other = InteractionTable(orders, None, alpha=0, test_slice=None)\n",
    "\n",
    "# возьмем все фичи и сравним со средним\n",
    "user_features_sparse_other = scipy.sparse.csr_matrix(\n",
    "    (\n",
    "        user_features.loc[interactions_other.user_to_index.keys()] \n",
    "        - user_features.loc[interactions_other.user_to_index.keys()].mean()\n",
    "        > 0\n",
    "    ).astype(int)\n",
    ")\n",
    "\n",
    "model_other = LightFM(no_components=10, loss='warp', user_alpha=0.1, random_state=42)\n",
    "model_other.fit(\n",
    "    interactions_other.sparse_interaction_matrix.T, \n",
    "    user_features=user_features_sparse_other, \n",
    "    epochs=600,\n",
    "    num_threads=4\n",
    ")\n",
    "\n",
    "top_rec_other = TopRecommender()\n",
    "top_rec_other = top_rec_other.fit(orders)\n",
    "\n",
    "del orders\n",
    "del clicks\n",
    "# del interactions\n",
    "# del user_features_sparse"
   ]
  },
  {
   "cell_type": "code",
   "execution_count": 10,
   "id": "08a52efd",
   "metadata": {},
   "outputs": [],
   "source": [
    "import pickle\n",
    "# now you can save it to a file\n",
    "with open('lightfm_moscow.pkl', 'wb') as f:\n",
    "    pickle.dump(model_moscow, f)\n",
    "with open('interactions_moscow.pkl', 'wb') as f:\n",
    "    pickle.dump(interactions_moscow, f)\n",
    "with open('user_features_sparse_moscow.pkl', 'wb') as f:\n",
    "    pickle.dump(user_features_sparse_moscow, f)\n",
    "\n",
    "# now you can save it to a file\n",
    "with open('lightfm_piter.pkl', 'wb') as f:\n",
    "    pickle.dump(model_piter, f)\n",
    "with open('interactions_piter.pkl', 'wb') as f:\n",
    "    pickle.dump(interactions_piter, f)\n",
    "with open('user_features_sparse_piter.pkl', 'wb') as f:\n",
    "    pickle.dump(user_features_sparse_piter, f)\n",
    "\n",
    "# now you can save it to a file\n",
    "with open('lightfm_other.pkl', 'wb') as f:\n",
    "    pickle.dump(model_other, f)\n",
    "with open('interactions_other.pkl', 'wb') as f:\n",
    "    pickle.dump(interactions_other, f)\n",
    "with open('user_features_sparse_other.pkl', 'wb') as f:\n",
    "    pickle.dump(user_features_sparse_other, f)\n",
    "\n",
    "    \n",
    "with open('top_rec_moscow.pkl', 'wb') as f:\n",
    "    pickle.dump(top_rec_moscow, f)\n",
    "with open('top_rec_piter.pkl', 'wb') as f:\n",
    "    pickle.dump(top_rec_piter, f)\n",
    "with open('top_rec_other.pkl', 'wb') as f:\n",
    "    pickle.dump(top_rec_other, f)"
   ]
  },
  {
   "cell_type": "markdown",
   "id": "b3365a5b",
   "metadata": {},
   "source": [
    "## Top Rec"
   ]
  },
  {
   "cell_type": "code",
   "execution_count": 11,
   "id": "08534ed7",
   "metadata": {},
   "outputs": [],
   "source": [
    "from top_recommender import TopRecommender"
   ]
  },
  {
   "cell_type": "code",
   "execution_count": 12,
   "id": "ffe984f3",
   "metadata": {},
   "outputs": [],
   "source": [
    "path = '../data/orders.parquet'\n",
    "orders = pd.read_parquet(path)\n",
    "path = '../data/clicks.parquet'\n",
    "clicks = pd.read_parquet(path)\n",
    "\n",
    "orders, clicks = additional_filtration_orders_and_clicks(orders, clicks, 0, regs_to_filter=list(range(223)))\n",
    "orders = orders.rename(columns={\"customer_id\": \"user_id\"})\n",
    "\n",
    "top_rec = TopRecommender()\n",
    "top_rec = top_rec.fit(orders)"
   ]
  },
  {
   "cell_type": "code",
   "execution_count": 13,
   "id": "42d3f3bb",
   "metadata": {},
   "outputs": [],
   "source": [
    "del clicks\n",
    "del orders"
   ]
  },
  {
   "cell_type": "code",
   "execution_count": 14,
   "id": "8db880a8",
   "metadata": {},
   "outputs": [],
   "source": [
    "with open('top_rec.pkl', 'wb') as f:\n",
    "    pickle.dump(top_rec, f)"
   ]
  },
  {
   "cell_type": "code",
   "execution_count": null,
   "id": "be913689",
   "metadata": {},
   "outputs": [],
   "source": []
  },
  {
   "cell_type": "code",
   "execution_count": null,
   "id": "e3ce1bb3",
   "metadata": {},
   "outputs": [],
   "source": []
  }
 ],
 "metadata": {
  "kernelspec": {
   "display_name": "Python 3 (ipykernel)",
   "language": "python",
   "name": "python3"
  },
  "language_info": {
   "codemirror_mode": {
    "name": "ipython",
    "version": 3
   },
   "file_extension": ".py",
   "mimetype": "text/x-python",
   "name": "python",
   "nbconvert_exporter": "python",
   "pygments_lexer": "ipython3",
   "version": "3.9.7"
  }
 },
 "nbformat": 4,
 "nbformat_minor": 5
}
