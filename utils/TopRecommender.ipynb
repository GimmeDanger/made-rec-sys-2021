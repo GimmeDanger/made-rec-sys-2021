{
 "cells": [
  {
   "cell_type": "markdown",
   "id": "1df56dce",
   "metadata": {},
   "source": [
    "# Top Recommender"
   ]
  },
  {
   "cell_type": "code",
   "execution_count": 1,
   "id": "06918a0e",
   "metadata": {},
   "outputs": [],
   "source": [
    "from lightfm import LightFM"
   ]
  },
  {
   "cell_type": "code",
   "execution_count": 2,
   "id": "0f65b175",
   "metadata": {},
   "outputs": [],
   "source": [
    "import pandas as pd\n",
    "import numpy as np\n",
    "from tqdm import tqdm\n",
    "from interaction_table import orders_weigher, InteractionTable\n",
    "from h3_index import H3Index"
   ]
  },
  {
   "cell_type": "code",
   "execution_count": 3,
   "id": "94647b54",
   "metadata": {},
   "outputs": [],
   "source": [
    "from process_data import preprocess_orders_and_clicks, additional_filtration_orders_and_clicks\n",
    "from user_features import generate_user_features"
   ]
  },
  {
   "cell_type": "code",
   "execution_count": 19,
   "id": "e5d48b2d",
   "metadata": {},
   "outputs": [],
   "source": [
    "from typing import List\n",
    "from collections import defaultdict"
   ]
  },
  {
   "cell_type": "code",
   "execution_count": 21,
   "id": "ee4df210",
   "metadata": {},
   "outputs": [],
   "source": [
    "class TopRecommender:\n",
    "    def __init__(self, status_id: List[int] = [11, 18]):\n",
    "        self.status_id = status_id\n",
    "        \n",
    "    def fit(self, orders: pd.DataFrame):\n",
    "        self.chains_to_cnt = (\n",
    "            orders[orders.status_id.isin(self.status_id)]\n",
    "            .groupby(\"chain_id\", sort=False)[\"order_id\"]\n",
    "            .size()\n",
    "            .to_dict()\n",
    "        )\n",
    "        self.chains_to_cnt = defaultdict(int, self.chains_to_cnt)\n",
    "        \n",
    "        return self\n",
    "\n",
    "    def predict(self, chain_ids: List[int]):\n",
    "        \n",
    "        return [self.chains_to_cnt[chain_id] for chain_id in chain_ids]"
   ]
  },
  {
   "cell_type": "raw",
   "id": "3910e0aa",
   "metadata": {},
   "source": [
    "def get_clicks():\n",
    "    path = '../data/click.parquet'\n",
    "    return pd.read_parquet(path)\n",
    "\n",
    "def get_orders():\n",
    "    path = '../data/orders.parquet'\n",
    "    df = pd.read_parquet(path)\n",
    "    path = '../data/clicks.parquet'\n",
    "    clicks = pd.read_parquet(path)\n",
    "    df, _ = additional_filtration_orders_and_clicks(df, clicks, 0)\n",
    "    df = df.rename(columns={\"customer_id\": \"user_id\"})\n",
    "    return df"
   ]
  },
  {
   "cell_type": "raw",
   "id": "b0b84c36",
   "metadata": {},
   "source": [
    "path = '../data/orders.parquet'\n",
    "orders = pd.read_parquet(path)\n",
    "path = '../data/clicks.parquet'\n",
    "clicks = pd.read_parquet(path)\n",
    "\n",
    "user_features = generate_user_features(orders, clicks)\n",
    "\n",
    "orders, clicks = additional_filtration_orders_and_clicks(orders, clicks, 0)\n",
    "orders = orders.rename(columns={\"customer_id\": \"user_id\"})"
   ]
  },
  {
   "cell_type": "raw",
   "id": "462a1de0",
   "metadata": {},
   "source": [
    "user_features.to_parquet(\"../data/user_features.parquet\")\n",
    "orders.to_parquet(\"../data/orders_filtered.parquet\")\n",
    "clicks.to_parquet(\"../data/clicks_filtered.parquet\")"
   ]
  },
  {
   "cell_type": "code",
   "execution_count": 7,
   "id": "ee8f17c2",
   "metadata": {},
   "outputs": [],
   "source": [
    "orders = pd.read_parquet(\"../data/orders_filtered.parquet\")\n",
    "user_features = pd.read_parquet(\"../data/user_features.parquet\")"
   ]
  },
  {
   "cell_type": "code",
   "execution_count": 8,
   "id": "98a9f1b8",
   "metadata": {},
   "outputs": [
    {
     "name": "stdout",
     "output_type": "stream",
     "text": [
      "Orders weighter: use user avg orders per chain as weight\n",
      "            user_id      chain_id        weight\n",
      "count  3.106486e+06  3.106486e+06  3.106486e+06\n",
      "mean   3.666636e+07  3.212015e+04  1.755490e+00\n",
      "std    2.148159e+07  1.517362e+04  8.203714e+01\n",
      "min    0.000000e+00  9.000000e+00  1.000000e+00\n",
      "25%    1.143635e+07  2.714700e+04  1.000000e+00\n",
      "50%    3.991074e+07  3.007500e+04  1.000000e+00\n",
      "75%    5.175972e+07  4.451900e+04  2.000000e+00\n",
      "max    7.213893e+07  7.332400e+04  1.444470e+05\n",
      "Orders df weighted: size=3106486, uniq_users=1394062, uniq_chains=7792\n",
      "Interaction df len for test:  222705\n"
     ]
    }
   ],
   "source": [
    "interactions = InteractionTable(orders, None, alpha=0, test_slice=100000)"
   ]
  },
  {
   "cell_type": "code",
   "execution_count": 9,
   "id": "babb9b6f",
   "metadata": {},
   "outputs": [],
   "source": [
    "#!pip install fastparquet\n",
    "h3index = H3Index('../data/raw/h3_to_chains.pkl')"
   ]
  },
  {
   "cell_type": "code",
   "execution_count": 10,
   "id": "e2fab7bc",
   "metadata": {},
   "outputs": [
    {
     "name": "stdout",
     "output_type": "stream",
     "text": [
      "Initial validation dataset size: 2300001\n",
      "Filter h3 indices that not in h3_to_chain dict 2293762\n",
      "Filter users 31104\n",
      "Filter chains 22398\n"
     ]
    },
    {
     "data": {
      "text/html": [
       "<div>\n",
       "<style scoped>\n",
       "    .dataframe tbody tr th:only-of-type {\n",
       "        vertical-align: middle;\n",
       "    }\n",
       "\n",
       "    .dataframe tbody tr th {\n",
       "        vertical-align: top;\n",
       "    }\n",
       "\n",
       "    .dataframe thead th {\n",
       "        text-align: right;\n",
       "    }\n",
       "</style>\n",
       "<table border=\"1\" class=\"dataframe\">\n",
       "  <thead>\n",
       "    <tr style=\"text-align: right;\">\n",
       "      <th></th>\n",
       "      <th>user_id</th>\n",
       "      <th>h3</th>\n",
       "      <th>chain_id</th>\n",
       "    </tr>\n",
       "  </thead>\n",
       "  <tbody>\n",
       "    <tr>\n",
       "      <th>0</th>\n",
       "      <td>538</td>\n",
       "      <td>8911aa79667ffff</td>\n",
       "      <td>{39232}</td>\n",
       "    </tr>\n",
       "    <tr>\n",
       "      <th>1</th>\n",
       "      <td>600</td>\n",
       "      <td>8911aa44d53ffff</td>\n",
       "      <td>{2046}</td>\n",
       "    </tr>\n",
       "    <tr>\n",
       "      <th>2</th>\n",
       "      <td>1342</td>\n",
       "      <td>8911aa09b4bffff</td>\n",
       "      <td>{28720}</td>\n",
       "    </tr>\n",
       "    <tr>\n",
       "      <th>3</th>\n",
       "      <td>2058</td>\n",
       "      <td>8911aa7983bffff</td>\n",
       "      <td>{197}</td>\n",
       "    </tr>\n",
       "    <tr>\n",
       "      <th>4</th>\n",
       "      <td>3852</td>\n",
       "      <td>8911aa73473ffff</td>\n",
       "      <td>{51927, 7647}</td>\n",
       "    </tr>\n",
       "  </tbody>\n",
       "</table>\n",
       "</div>"
      ],
      "text/plain": [
       "   user_id               h3       chain_id\n",
       "0      538  8911aa79667ffff        {39232}\n",
       "1      600  8911aa44d53ffff         {2046}\n",
       "2     1342  8911aa09b4bffff        {28720}\n",
       "3     2058  8911aa7983bffff          {197}\n",
       "4     3852  8911aa73473ffff  {51927, 7647}"
      ]
     },
     "execution_count": 10,
     "metadata": {},
     "output_type": "execute_result"
    }
   ],
   "source": [
    "val_df = pd.read_pickle('../data/raw/test_VALID.pkl')\n",
    "val_df = val_df[['customer_id', 'h3', 'chain_id']]\n",
    "val_df = val_df.rename(columns={\"customer_id\": \"user_id\"})\n",
    "val_df.user_id = val_df.user_id.astype(int)\n",
    "print(\"Initial validation dataset size:\", len(val_df))\n",
    "val_df = val_df[val_df[\"h3\"].isin(h3index.valid)]\n",
    "print(\"Filter h3 indices that not in h3_to_chain dict\", len(val_df))\n",
    "val_df = val_df[val_df[\"user_id\"].isin(interactions.user_to_index)]\n",
    "print(\"Filter users\", len(val_df))\n",
    "val_df = val_df[val_df[\"chain_id\"].isin(interactions.chain_to_index)]\n",
    "print(\"Filter chains\", len(val_df))\n",
    "val_df = pd.pivot_table(val_df,\n",
    "                        values=['chain_id'],\n",
    "                        index=['user_id', 'h3'],\n",
    "                        aggfunc={'chain_id': set})\n",
    "val_df = val_df.reset_index()\n",
    "val_df.head()"
   ]
  },
  {
   "cell_type": "code",
   "execution_count": 22,
   "id": "f5d5ff14",
   "metadata": {},
   "outputs": [],
   "source": [
    "model = TopRecommender()"
   ]
  },
  {
   "cell_type": "code",
   "execution_count": 23,
   "id": "bc8738e8",
   "metadata": {},
   "outputs": [],
   "source": [
    "model = model.fit(orders)"
   ]
  },
  {
   "cell_type": "raw",
   "id": "620c89cf",
   "metadata": {},
   "source": [
    "from lightfm.evaluation import precision_at_k\n",
    "\n",
    "precision = precision_at_k(model, interactions.sparse_interaction_matrix.T, k=30)\n",
    "precision.mean()"
   ]
  },
  {
   "cell_type": "code",
   "execution_count": null,
   "id": "c4462b53",
   "metadata": {},
   "outputs": [],
   "source": []
  },
  {
   "cell_type": "markdown",
   "id": "e919ab0a",
   "metadata": {},
   "source": [
    "### Если h3 пользователя неизвестен, то можно брать следующий в иерархии h3 (более крупный)"
   ]
  },
  {
   "cell_type": "code",
   "execution_count": 31,
   "id": "852fe603",
   "metadata": {},
   "outputs": [],
   "source": [
    "def predict(model, user_id, h3, top_k=10):\n",
    "    valid_chains = h3index.h3_to_chains[h3]\n",
    "    pred = pred = model.predict(valid_chains)\n",
    "    top = [x for _, x in sorted(zip(pred, valid_chains), reverse=True)][:top_k]\n",
    "    return top\n",
    "\n",
    "def old_items(user_id):\n",
    "    return set(interactions.interaction_df[interactions.interaction_df['user_id'] == user_id]['chain_id'].unique())"
   ]
  },
  {
   "cell_type": "code",
   "execution_count": 32,
   "id": "e278e3e3",
   "metadata": {},
   "outputs": [],
   "source": [
    "def metric(y_true, y_pred, y_old, at1=10, at2=30, average=True):\n",
    "    \"\"\"\n",
    "    new_prec@10 + new_prec@30 + 1/2 *(prec_@10 + prec@30)\n",
    "    \"\"\"\n",
    "    scores_new = []\n",
    "    scores_all = []\n",
    "    scores_total = []\n",
    "    for t, p, o in zip(y_true, y_pred, y_old):\n",
    "        t = list(t)\n",
    "        p = list(p)\n",
    "        o = o if isinstance(o, (set, list)) else []\n",
    "        \n",
    "        prec1 = len(set(t[:at1]) & set(p[:at1])) / at1\n",
    "        prec2 = len(set(t[:at2]) & set(p[:at2])) / at2\n",
    "        new_prec1 = len((set(p[:at1]) - set(o)) & set(t[:at1])) / at1\n",
    "        new_prec2 = len((set(p[:at2]) - set(o)) & set(t[:at2])) / at2\n",
    "\n",
    "        scores_total.append(new_prec1 + new_prec2 + 0.5 * (prec1 + prec2))\n",
    "        scores_new.append(new_prec1 + new_prec2)\n",
    "        scores_all.append(prec1 + prec2)\n",
    "\n",
    "    return (np.mean(scores_total) if average else scores_total,\n",
    "            np.mean(scores_new) if average else scores_new,\n",
    "            np.mean(scores_all) if average else scores_all)"
   ]
  },
  {
   "cell_type": "code",
   "execution_count": 33,
   "id": "7b0dfc35",
   "metadata": {},
   "outputs": [],
   "source": [
    "# !pip install implicit\n",
    "import implicit\n",
    "\n",
    "def hyper_params(val_df, epochs=60, top_k=30):\n",
    "    #print('factors: ', factors, ', thr: ', thr, ', top_k: ', top_k, ', filter_liked: ', filter_liked)\n",
    "    model = TopRecommender()\n",
    "    model = model.fit(orders)\n",
    "    val = val_df\n",
    "    val['pred_chains'] = val.apply(lambda x: predict(model, x.user_id, x.h3, top_k), axis=1)\n",
    "    val['old_chains'] = val.apply(lambda x: old_items(x.user_id), axis=1)\n",
    "    scores = metric(val['chain_id'], val['pred_chains'], val['old_chains'])\n",
    "    print('total, new, all = ', scores)\n",
    "    print()"
   ]
  },
  {
   "cell_type": "code",
   "execution_count": 34,
   "id": "de01f9e0",
   "metadata": {
    "scrolled": true
   },
   "outputs": [
    {
     "name": "stdout",
     "output_type": "stream",
     "text": [
      "total, new, all =  (0.08241382738139615, 0.03278908521583539, 0.09924948433112153)\n",
      "\n"
     ]
    }
   ],
   "source": [
    "hyper_params(val_df)"
   ]
  },
  {
   "cell_type": "markdown",
   "id": "aa76271e",
   "metadata": {},
   "source": [
    "LightFM без фичей\n",
    "epochs=60, top_k=30\n",
    "\n",
    "total, new, all =  (0.08583693873624455, 0.03078052077852865, 0.11011283591543182)\n",
    "\n",
    "LightFM c несколькими фичами\n",
    "\n",
    "total, new, all =  (0.0822435945227267, 0.032637490991326824, 0.09921220706279976)\n",
    "\n",
    "LightFM с сравнениями со средними  \n",
    "user_alpha=0.1\n",
    "\n",
    "total, new, all =  (0.08338800666020525, 0.03301026367454459, 0.10075548597132136)\n",
    "\n",
    "TopRecommender\n",
    "\n",
    "total, new, all =  (0.08241382738139615, 0.03278908521583539, 0.09924948433112153)"
   ]
  },
  {
   "cell_type": "code",
   "execution_count": null,
   "id": "22156cf4",
   "metadata": {
    "scrolled": true
   },
   "outputs": [],
   "source": [
    "for factors in [30, 40, 50, 60, 70]:\n",
    "    for thr in [0.7, 0.75, 0.8, 0.85, 0.9]:\n",
    "        for top_k in [5, 10, 20, 30]:\n",
    "            for filter_liked in [True, False]:\n",
    "                hyper_params(val_df, factors, thr, top_k, filter_liked) "
   ]
  }
 ],
 "metadata": {
  "kernelspec": {
   "display_name": "Python 3 (ipykernel)",
   "language": "python",
   "name": "python3"
  },
  "language_info": {
   "codemirror_mode": {
    "name": "ipython",
    "version": 3
   },
   "file_extension": ".py",
   "mimetype": "text/x-python",
   "name": "python",
   "nbconvert_exporter": "python",
   "pygments_lexer": "ipython3",
   "version": "3.9.7"
  }
 },
 "nbformat": 4,
 "nbformat_minor": 5
}
