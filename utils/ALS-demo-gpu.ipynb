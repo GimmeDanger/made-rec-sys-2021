{
 "cells": [
  {
   "cell_type": "markdown",
   "id": "1df56dce",
   "metadata": {},
   "source": [
    "# Alternating Least Square (ALS)"
   ]
  },
  {
   "cell_type": "code",
   "execution_count": 1,
   "id": "0f65b175",
   "metadata": {},
   "outputs": [],
   "source": [
    "import pandas as pd\n",
    "import numpy as np\n",
    "from tqdm import tqdm\n",
    "from interaction_table import orders_weigher, InteractionTable\n",
    "from h3_index import H3Index"
   ]
  },
  {
   "cell_type": "code",
   "execution_count": 2,
   "id": "94647b54",
   "metadata": {},
   "outputs": [],
   "source": [
    "from process_data import preprocess_orders_and_clicks, additional_filtration_orders_and_clicks"
   ]
  },
  {
   "cell_type": "code",
   "execution_count": 3,
   "id": "9450cf1d",
   "metadata": {},
   "outputs": [],
   "source": [
    "def get_clicks():\n",
    "    path = '../data/click.parquet'\n",
    "    return pd.read_parquet(path)\n",
    "\n",
    "def get_orders():\n",
    "    path = '../data/orders.parquet'\n",
    "    df = pd.read_parquet(path)\n",
    "    path = '../data/clicks.parquet'\n",
    "    clicks = pd.read_parquet(path)\n",
    "    df, _ = additional_filtration_orders_and_clicks(df, clicks, 0)\n",
    "    df = df.rename(columns={\"customer_id\": \"user_id\"})\n",
    "    return df"
   ]
  },
  {
   "cell_type": "code",
   "execution_count": 4,
   "id": "ce473e05",
   "metadata": {},
   "outputs": [],
   "source": [
    "def orders_weigher_without_normalization(orders_df):\n",
    "    return orders_weigher(orders_df, False)\n",
    "\n",
    "def orders_weigher_with_normalization(orders_df):\n",
    "    return orders_weigher(orders_df, True)"
   ]
  },
  {
   "cell_type": "code",
   "execution_count": 5,
   "id": "98a9f1b8",
   "metadata": {},
   "outputs": [
    {
     "name": "stdout",
     "output_type": "stream",
     "text": [
      "Orders df loaded: size=5453404,  uniq_users=1394062,  uniq_chains=7792\n",
      "Orders weighter: use user avg orders per chain as weight\n",
      "            user_id      chain_id        weight\n",
      "count  3.106486e+06  3.106486e+06  3.106486e+06\n",
      "mean   3.666636e+07  3.212015e+04  1.755490e+00\n",
      "std    2.148159e+07  1.517362e+04  8.203714e+01\n",
      "min    0.000000e+00  9.000000e+00  1.000000e+00\n",
      "25%    1.143635e+07  2.714700e+04  1.000000e+00\n",
      "50%    3.991074e+07  3.007500e+04  1.000000e+00\n",
      "75%    5.175972e+07  4.451900e+04  2.000000e+00\n",
      "max    7.213893e+07  7.332400e+04  1.444470e+05\n",
      "Orders df weighted: size=3106486, uniq_users=1394062, uniq_chains=7792\n"
     ]
    }
   ],
   "source": [
    "interactions = InteractionTable(None, get_orders,\n",
    "                                None, orders_weigher_without_normalization,\n",
    "                                alpha=0, test_slice=None)"
   ]
  },
  {
   "cell_type": "code",
   "execution_count": 6,
   "id": "babb9b6f",
   "metadata": {},
   "outputs": [],
   "source": [
    "#!pip install fastparquet\n",
    "h3index = H3Index('../data/raw/h3_to_chains.pkl')"
   ]
  },
  {
   "cell_type": "code",
   "execution_count": 7,
   "id": "e2fab7bc",
   "metadata": {},
   "outputs": [
    {
     "name": "stdout",
     "output_type": "stream",
     "text": [
      "Initial validation dataset size: 2300001\n",
      "Filter h3 indices that not in h3_to_chain dict 2293762\n",
      "Filter users 483567\n",
      "Filter chains 341552\n"
     ]
    },
    {
     "data": {
      "text/html": [
       "<div>\n",
       "<style scoped>\n",
       "    .dataframe tbody tr th:only-of-type {\n",
       "        vertical-align: middle;\n",
       "    }\n",
       "\n",
       "    .dataframe tbody tr th {\n",
       "        vertical-align: top;\n",
       "    }\n",
       "\n",
       "    .dataframe thead th {\n",
       "        text-align: right;\n",
       "    }\n",
       "</style>\n",
       "<table border=\"1\" class=\"dataframe\">\n",
       "  <thead>\n",
       "    <tr style=\"text-align: right;\">\n",
       "      <th></th>\n",
       "      <th>user_id</th>\n",
       "      <th>h3</th>\n",
       "      <th>chain_id</th>\n",
       "    </tr>\n",
       "  </thead>\n",
       "  <tbody>\n",
       "    <tr>\n",
       "      <th>0</th>\n",
       "      <td>0</td>\n",
       "      <td>89118108b43ffff</td>\n",
       "      <td>{28720}</td>\n",
       "    </tr>\n",
       "    <tr>\n",
       "      <th>1</th>\n",
       "      <td>0</td>\n",
       "      <td>89118134503ffff</td>\n",
       "      <td>{28720}</td>\n",
       "    </tr>\n",
       "    <tr>\n",
       "      <th>2</th>\n",
       "      <td>0</td>\n",
       "      <td>89118134513ffff</td>\n",
       "      <td>{28720}</td>\n",
       "    </tr>\n",
       "    <tr>\n",
       "      <th>3</th>\n",
       "      <td>0</td>\n",
       "      <td>89118134517ffff</td>\n",
       "      <td>{28720}</td>\n",
       "    </tr>\n",
       "    <tr>\n",
       "      <th>4</th>\n",
       "      <td>0</td>\n",
       "      <td>8911813456bffff</td>\n",
       "      <td>{28720}</td>\n",
       "    </tr>\n",
       "  </tbody>\n",
       "</table>\n",
       "</div>"
      ],
      "text/plain": [
       "   user_id               h3 chain_id\n",
       "0        0  89118108b43ffff  {28720}\n",
       "1        0  89118134503ffff  {28720}\n",
       "2        0  89118134513ffff  {28720}\n",
       "3        0  89118134517ffff  {28720}\n",
       "4        0  8911813456bffff  {28720}"
      ]
     },
     "execution_count": 7,
     "metadata": {},
     "output_type": "execute_result"
    }
   ],
   "source": [
    "val_df = pd.read_pickle('../data/raw/test_VALID.pkl')\n",
    "val_df = val_df[['customer_id', 'h3', 'chain_id']]\n",
    "val_df = val_df.rename(columns={\"customer_id\": \"user_id\"})\n",
    "val_df.user_id = val_df.user_id.astype(int)\n",
    "print(\"Initial validation dataset size:\", len(val_df))\n",
    "val_df = val_df[val_df[\"h3\"].isin(h3index.valid)]\n",
    "print(\"Filter h3 indices that not in h3_to_chain dict\", len(val_df))\n",
    "val_df = val_df[val_df[\"user_id\"].isin(interactions.user_index)]\n",
    "print(\"Filter users\", len(val_df))\n",
    "val_df = val_df[val_df[\"chain_id\"].isin(interactions.chain_index)]\n",
    "print(\"Filter chains\", len(val_df))\n",
    "val_df = pd.pivot_table(val_df,\n",
    "                        values=['chain_id'],\n",
    "                        index=['user_id', 'h3'],\n",
    "                        aggfunc={'chain_id': set})\n",
    "val_df = val_df.reset_index()\n",
    "val_df.head()"
   ]
  },
  {
   "cell_type": "markdown",
   "id": "e919ab0a",
   "metadata": {},
   "source": [
    "### Если h3 пользователя неизвестен, то можно брать следующий в иерархии h3 (более крупный)"
   ]
  },
  {
   "cell_type": "code",
   "execution_count": 8,
   "id": "852fe603",
   "metadata": {},
   "outputs": [],
   "source": [
    "def predict(model, user_id, h3, thr=0.9, top_k=10, filter_already_liked_items=True):\n",
    "    user_index = interactions.user_index[user_id]\n",
    "    valid_chains = h3index.h3_to_chains[h3]\n",
    "    filter_items = [v for k, v in interactions.chain_index.items() if k not in valid_chains]\n",
    "    top = model.recommend(user_index,\n",
    "                          interactions.sparse_interaction_matrix.T,\n",
    "                          N=top_k,\n",
    "                          filter_already_liked_items=filter_already_liked_items,\n",
    "                          filter_items=filter_items)\n",
    "    top = [interactions.r_chain_index[x] for x, score in top if score > thr]\n",
    "    return top\n",
    "\n",
    "def old_items(user_id):\n",
    "    return set(interactions.interaction_df[interactions.interaction_df['user_id'] == user_id]['chain_id'].unique())"
   ]
  },
  {
   "cell_type": "code",
   "execution_count": 9,
   "id": "e278e3e3",
   "metadata": {},
   "outputs": [],
   "source": [
    "def metric(y_true, y_pred, y_old, at1=10, at2=30, average=True):\n",
    "    \"\"\"\n",
    "    new_prec@10 + new_prec@30 + 1/2 *(prec_@10 + prec@30)\n",
    "    \"\"\"\n",
    "    scores_new = []\n",
    "    scores_all = []\n",
    "    scores_total = []\n",
    "    for t, p, o in zip(y_true, y_pred, y_old):\n",
    "        t = list(t)\n",
    "        p = list(p)\n",
    "        o = o if isinstance(o, (set, list)) else []\n",
    "        \n",
    "        prec1 = len(set(t[:at1]) & set(p[:at1])) / at1\n",
    "        prec2 = len(set(t[:at2]) & set(p[:at2])) / at2\n",
    "        new_prec1 = len((set(p[:at1]) - set(o)) & set(t[:at1])) / at1\n",
    "        new_prec2 = len((set(p[:at2]) - set(o)) & set(t[:at2])) / at2\n",
    "\n",
    "        scores_total.append(new_prec1 + new_prec2 + 0.5 * (prec1 + prec2))\n",
    "        scores_new.append(new_prec1 + new_prec2)\n",
    "        scores_all.append(prec1 + prec2)\n",
    "\n",
    "    return (np.mean(scores_total) if average else scores_total,\n",
    "            np.mean(scores_new) if average else scores_new,\n",
    "            np.mean(scores_all) if average else scores_all)"
   ]
  },
  {
   "cell_type": "code",
   "execution_count": 10,
   "id": "7b0dfc35",
   "metadata": {},
   "outputs": [],
   "source": [
    "# !pip install implicit\n",
    "import implicit\n",
    "\n",
    "def hyper_params(val_df, factors=60, thr=0.7, top_k=30, filter_liked=True):\n",
    "    print('factors: ', factors, ', thr: ', thr, ', top_k: ', top_k, ', filter_liked: ', filter_liked)\n",
    "    model = implicit.als.AlternatingLeastSquares(factors=factors, use_gpu=True, random_state=42)\n",
    "    model.fit(interactions.sparse_interaction_matrix)\n",
    "    val = val_df\n",
    "    val['pred_chains'] = val.apply(lambda x: predict(model, x.user_id, x.h3, thr, top_k, filter_liked), axis=1)\n",
    "    val['old_chains'] = val.apply(lambda x: old_items(x.user_id), axis=1)\n",
    "    scores = metric(val['chain_id'], val['pred_chains'], val['old_chains'])\n",
    "    print('total, new, all = ', scores)\n",
    "    print()"
   ]
  },
  {
   "cell_type": "code",
   "execution_count": 11,
   "id": "a720cfb2",
   "metadata": {},
   "outputs": [
    {
     "name": "stdout",
     "output_type": "stream",
     "text": [
      "factors:  20 , thr:  0.7 , top_k:  30 , filter_liked:  True\n"
     ]
    },
    {
     "data": {
      "application/vnd.jupyter.widget-view+json": {
       "model_id": "001d7759aeec44eda76b7f8c1369c697",
       "version_major": 2,
       "version_minor": 0
      },
      "text/plain": [
       "  0%|          | 0/15 [00:00<?, ?it/s]"
      ]
     },
     "metadata": {},
     "output_type": "display_data"
    },
    {
     "name": "stdout",
     "output_type": "stream",
     "text": [
      "total, new, all =  (0.03279980180925674, 1.1578153386695e-05, 0.06557644731174007)\n",
      "\n",
      "CPU times: user 27min 32s, sys: 405 ms, total: 27min 32s\n",
      "Wall time: 27min 32s\n"
     ]
    }
   ],
   "source": [
    "%%time\n",
    "hyper_params(val_df, factors=20, thr=0.7, top_k=30, filter_liked=True)"
   ]
  },
  {
   "cell_type": "markdown",
   "id": "aa76271e",
   "metadata": {},
   "source": [
    "factors:  60 , thr:  0.7 , top_k:  30 , filter_liked:  True\n",
    "\n",
    "total, new, all =  (0.02605082142811052, 0.00023745918670228555, 0.05162672448281647)"
   ]
  },
  {
   "cell_type": "code",
   "execution_count": 24,
   "id": "22156cf4",
   "metadata": {
    "scrolled": false
   },
   "outputs": [
    {
     "name": "stdout",
     "output_type": "stream",
     "text": [
      "factors:  30 , thr:  0.7 , top_k:  5 , filter_liked:  True\n"
     ]
    },
    {
     "data": {
      "application/vnd.jupyter.widget-view+json": {
       "model_id": "5dc4c30ffc0c4d1cbc2e7d3a7bfc9de0",
       "version_major": 2,
       "version_minor": 0
      },
      "text/plain": [
       "  0%|          | 0/15 [00:00<?, ?it/s]"
      ]
     },
     "metadata": {},
     "output_type": "display_data"
    },
    {
     "name": "stdout",
     "output_type": "stream",
     "text": [
      "total, new, all =  (0.03394716568503193, 1.9881209771614604e-05, 0.06785456895052062)\n",
      "\n",
      "factors:  30 , thr:  0.7 , top_k:  5 , filter_liked:  False\n"
     ]
    },
    {
     "data": {
      "application/vnd.jupyter.widget-view+json": {
       "model_id": "4d390646fc0b47e68f3b5c52e1e737d7",
       "version_major": 2,
       "version_minor": 0
      },
      "text/plain": [
       "  0%|          | 0/15 [00:00<?, ?it/s]"
      ]
     },
     "metadata": {},
     "output_type": "display_data"
    },
    {
     "name": "stdout",
     "output_type": "stream",
     "text": [
      "total, new, all =  (0.03394716568503193, 1.9881209771614604e-05, 0.06785456895052062)\n",
      "\n",
      "factors:  30 , thr:  0.7 , top_k:  10 , filter_liked:  True\n"
     ]
    },
    {
     "data": {
      "application/vnd.jupyter.widget-view+json": {
       "model_id": "2fbdf08902634d55bb292e40aba53f5c",
       "version_major": 2,
       "version_minor": 0
      },
      "text/plain": [
       "  0%|          | 0/15 [00:00<?, ?it/s]"
      ]
     },
     "metadata": {},
     "output_type": "display_data"
    },
    {
     "name": "stdout",
     "output_type": "stream",
     "text": [
      "total, new, all =  (0.03427520564626357, 1.9881209771614604e-05, 0.06851064887298393)\n",
      "\n",
      "factors:  30 , thr:  0.7 , top_k:  10 , filter_liked:  False\n"
     ]
    },
    {
     "data": {
      "application/vnd.jupyter.widget-view+json": {
       "model_id": "c486dc6959f141c3b77e651bc5118df6",
       "version_major": 2,
       "version_minor": 0
      },
      "text/plain": [
       "  0%|          | 0/15 [00:00<?, ?it/s]"
      ]
     },
     "metadata": {},
     "output_type": "display_data"
    },
    {
     "name": "stdout",
     "output_type": "stream",
     "text": [
      "total, new, all =  (0.03427520564626357, 1.9881209771614604e-05, 0.06851064887298393)\n",
      "\n",
      "factors:  30 , thr:  0.7 , top_k:  20 , filter_liked:  True\n"
     ]
    },
    {
     "data": {
      "application/vnd.jupyter.widget-view+json": {
       "model_id": "45246989d3a14e02b189f2a1b628e36b",
       "version_major": 2,
       "version_minor": 0
      },
      "text/plain": [
       "  0%|          | 0/15 [00:00<?, ?it/s]"
      ]
     },
     "metadata": {},
     "output_type": "display_data"
    },
    {
     "name": "stdout",
     "output_type": "stream",
     "text": [
      "total, new, all =  (0.03427520564626357, 1.9881209771614604e-05, 0.06851064887298393)\n",
      "\n",
      "factors:  30 , thr:  0.7 , top_k:  20 , filter_liked:  False\n"
     ]
    },
    {
     "data": {
      "application/vnd.jupyter.widget-view+json": {
       "model_id": "2f7957554c39487e966128b1d9bfe8d0",
       "version_major": 2,
       "version_minor": 0
      },
      "text/plain": [
       "  0%|          | 0/15 [00:00<?, ?it/s]"
      ]
     },
     "metadata": {},
     "output_type": "display_data"
    },
    {
     "name": "stdout",
     "output_type": "stream",
     "text": [
      "total, new, all =  (0.03427520564626357, 1.9881209771614604e-05, 0.06851064887298393)\n",
      "\n",
      "factors:  30 , thr:  0.7 , top_k:  30 , filter_liked:  True\n"
     ]
    },
    {
     "data": {
      "application/vnd.jupyter.widget-view+json": {
       "model_id": "67b5114290774ee5b482321ba3e29827",
       "version_major": 2,
       "version_minor": 0
      },
      "text/plain": [
       "  0%|          | 0/15 [00:00<?, ?it/s]"
      ]
     },
     "metadata": {},
     "output_type": "display_data"
    },
    {
     "name": "stdout",
     "output_type": "stream",
     "text": [
      "total, new, all =  (0.03427520564626357, 1.9881209771614604e-05, 0.06851064887298393)\n",
      "\n",
      "factors:  30 , thr:  0.7 , top_k:  30 , filter_liked:  False\n"
     ]
    },
    {
     "data": {
      "application/vnd.jupyter.widget-view+json": {
       "model_id": "fa5416760e8e4a1f8e86256e74068c13",
       "version_major": 2,
       "version_minor": 0
      },
      "text/plain": [
       "  0%|          | 0/15 [00:00<?, ?it/s]"
      ]
     },
     "metadata": {},
     "output_type": "display_data"
    },
    {
     "name": "stdout",
     "output_type": "stream",
     "text": [
      "total, new, all =  (0.03427520564626357, 1.9881209771614604e-05, 0.06851064887298393)\n",
      "\n",
      "factors:  30 , thr:  0.75 , top_k:  5 , filter_liked:  True\n"
     ]
    },
    {
     "data": {
      "application/vnd.jupyter.widget-view+json": {
       "model_id": "a058563f94344394905d85c04fb0b686",
       "version_major": 2,
       "version_minor": 0
      },
      "text/plain": [
       "  0%|          | 0/15 [00:00<?, ?it/s]"
      ]
     },
     "metadata": {},
     "output_type": "display_data"
    },
    {
     "name": "stdout",
     "output_type": "stream",
     "text": [
      "total, new, all =  (0.03370362086532965, 1.9881209771614604e-05, 0.06736747931111607)\n",
      "\n",
      "factors:  30 , thr:  0.75 , top_k:  5 , filter_liked:  False\n"
     ]
    },
    {
     "data": {
      "application/vnd.jupyter.widget-view+json": {
       "model_id": "5a40e64aa03244c5a3699ea0aa655a54",
       "version_major": 2,
       "version_minor": 0
      },
      "text/plain": [
       "  0%|          | 0/15 [00:00<?, ?it/s]"
      ]
     },
     "metadata": {},
     "output_type": "display_data"
    },
    {
     "name": "stdout",
     "output_type": "stream",
     "text": [
      "total, new, all =  (0.03370362086532965, 1.9881209771614604e-05, 0.06736747931111607)\n",
      "\n",
      "factors:  30 , thr:  0.75 , top_k:  10 , filter_liked:  True\n"
     ]
    },
    {
     "data": {
      "application/vnd.jupyter.widget-view+json": {
       "model_id": "4d73c56f8d234844b49dfc6c309665b8",
       "version_major": 2,
       "version_minor": 0
      },
      "text/plain": [
       "  0%|          | 0/15 [00:00<?, ?it/s]"
      ]
     },
     "metadata": {},
     "output_type": "display_data"
    },
    {
     "name": "stdout",
     "output_type": "stream",
     "text": [
      "total, new, all =  (0.03400183901190387, 1.9881209771614604e-05, 0.06796391560426453)\n",
      "\n",
      "factors:  30 , thr:  0.75 , top_k:  10 , filter_liked:  False\n"
     ]
    },
    {
     "data": {
      "application/vnd.jupyter.widget-view+json": {
       "model_id": "637f41e6e28744d39b1fa9d366696355",
       "version_major": 2,
       "version_minor": 0
      },
      "text/plain": [
       "  0%|          | 0/15 [00:00<?, ?it/s]"
      ]
     },
     "metadata": {},
     "output_type": "display_data"
    },
    {
     "name": "stdout",
     "output_type": "stream",
     "text": [
      "total, new, all =  (0.03400183901190387, 1.9881209771614604e-05, 0.06796391560426453)\n",
      "\n",
      "factors:  30 , thr:  0.75 , top_k:  20 , filter_liked:  True\n"
     ]
    },
    {
     "data": {
      "application/vnd.jupyter.widget-view+json": {
       "model_id": "8d6007672fb54a879c67c572a4618314",
       "version_major": 2,
       "version_minor": 0
      },
      "text/plain": [
       "  0%|          | 0/15 [00:00<?, ?it/s]"
      ]
     },
     "metadata": {},
     "output_type": "display_data"
    },
    {
     "name": "stdout",
     "output_type": "stream",
     "text": [
      "total, new, all =  (0.03400183901190387, 1.9881209771614604e-05, 0.06796391560426453)\n",
      "\n",
      "factors:  30 , thr:  0.75 , top_k:  20 , filter_liked:  False\n"
     ]
    },
    {
     "data": {
      "application/vnd.jupyter.widget-view+json": {
       "model_id": "3fc146065df149cdbe06ff8ac239b0bf",
       "version_major": 2,
       "version_minor": 0
      },
      "text/plain": [
       "  0%|          | 0/15 [00:00<?, ?it/s]"
      ]
     },
     "metadata": {},
     "output_type": "display_data"
    },
    {
     "name": "stdout",
     "output_type": "stream",
     "text": [
      "total, new, all =  (0.03400183901190387, 1.9881209771614604e-05, 0.06796391560426453)\n",
      "\n",
      "factors:  30 , thr:  0.75 , top_k:  30 , filter_liked:  True\n"
     ]
    },
    {
     "data": {
      "application/vnd.jupyter.widget-view+json": {
       "model_id": "c01b53432b0d4b08a3f8c5bcdc98953c",
       "version_major": 2,
       "version_minor": 0
      },
      "text/plain": [
       "  0%|          | 0/15 [00:00<?, ?it/s]"
      ]
     },
     "metadata": {},
     "output_type": "display_data"
    },
    {
     "name": "stdout",
     "output_type": "stream",
     "text": [
      "total, new, all =  (0.03400183901190387, 1.9881209771614604e-05, 0.06796391560426453)\n",
      "\n",
      "factors:  30 , thr:  0.75 , top_k:  30 , filter_liked:  False\n"
     ]
    },
    {
     "data": {
      "application/vnd.jupyter.widget-view+json": {
       "model_id": "7e4617d8580147ccad8159c5cf6e8152",
       "version_major": 2,
       "version_minor": 0
      },
      "text/plain": [
       "  0%|          | 0/15 [00:00<?, ?it/s]"
      ]
     },
     "metadata": {},
     "output_type": "display_data"
    },
    {
     "name": "stdout",
     "output_type": "stream",
     "text": [
      "total, new, all =  (0.03400183901190387, 1.9881209771614604e-05, 0.06796391560426453)\n",
      "\n",
      "factors:  30 , thr:  0.8 , top_k:  5 , filter_liked:  True\n"
     ]
    },
    {
     "data": {
      "application/vnd.jupyter.widget-view+json": {
       "model_id": "daee070467644c32a16ede807457f146",
       "version_major": 2,
       "version_minor": 0
      },
      "text/plain": [
       "  0%|          | 0/15 [00:00<?, ?it/s]"
      ]
     },
     "metadata": {},
     "output_type": "display_data"
    },
    {
     "name": "stdout",
     "output_type": "stream",
     "text": [
      "total, new, all =  (0.033375580904098014, 9.940604885807302e-06, 0.06673128059842441)\n",
      "\n",
      "factors:  30 , thr:  0.8 , top_k:  5 , filter_liked:  False\n"
     ]
    },
    {
     "data": {
      "application/vnd.jupyter.widget-view+json": {
       "model_id": "baaff4ebbde04636922ae138739c9d79",
       "version_major": 2,
       "version_minor": 0
      },
      "text/plain": [
       "  0%|          | 0/15 [00:00<?, ?it/s]"
      ]
     },
     "metadata": {},
     "output_type": "display_data"
    },
    {
     "name": "stdout",
     "output_type": "stream",
     "text": [
      "total, new, all =  (0.033375580904098014, 9.940604885807302e-06, 0.06673128059842441)\n",
      "\n",
      "factors:  30 , thr:  0.8 , top_k:  10 , filter_liked:  True\n"
     ]
    },
    {
     "data": {
      "application/vnd.jupyter.widget-view+json": {
       "model_id": "8beecfb3734544b5be8bf9f418d3a956",
       "version_major": 2,
       "version_minor": 0
      },
      "text/plain": [
       "  0%|          | 0/15 [00:00<?, ?it/s]"
      ]
     },
     "metadata": {},
     "output_type": "display_data"
    },
    {
     "name": "stdout",
     "output_type": "stream",
     "text": [
      "total, new, all =  (0.033634036631129, 9.940604885807302e-06, 0.06724819205248639)\n",
      "\n",
      "factors:  30 , thr:  0.8 , top_k:  10 , filter_liked:  False\n"
     ]
    },
    {
     "data": {
      "application/vnd.jupyter.widget-view+json": {
       "model_id": "0b63af44461443dbbee302e83ae752e6",
       "version_major": 2,
       "version_minor": 0
      },
      "text/plain": [
       "  0%|          | 0/15 [00:00<?, ?it/s]"
      ]
     },
     "metadata": {},
     "output_type": "display_data"
    },
    {
     "name": "stdout",
     "output_type": "stream",
     "text": [
      "total, new, all =  (0.033634036631129, 9.940604885807302e-06, 0.06724819205248639)\n",
      "\n",
      "factors:  30 , thr:  0.8 , top_k:  20 , filter_liked:  True\n"
     ]
    },
    {
     "data": {
      "application/vnd.jupyter.widget-view+json": {
       "model_id": "f6fd704451b244dbaeff2324d2ac67b5",
       "version_major": 2,
       "version_minor": 0
      },
      "text/plain": [
       "  0%|          | 0/15 [00:00<?, ?it/s]"
      ]
     },
     "metadata": {},
     "output_type": "display_data"
    },
    {
     "name": "stdout",
     "output_type": "stream",
     "text": [
      "total, new, all =  (0.033634036631129, 9.940604885807302e-06, 0.06724819205248639)\n",
      "\n",
      "factors:  30 , thr:  0.8 , top_k:  20 , filter_liked:  False\n"
     ]
    },
    {
     "data": {
      "application/vnd.jupyter.widget-view+json": {
       "model_id": "78f93ac273af4bb093504db09f6f8722",
       "version_major": 2,
       "version_minor": 0
      },
      "text/plain": [
       "  0%|          | 0/15 [00:00<?, ?it/s]"
      ]
     },
     "metadata": {},
     "output_type": "display_data"
    },
    {
     "name": "stdout",
     "output_type": "stream",
     "text": [
      "total, new, all =  (0.033634036631129, 9.940604885807302e-06, 0.06724819205248639)\n",
      "\n",
      "factors:  30 , thr:  0.8 , top_k:  30 , filter_liked:  True\n"
     ]
    },
    {
     "data": {
      "application/vnd.jupyter.widget-view+json": {
       "model_id": "f2efd302fbc64a71ba1921deb1d09d8a",
       "version_major": 2,
       "version_minor": 0
      },
      "text/plain": [
       "  0%|          | 0/15 [00:00<?, ?it/s]"
      ]
     },
     "metadata": {},
     "output_type": "display_data"
    },
    {
     "name": "stdout",
     "output_type": "stream",
     "text": [
      "total, new, all =  (0.033634036631129, 9.940604885807302e-06, 0.06724819205248639)\n",
      "\n",
      "factors:  30 , thr:  0.8 , top_k:  30 , filter_liked:  False\n"
     ]
    },
    {
     "data": {
      "application/vnd.jupyter.widget-view+json": {
       "model_id": "3f6e3ebc4bb34cb3a8b0c0548f13f402",
       "version_major": 2,
       "version_minor": 0
      },
      "text/plain": [
       "  0%|          | 0/15 [00:00<?, ?it/s]"
      ]
     },
     "metadata": {},
     "output_type": "display_data"
    },
    {
     "name": "stdout",
     "output_type": "stream",
     "text": [
      "total, new, all =  (0.033634036631129, 9.940604885807302e-06, 0.06724819205248639)\n",
      "\n",
      "factors:  30 , thr:  0.85 , top_k:  5 , filter_liked:  True\n"
     ]
    },
    {
     "data": {
      "application/vnd.jupyter.widget-view+json": {
       "model_id": "dfa3dc8e5e0049cc992176b49432119f",
       "version_major": 2,
       "version_minor": 0
      },
      "text/plain": [
       "  0%|          | 0/15 [00:00<?, ?it/s]"
      ]
     },
     "metadata": {},
     "output_type": "display_data"
    },
    {
     "name": "stdout",
     "output_type": "stream",
     "text": [
      "total, new, all =  (0.03315688759661026, 9.940604885807302e-06, 0.0662938939834489)\n",
      "\n",
      "factors:  30 , thr:  0.85 , top_k:  5 , filter_liked:  False\n"
     ]
    },
    {
     "data": {
      "application/vnd.jupyter.widget-view+json": {
       "model_id": "52924a0d897142f5b7e88e1c0555e252",
       "version_major": 2,
       "version_minor": 0
      },
      "text/plain": [
       "  0%|          | 0/15 [00:00<?, ?it/s]"
      ]
     },
     "metadata": {},
     "output_type": "display_data"
    },
    {
     "name": "stdout",
     "output_type": "stream",
     "text": [
      "total, new, all =  (0.03315688759661026, 9.940604885807302e-06, 0.0662938939834489)\n",
      "\n",
      "factors:  30 , thr:  0.85 , top_k:  10 , filter_liked:  True\n"
     ]
    },
    {
     "data": {
      "application/vnd.jupyter.widget-view+json": {
       "model_id": "4da54d9916534749bfd0fc9c01af6c40",
       "version_major": 2,
       "version_minor": 0
      },
      "text/plain": [
       "  0%|          | 0/15 [00:00<?, ?it/s]"
      ]
     },
     "metadata": {},
     "output_type": "display_data"
    },
    {
     "name": "stdout",
     "output_type": "stream",
     "text": [
      "total, new, all =  (0.03338055120654092, 9.940604885807302e-06, 0.06674122120331022)\n",
      "\n",
      "factors:  30 , thr:  0.85 , top_k:  10 , filter_liked:  False\n"
     ]
    },
    {
     "data": {
      "application/vnd.jupyter.widget-view+json": {
       "model_id": "e3002343f66b43fba6e6f72004530bc8",
       "version_major": 2,
       "version_minor": 0
      },
      "text/plain": [
       "  0%|          | 0/15 [00:00<?, ?it/s]"
      ]
     },
     "metadata": {},
     "output_type": "display_data"
    },
    {
     "name": "stdout",
     "output_type": "stream",
     "text": [
      "total, new, all =  (0.03338055120654092, 9.940604885807302e-06, 0.06674122120331022)\n",
      "\n",
      "factors:  30 , thr:  0.85 , top_k:  20 , filter_liked:  True\n"
     ]
    },
    {
     "data": {
      "application/vnd.jupyter.widget-view+json": {
       "model_id": "b1f591b253f545639669ce384c737041",
       "version_major": 2,
       "version_minor": 0
      },
      "text/plain": [
       "  0%|          | 0/15 [00:00<?, ?it/s]"
      ]
     },
     "metadata": {},
     "output_type": "display_data"
    },
    {
     "name": "stdout",
     "output_type": "stream",
     "text": [
      "total, new, all =  (0.03338055120654092, 9.940604885807302e-06, 0.06674122120331022)\n",
      "\n",
      "factors:  30 , thr:  0.85 , top_k:  20 , filter_liked:  False\n"
     ]
    },
    {
     "data": {
      "application/vnd.jupyter.widget-view+json": {
       "model_id": "560b0777eebe4aff8c00a23441b0d034",
       "version_major": 2,
       "version_minor": 0
      },
      "text/plain": [
       "  0%|          | 0/15 [00:00<?, ?it/s]"
      ]
     },
     "metadata": {},
     "output_type": "display_data"
    },
    {
     "name": "stdout",
     "output_type": "stream",
     "text": [
      "total, new, all =  (0.03338055120654092, 9.940604885807302e-06, 0.06674122120331022)\n",
      "\n",
      "factors:  30 , thr:  0.85 , top_k:  30 , filter_liked:  True\n"
     ]
    },
    {
     "data": {
      "application/vnd.jupyter.widget-view+json": {
       "model_id": "1aa6aa17b9da46fb94c1663eedd82534",
       "version_major": 2,
       "version_minor": 0
      },
      "text/plain": [
       "  0%|          | 0/15 [00:00<?, ?it/s]"
      ]
     },
     "metadata": {},
     "output_type": "display_data"
    },
    {
     "name": "stdout",
     "output_type": "stream",
     "text": [
      "total, new, all =  (0.03338055120654092, 9.940604885807302e-06, 0.06674122120331022)\n",
      "\n",
      "factors:  30 , thr:  0.85 , top_k:  30 , filter_liked:  False\n"
     ]
    },
    {
     "data": {
      "application/vnd.jupyter.widget-view+json": {
       "model_id": "85dd9320a66347dc9a83aba7f5099745",
       "version_major": 2,
       "version_minor": 0
      },
      "text/plain": [
       "  0%|          | 0/15 [00:00<?, ?it/s]"
      ]
     },
     "metadata": {},
     "output_type": "display_data"
    },
    {
     "name": "stdout",
     "output_type": "stream",
     "text": [
      "total, new, all =  (0.03338055120654092, 9.940604885807302e-06, 0.06674122120331022)\n",
      "\n",
      "factors:  30 , thr:  0.9 , top_k:  5 , filter_liked:  True\n"
     ]
    },
    {
     "data": {
      "application/vnd.jupyter.widget-view+json": {
       "model_id": "5e7feeed05ab4421aa6c0397538dd1a9",
       "version_major": 2,
       "version_minor": 0
      },
      "text/plain": [
       "  0%|          | 0/15 [00:00<?, ?it/s]"
      ]
     },
     "metadata": {},
     "output_type": "display_data"
    },
    {
     "name": "stdout",
     "output_type": "stream",
     "text": [
      "total, new, all =  (0.03280399612316409, 9.940604885807302e-06, 0.06558811103655658)\n",
      "\n",
      "factors:  30 , thr:  0.9 , top_k:  5 , filter_liked:  False\n"
     ]
    },
    {
     "data": {
      "application/vnd.jupyter.widget-view+json": {
       "model_id": "1a49e1c133134a9bb0a3df7d2bd648e6",
       "version_major": 2,
       "version_minor": 0
      },
      "text/plain": [
       "  0%|          | 0/15 [00:00<?, ?it/s]"
      ]
     },
     "metadata": {},
     "output_type": "display_data"
    },
    {
     "name": "stdout",
     "output_type": "stream",
     "text": [
      "total, new, all =  (0.03280399612316409, 9.940604885807302e-06, 0.06558811103655658)\n",
      "\n",
      "factors:  30 , thr:  0.9 , top_k:  10 , filter_liked:  True\n"
     ]
    },
    {
     "data": {
      "application/vnd.jupyter.widget-view+json": {
       "model_id": "d21b5ccec28741f385c6124d3be772ef",
       "version_major": 2,
       "version_minor": 0
      },
      "text/plain": [
       "  0%|          | 0/15 [00:00<?, ?it/s]"
      ]
     },
     "metadata": {},
     "output_type": "display_data"
    },
    {
     "name": "stdout",
     "output_type": "stream",
     "text": [
      "total, new, all =  (0.03300777852332314, 9.940604885807302e-06, 0.06599567583687467)\n",
      "\n",
      "factors:  30 , thr:  0.9 , top_k:  10 , filter_liked:  False\n"
     ]
    },
    {
     "data": {
      "application/vnd.jupyter.widget-view+json": {
       "model_id": "296a1332f3b9418d937231e33f50c59c",
       "version_major": 2,
       "version_minor": 0
      },
      "text/plain": [
       "  0%|          | 0/15 [00:00<?, ?it/s]"
      ]
     },
     "metadata": {},
     "output_type": "display_data"
    },
    {
     "name": "stdout",
     "output_type": "stream",
     "text": [
      "total, new, all =  (0.03300777852332314, 9.940604885807302e-06, 0.06599567583687467)\n",
      "\n",
      "factors:  30 , thr:  0.9 , top_k:  20 , filter_liked:  True\n"
     ]
    },
    {
     "data": {
      "application/vnd.jupyter.widget-view+json": {
       "model_id": "318cab76547945388b6b946c86dfca24",
       "version_major": 2,
       "version_minor": 0
      },
      "text/plain": [
       "  0%|          | 0/15 [00:00<?, ?it/s]"
      ]
     },
     "metadata": {},
     "output_type": "display_data"
    },
    {
     "name": "stdout",
     "output_type": "stream",
     "text": [
      "total, new, all =  (0.03300777852332314, 9.940604885807302e-06, 0.06599567583687467)\n",
      "\n",
      "factors:  30 , thr:  0.9 , top_k:  20 , filter_liked:  False\n"
     ]
    },
    {
     "data": {
      "application/vnd.jupyter.widget-view+json": {
       "model_id": "41cbb040c76345249e4ac17e2fb735b9",
       "version_major": 2,
       "version_minor": 0
      },
      "text/plain": [
       "  0%|          | 0/15 [00:00<?, ?it/s]"
      ]
     },
     "metadata": {},
     "output_type": "display_data"
    },
    {
     "name": "stdout",
     "output_type": "stream",
     "text": [
      "total, new, all =  (0.03300777852332314, 9.940604885807302e-06, 0.06599567583687467)\n",
      "\n",
      "factors:  30 , thr:  0.9 , top_k:  30 , filter_liked:  True\n"
     ]
    },
    {
     "data": {
      "application/vnd.jupyter.widget-view+json": {
       "model_id": "caf440867969429f9279df74c219e609",
       "version_major": 2,
       "version_minor": 0
      },
      "text/plain": [
       "  0%|          | 0/15 [00:00<?, ?it/s]"
      ]
     },
     "metadata": {},
     "output_type": "display_data"
    },
    {
     "name": "stdout",
     "output_type": "stream",
     "text": [
      "total, new, all =  (0.03300777852332314, 9.940604885807302e-06, 0.06599567583687467)\n",
      "\n",
      "factors:  30 , thr:  0.9 , top_k:  30 , filter_liked:  False\n"
     ]
    },
    {
     "data": {
      "application/vnd.jupyter.widget-view+json": {
       "model_id": "37932503e35446a0adf29fbd2120f2b3",
       "version_major": 2,
       "version_minor": 0
      },
      "text/plain": [
       "  0%|          | 0/15 [00:00<?, ?it/s]"
      ]
     },
     "metadata": {},
     "output_type": "display_data"
    },
    {
     "name": "stdout",
     "output_type": "stream",
     "text": [
      "total, new, all =  (0.03300777852332314, 9.940604885807302e-06, 0.06599567583687467)\n",
      "\n",
      "factors:  40 , thr:  0.7 , top_k:  5 , filter_liked:  True\n"
     ]
    },
    {
     "data": {
      "application/vnd.jupyter.widget-view+json": {
       "model_id": "949e10ee92f6470c9f0341ba5a82a305",
       "version_major": 2,
       "version_minor": 0
      },
      "text/plain": [
       "  0%|          | 0/15 [00:00<?, ?it/s]"
      ]
     },
     "metadata": {},
     "output_type": "display_data"
    },
    {
     "name": "stdout",
     "output_type": "stream",
     "text": [
      "total, new, all =  (0.03501578071025622, 0.0, 0.07003156142051244)\n",
      "\n",
      "factors:  40 , thr:  0.7 , top_k:  5 , filter_liked:  False\n"
     ]
    },
    {
     "data": {
      "application/vnd.jupyter.widget-view+json": {
       "model_id": "dc909e04bce348b79da12ef6aadded3f",
       "version_major": 2,
       "version_minor": 0
      },
      "text/plain": [
       "  0%|          | 0/15 [00:00<?, ?it/s]"
      ]
     },
     "metadata": {},
     "output_type": "display_data"
    },
    {
     "name": "stdout",
     "output_type": "stream",
     "text": [
      "total, new, all =  (0.03501578071025622, 0.0, 0.07003156142051244)\n",
      "\n",
      "factors:  40 , thr:  0.7 , top_k:  10 , filter_liked:  True\n"
     ]
    },
    {
     "data": {
      "application/vnd.jupyter.widget-view+json": {
       "model_id": "95b02a0bacf94ffa974bf5a023f88b56",
       "version_major": 2,
       "version_minor": 0
      },
      "text/plain": [
       "  0%|          | 0/15 [00:00<?, ?it/s]"
      ]
     },
     "metadata": {},
     "output_type": "display_data"
    },
    {
     "name": "stdout",
     "output_type": "stream",
     "text": [
      "total, new, all =  (0.035463107930117546, 0.0, 0.07092621586023509)\n",
      "\n",
      "factors:  40 , thr:  0.7 , top_k:  10 , filter_liked:  False\n"
     ]
    },
    {
     "data": {
      "application/vnd.jupyter.widget-view+json": {
       "model_id": "6fac2a232853466b967fd6fb410645ba",
       "version_major": 2,
       "version_minor": 0
      },
      "text/plain": [
       "  0%|          | 0/15 [00:00<?, ?it/s]"
      ]
     },
     "metadata": {},
     "output_type": "display_data"
    },
    {
     "name": "stdout",
     "output_type": "stream",
     "text": [
      "total, new, all =  (0.035463107930117546, 0.0, 0.07092621586023509)\n",
      "\n",
      "factors:  40 , thr:  0.7 , top_k:  20 , filter_liked:  True\n"
     ]
    },
    {
     "data": {
      "application/vnd.jupyter.widget-view+json": {
       "model_id": "a6a73a1fa39f4d89af9b4a66b16140bc",
       "version_major": 2,
       "version_minor": 0
      },
      "text/plain": [
       "  0%|          | 0/15 [00:00<?, ?it/s]"
      ]
     },
     "metadata": {},
     "output_type": "display_data"
    },
    {
     "name": "stdout",
     "output_type": "stream",
     "text": [
      "total, new, all =  (0.035463107930117546, 0.0, 0.07092621586023509)\n",
      "\n",
      "factors:  40 , thr:  0.7 , top_k:  20 , filter_liked:  False\n"
     ]
    },
    {
     "data": {
      "application/vnd.jupyter.widget-view+json": {
       "model_id": "6e314d2ae861403cafa407289583021a",
       "version_major": 2,
       "version_minor": 0
      },
      "text/plain": [
       "  0%|          | 0/15 [00:00<?, ?it/s]"
      ]
     },
     "metadata": {},
     "output_type": "display_data"
    },
    {
     "name": "stdout",
     "output_type": "stream",
     "text": [
      "total, new, all =  (0.035463107930117546, 0.0, 0.07092621586023509)\n",
      "\n",
      "factors:  40 , thr:  0.7 , top_k:  30 , filter_liked:  True\n"
     ]
    },
    {
     "data": {
      "application/vnd.jupyter.widget-view+json": {
       "model_id": "718ca32d6cbe409fae36c4a5e37c9c2c",
       "version_major": 2,
       "version_minor": 0
      },
      "text/plain": [
       "  0%|          | 0/15 [00:00<?, ?it/s]"
      ]
     },
     "metadata": {},
     "output_type": "display_data"
    },
    {
     "name": "stdout",
     "output_type": "stream",
     "text": [
      "total, new, all =  (0.035463107930117546, 0.0, 0.07092621586023509)\n",
      "\n",
      "factors:  40 , thr:  0.7 , top_k:  30 , filter_liked:  False\n"
     ]
    },
    {
     "data": {
      "application/vnd.jupyter.widget-view+json": {
       "model_id": "661d645f02fa4838bba8f6d7f9dc55ae",
       "version_major": 2,
       "version_minor": 0
      },
      "text/plain": [
       "  0%|          | 0/15 [00:00<?, ?it/s]"
      ]
     },
     "metadata": {},
     "output_type": "display_data"
    },
    {
     "name": "stdout",
     "output_type": "stream",
     "text": [
      "total, new, all =  (0.035463107930117546, 0.0, 0.07092621586023509)\n",
      "\n",
      "factors:  40 , thr:  0.75 , top_k:  5 , filter_liked:  True\n"
     ]
    },
    {
     "data": {
      "application/vnd.jupyter.widget-view+json": {
       "model_id": "a54733beebe64196a11499e316e637b3",
       "version_major": 2,
       "version_minor": 0
      },
      "text/plain": [
       "  0%|          | 0/15 [00:00<?, ?it/s]"
      ]
     },
     "metadata": {},
     "output_type": "display_data"
    },
    {
     "name": "stdout",
     "output_type": "stream",
     "text": [
      "total, new, all =  (0.03481696861254007, 0.0, 0.06963393722508014)\n",
      "\n",
      "factors:  40 , thr:  0.75 , top_k:  5 , filter_liked:  False\n"
     ]
    },
    {
     "data": {
      "application/vnd.jupyter.widget-view+json": {
       "model_id": "474193a5611a4704a09522b89d06c197",
       "version_major": 2,
       "version_minor": 0
      },
      "text/plain": [
       "  0%|          | 0/15 [00:00<?, ?it/s]"
      ]
     },
     "metadata": {},
     "output_type": "display_data"
    },
    {
     "name": "stdout",
     "output_type": "stream",
     "text": [
      "total, new, all =  (0.03481696861254007, 0.0, 0.06963393722508014)\n",
      "\n",
      "factors:  40 , thr:  0.75 , top_k:  10 , filter_liked:  True\n"
     ]
    },
    {
     "data": {
      "application/vnd.jupyter.widget-view+json": {
       "model_id": "bc8b256c6e234fe4a2ad1a99f60d15b4",
       "version_major": 2,
       "version_minor": 0
      },
      "text/plain": [
       "  0%|          | 0/15 [00:00<?, ?it/s]"
      ]
     },
     "metadata": {},
     "output_type": "display_data"
    },
    {
     "name": "stdout",
     "output_type": "stream",
     "text": [
      "total, new, all =  (0.03524441462262979, 0.0, 0.07048882924525958)\n",
      "\n",
      "factors:  40 , thr:  0.75 , top_k:  10 , filter_liked:  False\n"
     ]
    },
    {
     "data": {
      "application/vnd.jupyter.widget-view+json": {
       "model_id": "53ec272612fa47fea3a65066e6a169c1",
       "version_major": 2,
       "version_minor": 0
      },
      "text/plain": [
       "  0%|          | 0/15 [00:00<?, ?it/s]"
      ]
     },
     "metadata": {},
     "output_type": "display_data"
    },
    {
     "name": "stdout",
     "output_type": "stream",
     "text": [
      "total, new, all =  (0.03524441462262979, 0.0, 0.07048882924525958)\n",
      "\n",
      "factors:  40 , thr:  0.75 , top_k:  20 , filter_liked:  True\n"
     ]
    },
    {
     "data": {
      "application/vnd.jupyter.widget-view+json": {
       "model_id": "ce933f1cb5c34f64bdab44fada3e1914",
       "version_major": 2,
       "version_minor": 0
      },
      "text/plain": [
       "  0%|          | 0/15 [00:00<?, ?it/s]"
      ]
     },
     "metadata": {},
     "output_type": "display_data"
    },
    {
     "name": "stdout",
     "output_type": "stream",
     "text": [
      "total, new, all =  (0.03524441462262979, 0.0, 0.07048882924525958)\n",
      "\n",
      "factors:  40 , thr:  0.75 , top_k:  20 , filter_liked:  False\n"
     ]
    },
    {
     "data": {
      "application/vnd.jupyter.widget-view+json": {
       "model_id": "8461b86468dd46509c7cc96404d35970",
       "version_major": 2,
       "version_minor": 0
      },
      "text/plain": [
       "  0%|          | 0/15 [00:00<?, ?it/s]"
      ]
     },
     "metadata": {},
     "output_type": "display_data"
    },
    {
     "name": "stdout",
     "output_type": "stream",
     "text": [
      "total, new, all =  (0.03524441462262979, 0.0, 0.07048882924525958)\n",
      "\n",
      "factors:  40 , thr:  0.75 , top_k:  30 , filter_liked:  True\n"
     ]
    },
    {
     "data": {
      "application/vnd.jupyter.widget-view+json": {
       "model_id": "aad2415bad1a466c8cd2138600d6755d",
       "version_major": 2,
       "version_minor": 0
      },
      "text/plain": [
       "  0%|          | 0/15 [00:00<?, ?it/s]"
      ]
     },
     "metadata": {},
     "output_type": "display_data"
    },
    {
     "name": "stdout",
     "output_type": "stream",
     "text": [
      "total, new, all =  (0.03524441462262979, 0.0, 0.07048882924525958)\n",
      "\n",
      "factors:  40 , thr:  0.75 , top_k:  30 , filter_liked:  False\n"
     ]
    },
    {
     "data": {
      "application/vnd.jupyter.widget-view+json": {
       "model_id": "1ebfd1179063463898c60d624f9c473c",
       "version_major": 2,
       "version_minor": 0
      },
      "text/plain": [
       "  0%|          | 0/15 [00:00<?, ?it/s]"
      ]
     },
     "metadata": {},
     "output_type": "display_data"
    },
    {
     "name": "stdout",
     "output_type": "stream",
     "text": [
      "total, new, all =  (0.03524441462262979, 0.0, 0.07048882924525958)\n",
      "\n",
      "factors:  40 , thr:  0.8 , top_k:  5 , filter_liked:  True\n"
     ]
    },
    {
     "data": {
      "application/vnd.jupyter.widget-view+json": {
       "model_id": "ff1121503e054e87b17c7f2e909222d4",
       "version_major": 2,
       "version_minor": 0
      },
      "text/plain": [
       "  0%|          | 0/15 [00:00<?, ?it/s]"
      ]
     },
     "metadata": {},
     "output_type": "display_data"
    },
    {
     "name": "stdout",
     "output_type": "stream",
     "text": [
      "total, new, all =  (0.03467282984169587, 0.0, 0.06934565968339174)\n",
      "\n",
      "factors:  40 , thr:  0.8 , top_k:  5 , filter_liked:  False\n"
     ]
    },
    {
     "data": {
      "application/vnd.jupyter.widget-view+json": {
       "model_id": "fca420e4418f48a0b38e442d183a03a4",
       "version_major": 2,
       "version_minor": 0
      },
      "text/plain": [
       "  0%|          | 0/15 [00:00<?, ?it/s]"
      ]
     },
     "metadata": {},
     "output_type": "display_data"
    },
    {
     "name": "stdout",
     "output_type": "stream",
     "text": [
      "total, new, all =  (0.03467282984169587, 0.0, 0.06934565968339174)\n",
      "\n",
      "factors:  40 , thr:  0.8 , top_k:  10 , filter_liked:  True\n"
     ]
    },
    {
     "data": {
      "application/vnd.jupyter.widget-view+json": {
       "model_id": "9e07e75979904c5ca62269887310936b",
       "version_major": 2,
       "version_minor": 0
      },
      "text/plain": [
       "  0%|          | 0/15 [00:00<?, ?it/s]"
      ]
     },
     "metadata": {},
     "output_type": "display_data"
    },
    {
     "name": "stdout",
     "output_type": "stream",
     "text": [
      "total, new, all =  (0.03506051343224235, 0.0, 0.0701210268644847)\n",
      "\n",
      "factors:  40 , thr:  0.8 , top_k:  10 , filter_liked:  False\n"
     ]
    },
    {
     "data": {
      "application/vnd.jupyter.widget-view+json": {
       "model_id": "0b4df358a580430bb8b5c441c034e417",
       "version_major": 2,
       "version_minor": 0
      },
      "text/plain": [
       "  0%|          | 0/15 [00:00<?, ?it/s]"
      ]
     },
     "metadata": {},
     "output_type": "display_data"
    },
    {
     "name": "stdout",
     "output_type": "stream",
     "text": [
      "total, new, all =  (0.03506051343224235, 0.0, 0.0701210268644847)\n",
      "\n",
      "factors:  40 , thr:  0.8 , top_k:  20 , filter_liked:  True\n"
     ]
    },
    {
     "data": {
      "application/vnd.jupyter.widget-view+json": {
       "model_id": "b425afa9fc3c48b1b838aeaa37ad4176",
       "version_major": 2,
       "version_minor": 0
      },
      "text/plain": [
       "  0%|          | 0/15 [00:00<?, ?it/s]"
      ]
     },
     "metadata": {},
     "output_type": "display_data"
    },
    {
     "name": "stdout",
     "output_type": "stream",
     "text": [
      "total, new, all =  (0.03506051343224235, 0.0, 0.0701210268644847)\n",
      "\n",
      "factors:  40 , thr:  0.8 , top_k:  20 , filter_liked:  False\n"
     ]
    },
    {
     "data": {
      "application/vnd.jupyter.widget-view+json": {
       "model_id": "520060df56a54528b4f15dad1b1a49f9",
       "version_major": 2,
       "version_minor": 0
      },
      "text/plain": [
       "  0%|          | 0/15 [00:00<?, ?it/s]"
      ]
     },
     "metadata": {},
     "output_type": "display_data"
    },
    {
     "name": "stdout",
     "output_type": "stream",
     "text": [
      "total, new, all =  (0.03506051343224235, 0.0, 0.0701210268644847)\n",
      "\n",
      "factors:  40 , thr:  0.8 , top_k:  30 , filter_liked:  True\n"
     ]
    },
    {
     "data": {
      "application/vnd.jupyter.widget-view+json": {
       "model_id": "cd8fe0d3f0d246c2bba3e26a8975d6bf",
       "version_major": 2,
       "version_minor": 0
      },
      "text/plain": [
       "  0%|          | 0/15 [00:00<?, ?it/s]"
      ]
     },
     "metadata": {},
     "output_type": "display_data"
    },
    {
     "name": "stdout",
     "output_type": "stream",
     "text": [
      "total, new, all =  (0.03506051343224235, 0.0, 0.0701210268644847)\n",
      "\n",
      "factors:  40 , thr:  0.8 , top_k:  30 , filter_liked:  False\n"
     ]
    },
    {
     "data": {
      "application/vnd.jupyter.widget-view+json": {
       "model_id": "53a5a49c57be440894269c284026510f",
       "version_major": 2,
       "version_minor": 0
      },
      "text/plain": [
       "  0%|          | 0/15 [00:00<?, ?it/s]"
      ]
     },
     "metadata": {},
     "output_type": "display_data"
    },
    {
     "name": "stdout",
     "output_type": "stream",
     "text": [
      "total, new, all =  (0.03506051343224235, 0.0, 0.0701210268644847)\n",
      "\n",
      "factors:  40 , thr:  0.85 , top_k:  5 , filter_liked:  True\n"
     ]
    },
    {
     "data": {
      "application/vnd.jupyter.widget-view+json": {
       "model_id": "1f2d46bc93624e2a941e1c04dc1c88c6",
       "version_major": 2,
       "version_minor": 0
      },
      "text/plain": [
       "  0%|          | 0/15 [00:00<?, ?it/s]"
      ]
     },
     "metadata": {},
     "output_type": "display_data"
    },
    {
     "name": "stdout",
     "output_type": "stream",
     "text": [
      "total, new, all =  (0.03439449290489326, 0.0, 0.06878898580978653)\n",
      "\n",
      "factors:  40 , thr:  0.85 , top_k:  5 , filter_liked:  False\n"
     ]
    },
    {
     "data": {
      "application/vnd.jupyter.widget-view+json": {
       "model_id": "a14f8941a44f43108aee90f9c038e425",
       "version_major": 2,
       "version_minor": 0
      },
      "text/plain": [
       "  0%|          | 0/15 [00:00<?, ?it/s]"
      ]
     },
     "metadata": {},
     "output_type": "display_data"
    },
    {
     "name": "stdout",
     "output_type": "stream",
     "text": [
      "total, new, all =  (0.03439449290489326, 0.0, 0.06878898580978653)\n",
      "\n",
      "factors:  40 , thr:  0.85 , top_k:  10 , filter_liked:  True\n"
     ]
    },
    {
     "data": {
      "application/vnd.jupyter.widget-view+json": {
       "model_id": "544e35bb17054d79b0f876fb354c4f39",
       "version_major": 2,
       "version_minor": 0
      },
      "text/plain": [
       "  0%|          | 0/15 [00:00<?, ?it/s]"
      ]
     },
     "metadata": {},
     "output_type": "display_data"
    },
    {
     "name": "stdout",
     "output_type": "stream",
     "text": [
      "total, new, all =  (0.03476229528566813, 0.0, 0.06952459057133625)\n",
      "\n",
      "factors:  40 , thr:  0.85 , top_k:  10 , filter_liked:  False\n"
     ]
    },
    {
     "data": {
      "application/vnd.jupyter.widget-view+json": {
       "model_id": "eda39395660e4d52a9d0d2d0ffef5d70",
       "version_major": 2,
       "version_minor": 0
      },
      "text/plain": [
       "  0%|          | 0/15 [00:00<?, ?it/s]"
      ]
     },
     "metadata": {},
     "output_type": "display_data"
    },
    {
     "name": "stdout",
     "output_type": "stream",
     "text": [
      "total, new, all =  (0.03476229528566813, 0.0, 0.06952459057133625)\n",
      "\n",
      "factors:  40 , thr:  0.85 , top_k:  20 , filter_liked:  True\n"
     ]
    },
    {
     "data": {
      "application/vnd.jupyter.widget-view+json": {
       "model_id": "8775641a6d164c54a41474d41657fdf3",
       "version_major": 2,
       "version_minor": 0
      },
      "text/plain": [
       "  0%|          | 0/15 [00:00<?, ?it/s]"
      ]
     },
     "metadata": {},
     "output_type": "display_data"
    },
    {
     "name": "stdout",
     "output_type": "stream",
     "text": [
      "total, new, all =  (0.03476229528566813, 0.0, 0.06952459057133625)\n",
      "\n",
      "factors:  40 , thr:  0.85 , top_k:  20 , filter_liked:  False\n"
     ]
    },
    {
     "data": {
      "application/vnd.jupyter.widget-view+json": {
       "model_id": "af3a10605d0c406793df8630ce6498fa",
       "version_major": 2,
       "version_minor": 0
      },
      "text/plain": [
       "  0%|          | 0/15 [00:00<?, ?it/s]"
      ]
     },
     "metadata": {},
     "output_type": "display_data"
    },
    {
     "name": "stdout",
     "output_type": "stream",
     "text": [
      "total, new, all =  (0.03476229528566813, 0.0, 0.06952459057133625)\n",
      "\n",
      "factors:  40 , thr:  0.85 , top_k:  30 , filter_liked:  True\n"
     ]
    },
    {
     "data": {
      "application/vnd.jupyter.widget-view+json": {
       "model_id": "58987da25222418cb7e68b863c8fc867",
       "version_major": 2,
       "version_minor": 0
      },
      "text/plain": [
       "  0%|          | 0/15 [00:00<?, ?it/s]"
      ]
     },
     "metadata": {},
     "output_type": "display_data"
    },
    {
     "name": "stdout",
     "output_type": "stream",
     "text": [
      "total, new, all =  (0.03476229528566813, 0.0, 0.06952459057133625)\n",
      "\n",
      "factors:  40 , thr:  0.85 , top_k:  30 , filter_liked:  False\n"
     ]
    },
    {
     "data": {
      "application/vnd.jupyter.widget-view+json": {
       "model_id": "52b71f647ef64830b6d120c1a8035b01",
       "version_major": 2,
       "version_minor": 0
      },
      "text/plain": [
       "  0%|          | 0/15 [00:00<?, ?it/s]"
      ]
     },
     "metadata": {},
     "output_type": "display_data"
    },
    {
     "name": "stdout",
     "output_type": "stream",
     "text": [
      "total, new, all =  (0.03476229528566813, 0.0, 0.06952459057133625)\n",
      "\n",
      "factors:  40 , thr:  0.9 , top_k:  5 , filter_liked:  True\n"
     ]
    },
    {
     "data": {
      "application/vnd.jupyter.widget-view+json": {
       "model_id": "820cb525e82a4b93a09b90fc365434f0",
       "version_major": 2,
       "version_minor": 0
      },
      "text/plain": [
       "  0%|          | 0/15 [00:00<?, ?it/s]"
      ]
     },
     "metadata": {},
     "output_type": "display_data"
    },
    {
     "name": "stdout",
     "output_type": "stream",
     "text": [
      "total, new, all =  (0.03400680931434677, 0.0, 0.06801361862869354)\n",
      "\n",
      "factors:  40 , thr:  0.9 , top_k:  5 , filter_liked:  False\n"
     ]
    },
    {
     "data": {
      "application/vnd.jupyter.widget-view+json": {
       "model_id": "7b91b535911441269eca8a1b9f65f492",
       "version_major": 2,
       "version_minor": 0
      },
      "text/plain": [
       "  0%|          | 0/15 [00:00<?, ?it/s]"
      ]
     },
     "metadata": {},
     "output_type": "display_data"
    },
    {
     "name": "stdout",
     "output_type": "stream",
     "text": [
      "total, new, all =  (0.03400680931434677, 0.0, 0.06801361862869354)\n",
      "\n",
      "factors:  40 , thr:  0.9 , top_k:  10 , filter_liked:  True\n"
     ]
    },
    {
     "data": {
      "application/vnd.jupyter.widget-view+json": {
       "model_id": "8d5a42e63c4745c5948337a188b43a8a",
       "version_major": 2,
       "version_minor": 0
      },
      "text/plain": [
       "  0%|          | 0/15 [00:00<?, ?it/s]"
      ]
     },
     "metadata": {},
     "output_type": "display_data"
    },
    {
     "name": "stdout",
     "output_type": "stream",
     "text": [
      "total, new, all =  (0.034344789880464216, 0.0, 0.06868957976092843)\n",
      "\n",
      "factors:  40 , thr:  0.9 , top_k:  10 , filter_liked:  False\n"
     ]
    },
    {
     "data": {
      "application/vnd.jupyter.widget-view+json": {
       "model_id": "d52c42cbc9a242f9b2f9983a2af5b156",
       "version_major": 2,
       "version_minor": 0
      },
      "text/plain": [
       "  0%|          | 0/15 [00:00<?, ?it/s]"
      ]
     },
     "metadata": {},
     "output_type": "display_data"
    },
    {
     "name": "stdout",
     "output_type": "stream",
     "text": [
      "total, new, all =  (0.034344789880464216, 0.0, 0.06868957976092843)\n",
      "\n",
      "factors:  40 , thr:  0.9 , top_k:  20 , filter_liked:  True\n"
     ]
    },
    {
     "data": {
      "application/vnd.jupyter.widget-view+json": {
       "model_id": "c560f617b77843d1a1dcac931a4c62ef",
       "version_major": 2,
       "version_minor": 0
      },
      "text/plain": [
       "  0%|          | 0/15 [00:00<?, ?it/s]"
      ]
     },
     "metadata": {},
     "output_type": "display_data"
    },
    {
     "name": "stdout",
     "output_type": "stream",
     "text": [
      "total, new, all =  (0.034344789880464216, 0.0, 0.06868957976092843)\n",
      "\n",
      "factors:  40 , thr:  0.9 , top_k:  20 , filter_liked:  False\n"
     ]
    },
    {
     "data": {
      "application/vnd.jupyter.widget-view+json": {
       "model_id": "37b77de127574b339f9b0fbe005ab415",
       "version_major": 2,
       "version_minor": 0
      },
      "text/plain": [
       "  0%|          | 0/15 [00:00<?, ?it/s]"
      ]
     },
     "metadata": {},
     "output_type": "display_data"
    },
    {
     "name": "stdout",
     "output_type": "stream",
     "text": [
      "total, new, all =  (0.034344789880464216, 0.0, 0.06868957976092843)\n",
      "\n",
      "factors:  40 , thr:  0.9 , top_k:  30 , filter_liked:  True\n"
     ]
    },
    {
     "data": {
      "application/vnd.jupyter.widget-view+json": {
       "model_id": "6620930468b94ddd970ade9feb4550d7",
       "version_major": 2,
       "version_minor": 0
      },
      "text/plain": [
       "  0%|          | 0/15 [00:00<?, ?it/s]"
      ]
     },
     "metadata": {},
     "output_type": "display_data"
    },
    {
     "name": "stdout",
     "output_type": "stream",
     "text": [
      "total, new, all =  (0.034344789880464216, 0.0, 0.06868957976092843)\n",
      "\n",
      "factors:  40 , thr:  0.9 , top_k:  30 , filter_liked:  False\n"
     ]
    },
    {
     "data": {
      "application/vnd.jupyter.widget-view+json": {
       "model_id": "edae8811dfb14281a029d1e894930486",
       "version_major": 2,
       "version_minor": 0
      },
      "text/plain": [
       "  0%|          | 0/15 [00:00<?, ?it/s]"
      ]
     },
     "metadata": {},
     "output_type": "display_data"
    },
    {
     "name": "stdout",
     "output_type": "stream",
     "text": [
      "total, new, all =  (0.034344789880464216, 0.0, 0.06868957976092843)\n",
      "\n",
      "factors:  50 , thr:  0.7 , top_k:  5 , filter_liked:  True\n"
     ]
    },
    {
     "data": {
      "application/vnd.jupyter.widget-view+json": {
       "model_id": "69cebc13313d429381185a9838b6b7e1",
       "version_major": 2,
       "version_minor": 0
      },
      "text/plain": [
       "  0%|          | 0/15 [00:00<?, ?it/s]"
      ]
     },
     "metadata": {},
     "output_type": "display_data"
    },
    {
     "name": "stdout",
     "output_type": "stream",
     "text": [
      "total, new, all =  (0.03593031635975049, 0.0, 0.07186063271950098)\n",
      "\n",
      "factors:  50 , thr:  0.7 , top_k:  5 , filter_liked:  False\n"
     ]
    },
    {
     "data": {
      "application/vnd.jupyter.widget-view+json": {
       "model_id": "433bf0fb924746768a7a7ad8e786148c",
       "version_major": 2,
       "version_minor": 0
      },
      "text/plain": [
       "  0%|          | 0/15 [00:00<?, ?it/s]"
      ]
     },
     "metadata": {},
     "output_type": "display_data"
    },
    {
     "name": "stdout",
     "output_type": "stream",
     "text": [
      "total, new, all =  (0.03593031635975049, 0.0, 0.07186063271950098)\n",
      "\n",
      "factors:  50 , thr:  0.7 , top_k:  10 , filter_liked:  True\n"
     ]
    },
    {
     "data": {
      "application/vnd.jupyter.widget-view+json": {
       "model_id": "50b34d7101aa496aaeb7b31292642fcb",
       "version_major": 2,
       "version_minor": 0
      },
      "text/plain": [
       "  0%|          | 0/15 [00:00<?, ?it/s]"
      ]
     },
     "metadata": {},
     "output_type": "display_data"
    },
    {
     "name": "stdout",
     "output_type": "stream",
     "text": [
      "total, new, all =  (0.03640249509182634, 0.0, 0.07280499018365268)\n",
      "\n",
      "factors:  50 , thr:  0.7 , top_k:  10 , filter_liked:  False\n"
     ]
    },
    {
     "data": {
      "application/vnd.jupyter.widget-view+json": {
       "model_id": "a41075aabe394cbbb5b3f02815a2012c",
       "version_major": 2,
       "version_minor": 0
      },
      "text/plain": [
       "  0%|          | 0/15 [00:00<?, ?it/s]"
      ]
     },
     "metadata": {},
     "output_type": "display_data"
    },
    {
     "name": "stdout",
     "output_type": "stream",
     "text": [
      "total, new, all =  (0.03640249509182634, 0.0, 0.07280499018365268)\n",
      "\n",
      "factors:  50 , thr:  0.7 , top_k:  20 , filter_liked:  True\n"
     ]
    },
    {
     "data": {
      "application/vnd.jupyter.widget-view+json": {
       "model_id": "75ccf7a5886f423c80bd429398268fb7",
       "version_major": 2,
       "version_minor": 0
      },
      "text/plain": [
       "  0%|          | 0/15 [00:00<?, ?it/s]"
      ]
     },
     "metadata": {},
     "output_type": "display_data"
    },
    {
     "name": "stdout",
     "output_type": "stream",
     "text": [
      "total, new, all =  (0.036404980243047794, 0.0, 0.07280996048609559)\n",
      "\n",
      "factors:  50 , thr:  0.7 , top_k:  20 , filter_liked:  False\n"
     ]
    },
    {
     "data": {
      "application/vnd.jupyter.widget-view+json": {
       "model_id": "dce417eab67d4e4c85bae5ab58aca092",
       "version_major": 2,
       "version_minor": 0
      },
      "text/plain": [
       "  0%|          | 0/15 [00:00<?, ?it/s]"
      ]
     },
     "metadata": {},
     "output_type": "display_data"
    },
    {
     "name": "stdout",
     "output_type": "stream",
     "text": [
      "total, new, all =  (0.036404980243047794, 0.0, 0.07280996048609559)\n",
      "\n",
      "factors:  50 , thr:  0.7 , top_k:  30 , filter_liked:  True\n"
     ]
    },
    {
     "data": {
      "application/vnd.jupyter.widget-view+json": {
       "model_id": "305f8a7e3cea4da0a473f33d81b31d71",
       "version_major": 2,
       "version_minor": 0
      },
      "text/plain": [
       "  0%|          | 0/15 [00:00<?, ?it/s]"
      ]
     },
     "metadata": {},
     "output_type": "display_data"
    },
    {
     "name": "stdout",
     "output_type": "stream",
     "text": [
      "total, new, all =  (0.036404980243047794, 0.0, 0.07280996048609559)\n",
      "\n",
      "factors:  50 , thr:  0.7 , top_k:  30 , filter_liked:  False\n"
     ]
    },
    {
     "data": {
      "application/vnd.jupyter.widget-view+json": {
       "model_id": "5094afe78bb444dfa63d3cc61aae24fd",
       "version_major": 2,
       "version_minor": 0
      },
      "text/plain": [
       "  0%|          | 0/15 [00:00<?, ?it/s]"
      ]
     },
     "metadata": {},
     "output_type": "display_data"
    },
    {
     "name": "stdout",
     "output_type": "stream",
     "text": [
      "total, new, all =  (0.036404980243047794, 0.0, 0.07280996048609559)\n",
      "\n",
      "factors:  50 , thr:  0.75 , top_k:  5 , filter_liked:  True\n"
     ]
    },
    {
     "data": {
      "application/vnd.jupyter.widget-view+json": {
       "model_id": "49496c96895f48bc8aeb55217cc84b2d",
       "version_major": 2,
       "version_minor": 0
      },
      "text/plain": [
       "  0%|          | 0/15 [00:00<?, ?it/s]"
      ]
     },
     "metadata": {},
     "output_type": "display_data"
    },
    {
     "name": "stdout",
     "output_type": "stream",
     "text": [
      "total, new, all =  (0.035746415169363055, 0.0, 0.07149283033872611)\n",
      "\n",
      "factors:  50 , thr:  0.75 , top_k:  5 , filter_liked:  False\n"
     ]
    },
    {
     "data": {
      "application/vnd.jupyter.widget-view+json": {
       "model_id": "8fc495220a1a484e9bb9adf46da1f530",
       "version_major": 2,
       "version_minor": 0
      },
      "text/plain": [
       "  0%|          | 0/15 [00:00<?, ?it/s]"
      ]
     },
     "metadata": {},
     "output_type": "display_data"
    },
    {
     "name": "stdout",
     "output_type": "stream",
     "text": [
      "total, new, all =  (0.035746415169363055, 0.0, 0.07149283033872611)\n",
      "\n",
      "factors:  50 , thr:  0.75 , top_k:  10 , filter_liked:  True\n"
     ]
    },
    {
     "data": {
      "application/vnd.jupyter.widget-view+json": {
       "model_id": "bb8aa76156f540a18537a2387bd6d790",
       "version_major": 2,
       "version_minor": 0
      },
      "text/plain": [
       "  0%|          | 0/15 [00:00<?, ?it/s]"
      ]
     },
     "metadata": {},
     "output_type": "display_data"
    },
    {
     "name": "stdout",
     "output_type": "stream",
     "text": [
      "total, new, all =  (0.036188772086781486, 0.0, 0.07237754417356297)\n",
      "\n",
      "factors:  50 , thr:  0.75 , top_k:  10 , filter_liked:  False\n"
     ]
    },
    {
     "data": {
      "application/vnd.jupyter.widget-view+json": {
       "model_id": "50e5994af7cf48698ea948cd7f1c27f0",
       "version_major": 2,
       "version_minor": 0
      },
      "text/plain": [
       "  0%|          | 0/15 [00:00<?, ?it/s]"
      ]
     },
     "metadata": {},
     "output_type": "display_data"
    },
    {
     "name": "stdout",
     "output_type": "stream",
     "text": [
      "total, new, all =  (0.036188772086781486, 0.0, 0.07237754417356297)\n",
      "\n",
      "factors:  50 , thr:  0.75 , top_k:  20 , filter_liked:  True\n"
     ]
    },
    {
     "data": {
      "application/vnd.jupyter.widget-view+json": {
       "model_id": "f7de9665eabb4d8f88c0d5cc39fdad2c",
       "version_major": 2,
       "version_minor": 0
      },
      "text/plain": [
       "  0%|          | 0/15 [00:00<?, ?it/s]"
      ]
     },
     "metadata": {},
     "output_type": "display_data"
    },
    {
     "name": "stdout",
     "output_type": "stream",
     "text": [
      "total, new, all =  (0.03619001466239221, 0.0, 0.07238002932478442)\n",
      "\n",
      "factors:  50 , thr:  0.75 , top_k:  20 , filter_liked:  False\n"
     ]
    },
    {
     "data": {
      "application/vnd.jupyter.widget-view+json": {
       "model_id": "cb94207edba54f7286e8eb6199b05ec4",
       "version_major": 2,
       "version_minor": 0
      },
      "text/plain": [
       "  0%|          | 0/15 [00:00<?, ?it/s]"
      ]
     },
     "metadata": {},
     "output_type": "display_data"
    },
    {
     "name": "stdout",
     "output_type": "stream",
     "text": [
      "total, new, all =  (0.03619001466239221, 0.0, 0.07238002932478442)\n",
      "\n",
      "factors:  50 , thr:  0.75 , top_k:  30 , filter_liked:  True\n"
     ]
    },
    {
     "data": {
      "application/vnd.jupyter.widget-view+json": {
       "model_id": "176697c5d9a1435c91510657c58d2fe5",
       "version_major": 2,
       "version_minor": 0
      },
      "text/plain": [
       "  0%|          | 0/15 [00:00<?, ?it/s]"
      ]
     },
     "metadata": {},
     "output_type": "display_data"
    },
    {
     "name": "stdout",
     "output_type": "stream",
     "text": [
      "total, new, all =  (0.03619001466239221, 0.0, 0.07238002932478442)\n",
      "\n",
      "factors:  50 , thr:  0.75 , top_k:  30 , filter_liked:  False\n"
     ]
    },
    {
     "data": {
      "application/vnd.jupyter.widget-view+json": {
       "model_id": "8887515906014e6da12d3cc393dff61b",
       "version_major": 2,
       "version_minor": 0
      },
      "text/plain": [
       "  0%|          | 0/15 [00:00<?, ?it/s]"
      ]
     },
     "metadata": {},
     "output_type": "display_data"
    },
    {
     "name": "stdout",
     "output_type": "stream",
     "text": [
      "total, new, all =  (0.03619001466239221, 0.0, 0.07238002932478442)\n",
      "\n",
      "factors:  50 , thr:  0.8 , top_k:  5 , filter_liked:  True\n"
     ]
    },
    {
     "data": {
      "application/vnd.jupyter.widget-view+json": {
       "model_id": "3314166369ea4fcab71ff87d1ee8ea1b",
       "version_major": 2,
       "version_minor": 0
      },
      "text/plain": [
       "  0%|          | 0/15 [00:00<?, ?it/s]"
      ]
     },
     "metadata": {},
     "output_type": "display_data"
    },
    {
     "name": "stdout",
     "output_type": "stream",
     "text": [
      "total, new, all =  (0.035512810954546586, 0.0, 0.07102562190909317)\n",
      "\n",
      "factors:  50 , thr:  0.8 , top_k:  5 , filter_liked:  False\n"
     ]
    },
    {
     "data": {
      "application/vnd.jupyter.widget-view+json": {
       "model_id": "39266285a60e49d681930cfa84301b4d",
       "version_major": 2,
       "version_minor": 0
      },
      "text/plain": [
       "  0%|          | 0/15 [00:00<?, ?it/s]"
      ]
     },
     "metadata": {},
     "output_type": "display_data"
    },
    {
     "name": "stdout",
     "output_type": "stream",
     "text": [
      "total, new, all =  (0.035512810954546586, 0.0, 0.07102562190909317)\n",
      "\n",
      "factors:  50 , thr:  0.8 , top_k:  10 , filter_liked:  True\n"
     ]
    },
    {
     "data": {
      "application/vnd.jupyter.widget-view+json": {
       "model_id": "ff19dd80aad24b4f84ab522a3c0f55c8",
       "version_major": 2,
       "version_minor": 0
      },
      "text/plain": [
       "  0%|          | 0/15 [00:00<?, ?it/s]"
      ]
     },
     "metadata": {},
     "output_type": "display_data"
    },
    {
     "name": "stdout",
     "output_type": "stream",
     "text": [
      "total, new, all =  (0.035935286662193394, 0.0, 0.07187057332438679)\n",
      "\n",
      "factors:  50 , thr:  0.8 , top_k:  10 , filter_liked:  False\n"
     ]
    },
    {
     "data": {
      "application/vnd.jupyter.widget-view+json": {
       "model_id": "7b5af025ead64dc6809ae4688045903d",
       "version_major": 2,
       "version_minor": 0
      },
      "text/plain": [
       "  0%|          | 0/15 [00:00<?, ?it/s]"
      ]
     },
     "metadata": {},
     "output_type": "display_data"
    },
    {
     "name": "stdout",
     "output_type": "stream",
     "text": [
      "total, new, all =  (0.035935286662193394, 0.0, 0.07187057332438679)\n",
      "\n",
      "factors:  50 , thr:  0.8 , top_k:  20 , filter_liked:  True\n"
     ]
    },
    {
     "data": {
      "application/vnd.jupyter.widget-view+json": {
       "model_id": "30d72c6ec2f64672941b43567713d97a",
       "version_major": 2,
       "version_minor": 0
      },
      "text/plain": [
       "  0%|          | 0/15 [00:00<?, ?it/s]"
      ]
     },
     "metadata": {},
     "output_type": "display_data"
    },
    {
     "name": "stdout",
     "output_type": "stream",
     "text": [
      "total, new, all =  (0.035936529237804125, 0.0, 0.07187305847560825)\n",
      "\n",
      "factors:  50 , thr:  0.8 , top_k:  20 , filter_liked:  False\n"
     ]
    },
    {
     "data": {
      "application/vnd.jupyter.widget-view+json": {
       "model_id": "ce5b3cabe8b641799ff4d1392d831eea",
       "version_major": 2,
       "version_minor": 0
      },
      "text/plain": [
       "  0%|          | 0/15 [00:00<?, ?it/s]"
      ]
     },
     "metadata": {},
     "output_type": "display_data"
    },
    {
     "name": "stdout",
     "output_type": "stream",
     "text": [
      "total, new, all =  (0.035936529237804125, 0.0, 0.07187305847560825)\n",
      "\n",
      "factors:  50 , thr:  0.8 , top_k:  30 , filter_liked:  True\n"
     ]
    },
    {
     "data": {
      "application/vnd.jupyter.widget-view+json": {
       "model_id": "674798f81ef84165bc8054e2801b67d1",
       "version_major": 2,
       "version_minor": 0
      },
      "text/plain": [
       "  0%|          | 0/15 [00:00<?, ?it/s]"
      ]
     },
     "metadata": {},
     "output_type": "display_data"
    },
    {
     "name": "stdout",
     "output_type": "stream",
     "text": [
      "total, new, all =  (0.035936529237804125, 0.0, 0.07187305847560825)\n",
      "\n",
      "factors:  50 , thr:  0.8 , top_k:  30 , filter_liked:  False\n"
     ]
    },
    {
     "data": {
      "application/vnd.jupyter.widget-view+json": {
       "model_id": "2c5139932e974f6cbb0e89b77f80cba8",
       "version_major": 2,
       "version_minor": 0
      },
      "text/plain": [
       "  0%|          | 0/15 [00:00<?, ?it/s]"
      ]
     },
     "metadata": {},
     "output_type": "display_data"
    },
    {
     "name": "stdout",
     "output_type": "stream",
     "text": [
      "total, new, all =  (0.035936529237804125, 0.0, 0.07187305847560825)\n",
      "\n",
      "factors:  50 , thr:  0.85 , top_k:  5 , filter_liked:  True\n"
     ]
    },
    {
     "data": {
      "application/vnd.jupyter.widget-view+json": {
       "model_id": "e452dcaec40c490f9776ced6416660be",
       "version_major": 2,
       "version_minor": 0
      },
      "text/plain": [
       "  0%|          | 0/15 [00:00<?, ?it/s]"
      ]
     },
     "metadata": {},
     "output_type": "display_data"
    },
    {
     "name": "stdout",
     "output_type": "stream",
     "text": [
      "total, new, all =  (0.035224533412858174, 0.0, 0.07044906682571635)\n",
      "\n",
      "factors:  50 , thr:  0.85 , top_k:  5 , filter_liked:  False\n"
     ]
    },
    {
     "data": {
      "application/vnd.jupyter.widget-view+json": {
       "model_id": "d11abe8c777841f7ac4798929b0310da",
       "version_major": 2,
       "version_minor": 0
      },
      "text/plain": [
       "  0%|          | 0/15 [00:00<?, ?it/s]"
      ]
     },
     "metadata": {},
     "output_type": "display_data"
    },
    {
     "name": "stdout",
     "output_type": "stream",
     "text": [
      "total, new, all =  (0.035224533412858174, 0.0, 0.07044906682571635)\n",
      "\n",
      "factors:  50 , thr:  0.85 , top_k:  10 , filter_liked:  True\n"
     ]
    },
    {
     "data": {
      "application/vnd.jupyter.widget-view+json": {
       "model_id": "2a06d8a8853c49179328e8f34bcb7efd",
       "version_major": 2,
       "version_minor": 0
      },
      "text/plain": [
       "  0%|          | 0/15 [00:00<?, ?it/s]"
      ]
     },
     "metadata": {},
     "output_type": "display_data"
    },
    {
     "name": "stdout",
     "output_type": "stream",
     "text": [
      "total, new, all =  (0.03561718730584756, 0.0, 0.07123437461169511)\n",
      "\n",
      "factors:  50 , thr:  0.85 , top_k:  10 , filter_liked:  False\n"
     ]
    },
    {
     "data": {
      "application/vnd.jupyter.widget-view+json": {
       "model_id": "3ea6b6db3b03440484e990f80daebd32",
       "version_major": 2,
       "version_minor": 0
      },
      "text/plain": [
       "  0%|          | 0/15 [00:00<?, ?it/s]"
      ]
     },
     "metadata": {},
     "output_type": "display_data"
    },
    {
     "name": "stdout",
     "output_type": "stream",
     "text": [
      "total, new, all =  (0.03561718730584756, 0.0, 0.07123437461169511)\n",
      "\n",
      "factors:  50 , thr:  0.85 , top_k:  20 , filter_liked:  True\n"
     ]
    },
    {
     "data": {
      "application/vnd.jupyter.widget-view+json": {
       "model_id": "bf98369ad41747ce8616703e1487a9bd",
       "version_major": 2,
       "version_minor": 0
      },
      "text/plain": [
       "  0%|          | 0/15 [00:00<?, ?it/s]"
      ]
     },
     "metadata": {},
     "output_type": "display_data"
    },
    {
     "name": "stdout",
     "output_type": "stream",
     "text": [
      "total, new, all =  (0.03561842988145828, 0.0, 0.07123685976291656)\n",
      "\n",
      "factors:  50 , thr:  0.85 , top_k:  20 , filter_liked:  False\n"
     ]
    },
    {
     "data": {
      "application/vnd.jupyter.widget-view+json": {
       "model_id": "c8b9906b110e46ccb8866e4ba8aba2b5",
       "version_major": 2,
       "version_minor": 0
      },
      "text/plain": [
       "  0%|          | 0/15 [00:00<?, ?it/s]"
      ]
     },
     "metadata": {},
     "output_type": "display_data"
    },
    {
     "name": "stdout",
     "output_type": "stream",
     "text": [
      "total, new, all =  (0.03561842988145828, 0.0, 0.07123685976291656)\n",
      "\n",
      "factors:  50 , thr:  0.85 , top_k:  30 , filter_liked:  True\n"
     ]
    },
    {
     "data": {
      "application/vnd.jupyter.widget-view+json": {
       "model_id": "8b42d506af4f441bb87c2ca2a936a8a1",
       "version_major": 2,
       "version_minor": 0
      },
      "text/plain": [
       "  0%|          | 0/15 [00:00<?, ?it/s]"
      ]
     },
     "metadata": {},
     "output_type": "display_data"
    },
    {
     "name": "stdout",
     "output_type": "stream",
     "text": [
      "total, new, all =  (0.03561842988145828, 0.0, 0.07123685976291656)\n",
      "\n",
      "factors:  50 , thr:  0.85 , top_k:  30 , filter_liked:  False\n"
     ]
    },
    {
     "data": {
      "application/vnd.jupyter.widget-view+json": {
       "model_id": "3d0cf7ff46e24c958b6afc864c872c45",
       "version_major": 2,
       "version_minor": 0
      },
      "text/plain": [
       "  0%|          | 0/15 [00:00<?, ?it/s]"
      ]
     },
     "metadata": {},
     "output_type": "display_data"
    },
    {
     "name": "stdout",
     "output_type": "stream",
     "text": [
      "total, new, all =  (0.03561842988145828, 0.0, 0.07123685976291656)\n",
      "\n",
      "factors:  50 , thr:  0.9 , top_k:  5 , filter_liked:  True\n"
     ]
    },
    {
     "data": {
      "application/vnd.jupyter.widget-view+json": {
       "model_id": "5350dcfe27784b79ae83b8a532469887",
       "version_major": 2,
       "version_minor": 0
      },
      "text/plain": [
       "  0%|          | 0/15 [00:00<?, ?it/s]"
      ]
     },
     "metadata": {},
     "output_type": "display_data"
    },
    {
     "name": "stdout",
     "output_type": "stream",
     "text": [
      "total, new, all =  (0.0349958995004846, 0.0, 0.0699917990009692)\n",
      "\n",
      "factors:  50 , thr:  0.9 , top_k:  5 , filter_liked:  False\n"
     ]
    },
    {
     "data": {
      "application/vnd.jupyter.widget-view+json": {
       "model_id": "723e01be9b0f4970abe0c72db9422ba6",
       "version_major": 2,
       "version_minor": 0
      },
      "text/plain": [
       "  0%|          | 0/15 [00:00<?, ?it/s]"
      ]
     },
     "metadata": {},
     "output_type": "display_data"
    },
    {
     "name": "stdout",
     "output_type": "stream",
     "text": [
      "total, new, all =  (0.0349958995004846, 0.0, 0.0699917990009692)\n",
      "\n",
      "factors:  50 , thr:  0.9 , top_k:  10 , filter_liked:  True\n"
     ]
    },
    {
     "data": {
      "application/vnd.jupyter.widget-view+json": {
       "model_id": "552210bd556e4a7ab856f4851e5529d8",
       "version_major": 2,
       "version_minor": 0
      },
      "text/plain": [
       "  0%|          | 0/15 [00:00<?, ?it/s]"
      ]
     },
     "metadata": {},
     "output_type": "display_data"
    },
    {
     "name": "stdout",
     "output_type": "stream",
     "text": [
      "total, new, all =  (0.03536867218370237, 0.0, 0.07073734436740474)\n",
      "\n",
      "factors:  50 , thr:  0.9 , top_k:  10 , filter_liked:  False\n"
     ]
    },
    {
     "data": {
      "application/vnd.jupyter.widget-view+json": {
       "model_id": "92d4724d1d4b4512945aa20e211f8948",
       "version_major": 2,
       "version_minor": 0
      },
      "text/plain": [
       "  0%|          | 0/15 [00:00<?, ?it/s]"
      ]
     },
     "metadata": {},
     "output_type": "display_data"
    },
    {
     "name": "stdout",
     "output_type": "stream",
     "text": [
      "total, new, all =  (0.03536867218370237, 0.0, 0.07073734436740474)\n",
      "\n",
      "factors:  50 , thr:  0.9 , top_k:  20 , filter_liked:  True\n"
     ]
    },
    {
     "data": {
      "application/vnd.jupyter.widget-view+json": {
       "model_id": "d3f50dd2950c42ab93539385add52bca",
       "version_major": 2,
       "version_minor": 0
      },
      "text/plain": [
       "  0%|          | 0/15 [00:00<?, ?it/s]"
      ]
     },
     "metadata": {},
     "output_type": "display_data"
    },
    {
     "name": "stdout",
     "output_type": "stream",
     "text": [
      "total, new, all =  (0.0353699147593131, 0.0, 0.0707398295186262)\n",
      "\n",
      "factors:  50 , thr:  0.9 , top_k:  20 , filter_liked:  False\n"
     ]
    },
    {
     "data": {
      "application/vnd.jupyter.widget-view+json": {
       "model_id": "25bda436d3a5454f82d68048fada383d",
       "version_major": 2,
       "version_minor": 0
      },
      "text/plain": [
       "  0%|          | 0/15 [00:00<?, ?it/s]"
      ]
     },
     "metadata": {},
     "output_type": "display_data"
    },
    {
     "name": "stdout",
     "output_type": "stream",
     "text": [
      "total, new, all =  (0.0353699147593131, 0.0, 0.0707398295186262)\n",
      "\n",
      "factors:  50 , thr:  0.9 , top_k:  30 , filter_liked:  True\n"
     ]
    },
    {
     "data": {
      "application/vnd.jupyter.widget-view+json": {
       "model_id": "e83cc4bf846b4652acc49ce71a2251ad",
       "version_major": 2,
       "version_minor": 0
      },
      "text/plain": [
       "  0%|          | 0/15 [00:00<?, ?it/s]"
      ]
     },
     "metadata": {},
     "output_type": "display_data"
    },
    {
     "name": "stdout",
     "output_type": "stream",
     "text": [
      "total, new, all =  (0.0353699147593131, 0.0, 0.0707398295186262)\n",
      "\n",
      "factors:  50 , thr:  0.9 , top_k:  30 , filter_liked:  False\n"
     ]
    },
    {
     "data": {
      "application/vnd.jupyter.widget-view+json": {
       "model_id": "170a3530b5c84614883c58092480a0ee",
       "version_major": 2,
       "version_minor": 0
      },
      "text/plain": [
       "  0%|          | 0/15 [00:00<?, ?it/s]"
      ]
     },
     "metadata": {},
     "output_type": "display_data"
    },
    {
     "name": "stdout",
     "output_type": "stream",
     "text": [
      "total, new, all =  (0.0353699147593131, 0.0, 0.0707398295186262)\n",
      "\n",
      "factors:  60 , thr:  0.7 , top_k:  5 , filter_liked:  True\n"
     ]
    },
    {
     "data": {
      "application/vnd.jupyter.widget-view+json": {
       "model_id": "6557da4f531142ab8730bd300974e89d",
       "version_major": 2,
       "version_minor": 0
      },
      "text/plain": [
       "  0%|          | 0/15 [00:00<?, ?it/s]"
      ]
     },
     "metadata": {},
     "output_type": "display_data"
    },
    {
     "name": "stdout",
     "output_type": "stream",
     "text": [
      "total, new, all =  (0.03659136658465667, 0.0, 0.07318273316931334)\n",
      "\n",
      "factors:  60 , thr:  0.7 , top_k:  5 , filter_liked:  False\n"
     ]
    },
    {
     "data": {
      "application/vnd.jupyter.widget-view+json": {
       "model_id": "56cb8bb9591340e6a6f5d16b38674487",
       "version_major": 2,
       "version_minor": 0
      },
      "text/plain": [
       "  0%|          | 0/15 [00:00<?, ?it/s]"
      ]
     },
     "metadata": {},
     "output_type": "display_data"
    },
    {
     "name": "stdout",
     "output_type": "stream",
     "text": [
      "total, new, all =  (0.03659136658465667, 0.0, 0.07318273316931334)\n",
      "\n",
      "factors:  60 , thr:  0.7 , top_k:  10 , filter_liked:  True\n"
     ]
    },
    {
     "data": {
      "application/vnd.jupyter.widget-view+json": {
       "model_id": "5ca3232bd4d149ca8f1fa977da3cca3b",
       "version_major": 2,
       "version_minor": 0
      },
      "text/plain": [
       "  0%|          | 0/15 [00:00<?, ?it/s]"
      ]
     },
     "metadata": {},
     "output_type": "display_data"
    },
    {
     "name": "stdout",
     "output_type": "stream",
     "text": [
      "total, new, all =  (0.0371728919704764, 0.0, 0.0743457839409528)\n",
      "\n",
      "factors:  60 , thr:  0.7 , top_k:  10 , filter_liked:  False\n"
     ]
    },
    {
     "data": {
      "application/vnd.jupyter.widget-view+json": {
       "model_id": "f8910be0f12240729e02b5e22f535df4",
       "version_major": 2,
       "version_minor": 0
      },
      "text/plain": [
       "  0%|          | 0/15 [00:00<?, ?it/s]"
      ]
     },
     "metadata": {},
     "output_type": "display_data"
    },
    {
     "name": "stdout",
     "output_type": "stream",
     "text": [
      "total, new, all =  (0.0371728919704764, 0.0, 0.0743457839409528)\n",
      "\n",
      "factors:  60 , thr:  0.7 , top_k:  20 , filter_liked:  True\n"
     ]
    },
    {
     "data": {
      "application/vnd.jupyter.widget-view+json": {
       "model_id": "2ecd5d8a60fb408e97acf5dc52b0b78c",
       "version_major": 2,
       "version_minor": 0
      },
      "text/plain": [
       "  0%|          | 0/15 [00:00<?, ?it/s]"
      ]
     },
     "metadata": {},
     "output_type": "display_data"
    },
    {
     "name": "stdout",
     "output_type": "stream",
     "text": [
      "total, new, all =  (0.03717537712169785, 0.0, 0.0743507542433957)\n",
      "\n",
      "factors:  60 , thr:  0.7 , top_k:  20 , filter_liked:  False\n"
     ]
    },
    {
     "data": {
      "application/vnd.jupyter.widget-view+json": {
       "model_id": "9d52cdbe86cb42bc828a42d85cba438b",
       "version_major": 2,
       "version_minor": 0
      },
      "text/plain": [
       "  0%|          | 0/15 [00:00<?, ?it/s]"
      ]
     },
     "metadata": {},
     "output_type": "display_data"
    },
    {
     "name": "stdout",
     "output_type": "stream",
     "text": [
      "total, new, all =  (0.03717537712169785, 0.0, 0.0743507542433957)\n",
      "\n",
      "factors:  60 , thr:  0.7 , top_k:  30 , filter_liked:  True\n"
     ]
    },
    {
     "data": {
      "application/vnd.jupyter.widget-view+json": {
       "model_id": "1a9cb9209c634c08b13f83c0d32de7e7",
       "version_major": 2,
       "version_minor": 0
      },
      "text/plain": [
       "  0%|          | 0/15 [00:00<?, ?it/s]"
      ]
     },
     "metadata": {},
     "output_type": "display_data"
    },
    {
     "name": "stdout",
     "output_type": "stream",
     "text": [
      "total, new, all =  (0.03717537712169785, 0.0, 0.0743507542433957)\n",
      "\n",
      "factors:  60 , thr:  0.7 , top_k:  30 , filter_liked:  False\n"
     ]
    },
    {
     "data": {
      "application/vnd.jupyter.widget-view+json": {
       "model_id": "984d2b4663494355aebe695c94db9866",
       "version_major": 2,
       "version_minor": 0
      },
      "text/plain": [
       "  0%|          | 0/15 [00:00<?, ?it/s]"
      ]
     },
     "metadata": {},
     "output_type": "display_data"
    },
    {
     "name": "stdout",
     "output_type": "stream",
     "text": [
      "total, new, all =  (0.03717537712169785, 0.0, 0.0743507542433957)\n",
      "\n",
      "factors:  60 , thr:  0.75 , top_k:  5 , filter_liked:  True\n"
     ]
    },
    {
     "data": {
      "application/vnd.jupyter.widget-view+json": {
       "model_id": "1fecc214036944d7bb2c16ee52bbccdc",
       "version_major": 2,
       "version_minor": 0
      },
      "text/plain": [
       "  0%|          | 0/15 [00:00<?, ?it/s]"
      ]
     },
     "metadata": {},
     "output_type": "display_data"
    },
    {
     "name": "stdout",
     "output_type": "stream",
     "text": [
      "total, new, all =  (0.03647207932602699, 0.0, 0.07294415865205398)\n",
      "\n",
      "factors:  60 , thr:  0.75 , top_k:  5 , filter_liked:  False\n"
     ]
    },
    {
     "data": {
      "application/vnd.jupyter.widget-view+json": {
       "model_id": "df772ead7668483db2c26b7381c42273",
       "version_major": 2,
       "version_minor": 0
      },
      "text/plain": [
       "  0%|          | 0/15 [00:00<?, ?it/s]"
      ]
     },
     "metadata": {},
     "output_type": "display_data"
    },
    {
     "name": "stdout",
     "output_type": "stream",
     "text": [
      "total, new, all =  (0.03647207932602699, 0.0, 0.07294415865205398)\n",
      "\n",
      "factors:  60 , thr:  0.75 , top_k:  10 , filter_liked:  True\n"
     ]
    },
    {
     "data": {
      "application/vnd.jupyter.widget-view+json": {
       "model_id": "d9d537c2a93e433aa4287ba361dfe663",
       "version_major": 2,
       "version_minor": 0
      },
      "text/plain": [
       "  0%|          | 0/15 [00:00<?, ?it/s]"
      ]
     },
     "metadata": {},
     "output_type": "display_data"
    },
    {
     "name": "stdout",
     "output_type": "stream",
     "text": [
      "total, new, all =  (0.0370287531996322, 0.0, 0.0740575063992644)\n",
      "\n",
      "factors:  60 , thr:  0.75 , top_k:  10 , filter_liked:  False\n"
     ]
    },
    {
     "data": {
      "application/vnd.jupyter.widget-view+json": {
       "model_id": "2b9ed7e467ad457ab941a89561f7b1fc",
       "version_major": 2,
       "version_minor": 0
      },
      "text/plain": [
       "  0%|          | 0/15 [00:00<?, ?it/s]"
      ]
     },
     "metadata": {},
     "output_type": "display_data"
    },
    {
     "name": "stdout",
     "output_type": "stream",
     "text": [
      "total, new, all =  (0.0370287531996322, 0.0, 0.0740575063992644)\n",
      "\n",
      "factors:  60 , thr:  0.75 , top_k:  20 , filter_liked:  True\n"
     ]
    },
    {
     "data": {
      "application/vnd.jupyter.widget-view+json": {
       "model_id": "d19e77136b5142f8ab542e0b34851307",
       "version_major": 2,
       "version_minor": 0
      },
      "text/plain": [
       "  0%|          | 0/15 [00:00<?, ?it/s]"
      ]
     },
     "metadata": {},
     "output_type": "display_data"
    },
    {
     "name": "stdout",
     "output_type": "stream",
     "text": [
      "total, new, all =  (0.037031238350853646, 0.0, 0.07406247670170729)\n",
      "\n",
      "factors:  60 , thr:  0.75 , top_k:  20 , filter_liked:  False\n"
     ]
    },
    {
     "data": {
      "application/vnd.jupyter.widget-view+json": {
       "model_id": "7cf86d84b7144014af89640d6d0a34d3",
       "version_major": 2,
       "version_minor": 0
      },
      "text/plain": [
       "  0%|          | 0/15 [00:00<?, ?it/s]"
      ]
     },
     "metadata": {},
     "output_type": "display_data"
    },
    {
     "name": "stdout",
     "output_type": "stream",
     "text": [
      "total, new, all =  (0.037031238350853646, 0.0, 0.07406247670170729)\n",
      "\n",
      "factors:  60 , thr:  0.75 , top_k:  30 , filter_liked:  True\n"
     ]
    },
    {
     "data": {
      "application/vnd.jupyter.widget-view+json": {
       "model_id": "831320e1ed3d41289d8208e60a4c0f95",
       "version_major": 2,
       "version_minor": 0
      },
      "text/plain": [
       "  0%|          | 0/15 [00:00<?, ?it/s]"
      ]
     },
     "metadata": {},
     "output_type": "display_data"
    },
    {
     "name": "stdout",
     "output_type": "stream",
     "text": [
      "total, new, all =  (0.037031238350853646, 0.0, 0.07406247670170729)\n",
      "\n",
      "factors:  60 , thr:  0.75 , top_k:  30 , filter_liked:  False\n"
     ]
    },
    {
     "data": {
      "application/vnd.jupyter.widget-view+json": {
       "model_id": "4651c220cc4f4982b4506fb5e50104eb",
       "version_major": 2,
       "version_minor": 0
      },
      "text/plain": [
       "  0%|          | 0/15 [00:00<?, ?it/s]"
      ]
     },
     "metadata": {},
     "output_type": "display_data"
    },
    {
     "name": "stdout",
     "output_type": "stream",
     "text": [
      "total, new, all =  (0.037031238350853646, 0.0, 0.07406247670170729)\n",
      "\n",
      "factors:  60 , thr:  0.8 , top_k:  5 , filter_liked:  True\n"
     ]
    },
    {
     "data": {
      "application/vnd.jupyter.widget-view+json": {
       "model_id": "aa20f728dc864ed2b9f2c5e1aa60ff8e",
       "version_major": 2,
       "version_minor": 0
      },
      "text/plain": [
       "  0%|          | 0/15 [00:00<?, ?it/s]"
      ]
     },
     "metadata": {},
     "output_type": "display_data"
    },
    {
     "name": "stdout",
     "output_type": "stream",
     "text": [
      "total, new, all =  (0.03632297025273988, 0.0, 0.07264594050547976)\n",
      "\n",
      "factors:  60 , thr:  0.8 , top_k:  5 , filter_liked:  False\n"
     ]
    },
    {
     "data": {
      "application/vnd.jupyter.widget-view+json": {
       "model_id": "b404f4afdf6c4e11a97d697acd1203b5",
       "version_major": 2,
       "version_minor": 0
      },
      "text/plain": [
       "  0%|          | 0/15 [00:00<?, ?it/s]"
      ]
     },
     "metadata": {},
     "output_type": "display_data"
    },
    {
     "name": "stdout",
     "output_type": "stream",
     "text": [
      "total, new, all =  (0.03632297025273988, 0.0, 0.07264594050547976)\n",
      "\n",
      "factors:  60 , thr:  0.8 , top_k:  10 , filter_liked:  True\n"
     ]
    },
    {
     "data": {
      "application/vnd.jupyter.widget-view+json": {
       "model_id": "c4eb0387d6d6470e9da30fabf09ad831",
       "version_major": 2,
       "version_minor": 0
      },
      "text/plain": [
       "  0%|          | 0/15 [00:00<?, ?it/s]"
      ]
     },
     "metadata": {},
     "output_type": "display_data"
    },
    {
     "name": "stdout",
     "output_type": "stream",
     "text": [
      "total, new, all =  (0.03682994110191605, 0.0, 0.0736598822038321)\n",
      "\n",
      "factors:  60 , thr:  0.8 , top_k:  10 , filter_liked:  False\n"
     ]
    },
    {
     "data": {
      "application/vnd.jupyter.widget-view+json": {
       "model_id": "2ca0479045ab4b4dace2377f89f53661",
       "version_major": 2,
       "version_minor": 0
      },
      "text/plain": [
       "  0%|          | 0/15 [00:00<?, ?it/s]"
      ]
     },
     "metadata": {},
     "output_type": "display_data"
    },
    {
     "name": "stdout",
     "output_type": "stream",
     "text": [
      "total, new, all =  (0.03682994110191605, 0.0, 0.0736598822038321)\n",
      "\n",
      "factors:  60 , thr:  0.8 , top_k:  20 , filter_liked:  True\n"
     ]
    },
    {
     "data": {
      "application/vnd.jupyter.widget-view+json": {
       "model_id": "decb2577ffa34834ab827041e9dc8356",
       "version_major": 2,
       "version_minor": 0
      },
      "text/plain": [
       "  0%|          | 0/15 [00:00<?, ?it/s]"
      ]
     },
     "metadata": {},
     "output_type": "display_data"
    },
    {
     "name": "stdout",
     "output_type": "stream",
     "text": [
      "total, new, all =  (0.036832426253137505, 0.0, 0.07366485250627501)\n",
      "\n",
      "factors:  60 , thr:  0.8 , top_k:  20 , filter_liked:  False\n"
     ]
    },
    {
     "data": {
      "application/vnd.jupyter.widget-view+json": {
       "model_id": "fe9ab26f54b94d83b323ea26445a9e13",
       "version_major": 2,
       "version_minor": 0
      },
      "text/plain": [
       "  0%|          | 0/15 [00:00<?, ?it/s]"
      ]
     },
     "metadata": {},
     "output_type": "display_data"
    },
    {
     "name": "stdout",
     "output_type": "stream",
     "text": [
      "total, new, all =  (0.036832426253137505, 0.0, 0.07366485250627501)\n",
      "\n",
      "factors:  60 , thr:  0.8 , top_k:  30 , filter_liked:  True\n"
     ]
    },
    {
     "data": {
      "application/vnd.jupyter.widget-view+json": {
       "model_id": "504ef448def44941a159f9591cbbe8e5",
       "version_major": 2,
       "version_minor": 0
      },
      "text/plain": [
       "  0%|          | 0/15 [00:00<?, ?it/s]"
      ]
     },
     "metadata": {},
     "output_type": "display_data"
    },
    {
     "name": "stdout",
     "output_type": "stream",
     "text": [
      "total, new, all =  (0.036832426253137505, 0.0, 0.07366485250627501)\n",
      "\n",
      "factors:  60 , thr:  0.8 , top_k:  30 , filter_liked:  False\n"
     ]
    },
    {
     "data": {
      "application/vnd.jupyter.widget-view+json": {
       "model_id": "a4d7612855be48afb523f6bc0d33b6b1",
       "version_major": 2,
       "version_minor": 0
      },
      "text/plain": [
       "  0%|          | 0/15 [00:00<?, ?it/s]"
      ]
     },
     "metadata": {},
     "output_type": "display_data"
    },
    {
     "name": "stdout",
     "output_type": "stream",
     "text": [
      "total, new, all =  (0.036832426253137505, 0.0, 0.07366485250627501)\n",
      "\n",
      "factors:  60 , thr:  0.85 , top_k:  5 , filter_liked:  True\n"
     ]
    },
    {
     "data": {
      "application/vnd.jupyter.widget-view+json": {
       "model_id": "cea85e5a76c243fcbb8463aa899c83d6",
       "version_major": 2,
       "version_minor": 0
      },
      "text/plain": [
       "  0%|          | 0/15 [00:00<?, ?it/s]"
      ]
     },
     "metadata": {},
     "output_type": "display_data"
    },
    {
     "name": "stdout",
     "output_type": "stream",
     "text": [
      "total, new, all =  (0.036089366037923405, 0.0, 0.07217873207584681)\n",
      "\n",
      "factors:  60 , thr:  0.85 , top_k:  5 , filter_liked:  False\n"
     ]
    },
    {
     "data": {
      "application/vnd.jupyter.widget-view+json": {
       "model_id": "5a9278c91c964ad98f6b3543992299dc",
       "version_major": 2,
       "version_minor": 0
      },
      "text/plain": [
       "  0%|          | 0/15 [00:00<?, ?it/s]"
      ]
     },
     "metadata": {},
     "output_type": "display_data"
    },
    {
     "name": "stdout",
     "output_type": "stream",
     "text": [
      "total, new, all =  (0.036089366037923405, 0.0, 0.07217873207584681)\n",
      "\n",
      "factors:  60 , thr:  0.85 , top_k:  10 , filter_liked:  True\n"
     ]
    },
    {
     "data": {
      "application/vnd.jupyter.widget-view+json": {
       "model_id": "24ef8e7a261b4b0381fc237dbab6da5f",
       "version_major": 2,
       "version_minor": 0
      },
      "text/plain": [
       "  0%|          | 0/15 [00:00<?, ?it/s]"
      ]
     },
     "metadata": {},
     "output_type": "display_data"
    },
    {
     "name": "stdout",
     "output_type": "stream",
     "text": [
      "total, new, all =  (0.03658639628221377, 0.0, 0.07317279256442755)\n",
      "\n",
      "factors:  60 , thr:  0.85 , top_k:  10 , filter_liked:  False\n"
     ]
    },
    {
     "data": {
      "application/vnd.jupyter.widget-view+json": {
       "model_id": "14cde4f836ae4a8aa8ebbc6814533e36",
       "version_major": 2,
       "version_minor": 0
      },
      "text/plain": [
       "  0%|          | 0/15 [00:00<?, ?it/s]"
      ]
     },
     "metadata": {},
     "output_type": "display_data"
    },
    {
     "name": "stdout",
     "output_type": "stream",
     "text": [
      "total, new, all =  (0.03658639628221377, 0.0, 0.07317279256442755)\n",
      "\n",
      "factors:  60 , thr:  0.85 , top_k:  20 , filter_liked:  True\n"
     ]
    },
    {
     "data": {
      "application/vnd.jupyter.widget-view+json": {
       "model_id": "c3606b09db794717a3bc8c7cb0a74013",
       "version_major": 2,
       "version_minor": 0
      },
      "text/plain": [
       "  0%|          | 0/15 [00:00<?, ?it/s]"
      ]
     },
     "metadata": {},
     "output_type": "display_data"
    },
    {
     "name": "stdout",
     "output_type": "stream",
     "text": [
      "total, new, all =  (0.03658888143343522, 0.0, 0.07317776286687044)\n",
      "\n",
      "factors:  60 , thr:  0.85 , top_k:  20 , filter_liked:  False\n"
     ]
    },
    {
     "data": {
      "application/vnd.jupyter.widget-view+json": {
       "model_id": "1b39e73746f4440e87594414de4c909b",
       "version_major": 2,
       "version_minor": 0
      },
      "text/plain": [
       "  0%|          | 0/15 [00:00<?, ?it/s]"
      ]
     },
     "metadata": {},
     "output_type": "display_data"
    },
    {
     "name": "stdout",
     "output_type": "stream",
     "text": [
      "total, new, all =  (0.03658888143343522, 0.0, 0.07317776286687044)\n",
      "\n",
      "factors:  60 , thr:  0.85 , top_k:  30 , filter_liked:  True\n"
     ]
    },
    {
     "data": {
      "application/vnd.jupyter.widget-view+json": {
       "model_id": "398c672cf8c24dabb43d2c97a8e701b4",
       "version_major": 2,
       "version_minor": 0
      },
      "text/plain": [
       "  0%|          | 0/15 [00:00<?, ?it/s]"
      ]
     },
     "metadata": {},
     "output_type": "display_data"
    },
    {
     "name": "stdout",
     "output_type": "stream",
     "text": [
      "total, new, all =  (0.03658888143343522, 0.0, 0.07317776286687044)\n",
      "\n",
      "factors:  60 , thr:  0.85 , top_k:  30 , filter_liked:  False\n"
     ]
    },
    {
     "data": {
      "application/vnd.jupyter.widget-view+json": {
       "model_id": "350949a22966447296ed4223fcdcbfd5",
       "version_major": 2,
       "version_minor": 0
      },
      "text/plain": [
       "  0%|          | 0/15 [00:00<?, ?it/s]"
      ]
     },
     "metadata": {},
     "output_type": "display_data"
    },
    {
     "name": "stdout",
     "output_type": "stream",
     "text": [
      "total, new, all =  (0.03658888143343522, 0.0, 0.07317776286687044)\n",
      "\n",
      "factors:  60 , thr:  0.9 , top_k:  5 , filter_liked:  True\n"
     ]
    },
    {
     "data": {
      "application/vnd.jupyter.widget-view+json": {
       "model_id": "c5d9b050e77a433c82248b7e66dde902",
       "version_major": 2,
       "version_minor": 0
      },
      "text/plain": [
       "  0%|          | 0/15 [00:00<?, ?it/s]"
      ]
     },
     "metadata": {},
     "output_type": "display_data"
    },
    {
     "name": "stdout",
     "output_type": "stream",
     "text": [
      "total, new, all =  (0.035801088496235, 0.0, 0.07160217699247)\n",
      "\n",
      "factors:  60 , thr:  0.9 , top_k:  5 , filter_liked:  False\n"
     ]
    },
    {
     "data": {
      "application/vnd.jupyter.widget-view+json": {
       "model_id": "c530b5dd218349778037ef5a80561063",
       "version_major": 2,
       "version_minor": 0
      },
      "text/plain": [
       "  0%|          | 0/15 [00:00<?, ?it/s]"
      ]
     },
     "metadata": {},
     "output_type": "display_data"
    },
    {
     "name": "stdout",
     "output_type": "stream",
     "text": [
      "total, new, all =  (0.035801088496235, 0.0, 0.07160217699247)\n",
      "\n",
      "factors:  60 , thr:  0.9 , top_k:  10 , filter_liked:  True\n"
     ]
    },
    {
     "data": {
      "application/vnd.jupyter.widget-view+json": {
       "model_id": "425d09aa9b514ee0873916add0373f90",
       "version_major": 2,
       "version_minor": 0
      },
      "text/plain": [
       "  0%|          | 0/15 [00:00<?, ?it/s]"
      ]
     },
     "metadata": {},
     "output_type": "display_data"
    },
    {
     "name": "stdout",
     "output_type": "stream",
     "text": [
      "total, new, all =  (0.036253386018539224, 0.0, 0.07250677203707845)\n",
      "\n",
      "factors:  60 , thr:  0.9 , top_k:  10 , filter_liked:  False\n"
     ]
    },
    {
     "data": {
      "application/vnd.jupyter.widget-view+json": {
       "model_id": "5afd91e50c7947b994684fe181dba36b",
       "version_major": 2,
       "version_minor": 0
      },
      "text/plain": [
       "  0%|          | 0/15 [00:00<?, ?it/s]"
      ]
     },
     "metadata": {},
     "output_type": "display_data"
    },
    {
     "name": "stdout",
     "output_type": "stream",
     "text": [
      "total, new, all =  (0.036253386018539224, 0.0, 0.07250677203707845)\n",
      "\n",
      "factors:  60 , thr:  0.9 , top_k:  20 , filter_liked:  True\n"
     ]
    },
    {
     "data": {
      "application/vnd.jupyter.widget-view+json": {
       "model_id": "fb5c78c6e4f54b3782b63e54ba3f01a4",
       "version_major": 2,
       "version_minor": 0
      },
      "text/plain": [
       "  0%|          | 0/15 [00:00<?, ?it/s]"
      ]
     },
     "metadata": {},
     "output_type": "display_data"
    },
    {
     "name": "stdout",
     "output_type": "stream",
     "text": [
      "total, new, all =  (0.03625587116976068, 0.0, 0.07251174233952136)\n",
      "\n",
      "factors:  60 , thr:  0.9 , top_k:  20 , filter_liked:  False\n"
     ]
    },
    {
     "data": {
      "application/vnd.jupyter.widget-view+json": {
       "model_id": "1e7dc0494d58498babb9bc84b0ef6119",
       "version_major": 2,
       "version_minor": 0
      },
      "text/plain": [
       "  0%|          | 0/15 [00:00<?, ?it/s]"
      ]
     },
     "metadata": {},
     "output_type": "display_data"
    },
    {
     "name": "stdout",
     "output_type": "stream",
     "text": [
      "total, new, all =  (0.03625587116976068, 0.0, 0.07251174233952136)\n",
      "\n",
      "factors:  60 , thr:  0.9 , top_k:  30 , filter_liked:  True\n"
     ]
    },
    {
     "data": {
      "application/vnd.jupyter.widget-view+json": {
       "model_id": "9034f1bf6dac445db6aebb5070d76d0d",
       "version_major": 2,
       "version_minor": 0
      },
      "text/plain": [
       "  0%|          | 0/15 [00:00<?, ?it/s]"
      ]
     },
     "metadata": {},
     "output_type": "display_data"
    },
    {
     "name": "stdout",
     "output_type": "stream",
     "text": [
      "total, new, all =  (0.03625587116976068, 0.0, 0.07251174233952136)\n",
      "\n",
      "factors:  60 , thr:  0.9 , top_k:  30 , filter_liked:  False\n"
     ]
    },
    {
     "data": {
      "application/vnd.jupyter.widget-view+json": {
       "model_id": "e6c8bb1c7abc4175bf6851e77d7b91fd",
       "version_major": 2,
       "version_minor": 0
      },
      "text/plain": [
       "  0%|          | 0/15 [00:00<?, ?it/s]"
      ]
     },
     "metadata": {},
     "output_type": "display_data"
    },
    {
     "name": "stdout",
     "output_type": "stream",
     "text": [
      "total, new, all =  (0.03625587116976068, 0.0, 0.07251174233952136)\n",
      "\n",
      "factors:  70 , thr:  0.7 , top_k:  5 , filter_liked:  True\n"
     ]
    },
    {
     "data": {
      "application/vnd.jupyter.widget-view+json": {
       "model_id": "4a066bb26bdf4df3b2b683898dbeafc1",
       "version_major": 2,
       "version_minor": 0
      },
      "text/plain": [
       "  0%|          | 0/15 [00:00<?, ?it/s]"
      ]
     },
     "metadata": {},
     "output_type": "display_data"
    },
    {
     "name": "stdout",
     "output_type": "stream",
     "text": [
      "total, new, all =  (0.037167921668033496, 0.0, 0.07433584333606699)\n",
      "\n",
      "factors:  70 , thr:  0.7 , top_k:  5 , filter_liked:  False\n"
     ]
    },
    {
     "data": {
      "application/vnd.jupyter.widget-view+json": {
       "model_id": "09fb1b0de65b448fa46dac94941a1318",
       "version_major": 2,
       "version_minor": 0
      },
      "text/plain": [
       "  0%|          | 0/15 [00:00<?, ?it/s]"
      ]
     },
     "metadata": {},
     "output_type": "display_data"
    },
    {
     "name": "stdout",
     "output_type": "stream",
     "text": [
      "total, new, all =  (0.037167921668033496, 0.0, 0.07433584333606699)\n",
      "\n",
      "factors:  70 , thr:  0.7 , top_k:  10 , filter_liked:  True\n"
     ]
    },
    {
     "data": {
      "application/vnd.jupyter.widget-view+json": {
       "model_id": "22d66f35c7b040fcb79dcfbe4e36f083",
       "version_major": 2,
       "version_minor": 0
      },
      "text/plain": [
       "  0%|          | 0/15 [00:00<?, ?it/s]"
      ]
     },
     "metadata": {},
     "output_type": "display_data"
    },
    {
     "name": "stdout",
     "output_type": "stream",
     "text": [
      "total, new, all =  (0.03777429856606774, 0.0, 0.07554859713213548)\n",
      "\n",
      "factors:  70 , thr:  0.7 , top_k:  10 , filter_liked:  False\n"
     ]
    },
    {
     "data": {
      "application/vnd.jupyter.widget-view+json": {
       "model_id": "153306f0da754c29b035a2331a84eb1b",
       "version_major": 2,
       "version_minor": 0
      },
      "text/plain": [
       "  0%|          | 0/15 [00:00<?, ?it/s]"
      ]
     },
     "metadata": {},
     "output_type": "display_data"
    },
    {
     "name": "stdout",
     "output_type": "stream",
     "text": [
      "total, new, all =  (0.03777429856606774, 0.0, 0.07554859713213548)\n",
      "\n",
      "factors:  70 , thr:  0.7 , top_k:  20 , filter_liked:  True\n"
     ]
    },
    {
     "data": {
      "application/vnd.jupyter.widget-view+json": {
       "model_id": "c1c3fa93d1e94cb297801c47bf79acb1",
       "version_major": 2,
       "version_minor": 0
      },
      "text/plain": [
       "  0%|          | 0/15 [00:00<?, ?it/s]"
      ]
     },
     "metadata": {},
     "output_type": "display_data"
    },
    {
     "name": "stdout",
     "output_type": "stream",
     "text": [
      "total, new, all =  (0.037776783717289195, 0.0, 0.07555356743457839)\n",
      "\n",
      "factors:  70 , thr:  0.7 , top_k:  20 , filter_liked:  False\n"
     ]
    },
    {
     "data": {
      "application/vnd.jupyter.widget-view+json": {
       "model_id": "131ad420a08442439b1c4c84cdc8cce6",
       "version_major": 2,
       "version_minor": 0
      },
      "text/plain": [
       "  0%|          | 0/15 [00:00<?, ?it/s]"
      ]
     },
     "metadata": {},
     "output_type": "display_data"
    },
    {
     "name": "stdout",
     "output_type": "stream",
     "text": [
      "total, new, all =  (0.037776783717289195, 0.0, 0.07555356743457839)\n",
      "\n",
      "factors:  70 , thr:  0.7 , top_k:  30 , filter_liked:  True\n"
     ]
    },
    {
     "data": {
      "application/vnd.jupyter.widget-view+json": {
       "model_id": "9c7f26a2bc5f4b548caae48709176a14",
       "version_major": 2,
       "version_minor": 0
      },
      "text/plain": [
       "  0%|          | 0/15 [00:00<?, ?it/s]"
      ]
     },
     "metadata": {},
     "output_type": "display_data"
    },
    {
     "name": "stdout",
     "output_type": "stream",
     "text": [
      "total, new, all =  (0.037776783717289195, 0.0, 0.07555356743457839)\n",
      "\n",
      "factors:  70 , thr:  0.7 , top_k:  30 , filter_liked:  False\n"
     ]
    },
    {
     "data": {
      "application/vnd.jupyter.widget-view+json": {
       "model_id": "6cf576b1e64445ed8aee4337ce5f64d4",
       "version_major": 2,
       "version_minor": 0
      },
      "text/plain": [
       "  0%|          | 0/15 [00:00<?, ?it/s]"
      ]
     },
     "metadata": {},
     "output_type": "display_data"
    },
    {
     "name": "stdout",
     "output_type": "stream",
     "text": [
      "total, new, all =  (0.037776783717289195, 0.0, 0.07555356743457839)\n",
      "\n",
      "factors:  70 , thr:  0.75 , top_k:  5 , filter_liked:  True\n"
     ]
    },
    {
     "data": {
      "application/vnd.jupyter.widget-view+json": {
       "model_id": "f1e6a809dfc2489bb596eafabd6fb25d",
       "version_major": 2,
       "version_minor": 0
      },
      "text/plain": [
       "  0%|          | 0/15 [00:00<?, ?it/s]"
      ]
     },
     "metadata": {},
     "output_type": "display_data"
    },
    {
     "name": "stdout",
     "output_type": "stream",
     "text": [
      "total, new, all =  (0.03697905017520316, 0.0, 0.07395810035040631)\n",
      "\n",
      "factors:  70 , thr:  0.75 , top_k:  5 , filter_liked:  False\n"
     ]
    },
    {
     "data": {
      "application/vnd.jupyter.widget-view+json": {
       "model_id": "5938d98bf2c44267ac90ee3ae216a8f7",
       "version_major": 2,
       "version_minor": 0
      },
      "text/plain": [
       "  0%|          | 0/15 [00:00<?, ?it/s]"
      ]
     },
     "metadata": {},
     "output_type": "display_data"
    },
    {
     "name": "stdout",
     "output_type": "stream",
     "text": [
      "total, new, all =  (0.03697905017520316, 0.0, 0.07395810035040631)\n",
      "\n",
      "factors:  70 , thr:  0.75 , top_k:  10 , filter_liked:  True\n"
     ]
    },
    {
     "data": {
      "application/vnd.jupyter.widget-view+json": {
       "model_id": "21058f74269a4637852ebe5331f1d331",
       "version_major": 2,
       "version_minor": 0
      },
      "text/plain": [
       "  0%|          | 0/15 [00:00<?, ?it/s]"
      ]
     },
     "metadata": {},
     "output_type": "display_data"
    },
    {
     "name": "stdout",
     "output_type": "stream",
     "text": [
      "total, new, all =  (0.03755560525857998, 0.0, 0.07511121051715997)\n",
      "\n",
      "factors:  70 , thr:  0.75 , top_k:  10 , filter_liked:  False\n"
     ]
    },
    {
     "data": {
      "application/vnd.jupyter.widget-view+json": {
       "model_id": "4ac25b17842b4095bbe05540c6b1fd21",
       "version_major": 2,
       "version_minor": 0
      },
      "text/plain": [
       "  0%|          | 0/15 [00:00<?, ?it/s]"
      ]
     },
     "metadata": {},
     "output_type": "display_data"
    },
    {
     "name": "stdout",
     "output_type": "stream",
     "text": [
      "total, new, all =  (0.03755560525857998, 0.0, 0.07511121051715997)\n",
      "\n",
      "factors:  70 , thr:  0.75 , top_k:  20 , filter_liked:  True\n"
     ]
    },
    {
     "data": {
      "application/vnd.jupyter.widget-view+json": {
       "model_id": "6734f00ce94b4103b39eaea63fddc0dc",
       "version_major": 2,
       "version_minor": 0
      },
      "text/plain": [
       "  0%|          | 0/15 [00:00<?, ?it/s]"
      ]
     },
     "metadata": {},
     "output_type": "display_data"
    },
    {
     "name": "stdout",
     "output_type": "stream",
     "text": [
      "total, new, all =  (0.03755809040980144, 0.0, 0.07511618081960288)\n",
      "\n",
      "factors:  70 , thr:  0.75 , top_k:  20 , filter_liked:  False\n"
     ]
    },
    {
     "data": {
      "application/vnd.jupyter.widget-view+json": {
       "model_id": "f1dbd92c19fe4d6182ded4be4cbfd151",
       "version_major": 2,
       "version_minor": 0
      },
      "text/plain": [
       "  0%|          | 0/15 [00:00<?, ?it/s]"
      ]
     },
     "metadata": {},
     "output_type": "display_data"
    },
    {
     "name": "stdout",
     "output_type": "stream",
     "text": [
      "total, new, all =  (0.03755809040980144, 0.0, 0.07511618081960288)\n",
      "\n",
      "factors:  70 , thr:  0.75 , top_k:  30 , filter_liked:  True\n"
     ]
    },
    {
     "data": {
      "application/vnd.jupyter.widget-view+json": {
       "model_id": "eae70a3a87c3476e8d1624952c53413c",
       "version_major": 2,
       "version_minor": 0
      },
      "text/plain": [
       "  0%|          | 0/15 [00:00<?, ?it/s]"
      ]
     },
     "metadata": {},
     "output_type": "display_data"
    },
    {
     "name": "stdout",
     "output_type": "stream",
     "text": [
      "total, new, all =  (0.03755809040980144, 0.0, 0.07511618081960288)\n",
      "\n",
      "factors:  70 , thr:  0.75 , top_k:  30 , filter_liked:  False\n"
     ]
    },
    {
     "data": {
      "application/vnd.jupyter.widget-view+json": {
       "model_id": "a1a1fa93ae48446993fe35093c7d7c34",
       "version_major": 2,
       "version_minor": 0
      },
      "text/plain": [
       "  0%|          | 0/15 [00:00<?, ?it/s]"
      ]
     },
     "metadata": {},
     "output_type": "display_data"
    },
    {
     "name": "stdout",
     "output_type": "stream",
     "text": [
      "total, new, all =  (0.03755809040980144, 0.0, 0.07511618081960288)\n",
      "\n",
      "factors:  70 , thr:  0.8 , top_k:  5 , filter_liked:  True\n"
     ]
    },
    {
     "data": {
      "application/vnd.jupyter.widget-view+json": {
       "model_id": "2a5d40ed073b4b6eae842e253c5bb965",
       "version_major": 2,
       "version_minor": 0
      },
      "text/plain": [
       "  0%|          | 0/15 [00:00<?, ?it/s]"
      ]
     },
     "metadata": {},
     "output_type": "display_data"
    },
    {
     "name": "stdout",
     "output_type": "stream",
     "text": [
      "total, new, all =  (0.03680508958970154, 0.0, 0.07361017917940307)\n",
      "\n",
      "factors:  70 , thr:  0.8 , top_k:  5 , filter_liked:  False\n"
     ]
    },
    {
     "data": {
      "application/vnd.jupyter.widget-view+json": {
       "model_id": "0bc48b3e17354c35a450855c92d61cf2",
       "version_major": 2,
       "version_minor": 0
      },
      "text/plain": [
       "  0%|          | 0/15 [00:00<?, ?it/s]"
      ]
     },
     "metadata": {},
     "output_type": "display_data"
    },
    {
     "name": "stdout",
     "output_type": "stream",
     "text": [
      "total, new, all =  (0.03680508958970154, 0.0, 0.07361017917940307)\n",
      "\n",
      "factors:  70 , thr:  0.8 , top_k:  10 , filter_liked:  True\n"
     ]
    },
    {
     "data": {
      "application/vnd.jupyter.widget-view+json": {
       "model_id": "a777f4ea3ae04a43811078a4eb835ccf",
       "version_major": 2,
       "version_minor": 0
      },
      "text/plain": [
       "  0%|          | 0/15 [00:00<?, ?it/s]"
      ]
     },
     "metadata": {},
     "output_type": "display_data"
    },
    {
     "name": "stdout",
     "output_type": "stream",
     "text": [
      "total, new, all =  (0.03736673376574965, 0.0, 0.0747334675314993)\n",
      "\n",
      "factors:  70 , thr:  0.8 , top_k:  10 , filter_liked:  False\n"
     ]
    },
    {
     "data": {
      "application/vnd.jupyter.widget-view+json": {
       "model_id": "9983115d016e4f168ac9bd204409af2a",
       "version_major": 2,
       "version_minor": 0
      },
      "text/plain": [
       "  0%|          | 0/15 [00:00<?, ?it/s]"
      ]
     },
     "metadata": {},
     "output_type": "display_data"
    },
    {
     "name": "stdout",
     "output_type": "stream",
     "text": [
      "total, new, all =  (0.03736673376574965, 0.0, 0.0747334675314993)\n",
      "\n",
      "factors:  70 , thr:  0.8 , top_k:  20 , filter_liked:  True\n"
     ]
    },
    {
     "data": {
      "application/vnd.jupyter.widget-view+json": {
       "model_id": "2ebb216da214457f80a5bb284eceb099",
       "version_major": 2,
       "version_minor": 0
      },
      "text/plain": [
       "  0%|          | 0/15 [00:00<?, ?it/s]"
      ]
     },
     "metadata": {},
     "output_type": "display_data"
    },
    {
     "name": "stdout",
     "output_type": "stream",
     "text": [
      "total, new, all =  (0.037367976341360375, 0.0, 0.07473595268272075)\n",
      "\n",
      "factors:  70 , thr:  0.8 , top_k:  20 , filter_liked:  False\n"
     ]
    },
    {
     "data": {
      "application/vnd.jupyter.widget-view+json": {
       "model_id": "42470f8db02446beb71995fd10b941db",
       "version_major": 2,
       "version_minor": 0
      },
      "text/plain": [
       "  0%|          | 0/15 [00:00<?, ?it/s]"
      ]
     },
     "metadata": {},
     "output_type": "display_data"
    },
    {
     "name": "stdout",
     "output_type": "stream",
     "text": [
      "total, new, all =  (0.037367976341360375, 0.0, 0.07473595268272075)\n",
      "\n",
      "factors:  70 , thr:  0.8 , top_k:  30 , filter_liked:  True\n"
     ]
    },
    {
     "data": {
      "application/vnd.jupyter.widget-view+json": {
       "model_id": "8db459c0cc2e41dda2e8cb2134d3a1b2",
       "version_major": 2,
       "version_minor": 0
      },
      "text/plain": [
       "  0%|          | 0/15 [00:00<?, ?it/s]"
      ]
     },
     "metadata": {},
     "output_type": "display_data"
    },
    {
     "name": "stdout",
     "output_type": "stream",
     "text": [
      "total, new, all =  (0.037367976341360375, 0.0, 0.07473595268272075)\n",
      "\n",
      "factors:  70 , thr:  0.8 , top_k:  30 , filter_liked:  False\n"
     ]
    },
    {
     "data": {
      "application/vnd.jupyter.widget-view+json": {
       "model_id": "062877e33c914c2586e5a5820cea1347",
       "version_major": 2,
       "version_minor": 0
      },
      "text/plain": [
       "  0%|          | 0/15 [00:00<?, ?it/s]"
      ]
     },
     "metadata": {},
     "output_type": "display_data"
    },
    {
     "name": "stdout",
     "output_type": "stream",
     "text": [
      "total, new, all =  (0.037367976341360375, 0.0, 0.07473595268272075)\n",
      "\n",
      "factors:  70 , thr:  0.85 , top_k:  5 , filter_liked:  True\n"
     ]
    },
    {
     "data": {
      "application/vnd.jupyter.widget-view+json": {
       "model_id": "8e9ae397933544eb8e61588ce0ad4b2d",
       "version_major": 2,
       "version_minor": 0
      },
      "text/plain": [
       "  0%|          | 0/15 [00:00<?, ?it/s]"
      ]
     },
     "metadata": {},
     "output_type": "display_data"
    },
    {
     "name": "stdout",
     "output_type": "stream",
     "text": [
      "total, new, all =  (0.0366311290041999, 0.0, 0.0732622580083998)\n",
      "\n",
      "factors:  70 , thr:  0.85 , top_k:  5 , filter_liked:  False\n"
     ]
    },
    {
     "data": {
      "application/vnd.jupyter.widget-view+json": {
       "model_id": "82faaf4c54bf4d1fa46f6c53144c523d",
       "version_major": 2,
       "version_minor": 0
      },
      "text/plain": [
       "  0%|          | 0/15 [00:00<?, ?it/s]"
      ]
     },
     "metadata": {},
     "output_type": "display_data"
    },
    {
     "name": "stdout",
     "output_type": "stream",
     "text": [
      "total, new, all =  (0.0366311290041999, 0.0, 0.0732622580083998)\n",
      "\n",
      "factors:  70 , thr:  0.85 , top_k:  10 , filter_liked:  True\n"
     ]
    },
    {
     "data": {
      "application/vnd.jupyter.widget-view+json": {
       "model_id": "8999105780994620821ca38d12b9e442",
       "version_major": 2,
       "version_minor": 0
      },
      "text/plain": [
       "  0%|          | 0/15 [00:00<?, ?it/s]"
      ]
     },
     "metadata": {},
     "output_type": "display_data"
    },
    {
     "name": "stdout",
     "output_type": "stream",
     "text": [
      "total, new, all =  (0.0371728919704764, 0.0, 0.0743457839409528)\n",
      "\n",
      "factors:  70 , thr:  0.85 , top_k:  10 , filter_liked:  False\n"
     ]
    },
    {
     "data": {
      "application/vnd.jupyter.widget-view+json": {
       "model_id": "218bd683f2a3496e89ad2bf43af621f9",
       "version_major": 2,
       "version_minor": 0
      },
      "text/plain": [
       "  0%|          | 0/15 [00:00<?, ?it/s]"
      ]
     },
     "metadata": {},
     "output_type": "display_data"
    },
    {
     "name": "stdout",
     "output_type": "stream",
     "text": [
      "total, new, all =  (0.0371728919704764, 0.0, 0.0743457839409528)\n",
      "\n",
      "factors:  70 , thr:  0.85 , top_k:  20 , filter_liked:  True\n"
     ]
    },
    {
     "data": {
      "application/vnd.jupyter.widget-view+json": {
       "model_id": "c59a7000238c4d9f86ccff20715d60c9",
       "version_major": 2,
       "version_minor": 0
      },
      "text/plain": [
       "  0%|          | 0/15 [00:00<?, ?it/s]"
      ]
     },
     "metadata": {},
     "output_type": "display_data"
    },
    {
     "name": "stdout",
     "output_type": "stream",
     "text": [
      "total, new, all =  (0.037174134546087124, 0.0, 0.07434826909217425)\n",
      "\n",
      "factors:  70 , thr:  0.85 , top_k:  20 , filter_liked:  False\n"
     ]
    },
    {
     "data": {
      "application/vnd.jupyter.widget-view+json": {
       "model_id": "ee12479117a44311b599767409e97c58",
       "version_major": 2,
       "version_minor": 0
      },
      "text/plain": [
       "  0%|          | 0/15 [00:00<?, ?it/s]"
      ]
     },
     "metadata": {},
     "output_type": "display_data"
    },
    {
     "name": "stdout",
     "output_type": "stream",
     "text": [
      "total, new, all =  (0.037174134546087124, 0.0, 0.07434826909217425)\n",
      "\n",
      "factors:  70 , thr:  0.85 , top_k:  30 , filter_liked:  True\n"
     ]
    },
    {
     "data": {
      "application/vnd.jupyter.widget-view+json": {
       "model_id": "8403e6f1c6e441fc8fd56a91c358e9ea",
       "version_major": 2,
       "version_minor": 0
      },
      "text/plain": [
       "  0%|          | 0/15 [00:00<?, ?it/s]"
      ]
     },
     "metadata": {},
     "output_type": "display_data"
    },
    {
     "name": "stdout",
     "output_type": "stream",
     "text": [
      "total, new, all =  (0.037174134546087124, 0.0, 0.07434826909217425)\n",
      "\n",
      "factors:  70 , thr:  0.85 , top_k:  30 , filter_liked:  False\n"
     ]
    },
    {
     "data": {
      "application/vnd.jupyter.widget-view+json": {
       "model_id": "7dcd27a7e45d4c108a2e4d2c1c1fd7e9",
       "version_major": 2,
       "version_minor": 0
      },
      "text/plain": [
       "  0%|          | 0/15 [00:00<?, ?it/s]"
      ]
     },
     "metadata": {},
     "output_type": "display_data"
    },
    {
     "name": "stdout",
     "output_type": "stream",
     "text": [
      "total, new, all =  (0.037174134546087124, 0.0, 0.07434826909217425)\n",
      "\n",
      "factors:  70 , thr:  0.9 , top_k:  5 , filter_liked:  True\n"
     ]
    },
    {
     "data": {
      "application/vnd.jupyter.widget-view+json": {
       "model_id": "108d66704bf944fe893ff06588af750b",
       "version_major": 2,
       "version_minor": 0
      },
      "text/plain": [
       "  0%|          | 0/15 [00:00<?, ?it/s]"
      ]
     },
     "metadata": {},
     "output_type": "display_data"
    },
    {
     "name": "stdout",
     "output_type": "stream",
     "text": [
      "total, new, all =  (0.03631799995029698, 0.0, 0.07263599990059395)\n",
      "\n",
      "factors:  70 , thr:  0.9 , top_k:  5 , filter_liked:  False\n"
     ]
    },
    {
     "data": {
      "application/vnd.jupyter.widget-view+json": {
       "model_id": "88a9971d000e44eb8928818c3866b58c",
       "version_major": 2,
       "version_minor": 0
      },
      "text/plain": [
       "  0%|          | 0/15 [00:00<?, ?it/s]"
      ]
     },
     "metadata": {},
     "output_type": "display_data"
    },
    {
     "name": "stdout",
     "output_type": "stream",
     "text": [
      "total, new, all =  (0.03631799995029698, 0.0, 0.07263599990059395)\n",
      "\n",
      "factors:  70 , thr:  0.9 , top_k:  10 , filter_liked:  True\n"
     ]
    },
    {
     "data": {
      "application/vnd.jupyter.widget-view+json": {
       "model_id": "44fec075f1cb4d138932cc7bda310407",
       "version_major": 2,
       "version_minor": 0
      },
      "text/plain": [
       "  0%|          | 0/15 [00:00<?, ?it/s]"
      ]
     },
     "metadata": {},
     "output_type": "display_data"
    },
    {
     "name": "stdout",
     "output_type": "stream",
     "text": [
      "total, new, all =  (0.036824970799473146, 0.0, 0.07364994159894629)\n",
      "\n",
      "factors:  70 , thr:  0.9 , top_k:  10 , filter_liked:  False\n"
     ]
    },
    {
     "data": {
      "application/vnd.jupyter.widget-view+json": {
       "model_id": "f03108e0f93443b786ccbb630b833247",
       "version_major": 2,
       "version_minor": 0
      },
      "text/plain": [
       "  0%|          | 0/15 [00:00<?, ?it/s]"
      ]
     },
     "metadata": {},
     "output_type": "display_data"
    },
    {
     "name": "stdout",
     "output_type": "stream",
     "text": [
      "total, new, all =  (0.036824970799473146, 0.0, 0.07364994159894629)\n",
      "\n",
      "factors:  70 , thr:  0.9 , top_k:  20 , filter_liked:  True\n"
     ]
    },
    {
     "data": {
      "application/vnd.jupyter.widget-view+json": {
       "model_id": "e3045830ec1a4217ab489e76d5b2049f",
       "version_major": 2,
       "version_minor": 0
      },
      "text/plain": [
       "  0%|          | 0/15 [00:00<?, ?it/s]"
      ]
     },
     "metadata": {},
     "output_type": "display_data"
    },
    {
     "name": "stdout",
     "output_type": "stream",
     "text": [
      "total, new, all =  (0.03682621337508387, 0.0, 0.07365242675016774)\n",
      "\n",
      "factors:  70 , thr:  0.9 , top_k:  20 , filter_liked:  False\n"
     ]
    },
    {
     "data": {
      "application/vnd.jupyter.widget-view+json": {
       "model_id": "03e1db5e9eb0405db9398873956be093",
       "version_major": 2,
       "version_minor": 0
      },
      "text/plain": [
       "  0%|          | 0/15 [00:00<?, ?it/s]"
      ]
     },
     "metadata": {},
     "output_type": "display_data"
    },
    {
     "name": "stdout",
     "output_type": "stream",
     "text": [
      "total, new, all =  (0.03682621337508387, 0.0, 0.07365242675016774)\n",
      "\n",
      "factors:  70 , thr:  0.9 , top_k:  30 , filter_liked:  True\n"
     ]
    },
    {
     "data": {
      "application/vnd.jupyter.widget-view+json": {
       "model_id": "08d4645e7716498dad3d577514d853bb",
       "version_major": 2,
       "version_minor": 0
      },
      "text/plain": [
       "  0%|          | 0/15 [00:00<?, ?it/s]"
      ]
     },
     "metadata": {},
     "output_type": "display_data"
    },
    {
     "name": "stdout",
     "output_type": "stream",
     "text": [
      "total, new, all =  (0.03682621337508387, 0.0, 0.07365242675016774)\n",
      "\n",
      "factors:  70 , thr:  0.9 , top_k:  30 , filter_liked:  False\n"
     ]
    },
    {
     "data": {
      "application/vnd.jupyter.widget-view+json": {
       "model_id": "21b6b2cceb7248f194b715c0dc880faa",
       "version_major": 2,
       "version_minor": 0
      },
      "text/plain": [
       "  0%|          | 0/15 [00:00<?, ?it/s]"
      ]
     },
     "metadata": {},
     "output_type": "display_data"
    },
    {
     "name": "stdout",
     "output_type": "stream",
     "text": [
      "total, new, all =  (0.03682621337508387, 0.0, 0.07365242675016774)\n",
      "\n"
     ]
    }
   ],
   "source": [
    "for factors in [30, 40, 50, 60, 70]:\n",
    "    for thr in [0.7, 0.75, 0.8, 0.85, 0.9]:\n",
    "        for top_k in [5, 10, 20, 30]:\n",
    "            for filter_liked in [True, False]:\n",
    "                hyper_params(val_df, factors, thr, top_k, filter_liked) "
   ]
  }
 ],
 "metadata": {
  "kernelspec": {
   "display_name": "Python 3 (ipykernel)",
   "language": "python",
   "name": "python3"
  },
  "language_info": {
   "codemirror_mode": {
    "name": "ipython",
    "version": 3
   },
   "file_extension": ".py",
   "mimetype": "text/x-python",
   "name": "python",
   "nbconvert_exporter": "python",
   "pygments_lexer": "ipython3",
   "version": "3.9.7"
  }
 },
 "nbformat": 4,
 "nbformat_minor": 5
}
