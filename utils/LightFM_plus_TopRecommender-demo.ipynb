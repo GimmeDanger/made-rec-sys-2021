{
 "cells": [
  {
   "cell_type": "markdown",
   "id": "1df56dce",
   "metadata": {},
   "source": [
    "# LightFM"
   ]
  },
  {
   "cell_type": "code",
   "execution_count": 1,
   "id": "06918a0e",
   "metadata": {},
   "outputs": [],
   "source": [
    "from lightfm import LightFM"
   ]
  },
  {
   "cell_type": "code",
   "execution_count": 2,
   "id": "0f65b175",
   "metadata": {},
   "outputs": [],
   "source": [
    "import pandas as pd\n",
    "import numpy as np\n",
    "from tqdm import tqdm\n",
    "from interaction_table import InteractionTable\n",
    "from h3_index import H3Index"
   ]
  },
  {
   "cell_type": "code",
   "execution_count": 3,
   "id": "94647b54",
   "metadata": {},
   "outputs": [],
   "source": [
    "from process_data import preprocess_orders_and_clicks, additional_filtration_orders_and_clicks\n",
    "from user_features import generate_user_features"
   ]
  },
  {
   "cell_type": "raw",
   "id": "3910e0aa",
   "metadata": {},
   "source": [
    "def get_clicks():\n",
    "    path = '../data/click.parquet'\n",
    "    return pd.read_parquet(path)\n",
    "\n",
    "def get_orders():\n",
    "    path = '../data/orders.parquet'\n",
    "    df = pd.read_parquet(path)\n",
    "    path = '../data/clicks.parquet'\n",
    "    clicks = pd.read_parquet(path)\n",
    "    df, _ = additional_filtration_orders_and_clicks(df, clicks, 0)\n",
    "    df = df.rename(columns={\"customer_id\": \"user_id\"})\n",
    "    return df"
   ]
  },
  {
   "cell_type": "raw",
   "id": "b0b84c36",
   "metadata": {},
   "source": [
    "path = '../data/orders.parquet'\n",
    "orders = pd.read_parquet(path)\n",
    "path = '../data/clicks.parquet'\n",
    "clicks = pd.read_parquet(path)\n",
    "\n",
    "user_features = generate_user_features(orders, clicks)\n",
    "\n",
    "orders, clicks = additional_filtration_orders_and_clicks(orders, clicks, 0)\n",
    "orders = orders.rename(columns={\"customer_id\": \"user_id\"})"
   ]
  },
  {
   "cell_type": "raw",
   "id": "462a1de0",
   "metadata": {},
   "source": [
    "user_features.to_parquet(\"../data/user_features.parquet\")\n",
    "orders.to_parquet(\"../data/orders_filtered.parquet\")\n",
    "clicks.to_parquet(\"../data/clicks_filtered.parquet\")"
   ]
  },
  {
   "cell_type": "code",
   "execution_count": 4,
   "id": "ee8f17c2",
   "metadata": {},
   "outputs": [],
   "source": [
    "orders = pd.read_parquet(\"../data/orders_filtered.parquet\")\n",
    "user_features = pd.read_parquet(\"../data/user_features.parquet\")"
   ]
  },
  {
   "cell_type": "code",
   "execution_count": 5,
   "id": "98a9f1b8",
   "metadata": {},
   "outputs": [
    {
     "name": "stdout",
     "output_type": "stream",
     "text": [
      "Orders weighter: use user avg orders per chain as weight\n",
      "            user_id      chain_id        weight\n",
      "count  3.106486e+06  3.106486e+06  3.106486e+06\n",
      "mean   3.666636e+07  3.212015e+04  1.755490e+00\n",
      "std    2.148159e+07  1.517362e+04  8.203714e+01\n",
      "min    0.000000e+00  9.000000e+00  1.000000e+00\n",
      "25%    1.143635e+07  2.714700e+04  1.000000e+00\n",
      "50%    3.991074e+07  3.007500e+04  1.000000e+00\n",
      "75%    5.175972e+07  4.451900e+04  2.000000e+00\n",
      "max    7.213893e+07  7.332400e+04  1.444470e+05\n",
      "Orders df weighted: size=3106486, uniq_users=1394062, uniq_chains=7792\n",
      "Interaction df len for test:  222705\n"
     ]
    }
   ],
   "source": [
    "interactions = InteractionTable(orders, None, alpha=0, test_slice=100000)"
   ]
  },
  {
   "cell_type": "code",
   "execution_count": 6,
   "id": "df7f5b5c",
   "metadata": {},
   "outputs": [],
   "source": [
    "import scipy"
   ]
  },
  {
   "cell_type": "code",
   "execution_count": 7,
   "id": "833957b1",
   "metadata": {},
   "outputs": [],
   "source": [
    "# возьмем все фичи и сравним со средним\n",
    "user_features_sparse = scipy.sparse.csr_matrix(\n",
    "    (\n",
    "        user_features.loc[interactions.user_to_index.keys()] \n",
    "        - user_features.loc[interactions.user_to_index.keys()].mean()\n",
    "        > 0\n",
    "    ).astype(int)\n",
    ")"
   ]
  },
  {
   "cell_type": "raw",
   "id": "bf50c320",
   "metadata": {},
   "source": [
    "user_features_sparse = scipy.sparse.csr_matrix(\n",
    "    user_features.loc[interactions.user_to_index.keys()][[\n",
    "        \"13_percent\",\n",
    "        \"18_percent\",\n",
    "        \"citymobil_percent\",\n",
    "        \"takeaway_percent\",\n",
    "        \"discount_percent_mean\",\n",
    "        \"star_rating_mean\"\n",
    "    ]].fillna(0).astype(bool).astype(int).values\n",
    ")"
   ]
  },
  {
   "cell_type": "code",
   "execution_count": 8,
   "id": "638a4c0e",
   "metadata": {},
   "outputs": [
    {
     "data": {
      "text/plain": [
       "<100000x24 sparse matrix of type '<class 'numpy.int64'>'\n",
       "\twith 659292 stored elements in Compressed Sparse Row format>"
      ]
     },
     "execution_count": 8,
     "metadata": {},
     "output_type": "execute_result"
    }
   ],
   "source": [
    "user_features_sparse"
   ]
  },
  {
   "cell_type": "code",
   "execution_count": 21,
   "id": "babb9b6f",
   "metadata": {},
   "outputs": [],
   "source": [
    "#!pip install fastparquet\n",
    "h3index = H3Index('../data/raw/h3_to_chains.pkl')"
   ]
  },
  {
   "cell_type": "code",
   "execution_count": 22,
   "id": "e2fab7bc",
   "metadata": {},
   "outputs": [
    {
     "name": "stdout",
     "output_type": "stream",
     "text": [
      "Initial validation dataset size: 2300001\n",
      "Filter h3 indices that not in h3_to_chain dict 2293762\n",
      "Filter chains 832927\n"
     ]
    },
    {
     "data": {
      "text/html": [
       "<div>\n",
       "<style scoped>\n",
       "    .dataframe tbody tr th:only-of-type {\n",
       "        vertical-align: middle;\n",
       "    }\n",
       "\n",
       "    .dataframe tbody tr th {\n",
       "        vertical-align: top;\n",
       "    }\n",
       "\n",
       "    .dataframe thead th {\n",
       "        text-align: right;\n",
       "    }\n",
       "</style>\n",
       "<table border=\"1\" class=\"dataframe\">\n",
       "  <thead>\n",
       "    <tr style=\"text-align: right;\">\n",
       "      <th></th>\n",
       "      <th>user_id</th>\n",
       "      <th>h3</th>\n",
       "      <th>chain_id</th>\n",
       "    </tr>\n",
       "  </thead>\n",
       "  <tbody>\n",
       "    <tr>\n",
       "      <th>0</th>\n",
       "      <td>0</td>\n",
       "      <td>89118108b43ffff</td>\n",
       "      <td>{28720}</td>\n",
       "    </tr>\n",
       "    <tr>\n",
       "      <th>1</th>\n",
       "      <td>0</td>\n",
       "      <td>89118134503ffff</td>\n",
       "      <td>{28720}</td>\n",
       "    </tr>\n",
       "    <tr>\n",
       "      <th>2</th>\n",
       "      <td>0</td>\n",
       "      <td>89118134513ffff</td>\n",
       "      <td>{28720}</td>\n",
       "    </tr>\n",
       "    <tr>\n",
       "      <th>3</th>\n",
       "      <td>0</td>\n",
       "      <td>89118134517ffff</td>\n",
       "      <td>{28720}</td>\n",
       "    </tr>\n",
       "    <tr>\n",
       "      <th>4</th>\n",
       "      <td>0</td>\n",
       "      <td>8911813456bffff</td>\n",
       "      <td>{28720}</td>\n",
       "    </tr>\n",
       "  </tbody>\n",
       "</table>\n",
       "</div>"
      ],
      "text/plain": [
       "   user_id               h3 chain_id\n",
       "0        0  89118108b43ffff  {28720}\n",
       "1        0  89118134503ffff  {28720}\n",
       "2        0  89118134513ffff  {28720}\n",
       "3        0  89118134517ffff  {28720}\n",
       "4        0  8911813456bffff  {28720}"
      ]
     },
     "execution_count": 22,
     "metadata": {},
     "output_type": "execute_result"
    }
   ],
   "source": [
    "val_df = pd.read_pickle('../data/raw/test_VALID.pkl')\n",
    "val_df = val_df[['customer_id', 'h3', 'chain_id']]\n",
    "val_df = val_df.rename(columns={\"customer_id\": \"user_id\"})\n",
    "val_df.user_id = val_df.user_id.astype(int)\n",
    "print(\"Initial validation dataset size:\", len(val_df))\n",
    "val_df = val_df[val_df[\"h3\"].isin(h3index.valid)]\n",
    "print(\"Filter h3 indices that not in h3_to_chain dict\", len(val_df))\n",
    "# val_df = val_df[val_df[\"user_id\"].isin(interactions.user_to_index)]\n",
    "# print(\"Filter users\", len(val_df))\n",
    "val_df = val_df[val_df[\"chain_id\"].isin(interactions.chain_to_index)]\n",
    "print(\"Filter chains\", len(val_df))\n",
    "val_df = pd.pivot_table(val_df,\n",
    "                        values=['chain_id'],\n",
    "                        index=['user_id', 'h3'],\n",
    "                        aggfunc={'chain_id': set})\n",
    "val_df = val_df.reset_index()\n",
    "val_df.head()"
   ]
  },
  {
   "cell_type": "code",
   "execution_count": 23,
   "id": "cdbfc727",
   "metadata": {},
   "outputs": [],
   "source": [
    "from typing import List\n",
    "from collections import defaultdict\n",
    "\n",
    "class TopRecommender:\n",
    "    def __init__(self, status_id: List[int] = [11, 18]):\n",
    "        self.status_id = status_id\n",
    "        \n",
    "    def fit(self, orders: pd.DataFrame):\n",
    "        self.chains_to_cnt = (\n",
    "            orders[orders.status_id.isin(self.status_id)]\n",
    "            .groupby(\"chain_id\", sort=False)[\"order_id\"]\n",
    "            .size()\n",
    "            .to_dict()\n",
    "        )\n",
    "        self.chains_to_cnt = defaultdict(int, self.chains_to_cnt)\n",
    "        \n",
    "        return self\n",
    "\n",
    "    def predict(self, chain_ids: List[int]):\n",
    "        \n",
    "        return [self.chains_to_cnt[chain_id] for chain_id in chain_ids]\n",
    "    \n",
    "model2 = TopRecommender()\n",
    "model2 = model2.fit(orders)"
   ]
  },
  {
   "cell_type": "raw",
   "id": "620c89cf",
   "metadata": {},
   "source": [
    "from lightfm.evaluation import precision_at_k\n",
    "\n",
    "precision = precision_at_k(model, interactions.sparse_interaction_matrix.T, k=30)\n",
    "precision.mean()"
   ]
  },
  {
   "cell_type": "code",
   "execution_count": null,
   "id": "c4462b53",
   "metadata": {},
   "outputs": [],
   "source": []
  },
  {
   "cell_type": "markdown",
   "id": "e919ab0a",
   "metadata": {},
   "source": [
    "### Если h3 пользователя неизвестен, то можно брать следующий в иерархии h3 (более крупный)"
   ]
  },
  {
   "cell_type": "code",
   "execution_count": null,
   "id": "d94ab242",
   "metadata": {},
   "outputs": [],
   "source": [
    "def predict(model1, model2, user_id, h3, top_k=10):\n",
    "    valid_chains = h3index.h3_to_chains[h3]\n",
    "    if False:#user_id in interactions.user_to_index:\n",
    "        user_index = interactions.user_to_index[user_id]\n",
    "        valid_chain_index = [v for k, v in interactions.chain_to_index.items() if k in valid_chains]\n",
    "        pred = model1.predict(user_index, valid_chain_index, user_features=user_features_sparse)\n",
    "        top_chain_index = [x for _, x in sorted(zip(pred, valid_chain_index), reverse=True)][:top_k]\n",
    "        top = [interactions.index_to_chain[k] for k in top_chain_index]\n",
    "    else:\n",
    "        pred = pred = model2.predict(valid_chains)\n",
    "        top = [x for _, x in sorted(zip(pred, valid_chains), reverse=True)][:top_k]\n",
    "    return top\n",
    "\n",
    "def old_items(user_id):\n",
    "    return set(interactions.interaction_df[interactions.interaction_df['user_id'] == user_id]['chain_id'].unique())"
   ]
  },
  {
   "cell_type": "code",
   "execution_count": 31,
   "id": "e278e3e3",
   "metadata": {},
   "outputs": [],
   "source": [
    "def metric(y_true, y_pred, y_old, at1=10, at2=30, average=True):\n",
    "    \"\"\"\n",
    "    new_prec@10 + new_prec@30 + 1/2 *(prec_@10 + prec@30)\n",
    "    \"\"\"\n",
    "    scores_new = []\n",
    "    scores_all = []\n",
    "    scores_total = []\n",
    "    for t, p, o in zip(y_true, y_pred, y_old):\n",
    "        t = list(t)\n",
    "        p = list(p)\n",
    "        o = o if isinstance(o, (set, list)) else []\n",
    "        \n",
    "        prec1 = len(set(t[:at1]) & set(p[:at1])) / at1\n",
    "        prec2 = len(set(t[:at2]) & set(p[:at2])) / at2\n",
    "        new_prec1 = len((set(p[:at1]) - set(o)) & set(t[:at1])) / at1\n",
    "        new_prec2 = len((set(p[:at2]) - set(o)) & set(t[:at2])) / at2\n",
    "\n",
    "        scores_total.append(new_prec1 + new_prec2 + 0.5 * (prec1 + prec2))\n",
    "        scores_new.append(new_prec1 + new_prec2)\n",
    "        scores_all.append(prec1 + prec2)\n",
    "\n",
    "    return (np.mean(scores_total) if average else scores_total,\n",
    "            np.mean(scores_new) if average else scores_new,\n",
    "            np.mean(scores_all) if average else scores_all)"
   ]
  },
  {
   "cell_type": "code",
   "execution_count": 32,
   "id": "7b0dfc35",
   "metadata": {},
   "outputs": [],
   "source": [
    "# !pip install implicit\n",
    "import implicit\n",
    "\n",
    "def hyper_params(val_df, epochs=60, top_k=30):\n",
    "    #print('factors: ', factors, ', thr: ', thr, ', top_k: ', top_k, ', filter_liked: ', filter_liked)\n",
    "    light_model = LightFM(loss='warp', user_alpha=0.1)\n",
    "    light_model.fit(\n",
    "        interactions.sparse_interaction_matrix.T, \n",
    "        user_features=user_features_sparse, \n",
    "        epochs=epochs, num_threads=2\n",
    "    )\n",
    "    val = val_df\n",
    "    val['pred_chains'] = val.apply(lambda x: predict(light_model, model, x.user_id, x.h3, top_k), axis=1)\n",
    "    val['old_chains'] = val.apply(lambda x: old_items(x.user_id), axis=1)\n",
    "    scores = metric(val['chain_id'], val['pred_chains'], val['old_chains'])\n",
    "    print('total, new, all = ', scores)\n",
    "    print()"
   ]
  },
  {
   "cell_type": "code",
   "execution_count": 33,
   "id": "de01f9e0",
   "metadata": {
    "scrolled": true
   },
   "outputs": [
    {
     "ename": "KeyboardInterrupt",
     "evalue": "",
     "output_type": "error",
     "traceback": [
      "\u001b[0;31m---------------------------------------------------------------------------\u001b[0m",
      "\u001b[0;31mKeyboardInterrupt\u001b[0m                         Traceback (most recent call last)",
      "\u001b[0;32m/tmp/ipykernel_15043/2399072475.py\u001b[0m in \u001b[0;36m<module>\u001b[0;34m\u001b[0m\n\u001b[0;32m----> 1\u001b[0;31m \u001b[0mhyper_params\u001b[0m\u001b[0;34m(\u001b[0m\u001b[0mval_df\u001b[0m\u001b[0;34m)\u001b[0m\u001b[0;34m\u001b[0m\u001b[0;34m\u001b[0m\u001b[0m\n\u001b[0m",
      "\u001b[0;32m/tmp/ipykernel_15043/3180588310.py\u001b[0m in \u001b[0;36mhyper_params\u001b[0;34m(val_df, epochs, top_k)\u001b[0m\n\u001b[1;32m     12\u001b[0m     \u001b[0mval\u001b[0m \u001b[0;34m=\u001b[0m \u001b[0mval_df\u001b[0m\u001b[0;34m\u001b[0m\u001b[0;34m\u001b[0m\u001b[0m\n\u001b[1;32m     13\u001b[0m     \u001b[0mval\u001b[0m\u001b[0;34m[\u001b[0m\u001b[0;34m'pred_chains'\u001b[0m\u001b[0;34m]\u001b[0m \u001b[0;34m=\u001b[0m \u001b[0mval\u001b[0m\u001b[0;34m.\u001b[0m\u001b[0mapply\u001b[0m\u001b[0;34m(\u001b[0m\u001b[0;32mlambda\u001b[0m \u001b[0mx\u001b[0m\u001b[0;34m:\u001b[0m \u001b[0mpredict\u001b[0m\u001b[0;34m(\u001b[0m\u001b[0mmodel\u001b[0m\u001b[0;34m,\u001b[0m \u001b[0mmodel2\u001b[0m\u001b[0;34m,\u001b[0m \u001b[0mx\u001b[0m\u001b[0;34m.\u001b[0m\u001b[0muser_id\u001b[0m\u001b[0;34m,\u001b[0m \u001b[0mx\u001b[0m\u001b[0;34m.\u001b[0m\u001b[0mh3\u001b[0m\u001b[0;34m,\u001b[0m \u001b[0mtop_k\u001b[0m\u001b[0;34m)\u001b[0m\u001b[0;34m,\u001b[0m \u001b[0maxis\u001b[0m\u001b[0;34m=\u001b[0m\u001b[0;36m1\u001b[0m\u001b[0;34m)\u001b[0m\u001b[0;34m\u001b[0m\u001b[0;34m\u001b[0m\u001b[0m\n\u001b[0;32m---> 14\u001b[0;31m     \u001b[0mval\u001b[0m\u001b[0;34m[\u001b[0m\u001b[0;34m'old_chains'\u001b[0m\u001b[0;34m]\u001b[0m \u001b[0;34m=\u001b[0m \u001b[0mval\u001b[0m\u001b[0;34m.\u001b[0m\u001b[0mapply\u001b[0m\u001b[0;34m(\u001b[0m\u001b[0;32mlambda\u001b[0m \u001b[0mx\u001b[0m\u001b[0;34m:\u001b[0m \u001b[0mold_items\u001b[0m\u001b[0;34m(\u001b[0m\u001b[0mx\u001b[0m\u001b[0;34m.\u001b[0m\u001b[0muser_id\u001b[0m\u001b[0;34m)\u001b[0m\u001b[0;34m,\u001b[0m \u001b[0maxis\u001b[0m\u001b[0;34m=\u001b[0m\u001b[0;36m1\u001b[0m\u001b[0;34m)\u001b[0m\u001b[0;34m\u001b[0m\u001b[0;34m\u001b[0m\u001b[0m\n\u001b[0m\u001b[1;32m     15\u001b[0m     \u001b[0mscores\u001b[0m \u001b[0;34m=\u001b[0m \u001b[0mmetric\u001b[0m\u001b[0;34m(\u001b[0m\u001b[0mval\u001b[0m\u001b[0;34m[\u001b[0m\u001b[0;34m'chain_id'\u001b[0m\u001b[0;34m]\u001b[0m\u001b[0;34m,\u001b[0m \u001b[0mval\u001b[0m\u001b[0;34m[\u001b[0m\u001b[0;34m'pred_chains'\u001b[0m\u001b[0;34m]\u001b[0m\u001b[0;34m,\u001b[0m \u001b[0mval\u001b[0m\u001b[0;34m[\u001b[0m\u001b[0;34m'old_chains'\u001b[0m\u001b[0;34m]\u001b[0m\u001b[0;34m)\u001b[0m\u001b[0;34m\u001b[0m\u001b[0;34m\u001b[0m\u001b[0m\n\u001b[1;32m     16\u001b[0m     \u001b[0mprint\u001b[0m\u001b[0;34m(\u001b[0m\u001b[0;34m'total, new, all = '\u001b[0m\u001b[0;34m,\u001b[0m \u001b[0mscores\u001b[0m\u001b[0;34m)\u001b[0m\u001b[0;34m\u001b[0m\u001b[0;34m\u001b[0m\u001b[0m\n",
      "\u001b[0;32m~/miniconda3/envs/2_ml/lib/python3.9/site-packages/pandas/core/frame.py\u001b[0m in \u001b[0;36mapply\u001b[0;34m(self, func, axis, raw, result_type, args, **kwargs)\u001b[0m\n\u001b[1;32m   8738\u001b[0m             \u001b[0mkwargs\u001b[0m\u001b[0;34m=\u001b[0m\u001b[0mkwargs\u001b[0m\u001b[0;34m,\u001b[0m\u001b[0;34m\u001b[0m\u001b[0;34m\u001b[0m\u001b[0m\n\u001b[1;32m   8739\u001b[0m         )\n\u001b[0;32m-> 8740\u001b[0;31m         \u001b[0;32mreturn\u001b[0m \u001b[0mop\u001b[0m\u001b[0;34m.\u001b[0m\u001b[0mapply\u001b[0m\u001b[0;34m(\u001b[0m\u001b[0;34m)\u001b[0m\u001b[0;34m\u001b[0m\u001b[0;34m\u001b[0m\u001b[0m\n\u001b[0m\u001b[1;32m   8741\u001b[0m \u001b[0;34m\u001b[0m\u001b[0m\n\u001b[1;32m   8742\u001b[0m     def applymap(\n",
      "\u001b[0;32m~/miniconda3/envs/2_ml/lib/python3.9/site-packages/pandas/core/apply.py\u001b[0m in \u001b[0;36mapply\u001b[0;34m(self)\u001b[0m\n\u001b[1;32m    686\u001b[0m             \u001b[0;32mreturn\u001b[0m \u001b[0mself\u001b[0m\u001b[0;34m.\u001b[0m\u001b[0mapply_raw\u001b[0m\u001b[0;34m(\u001b[0m\u001b[0;34m)\u001b[0m\u001b[0;34m\u001b[0m\u001b[0;34m\u001b[0m\u001b[0m\n\u001b[1;32m    687\u001b[0m \u001b[0;34m\u001b[0m\u001b[0m\n\u001b[0;32m--> 688\u001b[0;31m         \u001b[0;32mreturn\u001b[0m \u001b[0mself\u001b[0m\u001b[0;34m.\u001b[0m\u001b[0mapply_standard\u001b[0m\u001b[0;34m(\u001b[0m\u001b[0;34m)\u001b[0m\u001b[0;34m\u001b[0m\u001b[0;34m\u001b[0m\u001b[0m\n\u001b[0m\u001b[1;32m    689\u001b[0m \u001b[0;34m\u001b[0m\u001b[0m\n\u001b[1;32m    690\u001b[0m     \u001b[0;32mdef\u001b[0m \u001b[0magg\u001b[0m\u001b[0;34m(\u001b[0m\u001b[0mself\u001b[0m\u001b[0;34m)\u001b[0m\u001b[0;34m:\u001b[0m\u001b[0;34m\u001b[0m\u001b[0;34m\u001b[0m\u001b[0m\n",
      "\u001b[0;32m~/miniconda3/envs/2_ml/lib/python3.9/site-packages/pandas/core/apply.py\u001b[0m in \u001b[0;36mapply_standard\u001b[0;34m(self)\u001b[0m\n\u001b[1;32m    810\u001b[0m \u001b[0;34m\u001b[0m\u001b[0m\n\u001b[1;32m    811\u001b[0m     \u001b[0;32mdef\u001b[0m \u001b[0mapply_standard\u001b[0m\u001b[0;34m(\u001b[0m\u001b[0mself\u001b[0m\u001b[0;34m)\u001b[0m\u001b[0;34m:\u001b[0m\u001b[0;34m\u001b[0m\u001b[0;34m\u001b[0m\u001b[0m\n\u001b[0;32m--> 812\u001b[0;31m         \u001b[0mresults\u001b[0m\u001b[0;34m,\u001b[0m \u001b[0mres_index\u001b[0m \u001b[0;34m=\u001b[0m \u001b[0mself\u001b[0m\u001b[0;34m.\u001b[0m\u001b[0mapply_series_generator\u001b[0m\u001b[0;34m(\u001b[0m\u001b[0;34m)\u001b[0m\u001b[0;34m\u001b[0m\u001b[0;34m\u001b[0m\u001b[0m\n\u001b[0m\u001b[1;32m    813\u001b[0m \u001b[0;34m\u001b[0m\u001b[0m\n\u001b[1;32m    814\u001b[0m         \u001b[0;31m# wrap results\u001b[0m\u001b[0;34m\u001b[0m\u001b[0;34m\u001b[0m\u001b[0m\n",
      "\u001b[0;32m~/miniconda3/envs/2_ml/lib/python3.9/site-packages/pandas/core/apply.py\u001b[0m in \u001b[0;36mapply_series_generator\u001b[0;34m(self)\u001b[0m\n\u001b[1;32m    826\u001b[0m             \u001b[0;32mfor\u001b[0m \u001b[0mi\u001b[0m\u001b[0;34m,\u001b[0m \u001b[0mv\u001b[0m \u001b[0;32min\u001b[0m \u001b[0menumerate\u001b[0m\u001b[0;34m(\u001b[0m\u001b[0mseries_gen\u001b[0m\u001b[0;34m)\u001b[0m\u001b[0;34m:\u001b[0m\u001b[0;34m\u001b[0m\u001b[0;34m\u001b[0m\u001b[0m\n\u001b[1;32m    827\u001b[0m                 \u001b[0;31m# ignore SettingWithCopy here in case the user mutates\u001b[0m\u001b[0;34m\u001b[0m\u001b[0;34m\u001b[0m\u001b[0m\n\u001b[0;32m--> 828\u001b[0;31m                 \u001b[0mresults\u001b[0m\u001b[0;34m[\u001b[0m\u001b[0mi\u001b[0m\u001b[0;34m]\u001b[0m \u001b[0;34m=\u001b[0m \u001b[0mself\u001b[0m\u001b[0;34m.\u001b[0m\u001b[0mf\u001b[0m\u001b[0;34m(\u001b[0m\u001b[0mv\u001b[0m\u001b[0;34m)\u001b[0m\u001b[0;34m\u001b[0m\u001b[0;34m\u001b[0m\u001b[0m\n\u001b[0m\u001b[1;32m    829\u001b[0m                 \u001b[0;32mif\u001b[0m \u001b[0misinstance\u001b[0m\u001b[0;34m(\u001b[0m\u001b[0mresults\u001b[0m\u001b[0;34m[\u001b[0m\u001b[0mi\u001b[0m\u001b[0;34m]\u001b[0m\u001b[0;34m,\u001b[0m \u001b[0mABCSeries\u001b[0m\u001b[0;34m)\u001b[0m\u001b[0;34m:\u001b[0m\u001b[0;34m\u001b[0m\u001b[0;34m\u001b[0m\u001b[0m\n\u001b[1;32m    830\u001b[0m                     \u001b[0;31m# If we have a view on v, we need to make a copy because\u001b[0m\u001b[0;34m\u001b[0m\u001b[0;34m\u001b[0m\u001b[0m\n",
      "\u001b[0;32m/tmp/ipykernel_15043/3180588310.py\u001b[0m in \u001b[0;36m<lambda>\u001b[0;34m(x)\u001b[0m\n\u001b[1;32m     12\u001b[0m     \u001b[0mval\u001b[0m \u001b[0;34m=\u001b[0m \u001b[0mval_df\u001b[0m\u001b[0;34m\u001b[0m\u001b[0;34m\u001b[0m\u001b[0m\n\u001b[1;32m     13\u001b[0m     \u001b[0mval\u001b[0m\u001b[0;34m[\u001b[0m\u001b[0;34m'pred_chains'\u001b[0m\u001b[0;34m]\u001b[0m \u001b[0;34m=\u001b[0m \u001b[0mval\u001b[0m\u001b[0;34m.\u001b[0m\u001b[0mapply\u001b[0m\u001b[0;34m(\u001b[0m\u001b[0;32mlambda\u001b[0m \u001b[0mx\u001b[0m\u001b[0;34m:\u001b[0m \u001b[0mpredict\u001b[0m\u001b[0;34m(\u001b[0m\u001b[0mmodel\u001b[0m\u001b[0;34m,\u001b[0m \u001b[0mmodel2\u001b[0m\u001b[0;34m,\u001b[0m \u001b[0mx\u001b[0m\u001b[0;34m.\u001b[0m\u001b[0muser_id\u001b[0m\u001b[0;34m,\u001b[0m \u001b[0mx\u001b[0m\u001b[0;34m.\u001b[0m\u001b[0mh3\u001b[0m\u001b[0;34m,\u001b[0m \u001b[0mtop_k\u001b[0m\u001b[0;34m)\u001b[0m\u001b[0;34m,\u001b[0m \u001b[0maxis\u001b[0m\u001b[0;34m=\u001b[0m\u001b[0;36m1\u001b[0m\u001b[0;34m)\u001b[0m\u001b[0;34m\u001b[0m\u001b[0;34m\u001b[0m\u001b[0m\n\u001b[0;32m---> 14\u001b[0;31m     \u001b[0mval\u001b[0m\u001b[0;34m[\u001b[0m\u001b[0;34m'old_chains'\u001b[0m\u001b[0;34m]\u001b[0m \u001b[0;34m=\u001b[0m \u001b[0mval\u001b[0m\u001b[0;34m.\u001b[0m\u001b[0mapply\u001b[0m\u001b[0;34m(\u001b[0m\u001b[0;32mlambda\u001b[0m \u001b[0mx\u001b[0m\u001b[0;34m:\u001b[0m \u001b[0mold_items\u001b[0m\u001b[0;34m(\u001b[0m\u001b[0mx\u001b[0m\u001b[0;34m.\u001b[0m\u001b[0muser_id\u001b[0m\u001b[0;34m)\u001b[0m\u001b[0;34m,\u001b[0m \u001b[0maxis\u001b[0m\u001b[0;34m=\u001b[0m\u001b[0;36m1\u001b[0m\u001b[0;34m)\u001b[0m\u001b[0;34m\u001b[0m\u001b[0;34m\u001b[0m\u001b[0m\n\u001b[0m\u001b[1;32m     15\u001b[0m     \u001b[0mscores\u001b[0m \u001b[0;34m=\u001b[0m \u001b[0mmetric\u001b[0m\u001b[0;34m(\u001b[0m\u001b[0mval\u001b[0m\u001b[0;34m[\u001b[0m\u001b[0;34m'chain_id'\u001b[0m\u001b[0;34m]\u001b[0m\u001b[0;34m,\u001b[0m \u001b[0mval\u001b[0m\u001b[0;34m[\u001b[0m\u001b[0;34m'pred_chains'\u001b[0m\u001b[0;34m]\u001b[0m\u001b[0;34m,\u001b[0m \u001b[0mval\u001b[0m\u001b[0;34m[\u001b[0m\u001b[0;34m'old_chains'\u001b[0m\u001b[0;34m]\u001b[0m\u001b[0;34m)\u001b[0m\u001b[0;34m\u001b[0m\u001b[0;34m\u001b[0m\u001b[0m\n\u001b[1;32m     16\u001b[0m     \u001b[0mprint\u001b[0m\u001b[0;34m(\u001b[0m\u001b[0;34m'total, new, all = '\u001b[0m\u001b[0;34m,\u001b[0m \u001b[0mscores\u001b[0m\u001b[0;34m)\u001b[0m\u001b[0;34m\u001b[0m\u001b[0;34m\u001b[0m\u001b[0m\n",
      "\u001b[0;32m/tmp/ipykernel_15043/4285832124.py\u001b[0m in \u001b[0;36mold_items\u001b[0;34m(user_id)\u001b[0m\n\u001b[1;32m     13\u001b[0m \u001b[0;34m\u001b[0m\u001b[0m\n\u001b[1;32m     14\u001b[0m \u001b[0;32mdef\u001b[0m \u001b[0mold_items\u001b[0m\u001b[0;34m(\u001b[0m\u001b[0muser_id\u001b[0m\u001b[0;34m)\u001b[0m\u001b[0;34m:\u001b[0m\u001b[0;34m\u001b[0m\u001b[0;34m\u001b[0m\u001b[0m\n\u001b[0;32m---> 15\u001b[0;31m     \u001b[0;32mreturn\u001b[0m \u001b[0mset\u001b[0m\u001b[0;34m(\u001b[0m\u001b[0minteractions\u001b[0m\u001b[0;34m.\u001b[0m\u001b[0minteraction_df\u001b[0m\u001b[0;34m[\u001b[0m\u001b[0minteractions\u001b[0m\u001b[0;34m.\u001b[0m\u001b[0minteraction_df\u001b[0m\u001b[0;34m[\u001b[0m\u001b[0;34m'user_id'\u001b[0m\u001b[0;34m]\u001b[0m \u001b[0;34m==\u001b[0m \u001b[0muser_id\u001b[0m\u001b[0;34m]\u001b[0m\u001b[0;34m[\u001b[0m\u001b[0;34m'chain_id'\u001b[0m\u001b[0;34m]\u001b[0m\u001b[0;34m.\u001b[0m\u001b[0munique\u001b[0m\u001b[0;34m(\u001b[0m\u001b[0;34m)\u001b[0m\u001b[0;34m)\u001b[0m\u001b[0;34m\u001b[0m\u001b[0;34m\u001b[0m\u001b[0m\n\u001b[0m",
      "\u001b[0;32m~/miniconda3/envs/2_ml/lib/python3.9/site-packages/pandas/core/series.py\u001b[0m in \u001b[0;36munique\u001b[0;34m(self)\u001b[0m\n\u001b[1;32m   2037\u001b[0m         \u001b[0mCategories\u001b[0m \u001b[0;34m(\u001b[0m\u001b[0;36m3\u001b[0m\u001b[0;34m,\u001b[0m \u001b[0mobject\u001b[0m\u001b[0;34m)\u001b[0m\u001b[0;34m:\u001b[0m \u001b[0;34m[\u001b[0m\u001b[0;34m'a'\u001b[0m \u001b[0;34m<\u001b[0m \u001b[0;34m'b'\u001b[0m \u001b[0;34m<\u001b[0m \u001b[0;34m'c'\u001b[0m\u001b[0;34m]\u001b[0m\u001b[0;34m\u001b[0m\u001b[0;34m\u001b[0m\u001b[0m\n\u001b[1;32m   2038\u001b[0m         \"\"\"\n\u001b[0;32m-> 2039\u001b[0;31m         \u001b[0;32mreturn\u001b[0m \u001b[0msuper\u001b[0m\u001b[0;34m(\u001b[0m\u001b[0;34m)\u001b[0m\u001b[0;34m.\u001b[0m\u001b[0munique\u001b[0m\u001b[0;34m(\u001b[0m\u001b[0;34m)\u001b[0m\u001b[0;34m\u001b[0m\u001b[0;34m\u001b[0m\u001b[0m\n\u001b[0m\u001b[1;32m   2040\u001b[0m \u001b[0;34m\u001b[0m\u001b[0m\n\u001b[1;32m   2041\u001b[0m     \u001b[0;34m@\u001b[0m\u001b[0moverload\u001b[0m\u001b[0;34m\u001b[0m\u001b[0;34m\u001b[0m\u001b[0m\n",
      "\u001b[0;32m~/miniconda3/envs/2_ml/lib/python3.9/site-packages/pandas/core/base.py\u001b[0m in \u001b[0;36munique\u001b[0;34m(self)\u001b[0m\n\u001b[1;32m    977\u001b[0m                     \u001b[0mresult\u001b[0m \u001b[0;34m=\u001b[0m \u001b[0mnp\u001b[0m\u001b[0;34m.\u001b[0m\u001b[0masarray\u001b[0m\u001b[0;34m(\u001b[0m\u001b[0mresult\u001b[0m\u001b[0;34m)\u001b[0m\u001b[0;34m\u001b[0m\u001b[0;34m\u001b[0m\u001b[0m\n\u001b[1;32m    978\u001b[0m         \u001b[0;32melse\u001b[0m\u001b[0;34m:\u001b[0m\u001b[0;34m\u001b[0m\u001b[0;34m\u001b[0m\u001b[0m\n\u001b[0;32m--> 979\u001b[0;31m             \u001b[0mresult\u001b[0m \u001b[0;34m=\u001b[0m \u001b[0munique1d\u001b[0m\u001b[0;34m(\u001b[0m\u001b[0mvalues\u001b[0m\u001b[0;34m)\u001b[0m\u001b[0;34m\u001b[0m\u001b[0;34m\u001b[0m\u001b[0m\n\u001b[0m\u001b[1;32m    980\u001b[0m \u001b[0;34m\u001b[0m\u001b[0m\n\u001b[1;32m    981\u001b[0m         \u001b[0;32mreturn\u001b[0m \u001b[0mresult\u001b[0m\u001b[0;34m\u001b[0m\u001b[0;34m\u001b[0m\u001b[0m\n",
      "\u001b[0;32m~/miniconda3/envs/2_ml/lib/python3.9/site-packages/pandas/core/algorithms.py\u001b[0m in \u001b[0;36munique\u001b[0;34m(values)\u001b[0m\n\u001b[1;32m    426\u001b[0m \u001b[0;34m\u001b[0m\u001b[0m\n\u001b[1;32m    427\u001b[0m     \u001b[0moriginal\u001b[0m \u001b[0;34m=\u001b[0m \u001b[0mvalues\u001b[0m\u001b[0;34m\u001b[0m\u001b[0;34m\u001b[0m\u001b[0m\n\u001b[0;32m--> 428\u001b[0;31m     \u001b[0mhtable\u001b[0m\u001b[0;34m,\u001b[0m \u001b[0mvalues\u001b[0m \u001b[0;34m=\u001b[0m \u001b[0m_get_hashtable_algo\u001b[0m\u001b[0;34m(\u001b[0m\u001b[0mvalues\u001b[0m\u001b[0;34m)\u001b[0m\u001b[0;34m\u001b[0m\u001b[0;34m\u001b[0m\u001b[0m\n\u001b[0m\u001b[1;32m    429\u001b[0m \u001b[0;34m\u001b[0m\u001b[0m\n\u001b[1;32m    430\u001b[0m     \u001b[0mtable\u001b[0m \u001b[0;34m=\u001b[0m \u001b[0mhtable\u001b[0m\u001b[0;34m(\u001b[0m\u001b[0mlen\u001b[0m\u001b[0;34m(\u001b[0m\u001b[0mvalues\u001b[0m\u001b[0;34m)\u001b[0m\u001b[0;34m)\u001b[0m\u001b[0;34m\u001b[0m\u001b[0;34m\u001b[0m\u001b[0m\n",
      "\u001b[0;32m~/miniconda3/envs/2_ml/lib/python3.9/site-packages/pandas/core/algorithms.py\u001b[0m in \u001b[0;36m_get_hashtable_algo\u001b[0;34m(values)\u001b[0m\n\u001b[1;32m    272\u001b[0m     \u001b[0mvalues\u001b[0m\u001b[0;34m,\u001b[0m \u001b[0m_\u001b[0m \u001b[0;34m=\u001b[0m \u001b[0m_ensure_data\u001b[0m\u001b[0;34m(\u001b[0m\u001b[0mvalues\u001b[0m\u001b[0;34m)\u001b[0m\u001b[0;34m\u001b[0m\u001b[0;34m\u001b[0m\u001b[0m\n\u001b[1;32m    273\u001b[0m \u001b[0;34m\u001b[0m\u001b[0m\n\u001b[0;32m--> 274\u001b[0;31m     \u001b[0mndtype\u001b[0m \u001b[0;34m=\u001b[0m \u001b[0m_check_object_for_strings\u001b[0m\u001b[0;34m(\u001b[0m\u001b[0mvalues\u001b[0m\u001b[0;34m)\u001b[0m\u001b[0;34m\u001b[0m\u001b[0;34m\u001b[0m\u001b[0m\n\u001b[0m\u001b[1;32m    275\u001b[0m     \u001b[0mhtable\u001b[0m \u001b[0;34m=\u001b[0m \u001b[0m_hashtables\u001b[0m\u001b[0;34m[\u001b[0m\u001b[0mndtype\u001b[0m\u001b[0;34m]\u001b[0m\u001b[0;34m\u001b[0m\u001b[0;34m\u001b[0m\u001b[0m\n\u001b[1;32m    276\u001b[0m     \u001b[0;32mreturn\u001b[0m \u001b[0mhtable\u001b[0m\u001b[0;34m,\u001b[0m \u001b[0mvalues\u001b[0m\u001b[0;34m\u001b[0m\u001b[0;34m\u001b[0m\u001b[0m\n",
      "\u001b[0;32m~/miniconda3/envs/2_ml/lib/python3.9/site-packages/pandas/core/algorithms.py\u001b[0m in \u001b[0;36m_check_object_for_strings\u001b[0;34m(values)\u001b[0m\n\u001b[1;32m    310\u001b[0m     \u001b[0mstr\u001b[0m\u001b[0;34m\u001b[0m\u001b[0;34m\u001b[0m\u001b[0m\n\u001b[1;32m    311\u001b[0m     \"\"\"\n\u001b[0;32m--> 312\u001b[0;31m     \u001b[0mndtype\u001b[0m \u001b[0;34m=\u001b[0m \u001b[0mvalues\u001b[0m\u001b[0;34m.\u001b[0m\u001b[0mdtype\u001b[0m\u001b[0;34m.\u001b[0m\u001b[0mname\u001b[0m\u001b[0;34m\u001b[0m\u001b[0;34m\u001b[0m\u001b[0m\n\u001b[0m\u001b[1;32m    313\u001b[0m     \u001b[0;32mif\u001b[0m \u001b[0mndtype\u001b[0m \u001b[0;34m==\u001b[0m \u001b[0;34m\"object\"\u001b[0m\u001b[0;34m:\u001b[0m\u001b[0;34m\u001b[0m\u001b[0;34m\u001b[0m\u001b[0m\n\u001b[1;32m    314\u001b[0m \u001b[0;34m\u001b[0m\u001b[0m\n",
      "\u001b[0;32m~/miniconda3/envs/2_ml/lib/python3.9/site-packages/numpy/core/_dtype.py\u001b[0m in \u001b[0;36m_name_get\u001b[0;34m(dtype)\u001b[0m\n\u001b[1;32m    319\u001b[0m \u001b[0;34m\u001b[0m\u001b[0m\n\u001b[1;32m    320\u001b[0m \u001b[0;34m\u001b[0m\u001b[0m\n\u001b[0;32m--> 321\u001b[0;31m \u001b[0;32mdef\u001b[0m \u001b[0m_name_get\u001b[0m\u001b[0;34m(\u001b[0m\u001b[0mdtype\u001b[0m\u001b[0;34m)\u001b[0m\u001b[0;34m:\u001b[0m\u001b[0;34m\u001b[0m\u001b[0;34m\u001b[0m\u001b[0m\n\u001b[0m\u001b[1;32m    322\u001b[0m     \u001b[0;31m# provides dtype.name.__get__, documented as returning a \"bit name\"\u001b[0m\u001b[0;34m\u001b[0m\u001b[0;34m\u001b[0m\u001b[0m\n\u001b[1;32m    323\u001b[0m \u001b[0;34m\u001b[0m\u001b[0m\n",
      "\u001b[0;31mKeyboardInterrupt\u001b[0m: "
     ]
    }
   ],
   "source": [
    "hyper_params(val_df)"
   ]
  },
  {
   "cell_type": "code",
   "execution_count": 29,
   "id": "83338bac",
   "metadata": {},
   "outputs": [
    {
     "data": {
      "text/html": [
       "<div>\n",
       "<style scoped>\n",
       "    .dataframe tbody tr th:only-of-type {\n",
       "        vertical-align: middle;\n",
       "    }\n",
       "\n",
       "    .dataframe tbody tr th {\n",
       "        vertical-align: top;\n",
       "    }\n",
       "\n",
       "    .dataframe thead th {\n",
       "        text-align: right;\n",
       "    }\n",
       "</style>\n",
       "<table border=\"1\" class=\"dataframe\">\n",
       "  <thead>\n",
       "    <tr style=\"text-align: right;\">\n",
       "      <th></th>\n",
       "      <th>user_id</th>\n",
       "      <th>h3</th>\n",
       "      <th>chain_id</th>\n",
       "      <th>pred_chains</th>\n",
       "      <th>old_chains</th>\n",
       "    </tr>\n",
       "  </thead>\n",
       "  <tbody>\n",
       "    <tr>\n",
       "      <th>0</th>\n",
       "      <td>0</td>\n",
       "      <td>89118108b43ffff</td>\n",
       "      <td>{28720}</td>\n",
       "      <td>[48274, 45822, 27183, 25352, 806, 19998, 45591...</td>\n",
       "      <td>{}</td>\n",
       "    </tr>\n",
       "    <tr>\n",
       "      <th>1</th>\n",
       "      <td>0</td>\n",
       "      <td>89118134503ffff</td>\n",
       "      <td>{28720}</td>\n",
       "      <td>[28720, 48274, 1929, 30245, 69019, 7614, 30246...</td>\n",
       "      <td>{}</td>\n",
       "    </tr>\n",
       "    <tr>\n",
       "      <th>2</th>\n",
       "      <td>0</td>\n",
       "      <td>89118134513ffff</td>\n",
       "      <td>{28720}</td>\n",
       "      <td>[28720, 48274, 1929, 29259, 30245, 15021, 6901...</td>\n",
       "      <td>{}</td>\n",
       "    </tr>\n",
       "    <tr>\n",
       "      <th>3</th>\n",
       "      <td>0</td>\n",
       "      <td>89118134517ffff</td>\n",
       "      <td>{28720}</td>\n",
       "      <td>[28720, 48274, 1929, 29259, 30245, 15021, 6901...</td>\n",
       "      <td>{}</td>\n",
       "    </tr>\n",
       "    <tr>\n",
       "      <th>4</th>\n",
       "      <td>0</td>\n",
       "      <td>8911813456bffff</td>\n",
       "      <td>{28720}</td>\n",
       "      <td>[28720, 1929, 30245, 69019, 30246, 34987, 3787...</td>\n",
       "      <td>{}</td>\n",
       "    </tr>\n",
       "  </tbody>\n",
       "</table>\n",
       "</div>"
      ],
      "text/plain": [
       "   user_id               h3 chain_id  \\\n",
       "0        0  89118108b43ffff  {28720}   \n",
       "1        0  89118134503ffff  {28720}   \n",
       "2        0  89118134513ffff  {28720}   \n",
       "3        0  89118134517ffff  {28720}   \n",
       "4        0  8911813456bffff  {28720}   \n",
       "\n",
       "                                         pred_chains old_chains  \n",
       "0  [48274, 45822, 27183, 25352, 806, 19998, 45591...         {}  \n",
       "1  [28720, 48274, 1929, 30245, 69019, 7614, 30246...         {}  \n",
       "2  [28720, 48274, 1929, 29259, 30245, 15021, 6901...         {}  \n",
       "3  [28720, 48274, 1929, 29259, 30245, 15021, 6901...         {}  \n",
       "4  [28720, 1929, 30245, 69019, 30246, 34987, 3787...         {}  "
      ]
     },
     "execution_count": 29,
     "metadata": {},
     "output_type": "execute_result"
    }
   ],
   "source": [
    "val_df.head()"
   ]
  },
  {
   "cell_type": "markdown",
   "id": "aa76271e",
   "metadata": {},
   "source": [
    "LightFM без фичей\n",
    "epochs=60, top_k=30\n",
    "\n",
    "total, new, all =  (0.08583693873624455, 0.03078052077852865, 0.11011283591543182)\n",
    "\n",
    "LightFM c несколькими фичами\n",
    "\n",
    "total, new, all =  (0.0822435945227267, 0.032637490991326824, 0.09921220706279976)\n",
    "\n",
    "LightFM с сравнениями со средними  \n",
    "user_alpha=0.1\n",
    "\n",
    "total, new, all =  (0.08338800666020525, 0.03301026367454459, 0.10075548597132136)"
   ]
  },
  {
   "cell_type": "code",
   "execution_count": null,
   "id": "22156cf4",
   "metadata": {
    "scrolled": true
   },
   "outputs": [],
   "source": [
    "for factors in [30, 40, 50, 60, 70]:\n",
    "    for thr in [0.7, 0.75, 0.8, 0.85, 0.9]:\n",
    "        for top_k in [5, 10, 20, 30]:\n",
    "            for filter_liked in [True, False]:\n",
    "                hyper_params(val_df, factors, thr, top_k, filter_liked) "
   ]
  }
 ],
 "metadata": {
  "kernelspec": {
   "display_name": "Python 3 (ipykernel)",
   "language": "python",
   "name": "python3"
  },
  "language_info": {
   "codemirror_mode": {
    "name": "ipython",
    "version": 3
   },
   "file_extension": ".py",
   "mimetype": "text/x-python",
   "name": "python",
   "nbconvert_exporter": "python",
   "pygments_lexer": "ipython3",
   "version": "3.9.7"
  }
 },
 "nbformat": 4,
 "nbformat_minor": 5
}
