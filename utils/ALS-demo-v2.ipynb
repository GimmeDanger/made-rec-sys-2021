{
 "cells": [
  {
   "cell_type": "markdown",
   "id": "1df56dce",
   "metadata": {},
   "source": [
    "# Alternating Least Square (ALS)"
   ]
  },
  {
   "cell_type": "code",
   "execution_count": 1,
   "id": "0f65b175",
   "metadata": {},
   "outputs": [],
   "source": [
    "import pandas as pd\n",
    "import numpy as np\n",
    "from tqdm import tqdm\n",
    "from interaction_table import orders_weigher, InteractionTable\n",
    "from h3_index import H3Index"
   ]
  },
  {
   "cell_type": "code",
   "execution_count": 2,
   "id": "babb9b6f",
   "metadata": {},
   "outputs": [],
   "source": [
    "#!pip install fastparquet\n",
    "h3index = H3Index('../data/raw/h3_to_chains.pkl')"
   ]
  },
  {
   "cell_type": "code",
   "execution_count": 3,
   "id": "9450cf1d",
   "metadata": {},
   "outputs": [],
   "source": [
    "def get_clicks():\n",
    "    path = '../data/click.parquet'\n",
    "    return pd.read_parquet(path)\n",
    "\n",
    "def get_orders():\n",
    "    path = '../data/orders.parquet'\n",
    "    df = pd.read_parquet(path)\n",
    "    df = df.rename(columns={\"customer_id\": \"user_id\"})\n",
    "    return df"
   ]
  },
  {
   "cell_type": "code",
   "execution_count": 4,
   "id": "ce473e05",
   "metadata": {},
   "outputs": [],
   "source": [
    "def orders_weigher_without_normalization(orders_df):\n",
    "    return orders_weigher(orders_df, False)\n",
    "\n",
    "def orders_weigher_with_normalization(orders_df):\n",
    "    return orders_weigher(orders_df, True)"
   ]
  },
  {
   "cell_type": "code",
   "execution_count": 22,
   "id": "98a9f1b8",
   "metadata": {},
   "outputs": [
    {
     "name": "stdout",
     "output_type": "stream",
     "text": [
      "Orders df loaded: size=15797147,  uniq_users=3385197,  uniq_chains=23890\n",
      "Orders weighter: use user avg orders per chain as weight\n",
      "            user_id      chain_id        weight\n",
      "count  8.011387e+06  8.011387e+06  8.011387e+06\n",
      "mean   4.043872e+07  3.385702e+04  1.971837e+00\n",
      "std    2.132381e+07  1.560430e+04  6.286035e+01\n",
      "min    0.000000e+00  9.000000e+00  1.000000e+00\n",
      "25%    2.925719e+07  2.780800e+04  1.000000e+00\n",
      "50%    4.542840e+07  3.105700e+04  1.000000e+00\n",
      "75%    5.577489e+07  4.385200e+04  2.000000e+00\n",
      "max    7.213902e+07  7.332400e+04  1.690410e+05\n",
      "Orders df weighted: size=8011387, uniq_users=3385197, uniq_chains=23890\n",
      "Interaction df len for test:  236862\n"
     ]
    }
   ],
   "source": [
    "interactions = InteractionTable(None, get_orders,\n",
    "                                None, orders_weigher_without_normalization,\n",
    "                                alpha=0, test_slice=int(1e5))"
   ]
  },
  {
   "cell_type": "code",
   "execution_count": 23,
   "id": "e2fab7bc",
   "metadata": {},
   "outputs": [
    {
     "name": "stdout",
     "output_type": "stream",
     "text": [
      "2300001\n",
      "2293762\n",
      "23954\n",
      "18959\n"
     ]
    },
    {
     "data": {
      "text/html": [
       "<div>\n",
       "<style scoped>\n",
       "    .dataframe tbody tr th:only-of-type {\n",
       "        vertical-align: middle;\n",
       "    }\n",
       "\n",
       "    .dataframe tbody tr th {\n",
       "        vertical-align: top;\n",
       "    }\n",
       "\n",
       "    .dataframe thead th {\n",
       "        text-align: right;\n",
       "    }\n",
       "</style>\n",
       "<table border=\"1\" class=\"dataframe\">\n",
       "  <thead>\n",
       "    <tr style=\"text-align: right;\">\n",
       "      <th></th>\n",
       "      <th>user_id</th>\n",
       "      <th>h3</th>\n",
       "      <th>chain_id</th>\n",
       "    </tr>\n",
       "  </thead>\n",
       "  <tbody>\n",
       "    <tr>\n",
       "      <th>0</th>\n",
       "      <td>392</td>\n",
       "      <td>891181b655bffff</td>\n",
       "      <td>{28795}</td>\n",
       "    </tr>\n",
       "    <tr>\n",
       "      <th>1</th>\n",
       "      <td>538</td>\n",
       "      <td>8911aa79667ffff</td>\n",
       "      <td>{39232}</td>\n",
       "    </tr>\n",
       "    <tr>\n",
       "      <th>2</th>\n",
       "      <td>600</td>\n",
       "      <td>8911aa44d53ffff</td>\n",
       "      <td>{2046}</td>\n",
       "    </tr>\n",
       "    <tr>\n",
       "      <th>3</th>\n",
       "      <td>1695</td>\n",
       "      <td>8911aa7a0a7ffff</td>\n",
       "      <td>{4363}</td>\n",
       "    </tr>\n",
       "    <tr>\n",
       "      <th>4</th>\n",
       "      <td>10053</td>\n",
       "      <td>8911aa45d6fffff</td>\n",
       "      <td>{28720}</td>\n",
       "    </tr>\n",
       "  </tbody>\n",
       "</table>\n",
       "</div>"
      ],
      "text/plain": [
       "   user_id               h3 chain_id\n",
       "0      392  891181b655bffff  {28795}\n",
       "1      538  8911aa79667ffff  {39232}\n",
       "2      600  8911aa44d53ffff   {2046}\n",
       "3     1695  8911aa7a0a7ffff   {4363}\n",
       "4    10053  8911aa45d6fffff  {28720}"
      ]
     },
     "execution_count": 23,
     "metadata": {},
     "output_type": "execute_result"
    }
   ],
   "source": [
    "val_df = pd.read_pickle('../data/raw/test_VALID.pkl')\n",
    "val_df = val_df[['customer_id', 'h3', 'chain_id']]\n",
    "val_df = val_df.rename(columns={\"customer_id\": \"user_id\"})\n",
    "val_df.user_id = val_df.user_id.astype(int)\n",
    "print(len(val_df))\n",
    "val_df = val_df.query('h3 in @h3index.valid')\n",
    "print(len(val_df))\n",
    "val_df = val_df.query('user_id in @interactions.user_index')\n",
    "print(len(val_df))\n",
    "val_df = val_df.query('chain_id in @interactions.chain_index')\n",
    "print(len(val_df))\n",
    "val_df = pd.pivot_table(val_df,\n",
    "                        values=['chain_id'],\n",
    "                        index=['user_id', 'h3'],\n",
    "                        aggfunc={'chain_id': set})\n",
    "val_df = val_df.reset_index()\n",
    "val_df.head()"
   ]
  },
  {
   "cell_type": "markdown",
   "id": "e919ab0a",
   "metadata": {},
   "source": [
    "### Если h3 пользователя неизвестен, то можно брать следующий в иерархии h3 (более крупный)"
   ]
  },
  {
   "cell_type": "code",
   "execution_count": 24,
   "id": "852fe603",
   "metadata": {},
   "outputs": [],
   "source": [
    "def predict(model, user_id, h3, thr=0.9, top_k=10, filter_already_liked_items=True):\n",
    "    user_index = interactions.user_index[user_id]\n",
    "    valid_chains = h3index.h3_to_chains[h3]\n",
    "    filter_items = [v for k, v in interactions.chain_index.items() if k not in valid_chains]\n",
    "    top = model.recommend(user_index,\n",
    "                          interactions.sparse_interaction_matrix.T,\n",
    "                          N=top_k,\n",
    "                          filter_already_liked_items=filter_already_liked_items,\n",
    "                          filter_items=filter_items)\n",
    "    top = [interactions.r_chain_index[x] for x, score in top if score > thr]\n",
    "    return top\n",
    "\n",
    "def old_items(user_id):\n",
    "    return set(interactions.interaction_df[interactions.interaction_df['user_id'] == user_id]['chain_id'].unique())"
   ]
  },
  {
   "cell_type": "code",
   "execution_count": 25,
   "id": "e278e3e3",
   "metadata": {},
   "outputs": [],
   "source": [
    "def metric(y_true, y_pred, y_old, at1=10, at2=30, average=True):\n",
    "    \"\"\"\n",
    "    new_prec@10 + new_prec@30 + 1/2 *(prec_@10 + prec@30)\n",
    "    \"\"\"\n",
    "    scores_new = []\n",
    "    scores_all = []\n",
    "    scores_total = []\n",
    "    for t, p, o in zip(y_true, y_pred, y_old):\n",
    "        t = list(t)\n",
    "        p = list(p)\n",
    "        o = o if isinstance(o, (set, list)) else []\n",
    "        \n",
    "        prec1 = len(set(t[:at1]) & set(p[:at1])) / at1\n",
    "        prec2 = len(set(t[:at2]) & set(p[:at2])) / at2\n",
    "        new_prec1 = len((set(p[:at1]) - set(o)) & set(t[:at1])) / at1\n",
    "        new_prec2 = len((set(p[:at2]) - set(o)) & set(t[:at2])) / at2\n",
    "\n",
    "        scores_total.append(new_prec1 + new_prec2 + 0.5 * (prec1 + prec2))\n",
    "        scores_new.append(new_prec1 + new_prec2)\n",
    "        scores_all.append(prec1 + prec2)\n",
    "\n",
    "    return (np.mean(scores_total) if average else scores_total,\n",
    "            np.mean(scores_new) if average else scores_new,\n",
    "            np.mean(scores_all) if average else scores_all)"
   ]
  },
  {
   "cell_type": "code",
   "execution_count": 26,
   "id": "7b0dfc35",
   "metadata": {},
   "outputs": [],
   "source": [
    "# !pip install implicit\n",
    "import implicit\n",
    "\n",
    "def hyper_params(val_df, factors=60, thr=0.7, top_k=30, filter_liked=True):\n",
    "    print('factors: ', factors, ', thr: ', thr, ', top_k: ', top_k, ', filter_liked: ', filter_liked)\n",
    "    model = implicit.als.AlternatingLeastSquares(factors=factors, use_gpu=True, random_state=42)\n",
    "    model.fit(interactions.sparse_interaction_matrix)\n",
    "    val = val_df\n",
    "    val['pred_chains'] = val.apply(lambda x: predict(model, x.user_id, x.h3, thr, top_k, filter_liked), axis=1)\n",
    "    val['old_chains'] = val.apply(lambda x: old_items(x.user_id), axis=1)\n",
    "    scores = metric(val['chain_id'], val['pred_chains'], val['old_chains'])\n",
    "    print('total, new, all = ', scores)\n",
    "    print()"
   ]
  },
  {
   "cell_type": "code",
   "execution_count": 27,
   "id": "a720cfb2",
   "metadata": {},
   "outputs": [
    {
     "name": "stdout",
     "output_type": "stream",
     "text": [
      "factors:  60 , thr:  0.7 , top_k:  30 , filter_liked:  True\n"
     ]
    },
    {
     "data": {
      "application/vnd.jupyter.widget-view+json": {
       "model_id": "224ec1cb08854127af59aa5502115ea1",
       "version_major": 2,
       "version_minor": 0
      },
      "text/plain": [
       "  0%|          | 0/15 [00:00<?, ?it/s]"
      ]
     },
     "metadata": {},
     "output_type": "display_data"
    },
    {
     "name": "stdout",
     "output_type": "stream",
     "text": [
      "total, new, all =  (0.023462411347517732, 0.0002836879432624114, 0.046357446808510644)\n",
      "\n",
      "CPU times: user 56.6 s, sys: 27.8 ms, total: 56.6 s\n",
      "Wall time: 56.6 s\n"
     ]
    }
   ],
   "source": [
    "%%time\n",
    "hyper_params(val_df, factors=60, thr=0.7, top_k=30, filter_liked=True)"
   ]
  },
  {
   "cell_type": "markdown",
   "id": "aa76271e",
   "metadata": {},
   "source": [
    "factors:  60 , thr:  0.7 , top_k:  30 , filter_liked:  True\n",
    "\n",
    "total, new, all =  (0.02605082142811052, 0.00023745918670228555, 0.05162672448281647)"
   ]
  },
  {
   "cell_type": "code",
   "execution_count": null,
   "id": "22156cf4",
   "metadata": {},
   "outputs": [],
   "source": [
    "for factors in [30, 40, 50, 60, 70]:\n",
    "    for thr in [0.7, 0.75, 0.8, 0.85, 0.9]:\n",
    "        for top_k in [5, 10, 20, 30]:\n",
    "            for filter_liked in [True, False]:\n",
    "                hyper_params(val_df, factors, thr, top_k, filter_liked) "
   ]
  }
 ],
 "metadata": {
  "kernelspec": {
   "display_name": "Python 3 (ipykernel)",
   "language": "python",
   "name": "python3"
  },
  "language_info": {
   "codemirror_mode": {
    "name": "ipython",
    "version": 3
   },
   "file_extension": ".py",
   "mimetype": "text/x-python",
   "name": "python",
   "nbconvert_exporter": "python",
   "pygments_lexer": "ipython3",
   "version": "3.9.7"
  }
 },
 "nbformat": 4,
 "nbformat_minor": 5
}
