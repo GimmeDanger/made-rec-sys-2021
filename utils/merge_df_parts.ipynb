{
 "cells": [
  {
   "cell_type": "code",
   "execution_count": null,
   "id": "ab11ed2a",
   "metadata": {},
   "outputs": [],
   "source": [
    "import pandas as pd\n",
    "\n",
    "def concat_dataframe_parts(inputs, output):\n",
    "    if len(inputs) < 2:\n",
    "        raise RuntimeError(\"Invalid inputs size: must be >= 2\")\n",
    "    print(f'Merging {inputs}\\n   into {output}')\n",
    "    df_merged = pd.read_pickle(inputs[0])\n",
    "    for f in inputs[1:]:\n",
    "        df_i = pd.read_pickle(f)\n",
    "        df_merged = pd.concat([df_merged, df_i], ignore_index=True)\n",
    "    df_merged.to_pickle(output)\n",
    "    return df_merged"
   ]
  },
  {
   "cell_type": "code",
   "execution_count": null,
   "id": "0d280144",
   "metadata": {},
   "outputs": [],
   "source": [
    "concat_dataframe_parts(\n",
    "    inputs=['../data/orders/orders1.pkl', '../data/orders/orders2.pkl', '../data/orders/orders3.pkl'],\n",
    "    output='../data/orders/orders.pkl'\n",
    ")"
   ]
  },
  {
   "cell_type": "code",
   "execution_count": null,
   "id": "51fc4d27",
   "metadata": {},
   "outputs": [],
   "source": [
    "concat_dataframe_parts(\n",
    "    inputs=['../data/clicks/click_1.pkl', '../data/clicks/click_2.pkl'],\n",
    "    output='../data/clicks/click.pkl'\n",
    ")"
   ]
  }
 ],
 "metadata": {
  "kernelspec": {
   "display_name": "Python 3",
   "language": "python",
   "name": "python3"
  },
  "language_info": {
   "codemirror_mode": {
    "name": "ipython",
    "version": 3
   },
   "file_extension": ".py",
   "mimetype": "text/x-python",
   "name": "python",
   "nbconvert_exporter": "python",
   "pygments_lexer": "ipython3",
   "version": "3.8.12"
  }
 },
 "nbformat": 4,
 "nbformat_minor": 5
}
