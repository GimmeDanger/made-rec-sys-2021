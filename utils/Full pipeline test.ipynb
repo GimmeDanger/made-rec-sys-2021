{
 "cells": [
  {
   "cell_type": "markdown",
   "id": "cab22750",
   "metadata": {},
   "source": [
    "# Full pipeline применение"
   ]
  },
  {
   "cell_type": "code",
   "execution_count": 1,
   "id": "db77ca23",
   "metadata": {},
   "outputs": [],
   "source": [
    "import pickle\n",
    "from top_recommender import TopRecommender\n",
    "from h3_index import H3Index\n",
    "import pandas as pd\n",
    "import numpy as np"
   ]
  },
  {
   "cell_type": "code",
   "execution_count": 2,
   "id": "5032a6e0",
   "metadata": {},
   "outputs": [],
   "source": [
    "# and later you can load it\n",
    "\n",
    "with open('lightfm_moscow.pkl', 'rb') as f:\n",
    "    lightfm_moscow = pickle.load(f)\n",
    "with open('interactions_moscow.pkl', 'rb') as f:\n",
    "    interactions_moscow = pickle.load(f)\n",
    "with open('user_features_sparse_moscow.pkl', 'rb') as f:\n",
    "    user_features_sparse_moscow = pickle.load(f)\n",
    "    \n",
    "# and later you can load it\n",
    "with open('lightfm_piter.pkl', 'rb') as f:\n",
    "    lightfm_piter = pickle.load(f)\n",
    "with open('interactions_piter.pkl', 'rb') as f:\n",
    "    interactions_piter = pickle.load(f)\n",
    "with open('user_features_sparse_piter.pkl', 'rb') as f:\n",
    "    user_features_sparse_piter = pickle.load(f)\n",
    "    \n",
    "# and later you can load it\n",
    "with open('lightfm_other.pkl', 'rb') as f:\n",
    "    lightfm_other = pickle.load(f)\n",
    "with open('interactions_other.pkl', 'rb') as f:\n",
    "    interactions_other = pickle.load(f)\n",
    "with open('user_features_sparse_other.pkl', 'rb') as f:\n",
    "    user_features_sparse_other = pickle.load(f)\n",
    "    \n",
    "\n",
    "with open('top_rec.pkl', 'rb') as f:\n",
    "    top_rec = pickle.load(f)"
   ]
  },
  {
   "cell_type": "code",
   "execution_count": 3,
   "id": "4345eca2",
   "metadata": {},
   "outputs": [],
   "source": [
    "#!pip install fastparquet\n",
    "h3index = H3Index('../data/raw/h3_to_chains.pkl')"
   ]
  },
  {
   "cell_type": "code",
   "execution_count": 4,
   "id": "6f4b9fb6",
   "metadata": {},
   "outputs": [
    {
     "name": "stdout",
     "output_type": "stream",
     "text": [
      "Initial validation dataset size: 2300001\n",
      "Filter h3 indices that not in h3_to_chain dict 2293762\n"
     ]
    },
    {
     "data": {
      "text/html": [
       "<div>\n",
       "<style scoped>\n",
       "    .dataframe tbody tr th:only-of-type {\n",
       "        vertical-align: middle;\n",
       "    }\n",
       "\n",
       "    .dataframe tbody tr th {\n",
       "        vertical-align: top;\n",
       "    }\n",
       "\n",
       "    .dataframe thead th {\n",
       "        text-align: right;\n",
       "    }\n",
       "</style>\n",
       "<table border=\"1\" class=\"dataframe\">\n",
       "  <thead>\n",
       "    <tr style=\"text-align: right;\">\n",
       "      <th></th>\n",
       "      <th>user_id</th>\n",
       "      <th>h3</th>\n",
       "      <th>city_id</th>\n",
       "      <th>chain_id</th>\n",
       "    </tr>\n",
       "  </thead>\n",
       "  <tbody>\n",
       "    <tr>\n",
       "      <th>0</th>\n",
       "      <td>0</td>\n",
       "      <td>890b0638003ffff</td>\n",
       "      <td>49</td>\n",
       "      <td>{34646}</td>\n",
       "    </tr>\n",
       "    <tr>\n",
       "      <th>1</th>\n",
       "      <td>0</td>\n",
       "      <td>890b0638007ffff</td>\n",
       "      <td>49</td>\n",
       "      <td>{34646}</td>\n",
       "    </tr>\n",
       "    <tr>\n",
       "      <th>2</th>\n",
       "      <td>0</td>\n",
       "      <td>890b063800fffff</td>\n",
       "      <td>49</td>\n",
       "      <td>{34646}</td>\n",
       "    </tr>\n",
       "    <tr>\n",
       "      <th>3</th>\n",
       "      <td>0</td>\n",
       "      <td>890b0638023ffff</td>\n",
       "      <td>49</td>\n",
       "      <td>{34646}</td>\n",
       "    </tr>\n",
       "    <tr>\n",
       "      <th>4</th>\n",
       "      <td>0</td>\n",
       "      <td>890b0638027ffff</td>\n",
       "      <td>49</td>\n",
       "      <td>{34646}</td>\n",
       "    </tr>\n",
       "  </tbody>\n",
       "</table>\n",
       "</div>"
      ],
      "text/plain": [
       "   user_id               h3  city_id chain_id\n",
       "0        0  890b0638003ffff       49  {34646}\n",
       "1        0  890b0638007ffff       49  {34646}\n",
       "2        0  890b063800fffff       49  {34646}\n",
       "3        0  890b0638023ffff       49  {34646}\n",
       "4        0  890b0638027ffff       49  {34646}"
      ]
     },
     "execution_count": 4,
     "metadata": {},
     "output_type": "execute_result"
    }
   ],
   "source": [
    "val_df = pd.read_pickle('../data/raw/test_VALID.pkl')\n",
    "val_df = val_df.rename(columns={\"customer_id\": \"user_id\"})\n",
    "val_df.user_id = val_df.user_id.astype(int)\n",
    "\n",
    "print(\"Initial validation dataset size:\", len(val_df))\n",
    "val_df = val_df[val_df[\"h3\"].isin(h3index.valid)]\n",
    "print(\"Filter h3 indices that not in h3_to_chain dict\", len(val_df))\n",
    "\n",
    "val_df = pd.pivot_table(val_df,\n",
    "                        values=['chain_id'],\n",
    "                        index=['user_id', 'h3', 'city_id'],\n",
    "                        aggfunc={'chain_id': set})\n",
    "val_df = val_df.reset_index()\n",
    "val_df.head()"
   ]
  },
  {
   "cell_type": "code",
   "execution_count": 5,
   "id": "49c84088",
   "metadata": {},
   "outputs": [],
   "source": [
    "def predict_in_city(lightfm, top_rec, user_id, h3, interactions, user_features_sparse, top_k=10):\n",
    "    valid_chains = h3index.h3_to_chains[h3]\n",
    "    if user_id in interactions.user_to_index:\n",
    "        user_index = interactions.user_to_index[user_id]\n",
    "        valid_chain_index = [v for k, v in interactions.chain_to_index.items() if k in valid_chains]\n",
    "        pred = lightfm.predict(user_index, valid_chain_index, user_features=user_features_sparse)\n",
    "        top_chain_index = [x for _, x in sorted(zip(pred, valid_chain_index), reverse=True)][:top_k]\n",
    "        top = [interactions.index_to_chain[k] for k in top_chain_index]\n",
    "    else:\n",
    "        pred = top_rec.predict(valid_chains)\n",
    "        top = [x for _, x in sorted(zip(pred, valid_chains), reverse=True)][:top_k]\n",
    "    return top\n",
    "\n",
    "def old_items_in_city(user_id, interactions):\n",
    "    return set(interactions.interaction_df[interactions.interaction_df['user_id'] == user_id]['chain_id'].unique())"
   ]
  },
  {
   "cell_type": "code",
   "execution_count": 6,
   "id": "331b111c",
   "metadata": {},
   "outputs": [],
   "source": [
    "def predict(user_id, h3, city_id, top_k=10):\n",
    "    if city_id == 1:\n",
    "        top = predict_in_city(\n",
    "            lightfm_moscow,\n",
    "            top_rec,\n",
    "            user_id,\n",
    "            h3,\n",
    "            interactions_moscow,\n",
    "            user_features_sparse_moscow,\n",
    "            top_k=top_k\n",
    "        )\n",
    "    elif city_id == 2:\n",
    "        top = predict_in_city(\n",
    "            lightfm_piter,\n",
    "            top_rec,\n",
    "            user_id,\n",
    "            h3,\n",
    "            interactions_piter,\n",
    "            user_features_sparse_piter,\n",
    "            top_k=top_k\n",
    "        )\n",
    "    else:\n",
    "        top = predict_in_city(\n",
    "            lightfm_other,\n",
    "            top_rec,\n",
    "            user_id,\n",
    "            h3,\n",
    "            interactions_other,\n",
    "            user_features_sparse_other,\n",
    "            top_k=top_k\n",
    "        ) \n",
    "    return top\n",
    "        \n",
    "def old_items(user_id, city_id):\n",
    "    if city_id ==1:\n",
    "        old = old_items_in_city(user_id, interactions_moscow)\n",
    "    elif city_id == 2:\n",
    "        old = old_items_in_city(user_id, interactions_piter)\n",
    "    else:\n",
    "        old = old_items_in_city(user_id, interactions_other)\n",
    "    \n",
    "    return old"
   ]
  },
  {
   "cell_type": "code",
   "execution_count": 7,
   "id": "625216b4",
   "metadata": {},
   "outputs": [],
   "source": [
    "def metric(y_true, y_pred, y_old, at1=10, at2=30, average=True):\n",
    "    \"\"\"\n",
    "    new_prec@10 + new_prec@30 + 1/2 *(prec_@10 + prec@30)\n",
    "    \"\"\"\n",
    "    scores_new = []\n",
    "    scores_all = []\n",
    "    scores_total = []\n",
    "    for t, p, o in zip(y_true, y_pred, y_old):\n",
    "        t = list(t)\n",
    "        p = list(p)\n",
    "        o = o if isinstance(o, (set, list)) else []\n",
    "        \n",
    "        prec1 = len(set(t[:at1]) & set(p[:at1])) / at1\n",
    "        prec2 = len(set(t[:at2]) & set(p[:at2])) / at2\n",
    "        new_prec1 = len((set(p[:at1]) - set(o)) & set(t[:at1])) / at1\n",
    "        new_prec2 = len((set(p[:at2]) - set(o)) & set(t[:at2])) / at2\n",
    "\n",
    "        scores_total.append(new_prec1 + new_prec2 + 0.5 * (prec1 + prec2))\n",
    "        scores_new.append(new_prec1 + new_prec2)\n",
    "        scores_all.append(prec1 + prec2)\n",
    "\n",
    "    return (np.mean(scores_total) if average else scores_total,\n",
    "            np.mean(scores_new) if average else scores_new,\n",
    "            np.mean(scores_all) if average else scores_all)"
   ]
  },
  {
   "cell_type": "code",
   "execution_count": 8,
   "id": "293908a7",
   "metadata": {},
   "outputs": [],
   "source": [
    "def compute_score(val_df, frac=0.001, top_k=30):\n",
    "    val = val_df.sample(frac=frac, random_state=42)\n",
    "    val['pred_chains'] = val.apply(lambda x: predict(x.user_id, x.h3, x.city_id, top_k), axis=1)\n",
    "    val['old_chains'] = val.apply(lambda x: old_items(x.user_id, x.city_id), axis=1)\n",
    "    scores = metric(val['chain_id'], val['pred_chains'], val['old_chains'])\n",
    "    print('total, new, all = ', scores)\n",
    "    print()"
   ]
  },
  {
   "cell_type": "code",
   "execution_count": 10,
   "id": "aad8f4c1",
   "metadata": {},
   "outputs": [
    {
     "name": "stdout",
     "output_type": "stream",
     "text": [
      "total, new, all =  (0.1321230585029217, 0.08749163535664047, 0.08926284629256238)\n",
      "\n",
      "CPU times: user 17min 5s, sys: 1.06 s, total: 17min 6s\n",
      "Wall time: 17min 6s\n"
     ]
    }
   ],
   "source": [
    "%%time\n",
    "compute_score(val_df, frac=1.)"
   ]
  },
  {
   "cell_type": "code",
   "execution_count": null,
   "id": "a1219656",
   "metadata": {},
   "outputs": [],
   "source": []
  },
  {
   "cell_type": "code",
   "execution_count": null,
   "id": "96e2c73e",
   "metadata": {},
   "outputs": [],
   "source": []
  }
 ],
 "metadata": {
  "kernelspec": {
   "display_name": "Python 3 (ipykernel)",
   "language": "python",
   "name": "python3"
  },
  "language_info": {
   "codemirror_mode": {
    "name": "ipython",
    "version": 3
   },
   "file_extension": ".py",
   "mimetype": "text/x-python",
   "name": "python",
   "nbconvert_exporter": "python",
   "pygments_lexer": "ipython3",
   "version": "3.9.7"
  }
 },
 "nbformat": 4,
 "nbformat_minor": 5
}
