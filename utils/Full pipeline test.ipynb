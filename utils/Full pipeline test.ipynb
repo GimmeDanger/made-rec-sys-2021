{
 "cells": [
  {
   "cell_type": "markdown",
   "id": "cab22750",
   "metadata": {},
   "source": [
    "# Full pipeline применение"
   ]
  },
  {
   "cell_type": "code",
   "execution_count": 2,
   "id": "db77ca23",
   "metadata": {},
   "outputs": [],
   "source": [
    "import pickle\n",
    "from top_recommender import TopRecommender\n",
    "from h3_index import H3Index\n",
    "import pandas as pd\n",
    "import numpy as np"
   ]
  },
  {
   "cell_type": "code",
   "execution_count": 3,
   "id": "5032a6e0",
   "metadata": {},
   "outputs": [],
   "source": [
    "# and later you can load it\n",
    "\n",
    "with open('lightfm_moscow.pkl', 'rb') as f:\n",
    "    lightfm_moscow = pickle.load(f)\n",
    "with open('interactions_moscow.pkl', 'rb') as f:\n",
    "    interactions_moscow = pickle.load(f)\n",
    "with open('user_features_sparse_moscow.pkl', 'rb') as f:\n",
    "    user_features_sparse_moscow = pickle.load(f)\n",
    "    \n",
    "# and later you can load it\n",
    "with open('lightfm_piter.pkl', 'rb') as f:\n",
    "    lightfm_piter = pickle.load(f)\n",
    "with open('interactions_piter.pkl', 'rb') as f:\n",
    "    interactions_piter = pickle.load(f)\n",
    "with open('user_features_sparse_piter.pkl', 'rb') as f:\n",
    "    user_features_sparse_piter = pickle.load(f)\n",
    "    \n",
    "# and later you can load it\n",
    "with open('lightfm_other.pkl', 'rb') as f:\n",
    "    lightfm_other = pickle.load(f)\n",
    "with open('interactions_other.pkl', 'rb') as f:\n",
    "    interactions_other = pickle.load(f)\n",
    "with open('user_features_sparse_other.pkl', 'rb') as f:\n",
    "    user_features_sparse_other = pickle.load(f)\n",
    "    \n",
    "    \n",
    "# with open('top_rec.pkl', 'rb') as f:\n",
    "#     top_rec = pickle.load(f)\n",
    "with open('top_rec_moscow.pkl', 'rb') as f:\n",
    "    top_rec_moscow = pickle.load(f)\n",
    "with open('top_rec_piter.pkl', 'rb') as f:\n",
    "    top_rec_piter = pickle.load(f)\n",
    "with open('top_rec_other.pkl', 'rb') as f:\n",
    "    top_rec_other = pickle.load(f)"
   ]
  },
  {
   "cell_type": "code",
   "execution_count": 4,
   "id": "4345eca2",
   "metadata": {},
   "outputs": [],
   "source": [
    "#!pip install fastparquet\n",
    "h3index = H3Index('../data/raw/h3_to_chains.pkl')"
   ]
  },
  {
   "cell_type": "code",
   "execution_count": 5,
   "id": "6f4b9fb6",
   "metadata": {},
   "outputs": [
    {
     "name": "stdout",
     "output_type": "stream",
     "text": [
      "Initial validation dataset size: 2300001\n"
     ]
    },
    {
     "data": {
      "text/html": [
       "<div>\n",
       "<style scoped>\n",
       "    .dataframe tbody tr th:only-of-type {\n",
       "        vertical-align: middle;\n",
       "    }\n",
       "\n",
       "    .dataframe tbody tr th {\n",
       "        vertical-align: top;\n",
       "    }\n",
       "\n",
       "    .dataframe thead th {\n",
       "        text-align: right;\n",
       "    }\n",
       "</style>\n",
       "<table border=\"1\" class=\"dataframe\">\n",
       "  <thead>\n",
       "    <tr style=\"text-align: right;\">\n",
       "      <th></th>\n",
       "      <th>user_id</th>\n",
       "      <th>h3</th>\n",
       "      <th>city_id</th>\n",
       "      <th>chain_id</th>\n",
       "    </tr>\n",
       "  </thead>\n",
       "  <tbody>\n",
       "    <tr>\n",
       "      <th>0</th>\n",
       "      <td>0</td>\n",
       "      <td>890b0638003ffff</td>\n",
       "      <td>49</td>\n",
       "      <td>{34646}</td>\n",
       "    </tr>\n",
       "    <tr>\n",
       "      <th>1</th>\n",
       "      <td>0</td>\n",
       "      <td>890b0638007ffff</td>\n",
       "      <td>49</td>\n",
       "      <td>{34646}</td>\n",
       "    </tr>\n",
       "    <tr>\n",
       "      <th>2</th>\n",
       "      <td>0</td>\n",
       "      <td>890b063800fffff</td>\n",
       "      <td>49</td>\n",
       "      <td>{34646}</td>\n",
       "    </tr>\n",
       "    <tr>\n",
       "      <th>3</th>\n",
       "      <td>0</td>\n",
       "      <td>890b0638023ffff</td>\n",
       "      <td>49</td>\n",
       "      <td>{34646}</td>\n",
       "    </tr>\n",
       "    <tr>\n",
       "      <th>4</th>\n",
       "      <td>0</td>\n",
       "      <td>890b0638027ffff</td>\n",
       "      <td>49</td>\n",
       "      <td>{34646}</td>\n",
       "    </tr>\n",
       "  </tbody>\n",
       "</table>\n",
       "</div>"
      ],
      "text/plain": [
       "   user_id               h3  city_id chain_id\n",
       "0        0  890b0638003ffff       49  {34646}\n",
       "1        0  890b0638007ffff       49  {34646}\n",
       "2        0  890b063800fffff       49  {34646}\n",
       "3        0  890b0638023ffff       49  {34646}\n",
       "4        0  890b0638027ffff       49  {34646}"
      ]
     },
     "execution_count": 5,
     "metadata": {},
     "output_type": "execute_result"
    }
   ],
   "source": [
    "val_df = pd.read_pickle('../data/raw/test_VALID.pkl')\n",
    "val_df = val_df.rename(columns={\"customer_id\": \"user_id\"})\n",
    "val_df.user_id = val_df.user_id.astype(int)\n",
    "\n",
    "print(\"Initial validation dataset size:\", len(val_df))\n",
    "# val_df = val_df[val_df[\"h3\"].isin(h3index.valid)]\n",
    "# print(\"Filter h3 indices that not in h3_to_chain dict\", len(val_df))\n",
    "\n",
    "val_df = pd.pivot_table(val_df,\n",
    "                        values=['chain_id'],\n",
    "                        index=['user_id', 'h3', 'city_id'],\n",
    "                        aggfunc={'chain_id': set})\n",
    "val_df = val_df.reset_index()\n",
    "val_df.head()"
   ]
  },
  {
   "cell_type": "code",
   "execution_count": 6,
   "id": "49c84088",
   "metadata": {},
   "outputs": [],
   "source": [
    "def predict_in_city(lightfm, top_rec, user_id, h3, interactions, user_features_sparse, top_k=10):\n",
    "    if h3 in h3index.valid:\n",
    "        valid_chains = h3index.h3_to_chains[h3]\n",
    "        valid_chain_index = [v for k, v in interactions.chain_to_index.items() if k in valid_chains]\n",
    "        if user_id in interactions.user_to_index and len(valid_chain_index) > 9:\n",
    "            user_index = interactions.user_to_index[user_id]\n",
    "            pred = lightfm.predict(user_index, valid_chain_index, user_features=user_features_sparse)\n",
    "            top_chain_index = [x for _, x in sorted(zip(pred, valid_chain_index), reverse=True)][:top_k]\n",
    "            top = [interactions.index_to_chain[k] for k in top_chain_index]\n",
    "        else:\n",
    "            pred = top_rec.predict(valid_chains)\n",
    "            top = [x for _, x in sorted(zip(pred, valid_chains), reverse=True)][:top_k]\n",
    "    else:\n",
    "        top = [\n",
    "            k for k, v in sorted(\n",
    "                top_rec.chains_to_cnt.items(), key=lambda item: item[1], reverse=True\n",
    "            )[:30]\n",
    "        ]\n",
    "    return top\n",
    "\n",
    "def old_items_in_city(user_id, interactions):\n",
    "    return set(interactions.interaction_df[interactions.interaction_df['user_id'] == user_id]['chain_id'].unique())"
   ]
  },
  {
   "cell_type": "code",
   "execution_count": 7,
   "id": "331b111c",
   "metadata": {},
   "outputs": [],
   "source": [
    "def predict(user_id, h3, city_id, top_k=10):\n",
    "    if city_id == 1:\n",
    "        top = predict_in_city(\n",
    "            lightfm_moscow,\n",
    "            top_rec_moscow,\n",
    "            user_id,\n",
    "            h3,\n",
    "            interactions_moscow,\n",
    "            user_features_sparse_moscow,\n",
    "            top_k=top_k\n",
    "        )\n",
    "    elif city_id == 2:\n",
    "        top = predict_in_city(\n",
    "            lightfm_piter,\n",
    "            top_rec_piter,\n",
    "            user_id,\n",
    "            h3,\n",
    "            interactions_piter,\n",
    "            user_features_sparse_piter,\n",
    "            top_k=top_k\n",
    "        )\n",
    "    else:\n",
    "        top = predict_in_city(\n",
    "            lightfm_other,\n",
    "            top_rec_other,\n",
    "            user_id,\n",
    "            h3,\n",
    "            interactions_other,\n",
    "            user_features_sparse_other,\n",
    "            top_k=top_k\n",
    "        ) \n",
    "    return top\n",
    "        \n",
    "def old_items(user_id, city_id):\n",
    "    if city_id ==1:\n",
    "        old = old_items_in_city(user_id, interactions_moscow)\n",
    "    elif city_id == 2:\n",
    "        old = old_items_in_city(user_id, interactions_piter)\n",
    "    else:\n",
    "        old = old_items_in_city(user_id, interactions_other)\n",
    "    \n",
    "    return old"
   ]
  },
  {
   "cell_type": "code",
   "execution_count": 8,
   "id": "625216b4",
   "metadata": {},
   "outputs": [],
   "source": [
    "def metric(y_true, y_pred, y_old, at1=10, at2=30, average=True):\n",
    "    \"\"\"\n",
    "    new_prec@10 + new_prec@30 + 1/2 *(prec_@10 + prec@30)\n",
    "    \"\"\"\n",
    "    scores_new = []\n",
    "    scores_all = []\n",
    "    scores_total = []\n",
    "    for t, p, o in zip(y_true, y_pred, y_old):\n",
    "        t = list(t)\n",
    "        p = list(p)\n",
    "        o = o if isinstance(o, (set, list)) else []\n",
    "        \n",
    "        prec1 = len(set(t[:at1]) & set(p[:at1])) / at1\n",
    "        prec2 = len(set(t[:at2]) & set(p[:at2])) / at2\n",
    "        new_prec1 = len((set(p[:at1]) - set(o)) & set(t[:at1])) / at1\n",
    "        new_prec2 = len((set(p[:at2]) - set(o)) & set(t[:at2])) / at2\n",
    "\n",
    "        scores_total.append(new_prec1 + new_prec2 + 0.5 * (prec1 + prec2))\n",
    "        scores_new.append(new_prec1 + new_prec2)\n",
    "        scores_all.append(prec1 + prec2)\n",
    "\n",
    "    return (np.mean(scores_total) if average else scores_total,\n",
    "            np.mean(scores_new) if average else scores_new,\n",
    "            np.mean(scores_all) if average else scores_all)"
   ]
  },
  {
   "cell_type": "code",
   "execution_count": 9,
   "id": "293908a7",
   "metadata": {},
   "outputs": [],
   "source": [
    "def compute_score(val_df, frac=0.001, top_k=30):\n",
    "    if frac:\n",
    "        val = val_df.sample(frac=frac, random_state=42)\n",
    "    else:\n",
    "        val = val_df\n",
    "    val['pred_chains'] = val.apply(lambda x: predict(x.user_id, x.h3, x.city_id, top_k), axis=1)\n",
    "    val['old_chains'] = val.apply(lambda x: old_items(x.user_id, x.city_id), axis=1)\n",
    "    scores = metric(val['chain_id'], val['pred_chains'], val['old_chains'])\n",
    "    print('total, new, all = ', scores)\n",
    "    print()"
   ]
  },
  {
   "cell_type": "code",
   "execution_count": 10,
   "id": "ba4b90a3",
   "metadata": {},
   "outputs": [
    {
     "name": "stdout",
     "output_type": "stream",
     "text": [
      "total, new, all =  (0.115116023717151, 0.0704926432911207, 0.0892467608520606)\n",
      "\n",
      "CPU times: user 1min 38s, sys: 24.7 s, total: 2min 2s\n",
      "Wall time: 2min 3s\n"
     ]
    }
   ],
   "source": [
    "%%time\n",
    "compute_score(val_df, frac=0.01)"
   ]
  },
  {
   "cell_type": "markdown",
   "id": "e9dcc48c",
   "metadata": {},
   "source": [
    "Лучший результат на lightfm срезе 100000  \n",
    "total, new, all = (0.13231475904351955, 0.08761624234232909, 0.08939703340238092)  \n",
    "\n",
    "total, new, all =  (0.13308236619166544, 0.08807600019587679, 0.09001273199157729)\n",
    "\n",
    "Результат на данных без отбрасывания h3 один top_rec  \n",
    "total, new, all =  (0.13208891491594077, 0.0875387355732865, 0.08910035868530852)\n",
    "\n",
    "Результат на данных без отбрасывания h3, для каждого региона top_rec  \n",
    "total, new, all =  (0.13212551545762877, 0.08756313593441181, 0.08912475904643388)"
   ]
  },
  {
   "cell_type": "code",
   "execution_count": null,
   "id": "96e2c73e",
   "metadata": {},
   "outputs": [],
   "source": []
  },
  {
   "cell_type": "code",
   "execution_count": 10,
   "id": "22b33273",
   "metadata": {},
   "outputs": [],
   "source": [
    "lb_df = pd.read_pickle('../data/raw/test_LB_del_chains.pkl')"
   ]
  },
  {
   "cell_type": "code",
   "execution_count": 11,
   "id": "4df6234d",
   "metadata": {},
   "outputs": [
    {
     "data": {
      "text/plain": [
       "(1347676, 5)"
      ]
     },
     "execution_count": 11,
     "metadata": {},
     "output_type": "execute_result"
    }
   ],
   "source": [
    "lb_df.drop_duplicates(subset=[\"customer_id\", \"h3\", \"city_id\"]).shape"
   ]
  },
  {
   "cell_type": "code",
   "execution_count": 12,
   "id": "c8e908af",
   "metadata": {},
   "outputs": [
    {
     "data": {
      "text/plain": [
       "(1347581, 5)"
      ]
     },
     "execution_count": 12,
     "metadata": {},
     "output_type": "execute_result"
    }
   ],
   "source": [
    "lb_df.drop_duplicates(subset=[\"customer_id\", \"h3\"]).shape"
   ]
  },
  {
   "cell_type": "code",
   "execution_count": 13,
   "id": "99aa5d92",
   "metadata": {},
   "outputs": [
    {
     "data": {
      "text/plain": [
       "(2252350, 5)"
      ]
     },
     "execution_count": 13,
     "metadata": {},
     "output_type": "execute_result"
    }
   ],
   "source": [
    "lb_df.shape"
   ]
  },
  {
   "cell_type": "code",
   "execution_count": 14,
   "id": "96b2c17b",
   "metadata": {},
   "outputs": [
    {
     "data": {
      "text/plain": [
       "(2246224, 5)"
      ]
     },
     "execution_count": 14,
     "metadata": {},
     "output_type": "execute_result"
    }
   ],
   "source": [
    "lb_df[lb_df[\"h3\"].isin(h3index.valid)].shape"
   ]
  },
  {
   "cell_type": "code",
   "execution_count": 15,
   "id": "f5630c92",
   "metadata": {},
   "outputs": [
    {
     "name": "stdout",
     "output_type": "stream",
     "text": [
      "Initial size 2252350\n",
      "Size after deduplication 1347581\n"
     ]
    },
    {
     "data": {
      "text/html": [
       "<div>\n",
       "<style scoped>\n",
       "    .dataframe tbody tr th:only-of-type {\n",
       "        vertical-align: middle;\n",
       "    }\n",
       "\n",
       "    .dataframe tbody tr th {\n",
       "        vertical-align: top;\n",
       "    }\n",
       "\n",
       "    .dataframe thead th {\n",
       "        text-align: right;\n",
       "    }\n",
       "</style>\n",
       "<table border=\"1\" class=\"dataframe\">\n",
       "  <thead>\n",
       "    <tr style=\"text-align: right;\">\n",
       "      <th></th>\n",
       "      <th>user_id</th>\n",
       "      <th>city_id</th>\n",
       "      <th>h3</th>\n",
       "    </tr>\n",
       "  </thead>\n",
       "  <tbody>\n",
       "    <tr>\n",
       "      <th>2300000</th>\n",
       "      <td>1013971</td>\n",
       "      <td>1</td>\n",
       "      <td>8911aa78dabffff</td>\n",
       "    </tr>\n",
       "    <tr>\n",
       "      <th>2300001</th>\n",
       "      <td>5490865</td>\n",
       "      <td>45</td>\n",
       "      <td>89119631a73ffff</td>\n",
       "    </tr>\n",
       "    <tr>\n",
       "      <th>2300002</th>\n",
       "      <td>61145453</td>\n",
       "      <td>1</td>\n",
       "      <td>8911aa6aea7ffff</td>\n",
       "    </tr>\n",
       "    <tr>\n",
       "      <th>2300003</th>\n",
       "      <td>27620522</td>\n",
       "      <td>1</td>\n",
       "      <td>8911aa79507ffff</td>\n",
       "    </tr>\n",
       "    <tr>\n",
       "      <th>2300004</th>\n",
       "      <td>583734</td>\n",
       "      <td>1</td>\n",
       "      <td>8911aa09b23ffff</td>\n",
       "    </tr>\n",
       "  </tbody>\n",
       "</table>\n",
       "</div>"
      ],
      "text/plain": [
       "          user_id  city_id               h3\n",
       "2300000   1013971        1  8911aa78dabffff\n",
       "2300001   5490865       45  89119631a73ffff\n",
       "2300002  61145453        1  8911aa6aea7ffff\n",
       "2300003  27620522        1  8911aa79507ffff\n",
       "2300004    583734        1  8911aa09b23ffff"
      ]
     },
     "execution_count": 15,
     "metadata": {},
     "output_type": "execute_result"
    }
   ],
   "source": [
    "print(\"Initial size\", len(lb_df))\n",
    "lb_df = lb_df.drop_duplicates(subset=[\"customer_id\", \"h3\"])\n",
    "print(\"Size after deduplication\", len(lb_df))\n",
    "lb_df = lb_df.rename(columns={\"customer_id\": \"user_id\"})\n",
    "lb_df.user_id = lb_df.user_id.astype(int)\n",
    "\n",
    "# lb_df = lb_df[lb_df[\"h3\"].isin(h3index.valid)]\n",
    "# print(\"Filter h3 indices that not in h3_to_chain dict\", len(lb_df))\n",
    "\n",
    "lb_df = lb_df[[\"user_id\", \"city_id\", \"h3\"]]\n",
    "lb_df.head()"
   ]
  },
  {
   "cell_type": "code",
   "execution_count": 16,
   "id": "0fd3bee6",
   "metadata": {},
   "outputs": [],
   "source": [
    "lb_df['pred_chains'] = lb_df.apply(lambda x: predict(x.user_id, x.h3, x.city_id, 30), axis=1)"
   ]
  },
  {
   "cell_type": "code",
   "execution_count": 13,
   "id": "11b71ac1",
   "metadata": {},
   "outputs": [
    {
     "data": {
      "text/plain": [
       "30    0.985017\n",
       "25    0.001146\n",
       "27    0.001088\n",
       "26    0.000867\n",
       "23    0.000842\n",
       "18    0.000726\n",
       "29    0.000715\n",
       "20    0.000706\n",
       "16    0.000675\n",
       "28    0.000659\n",
       "17    0.000657\n",
       "22    0.000605\n",
       "12    0.000600\n",
       "19    0.000589\n",
       "24    0.000564\n",
       "14    0.000562\n",
       "21    0.000518\n",
       "15    0.000490\n",
       "13    0.000375\n",
       "10    0.000344\n",
       "11    0.000335\n",
       "9     0.000316\n",
       "8     0.000290\n",
       "6     0.000237\n",
       "3     0.000229\n",
       "1     0.000214\n",
       "2     0.000171\n",
       "7     0.000168\n",
       "5     0.000153\n",
       "4     0.000140\n",
       "Name: pred_chains, dtype: float64"
      ]
     },
     "execution_count": 13,
     "metadata": {},
     "output_type": "execute_result"
    }
   ],
   "source": [
    "lb_df.pred_chains.apply(len).value_counts(normalize=True)"
   ]
  },
  {
   "cell_type": "code",
   "execution_count": 18,
   "id": "2bf90b5c",
   "metadata": {},
   "outputs": [],
   "source": [
    "with open('LB_pred_dict.pkl', 'wb') as f:\n",
    "    pickle.dump(lb_df.set_index([\"user_id\", \"h3\"])[\"pred_chains\"].to_dict(), f)\n",
    "    \n",
    "lb_df.to_pickle(\"LB_pred_pandas.pkl\")"
   ]
  },
  {
   "cell_type": "code",
   "execution_count": 11,
   "id": "332215e4",
   "metadata": {},
   "outputs": [],
   "source": [
    "lb_df = pd.read_pickle(\"LB_pred_pandas.pkl\")"
   ]
  },
  {
   "cell_type": "code",
   "execution_count": 12,
   "id": "81cf0f2a",
   "metadata": {},
   "outputs": [
    {
     "data": {
      "text/html": [
       "<div>\n",
       "<style scoped>\n",
       "    .dataframe tbody tr th:only-of-type {\n",
       "        vertical-align: middle;\n",
       "    }\n",
       "\n",
       "    .dataframe tbody tr th {\n",
       "        vertical-align: top;\n",
       "    }\n",
       "\n",
       "    .dataframe thead th {\n",
       "        text-align: right;\n",
       "    }\n",
       "</style>\n",
       "<table border=\"1\" class=\"dataframe\">\n",
       "  <thead>\n",
       "    <tr style=\"text-align: right;\">\n",
       "      <th></th>\n",
       "      <th>user_id</th>\n",
       "      <th>city_id</th>\n",
       "      <th>h3</th>\n",
       "      <th>pred_chains</th>\n",
       "    </tr>\n",
       "  </thead>\n",
       "  <tbody>\n",
       "    <tr>\n",
       "      <th>2300000</th>\n",
       "      <td>1013971</td>\n",
       "      <td>1</td>\n",
       "      <td>8911aa78dabffff</td>\n",
       "      <td>[28720, 48274, 15275, 29454, 32049, 30112, 324...</td>\n",
       "    </tr>\n",
       "    <tr>\n",
       "      <th>2300001</th>\n",
       "      <td>5490865</td>\n",
       "      <td>45</td>\n",
       "      <td>89119631a73ffff</td>\n",
       "      <td>[31185, 6836, 32809, 31342, 26606, 34383, 3622...</td>\n",
       "    </tr>\n",
       "    <tr>\n",
       "      <th>2300002</th>\n",
       "      <td>61145453</td>\n",
       "      <td>1</td>\n",
       "      <td>8911aa6aea7ffff</td>\n",
       "      <td>[28720, 48274, 15275, 32049, 30112, 32449, 136...</td>\n",
       "    </tr>\n",
       "    <tr>\n",
       "      <th>2300003</th>\n",
       "      <td>27620522</td>\n",
       "      <td>1</td>\n",
       "      <td>8911aa79507ffff</td>\n",
       "      <td>[28720, 48274, 15275, 32049, 32449, 45822, 294...</td>\n",
       "    </tr>\n",
       "    <tr>\n",
       "      <th>2300004</th>\n",
       "      <td>583734</td>\n",
       "      <td>1</td>\n",
       "      <td>8911aa09b23ffff</td>\n",
       "      <td>[28720, 48274, 15275, 29454, 32049, 30112, 458...</td>\n",
       "    </tr>\n",
       "  </tbody>\n",
       "</table>\n",
       "</div>"
      ],
      "text/plain": [
       "          user_id  city_id               h3  \\\n",
       "2300000   1013971        1  8911aa78dabffff   \n",
       "2300001   5490865       45  89119631a73ffff   \n",
       "2300002  61145453        1  8911aa6aea7ffff   \n",
       "2300003  27620522        1  8911aa79507ffff   \n",
       "2300004    583734        1  8911aa09b23ffff   \n",
       "\n",
       "                                               pred_chains  \n",
       "2300000  [28720, 48274, 15275, 29454, 32049, 30112, 324...  \n",
       "2300001  [31185, 6836, 32809, 31342, 26606, 34383, 3622...  \n",
       "2300002  [28720, 48274, 15275, 32049, 30112, 32449, 136...  \n",
       "2300003  [28720, 48274, 15275, 32049, 32449, 45822, 294...  \n",
       "2300004  [28720, 48274, 15275, 29454, 32049, 30112, 458...  "
      ]
     },
     "execution_count": 12,
     "metadata": {},
     "output_type": "execute_result"
    }
   ],
   "source": [
    "lb_df.head()"
   ]
  }
 ],
 "metadata": {
  "kernelspec": {
   "display_name": "Python 3 (ipykernel)",
   "language": "python",
   "name": "python3"
  },
  "language_info": {
   "codemirror_mode": {
    "name": "ipython",
    "version": 3
   },
   "file_extension": ".py",
   "mimetype": "text/x-python",
   "name": "python",
   "nbconvert_exporter": "python",
   "pygments_lexer": "ipython3",
   "version": "3.9.7"
  }
 },
 "nbformat": 4,
 "nbformat_minor": 5
}
